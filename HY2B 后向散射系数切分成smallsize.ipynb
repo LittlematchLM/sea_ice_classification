{
 "cells": [
  {
   "cell_type": "code",
   "execution_count": 1,
   "id": "c4d236db",
   "metadata": {},
   "outputs": [],
   "source": [
    "from PIL import Image\n",
    "import numpy as np\n",
    "import pandas as pd\n",
    "import glob\n",
    "import matplotlib.pyplot as plt\n",
    "import cv2"
   ]
  },
  {
   "cell_type": "code",
   "execution_count": 2,
   "id": "99074067",
   "metadata": {},
   "outputs": [],
   "source": [
    "sig_pic_dir = r'E:\\python_workfile\\sea_ice_classification\\training7\\dataset\\input_value\\VV_HH_polarratio_real_use'\n",
    "img_save_path = r'E:\\python_workfile\\sea_ice_classification\\training7\\dataset\\input_value\\VV_HH_polarratio_real_use\\small_size'\n",
    "sig_pic_files = glob.glob(sig_pic_dir + '\\\\*.png')\n"
   ]
  },
  {
   "cell_type": "code",
   "execution_count": 4,
   "id": "06590bcc",
   "metadata": {},
   "outputs": [],
   "source": [
    "def cut_img(image_arr, cutsize):\n",
    "    # 从四边剪短cutsize大小\n",
    "    return pic[cutsize:-cutsize,cutsize:-cutsize] \n",
    "\n",
    "def add_img_color(image_arr):\n",
    "    new_aari_array = np.full(shape=(image_arr.shape[:2]),fill_value=0)\n",
    "    for i in range(3):\n",
    "        new_aari_array += image_arr[:,:,i]\n",
    "    return new_aari_array"
   ]
  },
  {
   "cell_type": "code",
   "execution_count": 6,
   "id": "46b84305",
   "metadata": {},
   "outputs": [],
   "source": [
    "# 切分HY2B 后向散射系数\n",
    "for file in sig_pic_files[:]:  \n",
    "    name = file.split('\\\\')[-1].split('.')[0]\n",
    "    pic=cv2.imread(file)\n",
    "    pic = cut_img(pic, 182)\n",
    "    num_of_size=7\n",
    "    size = 128\n",
    "    for i in range(int(pic.shape[0]/size)):\n",
    "        for j in range(int(pic.shape[1]/size)):\n",
    "            fig = plt.figure(figsize = (1,1))\n",
    "            plt.imshow(pic[i*size:(i+1) * size, j*size :(j+1) * size],cmap = plt.cm.Pastel1)\n",
    "            plt.axis('off')\n",
    "\n",
    "            plt.margins(0,0)\n",
    "            if i*num_of_size+j+1 < 10:\n",
    "                day = '00' + str(i*num_of_size+j+1)\n",
    "            elif 10<= i*num_of_size+j+1 < 100:\n",
    "                day = '0' + str(i*num_of_size+j+1)\n",
    "            else:\n",
    "                day = str(i*num_of_size+j+1)\n",
    "            plt.savefig(img_save_path +'\\\\'+ name + day,dpi = 170, bbox_inches='tight',pad_inches = 0)\n",
    "            plt.close()"
   ]
  },
  {
   "cell_type": "code",
   "execution_count": null,
   "id": "930ed668",
   "metadata": {},
   "outputs": [],
   "source": []
  }
 ],
 "metadata": {
  "kernelspec": {
   "display_name": "Python 3 (ipykernel)",
   "language": "python",
   "name": "python3"
  },
  "language_info": {
   "codemirror_mode": {
    "name": "ipython",
    "version": 3
   },
   "file_extension": ".py",
   "mimetype": "text/x-python",
   "name": "python",
   "nbconvert_exporter": "python",
   "pygments_lexer": "ipython3",
   "version": "3.8.10"
  }
 },
 "nbformat": 4,
 "nbformat_minor": 5
}
