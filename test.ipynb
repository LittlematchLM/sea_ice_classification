{
 "cells": [
  {
   "cell_type": "code",
   "execution_count": 8,
   "id": "8c77d02f",
   "metadata": {},
   "outputs": [
    {
     "name": "stdout",
     "output_type": "stream",
     "text": [
      "                     159.487691046\n",
      "2008-07-25 13:30:00               \n",
      "2008-07-25 14:00:00     155.150668\n",
      "2008-07-25 14:30:00     155.783487\n",
      "2008-07-25 15:00:00     160.174801\n",
      "2008-07-25 15:30:00     165.907173\n",
      "2008-07-25 16:00:00     168.705633\n",
      "...                            ...\n",
      "2008-08-01 11:30:00     289.045186\n",
      "2008-08-01 12:00:00     296.347807\n",
      "2008-08-01 12:30:00     298.065181\n",
      "2008-08-01 13:00:00     293.137275\n",
      "2008-08-01 13:30:00     285.803692\n",
      "\n",
      "[336 rows x 1 columns]\n"
     ]
    }
   ],
   "source": [
    "import pandas as pd\n",
    "import matplotlib.pyplot as plt\n",
    "import numpy as np\n",
    "df =  pd.read_csv(\"vx9xLtdm.txt\",parse_dates=True, index_col=0, na_values='-9999')\n",
    "print(df)\n"
   ]
  },
  {
   "cell_type": "code",
   "execution_count": 9,
   "id": "628e4dfa",
   "metadata": {},
   "outputs": [],
   "source": [
    "\n",
    "daily = df.groupby(lambda x: x.date())\n",
    "\n",
    "bins = np.linspace(0, 360, 10)\n"
   ]
  },
  {
   "cell_type": "code",
   "execution_count": 12,
   "id": "1020df82",
   "metadata": {},
   "outputs": [
    {
     "data": {
      "text/plain": [
       "array([  0.,  40.,  80., 120., 160., 200., 240., 280., 320., 360.])"
      ]
     },
     "execution_count": 12,
     "metadata": {},
     "output_type": "execute_result"
    }
   ],
   "source": [
    "bins"
   ]
  },
  {
   "cell_type": "code",
   "execution_count": 10,
   "id": "b0c4892f",
   "metadata": {},
   "outputs": [],
   "source": [
    "\n",
    "f = lambda x: pd.Series(np.histogram(x, bins=bins)[0], index=bins[:-1])\n",
    "\n",
    "df1 = daily.apply(f)\n"
   ]
  },
  {
   "cell_type": "code",
   "execution_count": 15,
   "id": "0deb6e7e",
   "metadata": {},
   "outputs": [
    {
     "data": {
      "text/html": [
       "<div>\n",
       "<style scoped>\n",
       "    .dataframe tbody tr th:only-of-type {\n",
       "        vertical-align: middle;\n",
       "    }\n",
       "\n",
       "    .dataframe tbody tr th {\n",
       "        vertical-align: top;\n",
       "    }\n",
       "\n",
       "    .dataframe thead th {\n",
       "        text-align: right;\n",
       "    }\n",
       "</style>\n",
       "<table border=\"1\" class=\"dataframe\">\n",
       "  <thead>\n",
       "    <tr style=\"text-align: right;\">\n",
       "      <th></th>\n",
       "      <th>0.0</th>\n",
       "      <th>40.0</th>\n",
       "      <th>80.0</th>\n",
       "      <th>120.0</th>\n",
       "      <th>160.0</th>\n",
       "      <th>200.0</th>\n",
       "      <th>240.0</th>\n",
       "      <th>280.0</th>\n",
       "      <th>320.0</th>\n",
       "    </tr>\n",
       "    <tr>\n",
       "      <th>2008-07-25 13:30:00</th>\n",
       "      <th></th>\n",
       "      <th></th>\n",
       "      <th></th>\n",
       "      <th></th>\n",
       "      <th></th>\n",
       "      <th></th>\n",
       "      <th></th>\n",
       "      <th></th>\n",
       "      <th></th>\n",
       "    </tr>\n",
       "  </thead>\n",
       "  <tbody>\n",
       "    <tr>\n",
       "      <th>2008-07-25</th>\n",
       "      <td>0</td>\n",
       "      <td>0</td>\n",
       "      <td>0</td>\n",
       "      <td>2</td>\n",
       "      <td>18</td>\n",
       "      <td>0</td>\n",
       "      <td>0</td>\n",
       "      <td>0</td>\n",
       "      <td>0</td>\n",
       "    </tr>\n",
       "    <tr>\n",
       "      <th>2008-07-26</th>\n",
       "      <td>2</td>\n",
       "      <td>0</td>\n",
       "      <td>0</td>\n",
       "      <td>0</td>\n",
       "      <td>17</td>\n",
       "      <td>6</td>\n",
       "      <td>13</td>\n",
       "      <td>1</td>\n",
       "      <td>8</td>\n",
       "    </tr>\n",
       "    <tr>\n",
       "      <th>2008-07-27</th>\n",
       "      <td>4</td>\n",
       "      <td>3</td>\n",
       "      <td>10</td>\n",
       "      <td>0</td>\n",
       "      <td>0</td>\n",
       "      <td>0</td>\n",
       "      <td>0</td>\n",
       "      <td>0</td>\n",
       "      <td>31</td>\n",
       "    </tr>\n",
       "    <tr>\n",
       "      <th>2008-07-28</th>\n",
       "      <td>0</td>\n",
       "      <td>7</td>\n",
       "      <td>15</td>\n",
       "      <td>0</td>\n",
       "      <td>0</td>\n",
       "      <td>0</td>\n",
       "      <td>0</td>\n",
       "      <td>6</td>\n",
       "      <td>20</td>\n",
       "    </tr>\n",
       "    <tr>\n",
       "      <th>2008-07-29</th>\n",
       "      <td>0</td>\n",
       "      <td>0</td>\n",
       "      <td>0</td>\n",
       "      <td>0</td>\n",
       "      <td>0</td>\n",
       "      <td>0</td>\n",
       "      <td>20</td>\n",
       "      <td>26</td>\n",
       "      <td>0</td>\n",
       "    </tr>\n",
       "    <tr>\n",
       "      <th>2008-07-30</th>\n",
       "      <td>10</td>\n",
       "      <td>1</td>\n",
       "      <td>0</td>\n",
       "      <td>0</td>\n",
       "      <td>0</td>\n",
       "      <td>0</td>\n",
       "      <td>1</td>\n",
       "      <td>25</td>\n",
       "      <td>9</td>\n",
       "    </tr>\n",
       "    <tr>\n",
       "      <th>2008-07-31</th>\n",
       "      <td>30</td>\n",
       "      <td>4</td>\n",
       "      <td>1</td>\n",
       "      <td>0</td>\n",
       "      <td>0</td>\n",
       "      <td>0</td>\n",
       "      <td>0</td>\n",
       "      <td>0</td>\n",
       "      <td>12</td>\n",
       "    </tr>\n",
       "    <tr>\n",
       "      <th>2008-08-01</th>\n",
       "      <td>0</td>\n",
       "      <td>0</td>\n",
       "      <td>0</td>\n",
       "      <td>0</td>\n",
       "      <td>0</td>\n",
       "      <td>0</td>\n",
       "      <td>0</td>\n",
       "      <td>14</td>\n",
       "      <td>14</td>\n",
       "    </tr>\n",
       "  </tbody>\n",
       "</table>\n",
       "</div>"
      ],
      "text/plain": [
       "                     0.0    40.0   80.0   120.0  160.0  200.0  240.0  280.0  \\\n",
       "2008-07-25 13:30:00                                                           \n",
       "2008-07-25               0      0      0      2     18      0      0      0   \n",
       "2008-07-26               2      0      0      0     17      6     13      1   \n",
       "2008-07-27               4      3     10      0      0      0      0      0   \n",
       "2008-07-28               0      7     15      0      0      0      0      6   \n",
       "2008-07-29               0      0      0      0      0      0     20     26   \n",
       "2008-07-30              10      1      0      0      0      0      1     25   \n",
       "2008-07-31              30      4      1      0      0      0      0      0   \n",
       "2008-08-01               0      0      0      0      0      0      0     14   \n",
       "\n",
       "                     320.0  \n",
       "2008-07-25 13:30:00         \n",
       "2008-07-25               0  \n",
       "2008-07-26               8  \n",
       "2008-07-27              31  \n",
       "2008-07-28              20  \n",
       "2008-07-29               0  \n",
       "2008-07-30               9  \n",
       "2008-07-31              12  \n",
       "2008-08-01              14  "
      ]
     },
     "execution_count": 15,
     "metadata": {},
     "output_type": "execute_result"
    }
   ],
   "source": [
    "df1"
   ]
  },
  {
   "cell_type": "code",
   "execution_count": 11,
   "id": "b6243a02",
   "metadata": {},
   "outputs": [
    {
     "data": {
      "text/plain": [
       "<matplotlib.collections.QuadMesh at 0x1d0093b39a0>"
      ]
     },
     "execution_count": 11,
     "metadata": {},
     "output_type": "execute_result"
    },
    {
     "data": {
      "image/png": "[encoded data removed]",
      "text/plain": [
       "<Figure size 432x288 with 1 Axes>"
      ]
     },
     "metadata": {
      "needs_background": "light"
     },
     "output_type": "display_data"
    }
   ],
   "source": [
    "\n",
    "\n",
    "\n",
    "plt.pcolormesh(df1)"
   ]
  },
  {
   "cell_type": "code",
   "execution_count": null,
   "id": "65a65eb2",
   "metadata": {},
   "outputs": [],
   "source": []
  }
 ],
 "metadata": {
  "kernelspec": {
   "display_name": "tf2",
   "language": "python",
   "name": "tf2"
  },
  "language_info": {
   "codemirror_mode": {
    "name": "ipython",
    "version": 3
   },
   "file_extension": ".py",
   "mimetype": "text/x-python",
   "name": "python",
   "nbconvert_exporter": "python",
   "pygments_lexer": "ipython3",
   "version": "3.8.10"
  }
 },
 "nbformat": 4,
 "nbformat_minor": 5
}
