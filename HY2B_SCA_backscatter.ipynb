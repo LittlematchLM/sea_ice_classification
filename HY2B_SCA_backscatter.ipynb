{
 "cells": [
  {
   "cell_type": "markdown",
   "metadata": {},
   "source": [
    "# HY-2B SCA L2A后向散射系数投影"
   ]
  },
  {
   "cell_type": "code",
   "execution_count": 2,
   "metadata": {},
   "outputs": [],
   "source": [
    "from mpl_toolkits.basemap import Basemap\n",
    "from netCDF4 import Dataset\n",
    "from skimage import exposure\n",
    "from RSData import *\n",
    "from HaiYangData import *\n",
    "\n",
    "import datetime\n",
    "import h5py\n",
    "import matplotlib.pyplot as plt\n",
    "import numpy as np\n",
    "import glob\n",
    "import cv2\n",
    "import io\n",
    "import cv2\n",
    "import shutil\n",
    "import os\n",
    "import glob"
   ]
  },
  {
   "cell_type": "code",
   "execution_count": 2,
   "metadata": {},
   "outputs": [],
   "source": [
    "def split_file_day(files):\n",
    "    # 按照天来划分文件，同一天的内容在一个list里面\n",
    "    file_list = []\n",
    "    list = []\n",
    "    for i in range(len(files)):\n",
    "\n",
    "        if i == 0:\n",
    "            list.append(files[i])\n",
    "            continue\n",
    "\n",
    "        if (files[i].split('_')[8].split('T')[0]) == (files[i-1].split('_')[8].split('T')[0]):\n",
    "            list.append(files[i])\n",
    "        else:\n",
    "            file_list.append(list)\n",
    "            list = []\n",
    "            list.append(files[i])\n",
    "    file_list.append(list)\n",
    "    return file_list\n",
    "\n",
    "def get_img_from_fig(fig, dpi=180):\n",
    "    buf = io.BytesIO()\n",
    "    fig.savefig(buf, format=\"png\", dpi=180,bbox_inches='tight',pad_inches = 0, edgecolor = 'white')\n",
    "    buf.seek(0)\n",
    "    img_arr = np.frombuffer(buf.getvalue(), dtype=np.uint8)\n",
    "    buf.close()\n",
    "    img = cv2.imdecode(img_arr, 1)\n",
    "    img = cv2.cvtColor(img, cv2.COLOR_BGR2RGB)\n",
    "    return img\n",
    "\n",
    "\n",
    "\n",
    "def draw_sigmod_0(x_map, y_map, grid_array,save_path = None):\n",
    "    fig = plt.figure(figsize=(9, 9))\n",
    "    fig.add_subplot(111)\n",
    "    fig.set_tight_layout(True) # reduce the spaces from margin outside the axis \n",
    "\n",
    "    # hy_m.fillcontinents()\n",
    "    hy_m = Basemap(projection='npaeqd', boundinglat=66, lon_0=90., resolution='c')\n",
    "    hy_m.pcolormesh(x_map, y_map, data=grid_array, cmap=plt.cm.jet,vmax = -5,vmin=-25,latlon = True)\n",
    "    # you can get a high-resolution image as numpy array!!\n",
    "    if save_path:\n",
    "        plt.savefig(save_path,dpi=180,bbox_inches='tight',pad_inches = 0, edgecolor = 'white')\n",
    "    plt.close()\n",
    "    \n",
    "    return fig\n"
   ]
  },
  {
   "cell_type": "code",
   "execution_count": 14,
   "metadata": {},
   "outputs": [],
   "source": [
    "satellite = r'HY2B'\n",
    "sensor = r'SCA'\n",
    "hy_sca = HaiYangData(satellite=satellite, sensor=sensor,resolution=30000)\n",
    "\n",
    "# 将WGS 84坐标（4326）转化为极射投影\n",
    "crs = CRS.from_epsg(4326)\n",
    "crs = CRS.from_string(\"epsg:4326\")\n",
    "crs = CRS.from_proj4(\"+proj=latlon\")\n",
    "crs = CRS.from_user_input(4326)\n",
    "crs2 = CRS(proj=\"aeqd\")\n",
    "\n",
    "dir_path = r\"H:\\remote_sensing_data\\back_scatter\\HY-2B\"\n",
    "# 20210608 处理pwp_250_07.h5\n",
    "files = glob.glob(dir_path + '\\*_pwp_250_03.h5')\n",
    "\n",
    "\n",
    "files = files + glob.glob(dir_path + '\\*_pwp_250_05.h5')\n",
    "files = files + glob.glob(dir_path + '\\*_pwp_250_07.h5')\n",
    "\n",
    "files.sort()\n",
    "\n",
    "file_list = split_file_day(files)"
   ]
  },
  {
   "cell_type": "code",
   "execution_count": 15,
   "metadata": {},
   "outputs": [],
   "source": [
    "transformer = HaiYangData.set_transformer(crs,crs2)\n",
    "transformer_back = HaiYangData.set_transformer(crs2,crs)\n",
    "\n",
    "train_data_dir = r'D:\\python_workfile\\sea_ice_classification\\training7\\dataset\\sig0'"
   ]
  },
  {
   "cell_type": "code",
   "execution_count": 16,
   "metadata": {},
   "outputs": [
    {
     "name": "stderr",
     "output_type": "stream",
     "text": [
      "C:\\Users\\Administrator\\AppData\\Local\\Temp/ipykernel_2228/2939705427.py:24: DeprecationWarning: `np.int` is a deprecated alias for the builtin `int`. To silence this warning, use `int` by itself. Doing this will not modify any behavior and is safe. When replacing `np.int`, you may wish to use e.g. `np.int64` or `np.int32` to specify the precision. If you wish to review your current use, check the release note link for additional information.\n",
      "Deprecated in NumPy 1.20; for more details and guidance: https://numpy.org/devdocs/release/1.20.0-notes.html#deprecations\n",
      "  x = (value_array[:,:,2] / hy_sca.resolution).astype(np.int)\n",
      "C:\\Users\\Administrator\\AppData\\Local\\Temp/ipykernel_2228/2939705427.py:25: DeprecationWarning: `np.int` is a deprecated alias for the builtin `int`. To silence this warning, use `int` by itself. Doing this will not modify any behavior and is safe. When replacing `np.int`, you may wish to use e.g. `np.int64` or `np.int32` to specify the precision. If you wish to review your current use, check the release note link for additional information.\n",
      "Deprecated in NumPy 1.20; for more details and guidance: https://numpy.org/devdocs/release/1.20.0-notes.html#deprecations\n",
      "  y = (value_array[:,:,3] / hy_sca.resolution).astype(np.int)\n"
     ]
    }
   ],
   "source": [
    "value_array = np.empty(shape=(1702, 810,5))\n",
    "grid_array = np.zeros((hy_sca.nlat, hy_sca.nlon))\n",
    "grid_num_array = np.zeros((hy_sca.nlat, hy_sca.nlon))\n",
    "\n",
    "for file in file_list[1]:\n",
    "    with h5py.File(file, mode='r') as f:\n",
    "        lat = f['cell_lat'][:]\n",
    "        lon = f['cell_lon'][:]\n",
    "        sigma0 = f['cell_sigma0'][:]\n",
    "\n",
    "    sigma0 = sigma0*0.01\n",
    "\n",
    "    lat[lat > 90] = 0 \n",
    "    lon[lon > 360] = 0 \n",
    "    sigma0[sigma0 < -300] = 0\n",
    "#         projlats, projlons = transformer.transform(lat, lon)\n",
    "\n",
    "    value_array[:,:,0] = lat\n",
    "    value_array[:,:,1] = lon\n",
    "    value_array[:,:,2],value_array[:,:,3] = transformer.transform(value_array[:,:,0], value_array[:,:,1])\n",
    "    value_array[:,:,4] = sigma0\n",
    "#     value_array[:,:,4][value_array[:,:,4] < -300] = np.nan\n",
    "\n",
    "    x = (value_array[:,:,2] / hy_sca.resolution).astype(np.int)\n",
    "    y = (value_array[:,:,3] / hy_sca.resolution).astype(np.int)\n",
    "    grid_array[y,x] += value_array[:,:,4]\n",
    "    grid_num_array[y,x] += 1"
   ]
  },
  {
   "cell_type": "code",
   "execution_count": 17,
   "metadata": {},
   "outputs": [
    {
     "name": "stderr",
     "output_type": "stream",
     "text": [
      "C:\\Users\\Administrator\\AppData\\Local\\Temp/ipykernel_2228/879451860.py:1: RuntimeWarning: invalid value encountered in true_divide\n",
      "  grid_array = grid_array / grid_num_array\n"
     ]
    }
   ],
   "source": [
    "grid_array = grid_array / grid_num_array\n",
    "x_map, y_map = hy_sca.get_map_grid(transformer_back)\n"
   ]
  },
  {
   "cell_type": "code",
   "execution_count": 18,
   "metadata": {
    "scrolled": true
   },
   "outputs": [
    {
     "name": "stderr",
     "output_type": "stream",
     "text": [
      "C:\\Users\\Administrator\\AppData\\Local\\Temp/ipykernel_2228/2330970123.py:6: MatplotlibDeprecationWarning: shading='flat' when X and Y have the same dimensions as C is deprecated since 3.3.  Either specify the corners of the quadrilaterals with X and Y, or pass shading='auto', 'nearest' or 'gouraud', or set rcParams['pcolor.shading'].  This will become an error two minor releases later.\n",
      "  hy_m.pcolormesh(x_map, y_map, data=grid_array, cmap=plt.cm.jet,vmax = -5,vmin=-25,latlon = True)\n"
     ]
    },
    {
     "data": {
      "image/png": "[encoded data removed]",
      "text/plain": [
       "<Figure size 648x648 with 2 Axes>"
      ]
     },
     "metadata": {
      "needs_background": "light"
     },
     "output_type": "display_data"
    }
   ],
   "source": [
    "fig = plt.figure(figsize=(9, 9))\n",
    "fig.add_subplot(111)\n",
    "fig.set_tight_layout(True) # reduce the spaces from margin outside the axis \n",
    "\n",
    "hy_m = Basemap(projection='npaeqd', boundinglat=66, lon_0=90., resolution='c')\n",
    "hy_m.pcolormesh(x_map, y_map, data=grid_array, cmap=plt.cm.jet,vmax = -5,vmin=-25,latlon = True)\n",
    "cb = hy_m.colorbar(location='right')\n",
    "hy_m.fillcontinents()\n",
    "hy_m.drawmapboundary()\n",
    "hy_m.drawparallels(np.arange(-90., 120., 10.), labels=[1, 0, 0, 0])\n",
    "hy_m.drawmeridians(np.arange(-180., 180., 60.), labels=[0, 0, 0, 1])\n",
    "plt.title('HY2B_SCA_backscatte(dB) 20200401')\n",
    "# you can get a high-resolution image as numpy array!!\n",
    "plt.show()\n",
    "plot_img_np = get_img_from_fig(fig)\n",
    "# np.save((train_data_dir+ '\\\\npy\\\\HY2B_sca_sigmod0_'+str(name) + '.npy'), plot_img_np)\n",
    "# print(name)"
   ]
  },
  {
   "cell_type": "code",
   "execution_count": 24,
   "metadata": {},
   "outputs": [
    {
     "name": "stderr",
     "output_type": "stream",
     "text": [
      "<ipython-input-24-605484972bf9>:38: RuntimeWarning: invalid value encountered in true_divide\n",
      "  grid_array = grid_array / grid_num_array\n",
      "<ipython-input-4-62a2f12ec23a>:39: MatplotlibDeprecationWarning: shading='flat' when X and Y have the same dimensions as C is deprecated since 3.3.  Either specify the corners of the quadrilaterals with X and Y, or pass shading='auto', 'nearest' or 'gouraud', or set rcParams['pcolor.shading'].  This will become an error two minor releases later.\n",
      "  hy_m.pcolormesh(x_map, y_map, data=grid_array, cmap=plt.cm.jet,vmax = -5,vmin=-25,latlon = True)\n"
     ]
    },
    {
     "name": "stdout",
     "output_type": "stream",
     "text": [
      "20190514\n"
     ]
    },
    {
     "name": "stderr",
     "output_type": "stream",
     "text": [
      "<ipython-input-24-605484972bf9>:38: RuntimeWarning: invalid value encountered in true_divide\n",
      "  grid_array = grid_array / grid_num_array\n",
      "<ipython-input-4-62a2f12ec23a>:39: MatplotlibDeprecationWarning: shading='flat' when X and Y have the same dimensions as C is deprecated since 3.3.  Either specify the corners of the quadrilaterals with X and Y, or pass shading='auto', 'nearest' or 'gouraud', or set rcParams['pcolor.shading'].  This will become an error two minor releases later.\n",
      "  hy_m.pcolormesh(x_map, y_map, data=grid_array, cmap=plt.cm.jet,vmax = -5,vmin=-25,latlon = True)\n"
     ]
    },
    {
     "name": "stdout",
     "output_type": "stream",
     "text": [
      "20190519\n"
     ]
    },
    {
     "name": "stderr",
     "output_type": "stream",
     "text": [
      "<ipython-input-24-605484972bf9>:38: RuntimeWarning: invalid value encountered in true_divide\n",
      "  grid_array = grid_array / grid_num_array\n",
      "<ipython-input-4-62a2f12ec23a>:39: MatplotlibDeprecationWarning: shading='flat' when X and Y have the same dimensions as C is deprecated since 3.3.  Either specify the corners of the quadrilaterals with X and Y, or pass shading='auto', 'nearest' or 'gouraud', or set rcParams['pcolor.shading'].  This will become an error two minor releases later.\n",
      "  hy_m.pcolormesh(x_map, y_map, data=grid_array, cmap=plt.cm.jet,vmax = -5,vmin=-25,latlon = True)\n"
     ]
    },
    {
     "name": "stdout",
     "output_type": "stream",
     "text": [
      "20190520\n"
     ]
    },
    {
     "name": "stderr",
     "output_type": "stream",
     "text": [
      "<ipython-input-24-605484972bf9>:38: RuntimeWarning: invalid value encountered in true_divide\n",
      "  grid_array = grid_array / grid_num_array\n",
      "<ipython-input-4-62a2f12ec23a>:39: MatplotlibDeprecationWarning: shading='flat' when X and Y have the same dimensions as C is deprecated since 3.3.  Either specify the corners of the quadrilaterals with X and Y, or pass shading='auto', 'nearest' or 'gouraud', or set rcParams['pcolor.shading'].  This will become an error two minor releases later.\n",
      "  hy_m.pcolormesh(x_map, y_map, data=grid_array, cmap=plt.cm.jet,vmax = -5,vmin=-25,latlon = True)\n"
     ]
    },
    {
     "name": "stdout",
     "output_type": "stream",
     "text": [
      "20190521\n"
     ]
    },
    {
     "name": "stderr",
     "output_type": "stream",
     "text": [
      "<ipython-input-24-605484972bf9>:38: RuntimeWarning: invalid value encountered in true_divide\n",
      "  grid_array = grid_array / grid_num_array\n",
      "<ipython-input-4-62a2f12ec23a>:39: MatplotlibDeprecationWarning: shading='flat' when X and Y have the same dimensions as C is deprecated since 3.3.  Either specify the corners of the quadrilaterals with X and Y, or pass shading='auto', 'nearest' or 'gouraud', or set rcParams['pcolor.shading'].  This will become an error two minor releases later.\n",
      "  hy_m.pcolormesh(x_map, y_map, data=grid_array, cmap=plt.cm.jet,vmax = -5,vmin=-25,latlon = True)\n"
     ]
    },
    {
     "name": "stdout",
     "output_type": "stream",
     "text": [
      "20190526\n"
     ]
    },
    {
     "name": "stderr",
     "output_type": "stream",
     "text": [
      "<ipython-input-24-605484972bf9>:38: RuntimeWarning: invalid value encountered in true_divide\n",
      "  grid_array = grid_array / grid_num_array\n",
      "<ipython-input-4-62a2f12ec23a>:39: MatplotlibDeprecationWarning: shading='flat' when X and Y have the same dimensions as C is deprecated since 3.3.  Either specify the corners of the quadrilaterals with X and Y, or pass shading='auto', 'nearest' or 'gouraud', or set rcParams['pcolor.shading'].  This will become an error two minor releases later.\n",
      "  hy_m.pcolormesh(x_map, y_map, data=grid_array, cmap=plt.cm.jet,vmax = -5,vmin=-25,latlon = True)\n"
     ]
    },
    {
     "name": "stdout",
     "output_type": "stream",
     "text": [
      "20190527\n"
     ]
    },
    {
     "name": "stderr",
     "output_type": "stream",
     "text": [
      "<ipython-input-24-605484972bf9>:38: RuntimeWarning: invalid value encountered in true_divide\n",
      "  grid_array = grid_array / grid_num_array\n",
      "<ipython-input-4-62a2f12ec23a>:39: MatplotlibDeprecationWarning: shading='flat' when X and Y have the same dimensions as C is deprecated since 3.3.  Either specify the corners of the quadrilaterals with X and Y, or pass shading='auto', 'nearest' or 'gouraud', or set rcParams['pcolor.shading'].  This will become an error two minor releases later.\n",
      "  hy_m.pcolormesh(x_map, y_map, data=grid_array, cmap=plt.cm.jet,vmax = -5,vmin=-25,latlon = True)\n"
     ]
    },
    {
     "name": "stdout",
     "output_type": "stream",
     "text": [
      "20190528\n"
     ]
    },
    {
     "name": "stderr",
     "output_type": "stream",
     "text": [
      "<ipython-input-24-605484972bf9>:38: RuntimeWarning: invalid value encountered in true_divide\n",
      "  grid_array = grid_array / grid_num_array\n",
      "<ipython-input-4-62a2f12ec23a>:39: MatplotlibDeprecationWarning: shading='flat' when X and Y have the same dimensions as C is deprecated since 3.3.  Either specify the corners of the quadrilaterals with X and Y, or pass shading='auto', 'nearest' or 'gouraud', or set rcParams['pcolor.shading'].  This will become an error two minor releases later.\n",
      "  hy_m.pcolormesh(x_map, y_map, data=grid_array, cmap=plt.cm.jet,vmax = -5,vmin=-25,latlon = True)\n"
     ]
    },
    {
     "name": "stdout",
     "output_type": "stream",
     "text": [
      "20190908\n"
     ]
    },
    {
     "name": "stderr",
     "output_type": "stream",
     "text": [
      "<ipython-input-24-605484972bf9>:38: RuntimeWarning: invalid value encountered in true_divide\n",
      "  grid_array = grid_array / grid_num_array\n",
      "<ipython-input-4-62a2f12ec23a>:39: MatplotlibDeprecationWarning: shading='flat' when X and Y have the same dimensions as C is deprecated since 3.3.  Either specify the corners of the quadrilaterals with X and Y, or pass shading='auto', 'nearest' or 'gouraud', or set rcParams['pcolor.shading'].  This will become an error two minor releases later.\n",
      "  hy_m.pcolormesh(x_map, y_map, data=grid_array, cmap=plt.cm.jet,vmax = -5,vmin=-25,latlon = True)\n"
     ]
    },
    {
     "name": "stdout",
     "output_type": "stream",
     "text": [
      "20190909\n"
     ]
    },
    {
     "name": "stderr",
     "output_type": "stream",
     "text": [
      "<ipython-input-24-605484972bf9>:38: RuntimeWarning: invalid value encountered in true_divide\n",
      "  grid_array = grid_array / grid_num_array\n",
      "<ipython-input-4-62a2f12ec23a>:39: MatplotlibDeprecationWarning: shading='flat' when X and Y have the same dimensions as C is deprecated since 3.3.  Either specify the corners of the quadrilaterals with X and Y, or pass shading='auto', 'nearest' or 'gouraud', or set rcParams['pcolor.shading'].  This will become an error two minor releases later.\n",
      "  hy_m.pcolormesh(x_map, y_map, data=grid_array, cmap=plt.cm.jet,vmax = -5,vmin=-25,latlon = True)\n"
     ]
    },
    {
     "name": "stdout",
     "output_type": "stream",
     "text": [
      "20190910\n"
     ]
    },
    {
     "name": "stderr",
     "output_type": "stream",
     "text": [
      "<ipython-input-24-605484972bf9>:38: RuntimeWarning: invalid value encountered in true_divide\n",
      "  grid_array = grid_array / grid_num_array\n",
      "<ipython-input-4-62a2f12ec23a>:39: MatplotlibDeprecationWarning: shading='flat' when X and Y have the same dimensions as C is deprecated since 3.3.  Either specify the corners of the quadrilaterals with X and Y, or pass shading='auto', 'nearest' or 'gouraud', or set rcParams['pcolor.shading'].  This will become an error two minor releases later.\n",
      "  hy_m.pcolormesh(x_map, y_map, data=grid_array, cmap=plt.cm.jet,vmax = -5,vmin=-25,latlon = True)\n"
     ]
    },
    {
     "name": "stdout",
     "output_type": "stream",
     "text": [
      "20190914\n"
     ]
    },
    {
     "name": "stderr",
     "output_type": "stream",
     "text": [
      "<ipython-input-24-605484972bf9>:38: RuntimeWarning: invalid value encountered in true_divide\n",
      "  grid_array = grid_array / grid_num_array\n",
      "<ipython-input-4-62a2f12ec23a>:39: MatplotlibDeprecationWarning: shading='flat' when X and Y have the same dimensions as C is deprecated since 3.3.  Either specify the corners of the quadrilaterals with X and Y, or pass shading='auto', 'nearest' or 'gouraud', or set rcParams['pcolor.shading'].  This will become an error two minor releases later.\n",
      "  hy_m.pcolormesh(x_map, y_map, data=grid_array, cmap=plt.cm.jet,vmax = -5,vmin=-25,latlon = True)\n"
     ]
    },
    {
     "name": "stdout",
     "output_type": "stream",
     "text": [
      "20190915\n"
     ]
    },
    {
     "name": "stderr",
     "output_type": "stream",
     "text": [
      "<ipython-input-24-605484972bf9>:38: RuntimeWarning: invalid value encountered in true_divide\n",
      "  grid_array = grid_array / grid_num_array\n",
      "<ipython-input-4-62a2f12ec23a>:39: MatplotlibDeprecationWarning: shading='flat' when X and Y have the same dimensions as C is deprecated since 3.3.  Either specify the corners of the quadrilaterals with X and Y, or pass shading='auto', 'nearest' or 'gouraud', or set rcParams['pcolor.shading'].  This will become an error two minor releases later.\n",
      "  hy_m.pcolormesh(x_map, y_map, data=grid_array, cmap=plt.cm.jet,vmax = -5,vmin=-25,latlon = True)\n"
     ]
    },
    {
     "name": "stdout",
     "output_type": "stream",
     "text": [
      "20190916\n"
     ]
    },
    {
     "name": "stderr",
     "output_type": "stream",
     "text": [
      "<ipython-input-24-605484972bf9>:38: RuntimeWarning: invalid value encountered in true_divide\n",
      "  grid_array = grid_array / grid_num_array\n",
      "<ipython-input-4-62a2f12ec23a>:39: MatplotlibDeprecationWarning: shading='flat' when X and Y have the same dimensions as C is deprecated since 3.3.  Either specify the corners of the quadrilaterals with X and Y, or pass shading='auto', 'nearest' or 'gouraud', or set rcParams['pcolor.shading'].  This will become an error two minor releases later.\n",
      "  hy_m.pcolormesh(x_map, y_map, data=grid_array, cmap=plt.cm.jet,vmax = -5,vmin=-25,latlon = True)\n"
     ]
    },
    {
     "name": "stdout",
     "output_type": "stream",
     "text": [
      "20190917\n"
     ]
    },
    {
     "name": "stderr",
     "output_type": "stream",
     "text": [
      "<ipython-input-24-605484972bf9>:38: RuntimeWarning: invalid value encountered in true_divide\n",
      "  grid_array = grid_array / grid_num_array\n",
      "<ipython-input-4-62a2f12ec23a>:39: MatplotlibDeprecationWarning: shading='flat' when X and Y have the same dimensions as C is deprecated since 3.3.  Either specify the corners of the quadrilaterals with X and Y, or pass shading='auto', 'nearest' or 'gouraud', or set rcParams['pcolor.shading'].  This will become an error two minor releases later.\n",
      "  hy_m.pcolormesh(x_map, y_map, data=grid_array, cmap=plt.cm.jet,vmax = -5,vmin=-25,latlon = True)\n"
     ]
    },
    {
     "name": "stdout",
     "output_type": "stream",
     "text": [
      "20190923\n"
     ]
    },
    {
     "name": "stderr",
     "output_type": "stream",
     "text": [
      "<ipython-input-24-605484972bf9>:38: RuntimeWarning: invalid value encountered in true_divide\n",
      "  grid_array = grid_array / grid_num_array\n",
      "<ipython-input-4-62a2f12ec23a>:39: MatplotlibDeprecationWarning: shading='flat' when X and Y have the same dimensions as C is deprecated since 3.3.  Either specify the corners of the quadrilaterals with X and Y, or pass shading='auto', 'nearest' or 'gouraud', or set rcParams['pcolor.shading'].  This will become an error two minor releases later.\n",
      "  hy_m.pcolormesh(x_map, y_map, data=grid_array, cmap=plt.cm.jet,vmax = -5,vmin=-25,latlon = True)\n"
     ]
    },
    {
     "name": "stdout",
     "output_type": "stream",
     "text": [
      "20190924\n"
     ]
    },
    {
     "name": "stderr",
     "output_type": "stream",
     "text": [
      "<ipython-input-24-605484972bf9>:38: RuntimeWarning: invalid value encountered in true_divide\n",
      "  grid_array = grid_array / grid_num_array\n",
      "<ipython-input-4-62a2f12ec23a>:39: MatplotlibDeprecationWarning: shading='flat' when X and Y have the same dimensions as C is deprecated since 3.3.  Either specify the corners of the quadrilaterals with X and Y, or pass shading='auto', 'nearest' or 'gouraud', or set rcParams['pcolor.shading'].  This will become an error two minor releases later.\n",
      "  hy_m.pcolormesh(x_map, y_map, data=grid_array, cmap=plt.cm.jet,vmax = -5,vmin=-25,latlon = True)\n"
     ]
    },
    {
     "name": "stdout",
     "output_type": "stream",
     "text": [
      "20190929\n"
     ]
    },
    {
     "name": "stderr",
     "output_type": "stream",
     "text": [
      "<ipython-input-24-605484972bf9>:38: RuntimeWarning: invalid value encountered in true_divide\n",
      "  grid_array = grid_array / grid_num_array\n",
      "<ipython-input-4-62a2f12ec23a>:39: MatplotlibDeprecationWarning: shading='flat' when X and Y have the same dimensions as C is deprecated since 3.3.  Either specify the corners of the quadrilaterals with X and Y, or pass shading='auto', 'nearest' or 'gouraud', or set rcParams['pcolor.shading'].  This will become an error two minor releases later.\n",
      "  hy_m.pcolormesh(x_map, y_map, data=grid_array, cmap=plt.cm.jet,vmax = -5,vmin=-25,latlon = True)\n"
     ]
    },
    {
     "name": "stdout",
     "output_type": "stream",
     "text": [
      "20190930\n"
     ]
    },
    {
     "name": "stderr",
     "output_type": "stream",
     "text": [
      "<ipython-input-24-605484972bf9>:38: RuntimeWarning: invalid value encountered in true_divide\n",
      "  grid_array = grid_array / grid_num_array\n",
      "<ipython-input-4-62a2f12ec23a>:39: MatplotlibDeprecationWarning: shading='flat' when X and Y have the same dimensions as C is deprecated since 3.3.  Either specify the corners of the quadrilaterals with X and Y, or pass shading='auto', 'nearest' or 'gouraud', or set rcParams['pcolor.shading'].  This will become an error two minor releases later.\n",
      "  hy_m.pcolormesh(x_map, y_map, data=grid_array, cmap=plt.cm.jet,vmax = -5,vmin=-25,latlon = True)\n"
     ]
    },
    {
     "name": "stdout",
     "output_type": "stream",
     "text": [
      "20191001\n"
     ]
    },
    {
     "name": "stderr",
     "output_type": "stream",
     "text": [
      "<ipython-input-24-605484972bf9>:38: RuntimeWarning: invalid value encountered in true_divide\n",
      "  grid_array = grid_array / grid_num_array\n",
      "<ipython-input-4-62a2f12ec23a>:39: MatplotlibDeprecationWarning: shading='flat' when X and Y have the same dimensions as C is deprecated since 3.3.  Either specify the corners of the quadrilaterals with X and Y, or pass shading='auto', 'nearest' or 'gouraud', or set rcParams['pcolor.shading'].  This will become an error two minor releases later.\n",
      "  hy_m.pcolormesh(x_map, y_map, data=grid_array, cmap=plt.cm.jet,vmax = -5,vmin=-25,latlon = True)\n"
     ]
    },
    {
     "name": "stdout",
     "output_type": "stream",
     "text": [
      "20191005\n"
     ]
    },
    {
     "name": "stderr",
     "output_type": "stream",
     "text": [
      "<ipython-input-24-605484972bf9>:38: RuntimeWarning: invalid value encountered in true_divide\n",
      "  grid_array = grid_array / grid_num_array\n",
      "<ipython-input-4-62a2f12ec23a>:39: MatplotlibDeprecationWarning: shading='flat' when X and Y have the same dimensions as C is deprecated since 3.3.  Either specify the corners of the quadrilaterals with X and Y, or pass shading='auto', 'nearest' or 'gouraud', or set rcParams['pcolor.shading'].  This will become an error two minor releases later.\n",
      "  hy_m.pcolormesh(x_map, y_map, data=grid_array, cmap=plt.cm.jet,vmax = -5,vmin=-25,latlon = True)\n"
     ]
    },
    {
     "name": "stdout",
     "output_type": "stream",
     "text": [
      "20191006\n"
     ]
    },
    {
     "name": "stderr",
     "output_type": "stream",
     "text": [
      "<ipython-input-24-605484972bf9>:38: RuntimeWarning: invalid value encountered in true_divide\n",
      "  grid_array = grid_array / grid_num_array\n",
      "<ipython-input-4-62a2f12ec23a>:39: MatplotlibDeprecationWarning: shading='flat' when X and Y have the same dimensions as C is deprecated since 3.3.  Either specify the corners of the quadrilaterals with X and Y, or pass shading='auto', 'nearest' or 'gouraud', or set rcParams['pcolor.shading'].  This will become an error two minor releases later.\n",
      "  hy_m.pcolormesh(x_map, y_map, data=grid_array, cmap=plt.cm.jet,vmax = -5,vmin=-25,latlon = True)\n"
     ]
    },
    {
     "name": "stdout",
     "output_type": "stream",
     "text": [
      "20191007\n"
     ]
    },
    {
     "name": "stderr",
     "output_type": "stream",
     "text": [
      "<ipython-input-24-605484972bf9>:38: RuntimeWarning: invalid value encountered in true_divide\n",
      "  grid_array = grid_array / grid_num_array\n",
      "<ipython-input-4-62a2f12ec23a>:39: MatplotlibDeprecationWarning: shading='flat' when X and Y have the same dimensions as C is deprecated since 3.3.  Either specify the corners of the quadrilaterals with X and Y, or pass shading='auto', 'nearest' or 'gouraud', or set rcParams['pcolor.shading'].  This will become an error two minor releases later.\n",
      "  hy_m.pcolormesh(x_map, y_map, data=grid_array, cmap=plt.cm.jet,vmax = -5,vmin=-25,latlon = True)\n"
     ]
    },
    {
     "name": "stdout",
     "output_type": "stream",
     "text": [
      "20191008\n"
     ]
    },
    {
     "name": "stderr",
     "output_type": "stream",
     "text": [
      "<ipython-input-24-605484972bf9>:38: RuntimeWarning: invalid value encountered in true_divide\n",
      "  grid_array = grid_array / grid_num_array\n",
      "<ipython-input-4-62a2f12ec23a>:39: MatplotlibDeprecationWarning: shading='flat' when X and Y have the same dimensions as C is deprecated since 3.3.  Either specify the corners of the quadrilaterals with X and Y, or pass shading='auto', 'nearest' or 'gouraud', or set rcParams['pcolor.shading'].  This will become an error two minor releases later.\n",
      "  hy_m.pcolormesh(x_map, y_map, data=grid_array, cmap=plt.cm.jet,vmax = -5,vmin=-25,latlon = True)\n"
     ]
    },
    {
     "name": "stdout",
     "output_type": "stream",
     "text": [
      "20191013\n"
     ]
    },
    {
     "name": "stderr",
     "output_type": "stream",
     "text": [
      "<ipython-input-24-605484972bf9>:38: RuntimeWarning: invalid value encountered in true_divide\n",
      "  grid_array = grid_array / grid_num_array\n",
      "<ipython-input-4-62a2f12ec23a>:39: MatplotlibDeprecationWarning: shading='flat' when X and Y have the same dimensions as C is deprecated since 3.3.  Either specify the corners of the quadrilaterals with X and Y, or pass shading='auto', 'nearest' or 'gouraud', or set rcParams['pcolor.shading'].  This will become an error two minor releases later.\n",
      "  hy_m.pcolormesh(x_map, y_map, data=grid_array, cmap=plt.cm.jet,vmax = -5,vmin=-25,latlon = True)\n"
     ]
    },
    {
     "name": "stdout",
     "output_type": "stream",
     "text": [
      "20191014\n"
     ]
    },
    {
     "name": "stderr",
     "output_type": "stream",
     "text": [
      "<ipython-input-24-605484972bf9>:38: RuntimeWarning: invalid value encountered in true_divide\n",
      "  grid_array = grid_array / grid_num_array\n",
      "<ipython-input-4-62a2f12ec23a>:39: MatplotlibDeprecationWarning: shading='flat' when X and Y have the same dimensions as C is deprecated since 3.3.  Either specify the corners of the quadrilaterals with X and Y, or pass shading='auto', 'nearest' or 'gouraud', or set rcParams['pcolor.shading'].  This will become an error two minor releases later.\n",
      "  hy_m.pcolormesh(x_map, y_map, data=grid_array, cmap=plt.cm.jet,vmax = -5,vmin=-25,latlon = True)\n"
     ]
    },
    {
     "name": "stdout",
     "output_type": "stream",
     "text": [
      "20191015\n"
     ]
    },
    {
     "name": "stderr",
     "output_type": "stream",
     "text": [
      "<ipython-input-24-605484972bf9>:38: RuntimeWarning: invalid value encountered in true_divide\n",
      "  grid_array = grid_array / grid_num_array\n",
      "<ipython-input-4-62a2f12ec23a>:39: MatplotlibDeprecationWarning: shading='flat' when X and Y have the same dimensions as C is deprecated since 3.3.  Either specify the corners of the quadrilaterals with X and Y, or pass shading='auto', 'nearest' or 'gouraud', or set rcParams['pcolor.shading'].  This will become an error two minor releases later.\n",
      "  hy_m.pcolormesh(x_map, y_map, data=grid_array, cmap=plt.cm.jet,vmax = -5,vmin=-25,latlon = True)\n"
     ]
    },
    {
     "name": "stdout",
     "output_type": "stream",
     "text": [
      "20191019\n"
     ]
    },
    {
     "name": "stderr",
     "output_type": "stream",
     "text": [
      "<ipython-input-24-605484972bf9>:38: RuntimeWarning: invalid value encountered in true_divide\n",
      "  grid_array = grid_array / grid_num_array\n",
      "<ipython-input-4-62a2f12ec23a>:39: MatplotlibDeprecationWarning: shading='flat' when X and Y have the same dimensions as C is deprecated since 3.3.  Either specify the corners of the quadrilaterals with X and Y, or pass shading='auto', 'nearest' or 'gouraud', or set rcParams['pcolor.shading'].  This will become an error two minor releases later.\n",
      "  hy_m.pcolormesh(x_map, y_map, data=grid_array, cmap=plt.cm.jet,vmax = -5,vmin=-25,latlon = True)\n"
     ]
    },
    {
     "name": "stdout",
     "output_type": "stream",
     "text": [
      "20191020\n"
     ]
    },
    {
     "name": "stderr",
     "output_type": "stream",
     "text": [
      "<ipython-input-24-605484972bf9>:38: RuntimeWarning: invalid value encountered in true_divide\n",
      "  grid_array = grid_array / grid_num_array\n",
      "<ipython-input-4-62a2f12ec23a>:39: MatplotlibDeprecationWarning: shading='flat' when X and Y have the same dimensions as C is deprecated since 3.3.  Either specify the corners of the quadrilaterals with X and Y, or pass shading='auto', 'nearest' or 'gouraud', or set rcParams['pcolor.shading'].  This will become an error two minor releases later.\n",
      "  hy_m.pcolormesh(x_map, y_map, data=grid_array, cmap=plt.cm.jet,vmax = -5,vmin=-25,latlon = True)\n"
     ]
    },
    {
     "name": "stdout",
     "output_type": "stream",
     "text": [
      "20191021\n"
     ]
    },
    {
     "name": "stderr",
     "output_type": "stream",
     "text": [
      "<ipython-input-24-605484972bf9>:38: RuntimeWarning: invalid value encountered in true_divide\n",
      "  grid_array = grid_array / grid_num_array\n",
      "<ipython-input-4-62a2f12ec23a>:39: MatplotlibDeprecationWarning: shading='flat' when X and Y have the same dimensions as C is deprecated since 3.3.  Either specify the corners of the quadrilaterals with X and Y, or pass shading='auto', 'nearest' or 'gouraud', or set rcParams['pcolor.shading'].  This will become an error two minor releases later.\n",
      "  hy_m.pcolormesh(x_map, y_map, data=grid_array, cmap=plt.cm.jet,vmax = -5,vmin=-25,latlon = True)\n"
     ]
    },
    {
     "name": "stdout",
     "output_type": "stream",
     "text": [
      "20191022\n"
     ]
    },
    {
     "name": "stderr",
     "output_type": "stream",
     "text": [
      "<ipython-input-24-605484972bf9>:38: RuntimeWarning: invalid value encountered in true_divide\n",
      "  grid_array = grid_array / grid_num_array\n",
      "<ipython-input-4-62a2f12ec23a>:39: MatplotlibDeprecationWarning: shading='flat' when X and Y have the same dimensions as C is deprecated since 3.3.  Either specify the corners of the quadrilaterals with X and Y, or pass shading='auto', 'nearest' or 'gouraud', or set rcParams['pcolor.shading'].  This will become an error two minor releases later.\n",
      "  hy_m.pcolormesh(x_map, y_map, data=grid_array, cmap=plt.cm.jet,vmax = -5,vmin=-25,latlon = True)\n"
     ]
    },
    {
     "name": "stdout",
     "output_type": "stream",
     "text": [
      "20191027\n"
     ]
    },
    {
     "name": "stderr",
     "output_type": "stream",
     "text": [
      "<ipython-input-24-605484972bf9>:38: RuntimeWarning: invalid value encountered in true_divide\n",
      "  grid_array = grid_array / grid_num_array\n",
      "<ipython-input-4-62a2f12ec23a>:39: MatplotlibDeprecationWarning: shading='flat' when X and Y have the same dimensions as C is deprecated since 3.3.  Either specify the corners of the quadrilaterals with X and Y, or pass shading='auto', 'nearest' or 'gouraud', or set rcParams['pcolor.shading'].  This will become an error two minor releases later.\n",
      "  hy_m.pcolormesh(x_map, y_map, data=grid_array, cmap=plt.cm.jet,vmax = -5,vmin=-25,latlon = True)\n"
     ]
    },
    {
     "name": "stdout",
     "output_type": "stream",
     "text": [
      "20191028\n"
     ]
    },
    {
     "name": "stderr",
     "output_type": "stream",
     "text": [
      "<ipython-input-24-605484972bf9>:38: RuntimeWarning: invalid value encountered in true_divide\n",
      "  grid_array = grid_array / grid_num_array\n",
      "<ipython-input-4-62a2f12ec23a>:39: MatplotlibDeprecationWarning: shading='flat' when X and Y have the same dimensions as C is deprecated since 3.3.  Either specify the corners of the quadrilaterals with X and Y, or pass shading='auto', 'nearest' or 'gouraud', or set rcParams['pcolor.shading'].  This will become an error two minor releases later.\n",
      "  hy_m.pcolormesh(x_map, y_map, data=grid_array, cmap=plt.cm.jet,vmax = -5,vmin=-25,latlon = True)\n"
     ]
    },
    {
     "name": "stdout",
     "output_type": "stream",
     "text": [
      "20191029\n"
     ]
    },
    {
     "name": "stderr",
     "output_type": "stream",
     "text": [
      "<ipython-input-24-605484972bf9>:38: RuntimeWarning: invalid value encountered in true_divide\n",
      "  grid_array = grid_array / grid_num_array\n",
      "<ipython-input-4-62a2f12ec23a>:39: MatplotlibDeprecationWarning: shading='flat' when X and Y have the same dimensions as C is deprecated since 3.3.  Either specify the corners of the quadrilaterals with X and Y, or pass shading='auto', 'nearest' or 'gouraud', or set rcParams['pcolor.shading'].  This will become an error two minor releases later.\n",
      "  hy_m.pcolormesh(x_map, y_map, data=grid_array, cmap=plt.cm.jet,vmax = -5,vmin=-25,latlon = True)\n"
     ]
    },
    {
     "name": "stdout",
     "output_type": "stream",
     "text": [
      "20191102\n"
     ]
    },
    {
     "name": "stderr",
     "output_type": "stream",
     "text": [
      "<ipython-input-24-605484972bf9>:38: RuntimeWarning: invalid value encountered in true_divide\n",
      "  grid_array = grid_array / grid_num_array\n",
      "<ipython-input-4-62a2f12ec23a>:39: MatplotlibDeprecationWarning: shading='flat' when X and Y have the same dimensions as C is deprecated since 3.3.  Either specify the corners of the quadrilaterals with X and Y, or pass shading='auto', 'nearest' or 'gouraud', or set rcParams['pcolor.shading'].  This will become an error two minor releases later.\n",
      "  hy_m.pcolormesh(x_map, y_map, data=grid_array, cmap=plt.cm.jet,vmax = -5,vmin=-25,latlon = True)\n"
     ]
    },
    {
     "name": "stdout",
     "output_type": "stream",
     "text": [
      "20191103\n"
     ]
    },
    {
     "name": "stderr",
     "output_type": "stream",
     "text": [
      "<ipython-input-24-605484972bf9>:38: RuntimeWarning: invalid value encountered in true_divide\n",
      "  grid_array = grid_array / grid_num_array\n",
      "<ipython-input-4-62a2f12ec23a>:39: MatplotlibDeprecationWarning: shading='flat' when X and Y have the same dimensions as C is deprecated since 3.3.  Either specify the corners of the quadrilaterals with X and Y, or pass shading='auto', 'nearest' or 'gouraud', or set rcParams['pcolor.shading'].  This will become an error two minor releases later.\n",
      "  hy_m.pcolormesh(x_map, y_map, data=grid_array, cmap=plt.cm.jet,vmax = -5,vmin=-25,latlon = True)\n"
     ]
    },
    {
     "name": "stdout",
     "output_type": "stream",
     "text": [
      "20191104\n"
     ]
    },
    {
     "name": "stderr",
     "output_type": "stream",
     "text": [
      "<ipython-input-24-605484972bf9>:38: RuntimeWarning: invalid value encountered in true_divide\n",
      "  grid_array = grid_array / grid_num_array\n",
      "<ipython-input-4-62a2f12ec23a>:39: MatplotlibDeprecationWarning: shading='flat' when X and Y have the same dimensions as C is deprecated since 3.3.  Either specify the corners of the quadrilaterals with X and Y, or pass shading='auto', 'nearest' or 'gouraud', or set rcParams['pcolor.shading'].  This will become an error two minor releases later.\n",
      "  hy_m.pcolormesh(x_map, y_map, data=grid_array, cmap=plt.cm.jet,vmax = -5,vmin=-25,latlon = True)\n"
     ]
    },
    {
     "name": "stdout",
     "output_type": "stream",
     "text": [
      "20191105\n"
     ]
    },
    {
     "name": "stderr",
     "output_type": "stream",
     "text": [
      "<ipython-input-24-605484972bf9>:38: RuntimeWarning: invalid value encountered in true_divide\n",
      "  grid_array = grid_array / grid_num_array\n",
      "<ipython-input-4-62a2f12ec23a>:39: MatplotlibDeprecationWarning: shading='flat' when X and Y have the same dimensions as C is deprecated since 3.3.  Either specify the corners of the quadrilaterals with X and Y, or pass shading='auto', 'nearest' or 'gouraud', or set rcParams['pcolor.shading'].  This will become an error two minor releases later.\n",
      "  hy_m.pcolormesh(x_map, y_map, data=grid_array, cmap=plt.cm.jet,vmax = -5,vmin=-25,latlon = True)\n"
     ]
    },
    {
     "name": "stdout",
     "output_type": "stream",
     "text": [
      "20191109\n"
     ]
    },
    {
     "name": "stderr",
     "output_type": "stream",
     "text": [
      "<ipython-input-24-605484972bf9>:38: RuntimeWarning: invalid value encountered in true_divide\n",
      "  grid_array = grid_array / grid_num_array\n",
      "<ipython-input-4-62a2f12ec23a>:39: MatplotlibDeprecationWarning: shading='flat' when X and Y have the same dimensions as C is deprecated since 3.3.  Either specify the corners of the quadrilaterals with X and Y, or pass shading='auto', 'nearest' or 'gouraud', or set rcParams['pcolor.shading'].  This will become an error two minor releases later.\n",
      "  hy_m.pcolormesh(x_map, y_map, data=grid_array, cmap=plt.cm.jet,vmax = -5,vmin=-25,latlon = True)\n"
     ]
    },
    {
     "name": "stdout",
     "output_type": "stream",
     "text": [
      "20191110\n"
     ]
    },
    {
     "name": "stderr",
     "output_type": "stream",
     "text": [
      "<ipython-input-24-605484972bf9>:38: RuntimeWarning: invalid value encountered in true_divide\n",
      "  grid_array = grid_array / grid_num_array\n",
      "<ipython-input-4-62a2f12ec23a>:39: MatplotlibDeprecationWarning: shading='flat' when X and Y have the same dimensions as C is deprecated since 3.3.  Either specify the corners of the quadrilaterals with X and Y, or pass shading='auto', 'nearest' or 'gouraud', or set rcParams['pcolor.shading'].  This will become an error two minor releases later.\n",
      "  hy_m.pcolormesh(x_map, y_map, data=grid_array, cmap=plt.cm.jet,vmax = -5,vmin=-25,latlon = True)\n"
     ]
    },
    {
     "name": "stdout",
     "output_type": "stream",
     "text": [
      "20191111\n"
     ]
    },
    {
     "name": "stderr",
     "output_type": "stream",
     "text": [
      "<ipython-input-24-605484972bf9>:38: RuntimeWarning: invalid value encountered in true_divide\n",
      "  grid_array = grid_array / grid_num_array\n",
      "<ipython-input-4-62a2f12ec23a>:39: MatplotlibDeprecationWarning: shading='flat' when X and Y have the same dimensions as C is deprecated since 3.3.  Either specify the corners of the quadrilaterals with X and Y, or pass shading='auto', 'nearest' or 'gouraud', or set rcParams['pcolor.shading'].  This will become an error two minor releases later.\n",
      "  hy_m.pcolormesh(x_map, y_map, data=grid_array, cmap=plt.cm.jet,vmax = -5,vmin=-25,latlon = True)\n"
     ]
    },
    {
     "name": "stdout",
     "output_type": "stream",
     "text": [
      "20191112\n"
     ]
    },
    {
     "name": "stderr",
     "output_type": "stream",
     "text": [
      "<ipython-input-24-605484972bf9>:38: RuntimeWarning: invalid value encountered in true_divide\n",
      "  grid_array = grid_array / grid_num_array\n",
      "<ipython-input-4-62a2f12ec23a>:39: MatplotlibDeprecationWarning: shading='flat' when X and Y have the same dimensions as C is deprecated since 3.3.  Either specify the corners of the quadrilaterals with X and Y, or pass shading='auto', 'nearest' or 'gouraud', or set rcParams['pcolor.shading'].  This will become an error two minor releases later.\n",
      "  hy_m.pcolormesh(x_map, y_map, data=grid_array, cmap=plt.cm.jet,vmax = -5,vmin=-25,latlon = True)\n"
     ]
    },
    {
     "name": "stdout",
     "output_type": "stream",
     "text": [
      "20191116\n"
     ]
    },
    {
     "name": "stderr",
     "output_type": "stream",
     "text": [
      "<ipython-input-24-605484972bf9>:38: RuntimeWarning: invalid value encountered in true_divide\n",
      "  grid_array = grid_array / grid_num_array\n",
      "<ipython-input-4-62a2f12ec23a>:39: MatplotlibDeprecationWarning: shading='flat' when X and Y have the same dimensions as C is deprecated since 3.3.  Either specify the corners of the quadrilaterals with X and Y, or pass shading='auto', 'nearest' or 'gouraud', or set rcParams['pcolor.shading'].  This will become an error two minor releases later.\n",
      "  hy_m.pcolormesh(x_map, y_map, data=grid_array, cmap=plt.cm.jet,vmax = -5,vmin=-25,latlon = True)\n"
     ]
    },
    {
     "name": "stdout",
     "output_type": "stream",
     "text": [
      "20191117\n"
     ]
    },
    {
     "name": "stderr",
     "output_type": "stream",
     "text": [
      "<ipython-input-24-605484972bf9>:38: RuntimeWarning: invalid value encountered in true_divide\n",
      "  grid_array = grid_array / grid_num_array\n",
      "<ipython-input-4-62a2f12ec23a>:39: MatplotlibDeprecationWarning: shading='flat' when X and Y have the same dimensions as C is deprecated since 3.3.  Either specify the corners of the quadrilaterals with X and Y, or pass shading='auto', 'nearest' or 'gouraud', or set rcParams['pcolor.shading'].  This will become an error two minor releases later.\n",
      "  hy_m.pcolormesh(x_map, y_map, data=grid_array, cmap=plt.cm.jet,vmax = -5,vmin=-25,latlon = True)\n"
     ]
    },
    {
     "name": "stdout",
     "output_type": "stream",
     "text": [
      "20191118\n"
     ]
    },
    {
     "name": "stderr",
     "output_type": "stream",
     "text": [
      "<ipython-input-24-605484972bf9>:38: RuntimeWarning: invalid value encountered in true_divide\n",
      "  grid_array = grid_array / grid_num_array\n",
      "<ipython-input-4-62a2f12ec23a>:39: MatplotlibDeprecationWarning: shading='flat' when X and Y have the same dimensions as C is deprecated since 3.3.  Either specify the corners of the quadrilaterals with X and Y, or pass shading='auto', 'nearest' or 'gouraud', or set rcParams['pcolor.shading'].  This will become an error two minor releases later.\n",
      "  hy_m.pcolormesh(x_map, y_map, data=grid_array, cmap=plt.cm.jet,vmax = -5,vmin=-25,latlon = True)\n"
     ]
    },
    {
     "name": "stdout",
     "output_type": "stream",
     "text": [
      "20191119\n"
     ]
    },
    {
     "name": "stderr",
     "output_type": "stream",
     "text": [
      "<ipython-input-24-605484972bf9>:38: RuntimeWarning: invalid value encountered in true_divide\n",
      "  grid_array = grid_array / grid_num_array\n",
      "<ipython-input-4-62a2f12ec23a>:39: MatplotlibDeprecationWarning: shading='flat' when X and Y have the same dimensions as C is deprecated since 3.3.  Either specify the corners of the quadrilaterals with X and Y, or pass shading='auto', 'nearest' or 'gouraud', or set rcParams['pcolor.shading'].  This will become an error two minor releases later.\n",
      "  hy_m.pcolormesh(x_map, y_map, data=grid_array, cmap=plt.cm.jet,vmax = -5,vmin=-25,latlon = True)\n"
     ]
    },
    {
     "name": "stdout",
     "output_type": "stream",
     "text": [
      "20191124\n"
     ]
    },
    {
     "name": "stderr",
     "output_type": "stream",
     "text": [
      "<ipython-input-24-605484972bf9>:38: RuntimeWarning: invalid value encountered in true_divide\n",
      "  grid_array = grid_array / grid_num_array\n",
      "<ipython-input-4-62a2f12ec23a>:39: MatplotlibDeprecationWarning: shading='flat' when X and Y have the same dimensions as C is deprecated since 3.3.  Either specify the corners of the quadrilaterals with X and Y, or pass shading='auto', 'nearest' or 'gouraud', or set rcParams['pcolor.shading'].  This will become an error two minor releases later.\n",
      "  hy_m.pcolormesh(x_map, y_map, data=grid_array, cmap=plt.cm.jet,vmax = -5,vmin=-25,latlon = True)\n"
     ]
    },
    {
     "name": "stdout",
     "output_type": "stream",
     "text": [
      "20191125\n"
     ]
    },
    {
     "name": "stderr",
     "output_type": "stream",
     "text": [
      "<ipython-input-24-605484972bf9>:38: RuntimeWarning: invalid value encountered in true_divide\n",
      "  grid_array = grid_array / grid_num_array\n",
      "<ipython-input-4-62a2f12ec23a>:39: MatplotlibDeprecationWarning: shading='flat' when X and Y have the same dimensions as C is deprecated since 3.3.  Either specify the corners of the quadrilaterals with X and Y, or pass shading='auto', 'nearest' or 'gouraud', or set rcParams['pcolor.shading'].  This will become an error two minor releases later.\n",
      "  hy_m.pcolormesh(x_map, y_map, data=grid_array, cmap=plt.cm.jet,vmax = -5,vmin=-25,latlon = True)\n"
     ]
    },
    {
     "name": "stdout",
     "output_type": "stream",
     "text": [
      "20191126\n"
     ]
    },
    {
     "name": "stderr",
     "output_type": "stream",
     "text": [
      "<ipython-input-24-605484972bf9>:38: RuntimeWarning: invalid value encountered in true_divide\n",
      "  grid_array = grid_array / grid_num_array\n",
      "<ipython-input-4-62a2f12ec23a>:39: MatplotlibDeprecationWarning: shading='flat' when X and Y have the same dimensions as C is deprecated since 3.3.  Either specify the corners of the quadrilaterals with X and Y, or pass shading='auto', 'nearest' or 'gouraud', or set rcParams['pcolor.shading'].  This will become an error two minor releases later.\n",
      "  hy_m.pcolormesh(x_map, y_map, data=grid_array, cmap=plt.cm.jet,vmax = -5,vmin=-25,latlon = True)\n"
     ]
    },
    {
     "name": "stdout",
     "output_type": "stream",
     "text": [
      "20191130\n"
     ]
    },
    {
     "name": "stderr",
     "output_type": "stream",
     "text": [
      "<ipython-input-24-605484972bf9>:38: RuntimeWarning: invalid value encountered in true_divide\n",
      "  grid_array = grid_array / grid_num_array\n",
      "<ipython-input-4-62a2f12ec23a>:39: MatplotlibDeprecationWarning: shading='flat' when X and Y have the same dimensions as C is deprecated since 3.3.  Either specify the corners of the quadrilaterals with X and Y, or pass shading='auto', 'nearest' or 'gouraud', or set rcParams['pcolor.shading'].  This will become an error two minor releases later.\n",
      "  hy_m.pcolormesh(x_map, y_map, data=grid_array, cmap=plt.cm.jet,vmax = -5,vmin=-25,latlon = True)\n"
     ]
    },
    {
     "name": "stdout",
     "output_type": "stream",
     "text": [
      "20191201\n"
     ]
    },
    {
     "name": "stderr",
     "output_type": "stream",
     "text": [
      "<ipython-input-24-605484972bf9>:38: RuntimeWarning: invalid value encountered in true_divide\n",
      "  grid_array = grid_array / grid_num_array\n",
      "<ipython-input-4-62a2f12ec23a>:39: MatplotlibDeprecationWarning: shading='flat' when X and Y have the same dimensions as C is deprecated since 3.3.  Either specify the corners of the quadrilaterals with X and Y, or pass shading='auto', 'nearest' or 'gouraud', or set rcParams['pcolor.shading'].  This will become an error two minor releases later.\n",
      "  hy_m.pcolormesh(x_map, y_map, data=grid_array, cmap=plt.cm.jet,vmax = -5,vmin=-25,latlon = True)\n"
     ]
    },
    {
     "name": "stdout",
     "output_type": "stream",
     "text": [
      "20191202\n"
     ]
    },
    {
     "name": "stderr",
     "output_type": "stream",
     "text": [
      "<ipython-input-24-605484972bf9>:38: RuntimeWarning: invalid value encountered in true_divide\n",
      "  grid_array = grid_array / grid_num_array\n",
      "<ipython-input-4-62a2f12ec23a>:39: MatplotlibDeprecationWarning: shading='flat' when X and Y have the same dimensions as C is deprecated since 3.3.  Either specify the corners of the quadrilaterals with X and Y, or pass shading='auto', 'nearest' or 'gouraud', or set rcParams['pcolor.shading'].  This will become an error two minor releases later.\n",
      "  hy_m.pcolormesh(x_map, y_map, data=grid_array, cmap=plt.cm.jet,vmax = -5,vmin=-25,latlon = True)\n"
     ]
    },
    {
     "name": "stdout",
     "output_type": "stream",
     "text": [
      "20191203\n"
     ]
    },
    {
     "name": "stderr",
     "output_type": "stream",
     "text": [
      "<ipython-input-24-605484972bf9>:38: RuntimeWarning: invalid value encountered in true_divide\n",
      "  grid_array = grid_array / grid_num_array\n",
      "<ipython-input-4-62a2f12ec23a>:39: MatplotlibDeprecationWarning: shading='flat' when X and Y have the same dimensions as C is deprecated since 3.3.  Either specify the corners of the quadrilaterals with X and Y, or pass shading='auto', 'nearest' or 'gouraud', or set rcParams['pcolor.shading'].  This will become an error two minor releases later.\n",
      "  hy_m.pcolormesh(x_map, y_map, data=grid_array, cmap=plt.cm.jet,vmax = -5,vmin=-25,latlon = True)\n"
     ]
    },
    {
     "name": "stdout",
     "output_type": "stream",
     "text": [
      "20191207\n"
     ]
    },
    {
     "name": "stderr",
     "output_type": "stream",
     "text": [
      "<ipython-input-24-605484972bf9>:38: RuntimeWarning: invalid value encountered in true_divide\n",
      "  grid_array = grid_array / grid_num_array\n",
      "<ipython-input-4-62a2f12ec23a>:39: MatplotlibDeprecationWarning: shading='flat' when X and Y have the same dimensions as C is deprecated since 3.3.  Either specify the corners of the quadrilaterals with X and Y, or pass shading='auto', 'nearest' or 'gouraud', or set rcParams['pcolor.shading'].  This will become an error two minor releases later.\n",
      "  hy_m.pcolormesh(x_map, y_map, data=grid_array, cmap=plt.cm.jet,vmax = -5,vmin=-25,latlon = True)\n"
     ]
    },
    {
     "name": "stdout",
     "output_type": "stream",
     "text": [
      "20191208\n"
     ]
    },
    {
     "name": "stderr",
     "output_type": "stream",
     "text": [
      "<ipython-input-24-605484972bf9>:38: RuntimeWarning: invalid value encountered in true_divide\n",
      "  grid_array = grid_array / grid_num_array\n",
      "<ipython-input-4-62a2f12ec23a>:39: MatplotlibDeprecationWarning: shading='flat' when X and Y have the same dimensions as C is deprecated since 3.3.  Either specify the corners of the quadrilaterals with X and Y, or pass shading='auto', 'nearest' or 'gouraud', or set rcParams['pcolor.shading'].  This will become an error two minor releases later.\n",
      "  hy_m.pcolormesh(x_map, y_map, data=grid_array, cmap=plt.cm.jet,vmax = -5,vmin=-25,latlon = True)\n"
     ]
    },
    {
     "name": "stdout",
     "output_type": "stream",
     "text": [
      "20191209\n"
     ]
    },
    {
     "name": "stderr",
     "output_type": "stream",
     "text": [
      "<ipython-input-24-605484972bf9>:38: RuntimeWarning: invalid value encountered in true_divide\n",
      "  grid_array = grid_array / grid_num_array\n",
      "<ipython-input-4-62a2f12ec23a>:39: MatplotlibDeprecationWarning: shading='flat' when X and Y have the same dimensions as C is deprecated since 3.3.  Either specify the corners of the quadrilaterals with X and Y, or pass shading='auto', 'nearest' or 'gouraud', or set rcParams['pcolor.shading'].  This will become an error two minor releases later.\n",
      "  hy_m.pcolormesh(x_map, y_map, data=grid_array, cmap=plt.cm.jet,vmax = -5,vmin=-25,latlon = True)\n"
     ]
    },
    {
     "name": "stdout",
     "output_type": "stream",
     "text": [
      "20191210\n"
     ]
    },
    {
     "name": "stderr",
     "output_type": "stream",
     "text": [
      "<ipython-input-24-605484972bf9>:38: RuntimeWarning: invalid value encountered in true_divide\n",
      "  grid_array = grid_array / grid_num_array\n",
      "<ipython-input-4-62a2f12ec23a>:39: MatplotlibDeprecationWarning: shading='flat' when X and Y have the same dimensions as C is deprecated since 3.3.  Either specify the corners of the quadrilaterals with X and Y, or pass shading='auto', 'nearest' or 'gouraud', or set rcParams['pcolor.shading'].  This will become an error two minor releases later.\n",
      "  hy_m.pcolormesh(x_map, y_map, data=grid_array, cmap=plt.cm.jet,vmax = -5,vmin=-25,latlon = True)\n"
     ]
    },
    {
     "name": "stdout",
     "output_type": "stream",
     "text": [
      "20191214\n"
     ]
    },
    {
     "name": "stderr",
     "output_type": "stream",
     "text": [
      "<ipython-input-24-605484972bf9>:38: RuntimeWarning: invalid value encountered in true_divide\n",
      "  grid_array = grid_array / grid_num_array\n",
      "<ipython-input-4-62a2f12ec23a>:39: MatplotlibDeprecationWarning: shading='flat' when X and Y have the same dimensions as C is deprecated since 3.3.  Either specify the corners of the quadrilaterals with X and Y, or pass shading='auto', 'nearest' or 'gouraud', or set rcParams['pcolor.shading'].  This will become an error two minor releases later.\n",
      "  hy_m.pcolormesh(x_map, y_map, data=grid_array, cmap=plt.cm.jet,vmax = -5,vmin=-25,latlon = True)\n"
     ]
    },
    {
     "name": "stdout",
     "output_type": "stream",
     "text": [
      "20191215\n"
     ]
    },
    {
     "name": "stderr",
     "output_type": "stream",
     "text": [
      "<ipython-input-24-605484972bf9>:38: RuntimeWarning: invalid value encountered in true_divide\n",
      "  grid_array = grid_array / grid_num_array\n",
      "<ipython-input-4-62a2f12ec23a>:39: MatplotlibDeprecationWarning: shading='flat' when X and Y have the same dimensions as C is deprecated since 3.3.  Either specify the corners of the quadrilaterals with X and Y, or pass shading='auto', 'nearest' or 'gouraud', or set rcParams['pcolor.shading'].  This will become an error two minor releases later.\n",
      "  hy_m.pcolormesh(x_map, y_map, data=grid_array, cmap=plt.cm.jet,vmax = -5,vmin=-25,latlon = True)\n"
     ]
    },
    {
     "name": "stdout",
     "output_type": "stream",
     "text": [
      "20191216\n"
     ]
    },
    {
     "name": "stderr",
     "output_type": "stream",
     "text": [
      "<ipython-input-24-605484972bf9>:38: RuntimeWarning: invalid value encountered in true_divide\n",
      "  grid_array = grid_array / grid_num_array\n",
      "<ipython-input-4-62a2f12ec23a>:39: MatplotlibDeprecationWarning: shading='flat' when X and Y have the same dimensions as C is deprecated since 3.3.  Either specify the corners of the quadrilaterals with X and Y, or pass shading='auto', 'nearest' or 'gouraud', or set rcParams['pcolor.shading'].  This will become an error two minor releases later.\n",
      "  hy_m.pcolormesh(x_map, y_map, data=grid_array, cmap=plt.cm.jet,vmax = -5,vmin=-25,latlon = True)\n"
     ]
    },
    {
     "name": "stdout",
     "output_type": "stream",
     "text": [
      "20191217\n"
     ]
    },
    {
     "name": "stderr",
     "output_type": "stream",
     "text": [
      "<ipython-input-24-605484972bf9>:38: RuntimeWarning: invalid value encountered in true_divide\n",
      "  grid_array = grid_array / grid_num_array\n",
      "<ipython-input-4-62a2f12ec23a>:39: MatplotlibDeprecationWarning: shading='flat' when X and Y have the same dimensions as C is deprecated since 3.3.  Either specify the corners of the quadrilaterals with X and Y, or pass shading='auto', 'nearest' or 'gouraud', or set rcParams['pcolor.shading'].  This will become an error two minor releases later.\n",
      "  hy_m.pcolormesh(x_map, y_map, data=grid_array, cmap=plt.cm.jet,vmax = -5,vmin=-25,latlon = True)\n"
     ]
    },
    {
     "name": "stdout",
     "output_type": "stream",
     "text": [
      "20191222\n"
     ]
    },
    {
     "name": "stderr",
     "output_type": "stream",
     "text": [
      "<ipython-input-24-605484972bf9>:38: RuntimeWarning: invalid value encountered in true_divide\n",
      "  grid_array = grid_array / grid_num_array\n",
      "<ipython-input-4-62a2f12ec23a>:39: MatplotlibDeprecationWarning: shading='flat' when X and Y have the same dimensions as C is deprecated since 3.3.  Either specify the corners of the quadrilaterals with X and Y, or pass shading='auto', 'nearest' or 'gouraud', or set rcParams['pcolor.shading'].  This will become an error two minor releases later.\n",
      "  hy_m.pcolormesh(x_map, y_map, data=grid_array, cmap=plt.cm.jet,vmax = -5,vmin=-25,latlon = True)\n"
     ]
    },
    {
     "name": "stdout",
     "output_type": "stream",
     "text": [
      "20191223\n"
     ]
    },
    {
     "name": "stderr",
     "output_type": "stream",
     "text": [
      "<ipython-input-24-605484972bf9>:38: RuntimeWarning: invalid value encountered in true_divide\n",
      "  grid_array = grid_array / grid_num_array\n",
      "<ipython-input-4-62a2f12ec23a>:39: MatplotlibDeprecationWarning: shading='flat' when X and Y have the same dimensions as C is deprecated since 3.3.  Either specify the corners of the quadrilaterals with X and Y, or pass shading='auto', 'nearest' or 'gouraud', or set rcParams['pcolor.shading'].  This will become an error two minor releases later.\n",
      "  hy_m.pcolormesh(x_map, y_map, data=grid_array, cmap=plt.cm.jet,vmax = -5,vmin=-25,latlon = True)\n"
     ]
    },
    {
     "name": "stdout",
     "output_type": "stream",
     "text": [
      "20191224\n"
     ]
    },
    {
     "name": "stderr",
     "output_type": "stream",
     "text": [
      "<ipython-input-24-605484972bf9>:38: RuntimeWarning: invalid value encountered in true_divide\n",
      "  grid_array = grid_array / grid_num_array\n",
      "<ipython-input-4-62a2f12ec23a>:39: MatplotlibDeprecationWarning: shading='flat' when X and Y have the same dimensions as C is deprecated since 3.3.  Either specify the corners of the quadrilaterals with X and Y, or pass shading='auto', 'nearest' or 'gouraud', or set rcParams['pcolor.shading'].  This will become an error two minor releases later.\n",
      "  hy_m.pcolormesh(x_map, y_map, data=grid_array, cmap=plt.cm.jet,vmax = -5,vmin=-25,latlon = True)\n"
     ]
    },
    {
     "name": "stdout",
     "output_type": "stream",
     "text": [
      "20191229\n"
     ]
    },
    {
     "name": "stderr",
     "output_type": "stream",
     "text": [
      "<ipython-input-24-605484972bf9>:38: RuntimeWarning: invalid value encountered in true_divide\n",
      "  grid_array = grid_array / grid_num_array\n",
      "<ipython-input-4-62a2f12ec23a>:39: MatplotlibDeprecationWarning: shading='flat' when X and Y have the same dimensions as C is deprecated since 3.3.  Either specify the corners of the quadrilaterals with X and Y, or pass shading='auto', 'nearest' or 'gouraud', or set rcParams['pcolor.shading'].  This will become an error two minor releases later.\n",
      "  hy_m.pcolormesh(x_map, y_map, data=grid_array, cmap=plt.cm.jet,vmax = -5,vmin=-25,latlon = True)\n"
     ]
    },
    {
     "name": "stdout",
     "output_type": "stream",
     "text": [
      "20191230\n"
     ]
    },
    {
     "name": "stderr",
     "output_type": "stream",
     "text": [
      "<ipython-input-24-605484972bf9>:38: RuntimeWarning: invalid value encountered in true_divide\n",
      "  grid_array = grid_array / grid_num_array\n",
      "<ipython-input-4-62a2f12ec23a>:39: MatplotlibDeprecationWarning: shading='flat' when X and Y have the same dimensions as C is deprecated since 3.3.  Either specify the corners of the quadrilaterals with X and Y, or pass shading='auto', 'nearest' or 'gouraud', or set rcParams['pcolor.shading'].  This will become an error two minor releases later.\n",
      "  hy_m.pcolormesh(x_map, y_map, data=grid_array, cmap=plt.cm.jet,vmax = -5,vmin=-25,latlon = True)\n"
     ]
    },
    {
     "name": "stdout",
     "output_type": "stream",
     "text": [
      "20191231\n"
     ]
    },
    {
     "name": "stderr",
     "output_type": "stream",
     "text": [
      "<ipython-input-24-605484972bf9>:38: RuntimeWarning: invalid value encountered in true_divide\n",
      "  grid_array = grid_array / grid_num_array\n",
      "<ipython-input-4-62a2f12ec23a>:39: MatplotlibDeprecationWarning: shading='flat' when X and Y have the same dimensions as C is deprecated since 3.3.  Either specify the corners of the quadrilaterals with X and Y, or pass shading='auto', 'nearest' or 'gouraud', or set rcParams['pcolor.shading'].  This will become an error two minor releases later.\n",
      "  hy_m.pcolormesh(x_map, y_map, data=grid_array, cmap=plt.cm.jet,vmax = -5,vmin=-25,latlon = True)\n"
     ]
    },
    {
     "name": "stdout",
     "output_type": "stream",
     "text": [
      "20200106\n"
     ]
    },
    {
     "name": "stderr",
     "output_type": "stream",
     "text": [
      "<ipython-input-24-605484972bf9>:38: RuntimeWarning: invalid value encountered in true_divide\n",
      "  grid_array = grid_array / grid_num_array\n",
      "<ipython-input-4-62a2f12ec23a>:39: MatplotlibDeprecationWarning: shading='flat' when X and Y have the same dimensions as C is deprecated since 3.3.  Either specify the corners of the quadrilaterals with X and Y, or pass shading='auto', 'nearest' or 'gouraud', or set rcParams['pcolor.shading'].  This will become an error two minor releases later.\n",
      "  hy_m.pcolormesh(x_map, y_map, data=grid_array, cmap=plt.cm.jet,vmax = -5,vmin=-25,latlon = True)\n"
     ]
    },
    {
     "name": "stdout",
     "output_type": "stream",
     "text": [
      "20200107\n"
     ]
    },
    {
     "name": "stderr",
     "output_type": "stream",
     "text": [
      "<ipython-input-24-605484972bf9>:38: RuntimeWarning: invalid value encountered in true_divide\n",
      "  grid_array = grid_array / grid_num_array\n",
      "<ipython-input-4-62a2f12ec23a>:39: MatplotlibDeprecationWarning: shading='flat' when X and Y have the same dimensions as C is deprecated since 3.3.  Either specify the corners of the quadrilaterals with X and Y, or pass shading='auto', 'nearest' or 'gouraud', or set rcParams['pcolor.shading'].  This will become an error two minor releases later.\n",
      "  hy_m.pcolormesh(x_map, y_map, data=grid_array, cmap=plt.cm.jet,vmax = -5,vmin=-25,latlon = True)\n"
     ]
    },
    {
     "name": "stdout",
     "output_type": "stream",
     "text": [
      "20200112\n"
     ]
    },
    {
     "name": "stderr",
     "output_type": "stream",
     "text": [
      "<ipython-input-24-605484972bf9>:38: RuntimeWarning: invalid value encountered in true_divide\n",
      "  grid_array = grid_array / grid_num_array\n",
      "<ipython-input-4-62a2f12ec23a>:39: MatplotlibDeprecationWarning: shading='flat' when X and Y have the same dimensions as C is deprecated since 3.3.  Either specify the corners of the quadrilaterals with X and Y, or pass shading='auto', 'nearest' or 'gouraud', or set rcParams['pcolor.shading'].  This will become an error two minor releases later.\n",
      "  hy_m.pcolormesh(x_map, y_map, data=grid_array, cmap=plt.cm.jet,vmax = -5,vmin=-25,latlon = True)\n"
     ]
    },
    {
     "name": "stdout",
     "output_type": "stream",
     "text": [
      "20200113\n"
     ]
    },
    {
     "name": "stderr",
     "output_type": "stream",
     "text": [
      "<ipython-input-24-605484972bf9>:38: RuntimeWarning: invalid value encountered in true_divide\n",
      "  grid_array = grid_array / grid_num_array\n",
      "<ipython-input-4-62a2f12ec23a>:39: MatplotlibDeprecationWarning: shading='flat' when X and Y have the same dimensions as C is deprecated since 3.3.  Either specify the corners of the quadrilaterals with X and Y, or pass shading='auto', 'nearest' or 'gouraud', or set rcParams['pcolor.shading'].  This will become an error two minor releases later.\n",
      "  hy_m.pcolormesh(x_map, y_map, data=grid_array, cmap=plt.cm.jet,vmax = -5,vmin=-25,latlon = True)\n"
     ]
    },
    {
     "name": "stdout",
     "output_type": "stream",
     "text": [
      "20200114\n"
     ]
    },
    {
     "name": "stderr",
     "output_type": "stream",
     "text": [
      "<ipython-input-24-605484972bf9>:38: RuntimeWarning: invalid value encountered in true_divide\n",
      "  grid_array = grid_array / grid_num_array\n",
      "<ipython-input-4-62a2f12ec23a>:39: MatplotlibDeprecationWarning: shading='flat' when X and Y have the same dimensions as C is deprecated since 3.3.  Either specify the corners of the quadrilaterals with X and Y, or pass shading='auto', 'nearest' or 'gouraud', or set rcParams['pcolor.shading'].  This will become an error two minor releases later.\n",
      "  hy_m.pcolormesh(x_map, y_map, data=grid_array, cmap=plt.cm.jet,vmax = -5,vmin=-25,latlon = True)\n"
     ]
    },
    {
     "name": "stdout",
     "output_type": "stream",
     "text": [
      "20200119\n"
     ]
    },
    {
     "name": "stderr",
     "output_type": "stream",
     "text": [
      "<ipython-input-24-605484972bf9>:38: RuntimeWarning: invalid value encountered in true_divide\n",
      "  grid_array = grid_array / grid_num_array\n",
      "<ipython-input-4-62a2f12ec23a>:39: MatplotlibDeprecationWarning: shading='flat' when X and Y have the same dimensions as C is deprecated since 3.3.  Either specify the corners of the quadrilaterals with X and Y, or pass shading='auto', 'nearest' or 'gouraud', or set rcParams['pcolor.shading'].  This will become an error two minor releases later.\n",
      "  hy_m.pcolormesh(x_map, y_map, data=grid_array, cmap=plt.cm.jet,vmax = -5,vmin=-25,latlon = True)\n"
     ]
    },
    {
     "name": "stdout",
     "output_type": "stream",
     "text": [
      "20200120\n"
     ]
    },
    {
     "name": "stderr",
     "output_type": "stream",
     "text": [
      "<ipython-input-24-605484972bf9>:38: RuntimeWarning: invalid value encountered in true_divide\n",
      "  grid_array = grid_array / grid_num_array\n",
      "<ipython-input-4-62a2f12ec23a>:39: MatplotlibDeprecationWarning: shading='flat' when X and Y have the same dimensions as C is deprecated since 3.3.  Either specify the corners of the quadrilaterals with X and Y, or pass shading='auto', 'nearest' or 'gouraud', or set rcParams['pcolor.shading'].  This will become an error two minor releases later.\n",
      "  hy_m.pcolormesh(x_map, y_map, data=grid_array, cmap=plt.cm.jet,vmax = -5,vmin=-25,latlon = True)\n"
     ]
    },
    {
     "name": "stdout",
     "output_type": "stream",
     "text": [
      "20200121\n"
     ]
    },
    {
     "name": "stderr",
     "output_type": "stream",
     "text": [
      "<ipython-input-24-605484972bf9>:38: RuntimeWarning: invalid value encountered in true_divide\n",
      "  grid_array = grid_array / grid_num_array\n",
      "<ipython-input-4-62a2f12ec23a>:39: MatplotlibDeprecationWarning: shading='flat' when X and Y have the same dimensions as C is deprecated since 3.3.  Either specify the corners of the quadrilaterals with X and Y, or pass shading='auto', 'nearest' or 'gouraud', or set rcParams['pcolor.shading'].  This will become an error two minor releases later.\n",
      "  hy_m.pcolormesh(x_map, y_map, data=grid_array, cmap=plt.cm.jet,vmax = -5,vmin=-25,latlon = True)\n"
     ]
    },
    {
     "name": "stdout",
     "output_type": "stream",
     "text": [
      "20200126\n"
     ]
    },
    {
     "name": "stderr",
     "output_type": "stream",
     "text": [
      "<ipython-input-24-605484972bf9>:38: RuntimeWarning: invalid value encountered in true_divide\n",
      "  grid_array = grid_array / grid_num_array\n",
      "<ipython-input-4-62a2f12ec23a>:39: MatplotlibDeprecationWarning: shading='flat' when X and Y have the same dimensions as C is deprecated since 3.3.  Either specify the corners of the quadrilaterals with X and Y, or pass shading='auto', 'nearest' or 'gouraud', or set rcParams['pcolor.shading'].  This will become an error two minor releases later.\n",
      "  hy_m.pcolormesh(x_map, y_map, data=grid_array, cmap=plt.cm.jet,vmax = -5,vmin=-25,latlon = True)\n"
     ]
    },
    {
     "name": "stdout",
     "output_type": "stream",
     "text": [
      "20200127\n"
     ]
    },
    {
     "name": "stderr",
     "output_type": "stream",
     "text": [
      "<ipython-input-24-605484972bf9>:38: RuntimeWarning: invalid value encountered in true_divide\n",
      "  grid_array = grid_array / grid_num_array\n",
      "<ipython-input-4-62a2f12ec23a>:39: MatplotlibDeprecationWarning: shading='flat' when X and Y have the same dimensions as C is deprecated since 3.3.  Either specify the corners of the quadrilaterals with X and Y, or pass shading='auto', 'nearest' or 'gouraud', or set rcParams['pcolor.shading'].  This will become an error two minor releases later.\n",
      "  hy_m.pcolormesh(x_map, y_map, data=grid_array, cmap=plt.cm.jet,vmax = -5,vmin=-25,latlon = True)\n"
     ]
    },
    {
     "name": "stdout",
     "output_type": "stream",
     "text": [
      "20200128\n"
     ]
    },
    {
     "name": "stderr",
     "output_type": "stream",
     "text": [
      "<ipython-input-24-605484972bf9>:38: RuntimeWarning: invalid value encountered in true_divide\n",
      "  grid_array = grid_array / grid_num_array\n",
      "<ipython-input-4-62a2f12ec23a>:39: MatplotlibDeprecationWarning: shading='flat' when X and Y have the same dimensions as C is deprecated since 3.3.  Either specify the corners of the quadrilaterals with X and Y, or pass shading='auto', 'nearest' or 'gouraud', or set rcParams['pcolor.shading'].  This will become an error two minor releases later.\n",
      "  hy_m.pcolormesh(x_map, y_map, data=grid_array, cmap=plt.cm.jet,vmax = -5,vmin=-25,latlon = True)\n"
     ]
    },
    {
     "name": "stdout",
     "output_type": "stream",
     "text": [
      "20200202\n"
     ]
    },
    {
     "name": "stderr",
     "output_type": "stream",
     "text": [
      "<ipython-input-24-605484972bf9>:38: RuntimeWarning: invalid value encountered in true_divide\n",
      "  grid_array = grid_array / grid_num_array\n",
      "<ipython-input-4-62a2f12ec23a>:39: MatplotlibDeprecationWarning: shading='flat' when X and Y have the same dimensions as C is deprecated since 3.3.  Either specify the corners of the quadrilaterals with X and Y, or pass shading='auto', 'nearest' or 'gouraud', or set rcParams['pcolor.shading'].  This will become an error two minor releases later.\n",
      "  hy_m.pcolormesh(x_map, y_map, data=grid_array, cmap=plt.cm.jet,vmax = -5,vmin=-25,latlon = True)\n"
     ]
    },
    {
     "name": "stdout",
     "output_type": "stream",
     "text": [
      "20200203\n"
     ]
    },
    {
     "name": "stderr",
     "output_type": "stream",
     "text": [
      "<ipython-input-24-605484972bf9>:38: RuntimeWarning: invalid value encountered in true_divide\n",
      "  grid_array = grid_array / grid_num_array\n",
      "<ipython-input-4-62a2f12ec23a>:39: MatplotlibDeprecationWarning: shading='flat' when X and Y have the same dimensions as C is deprecated since 3.3.  Either specify the corners of the quadrilaterals with X and Y, or pass shading='auto', 'nearest' or 'gouraud', or set rcParams['pcolor.shading'].  This will become an error two minor releases later.\n",
      "  hy_m.pcolormesh(x_map, y_map, data=grid_array, cmap=plt.cm.jet,vmax = -5,vmin=-25,latlon = True)\n"
     ]
    },
    {
     "name": "stdout",
     "output_type": "stream",
     "text": [
      "20200204\n"
     ]
    },
    {
     "name": "stderr",
     "output_type": "stream",
     "text": [
      "<ipython-input-24-605484972bf9>:38: RuntimeWarning: invalid value encountered in true_divide\n",
      "  grid_array = grid_array / grid_num_array\n",
      "<ipython-input-4-62a2f12ec23a>:39: MatplotlibDeprecationWarning: shading='flat' when X and Y have the same dimensions as C is deprecated since 3.3.  Either specify the corners of the quadrilaterals with X and Y, or pass shading='auto', 'nearest' or 'gouraud', or set rcParams['pcolor.shading'].  This will become an error two minor releases later.\n",
      "  hy_m.pcolormesh(x_map, y_map, data=grid_array, cmap=plt.cm.jet,vmax = -5,vmin=-25,latlon = True)\n"
     ]
    },
    {
     "name": "stdout",
     "output_type": "stream",
     "text": [
      "20200209\n"
     ]
    },
    {
     "name": "stderr",
     "output_type": "stream",
     "text": [
      "<ipython-input-24-605484972bf9>:38: RuntimeWarning: invalid value encountered in true_divide\n",
      "  grid_array = grid_array / grid_num_array\n",
      "<ipython-input-4-62a2f12ec23a>:39: MatplotlibDeprecationWarning: shading='flat' when X and Y have the same dimensions as C is deprecated since 3.3.  Either specify the corners of the quadrilaterals with X and Y, or pass shading='auto', 'nearest' or 'gouraud', or set rcParams['pcolor.shading'].  This will become an error two minor releases later.\n",
      "  hy_m.pcolormesh(x_map, y_map, data=grid_array, cmap=plt.cm.jet,vmax = -5,vmin=-25,latlon = True)\n"
     ]
    },
    {
     "name": "stdout",
     "output_type": "stream",
     "text": [
      "20200210\n"
     ]
    },
    {
     "name": "stderr",
     "output_type": "stream",
     "text": [
      "<ipython-input-24-605484972bf9>:38: RuntimeWarning: invalid value encountered in true_divide\n",
      "  grid_array = grid_array / grid_num_array\n",
      "<ipython-input-4-62a2f12ec23a>:39: MatplotlibDeprecationWarning: shading='flat' when X and Y have the same dimensions as C is deprecated since 3.3.  Either specify the corners of the quadrilaterals with X and Y, or pass shading='auto', 'nearest' or 'gouraud', or set rcParams['pcolor.shading'].  This will become an error two minor releases later.\n",
      "  hy_m.pcolormesh(x_map, y_map, data=grid_array, cmap=plt.cm.jet,vmax = -5,vmin=-25,latlon = True)\n"
     ]
    },
    {
     "name": "stdout",
     "output_type": "stream",
     "text": [
      "20200211\n"
     ]
    },
    {
     "name": "stderr",
     "output_type": "stream",
     "text": [
      "<ipython-input-24-605484972bf9>:38: RuntimeWarning: invalid value encountered in true_divide\n",
      "  grid_array = grid_array / grid_num_array\n",
      "<ipython-input-4-62a2f12ec23a>:39: MatplotlibDeprecationWarning: shading='flat' when X and Y have the same dimensions as C is deprecated since 3.3.  Either specify the corners of the quadrilaterals with X and Y, or pass shading='auto', 'nearest' or 'gouraud', or set rcParams['pcolor.shading'].  This will become an error two minor releases later.\n",
      "  hy_m.pcolormesh(x_map, y_map, data=grid_array, cmap=plt.cm.jet,vmax = -5,vmin=-25,latlon = True)\n"
     ]
    },
    {
     "name": "stdout",
     "output_type": "stream",
     "text": [
      "20200216\n"
     ]
    },
    {
     "name": "stderr",
     "output_type": "stream",
     "text": [
      "<ipython-input-24-605484972bf9>:38: RuntimeWarning: invalid value encountered in true_divide\n",
      "  grid_array = grid_array / grid_num_array\n",
      "<ipython-input-4-62a2f12ec23a>:39: MatplotlibDeprecationWarning: shading='flat' when X and Y have the same dimensions as C is deprecated since 3.3.  Either specify the corners of the quadrilaterals with X and Y, or pass shading='auto', 'nearest' or 'gouraud', or set rcParams['pcolor.shading'].  This will become an error two minor releases later.\n",
      "  hy_m.pcolormesh(x_map, y_map, data=grid_array, cmap=plt.cm.jet,vmax = -5,vmin=-25,latlon = True)\n"
     ]
    },
    {
     "name": "stdout",
     "output_type": "stream",
     "text": [
      "20200217\n"
     ]
    },
    {
     "name": "stderr",
     "output_type": "stream",
     "text": [
      "<ipython-input-24-605484972bf9>:38: RuntimeWarning: invalid value encountered in true_divide\n",
      "  grid_array = grid_array / grid_num_array\n",
      "<ipython-input-4-62a2f12ec23a>:39: MatplotlibDeprecationWarning: shading='flat' when X and Y have the same dimensions as C is deprecated since 3.3.  Either specify the corners of the quadrilaterals with X and Y, or pass shading='auto', 'nearest' or 'gouraud', or set rcParams['pcolor.shading'].  This will become an error two minor releases later.\n",
      "  hy_m.pcolormesh(x_map, y_map, data=grid_array, cmap=plt.cm.jet,vmax = -5,vmin=-25,latlon = True)\n"
     ]
    },
    {
     "name": "stdout",
     "output_type": "stream",
     "text": [
      "20200218\n"
     ]
    },
    {
     "name": "stderr",
     "output_type": "stream",
     "text": [
      "<ipython-input-24-605484972bf9>:38: RuntimeWarning: invalid value encountered in true_divide\n",
      "  grid_array = grid_array / grid_num_array\n",
      "<ipython-input-4-62a2f12ec23a>:39: MatplotlibDeprecationWarning: shading='flat' when X and Y have the same dimensions as C is deprecated since 3.3.  Either specify the corners of the quadrilaterals with X and Y, or pass shading='auto', 'nearest' or 'gouraud', or set rcParams['pcolor.shading'].  This will become an error two minor releases later.\n",
      "  hy_m.pcolormesh(x_map, y_map, data=grid_array, cmap=plt.cm.jet,vmax = -5,vmin=-25,latlon = True)\n"
     ]
    },
    {
     "name": "stdout",
     "output_type": "stream",
     "text": [
      "20200223\n"
     ]
    },
    {
     "name": "stderr",
     "output_type": "stream",
     "text": [
      "<ipython-input-24-605484972bf9>:38: RuntimeWarning: invalid value encountered in true_divide\n",
      "  grid_array = grid_array / grid_num_array\n",
      "<ipython-input-4-62a2f12ec23a>:39: MatplotlibDeprecationWarning: shading='flat' when X and Y have the same dimensions as C is deprecated since 3.3.  Either specify the corners of the quadrilaterals with X and Y, or pass shading='auto', 'nearest' or 'gouraud', or set rcParams['pcolor.shading'].  This will become an error two minor releases later.\n",
      "  hy_m.pcolormesh(x_map, y_map, data=grid_array, cmap=plt.cm.jet,vmax = -5,vmin=-25,latlon = True)\n"
     ]
    },
    {
     "name": "stdout",
     "output_type": "stream",
     "text": [
      "20200224\n"
     ]
    },
    {
     "name": "stderr",
     "output_type": "stream",
     "text": [
      "<ipython-input-24-605484972bf9>:38: RuntimeWarning: invalid value encountered in true_divide\n",
      "  grid_array = grid_array / grid_num_array\n",
      "<ipython-input-4-62a2f12ec23a>:39: MatplotlibDeprecationWarning: shading='flat' when X and Y have the same dimensions as C is deprecated since 3.3.  Either specify the corners of the quadrilaterals with X and Y, or pass shading='auto', 'nearest' or 'gouraud', or set rcParams['pcolor.shading'].  This will become an error two minor releases later.\n",
      "  hy_m.pcolormesh(x_map, y_map, data=grid_array, cmap=plt.cm.jet,vmax = -5,vmin=-25,latlon = True)\n"
     ]
    },
    {
     "name": "stdout",
     "output_type": "stream",
     "text": [
      "20200225\n"
     ]
    },
    {
     "name": "stderr",
     "output_type": "stream",
     "text": [
      "<ipython-input-24-605484972bf9>:38: RuntimeWarning: invalid value encountered in true_divide\n",
      "  grid_array = grid_array / grid_num_array\n",
      "<ipython-input-4-62a2f12ec23a>:39: MatplotlibDeprecationWarning: shading='flat' when X and Y have the same dimensions as C is deprecated since 3.3.  Either specify the corners of the quadrilaterals with X and Y, or pass shading='auto', 'nearest' or 'gouraud', or set rcParams['pcolor.shading'].  This will become an error two minor releases later.\n",
      "  hy_m.pcolormesh(x_map, y_map, data=grid_array, cmap=plt.cm.jet,vmax = -5,vmin=-25,latlon = True)\n"
     ]
    },
    {
     "name": "stdout",
     "output_type": "stream",
     "text": [
      "20200301\n"
     ]
    },
    {
     "name": "stderr",
     "output_type": "stream",
     "text": [
      "<ipython-input-24-605484972bf9>:38: RuntimeWarning: invalid value encountered in true_divide\n",
      "  grid_array = grid_array / grid_num_array\n",
      "<ipython-input-4-62a2f12ec23a>:39: MatplotlibDeprecationWarning: shading='flat' when X and Y have the same dimensions as C is deprecated since 3.3.  Either specify the corners of the quadrilaterals with X and Y, or pass shading='auto', 'nearest' or 'gouraud', or set rcParams['pcolor.shading'].  This will become an error two minor releases later.\n",
      "  hy_m.pcolormesh(x_map, y_map, data=grid_array, cmap=plt.cm.jet,vmax = -5,vmin=-25,latlon = True)\n"
     ]
    },
    {
     "name": "stdout",
     "output_type": "stream",
     "text": [
      "20200302\n"
     ]
    },
    {
     "name": "stderr",
     "output_type": "stream",
     "text": [
      "<ipython-input-24-605484972bf9>:38: RuntimeWarning: invalid value encountered in true_divide\n",
      "  grid_array = grid_array / grid_num_array\n",
      "<ipython-input-4-62a2f12ec23a>:39: MatplotlibDeprecationWarning: shading='flat' when X and Y have the same dimensions as C is deprecated since 3.3.  Either specify the corners of the quadrilaterals with X and Y, or pass shading='auto', 'nearest' or 'gouraud', or set rcParams['pcolor.shading'].  This will become an error two minor releases later.\n",
      "  hy_m.pcolormesh(x_map, y_map, data=grid_array, cmap=plt.cm.jet,vmax = -5,vmin=-25,latlon = True)\n"
     ]
    },
    {
     "name": "stdout",
     "output_type": "stream",
     "text": [
      "20200303\n"
     ]
    },
    {
     "name": "stderr",
     "output_type": "stream",
     "text": [
      "<ipython-input-24-605484972bf9>:38: RuntimeWarning: invalid value encountered in true_divide\n",
      "  grid_array = grid_array / grid_num_array\n",
      "<ipython-input-4-62a2f12ec23a>:39: MatplotlibDeprecationWarning: shading='flat' when X and Y have the same dimensions as C is deprecated since 3.3.  Either specify the corners of the quadrilaterals with X and Y, or pass shading='auto', 'nearest' or 'gouraud', or set rcParams['pcolor.shading'].  This will become an error two minor releases later.\n",
      "  hy_m.pcolormesh(x_map, y_map, data=grid_array, cmap=plt.cm.jet,vmax = -5,vmin=-25,latlon = True)\n"
     ]
    },
    {
     "name": "stdout",
     "output_type": "stream",
     "text": [
      "20200308\n"
     ]
    },
    {
     "name": "stderr",
     "output_type": "stream",
     "text": [
      "<ipython-input-24-605484972bf9>:38: RuntimeWarning: invalid value encountered in true_divide\n",
      "  grid_array = grid_array / grid_num_array\n",
      "<ipython-input-4-62a2f12ec23a>:39: MatplotlibDeprecationWarning: shading='flat' when X and Y have the same dimensions as C is deprecated since 3.3.  Either specify the corners of the quadrilaterals with X and Y, or pass shading='auto', 'nearest' or 'gouraud', or set rcParams['pcolor.shading'].  This will become an error two minor releases later.\n",
      "  hy_m.pcolormesh(x_map, y_map, data=grid_array, cmap=plt.cm.jet,vmax = -5,vmin=-25,latlon = True)\n"
     ]
    },
    {
     "name": "stdout",
     "output_type": "stream",
     "text": [
      "20200309\n"
     ]
    },
    {
     "name": "stderr",
     "output_type": "stream",
     "text": [
      "<ipython-input-24-605484972bf9>:38: RuntimeWarning: invalid value encountered in true_divide\n",
      "  grid_array = grid_array / grid_num_array\n",
      "<ipython-input-4-62a2f12ec23a>:39: MatplotlibDeprecationWarning: shading='flat' when X and Y have the same dimensions as C is deprecated since 3.3.  Either specify the corners of the quadrilaterals with X and Y, or pass shading='auto', 'nearest' or 'gouraud', or set rcParams['pcolor.shading'].  This will become an error two minor releases later.\n",
      "  hy_m.pcolormesh(x_map, y_map, data=grid_array, cmap=plt.cm.jet,vmax = -5,vmin=-25,latlon = True)\n"
     ]
    },
    {
     "name": "stdout",
     "output_type": "stream",
     "text": [
      "20200310\n"
     ]
    },
    {
     "name": "stderr",
     "output_type": "stream",
     "text": [
      "<ipython-input-24-605484972bf9>:38: RuntimeWarning: invalid value encountered in true_divide\n",
      "  grid_array = grid_array / grid_num_array\n",
      "<ipython-input-4-62a2f12ec23a>:39: MatplotlibDeprecationWarning: shading='flat' when X and Y have the same dimensions as C is deprecated since 3.3.  Either specify the corners of the quadrilaterals with X and Y, or pass shading='auto', 'nearest' or 'gouraud', or set rcParams['pcolor.shading'].  This will become an error two minor releases later.\n",
      "  hy_m.pcolormesh(x_map, y_map, data=grid_array, cmap=plt.cm.jet,vmax = -5,vmin=-25,latlon = True)\n"
     ]
    },
    {
     "name": "stdout",
     "output_type": "stream",
     "text": [
      "20200314\n"
     ]
    },
    {
     "name": "stderr",
     "output_type": "stream",
     "text": [
      "<ipython-input-24-605484972bf9>:38: RuntimeWarning: invalid value encountered in true_divide\n",
      "  grid_array = grid_array / grid_num_array\n",
      "<ipython-input-4-62a2f12ec23a>:39: MatplotlibDeprecationWarning: shading='flat' when X and Y have the same dimensions as C is deprecated since 3.3.  Either specify the corners of the quadrilaterals with X and Y, or pass shading='auto', 'nearest' or 'gouraud', or set rcParams['pcolor.shading'].  This will become an error two minor releases later.\n",
      "  hy_m.pcolormesh(x_map, y_map, data=grid_array, cmap=plt.cm.jet,vmax = -5,vmin=-25,latlon = True)\n"
     ]
    },
    {
     "name": "stdout",
     "output_type": "stream",
     "text": [
      "20200315\n"
     ]
    },
    {
     "name": "stderr",
     "output_type": "stream",
     "text": [
      "<ipython-input-24-605484972bf9>:38: RuntimeWarning: invalid value encountered in true_divide\n",
      "  grid_array = grid_array / grid_num_array\n",
      "<ipython-input-4-62a2f12ec23a>:39: MatplotlibDeprecationWarning: shading='flat' when X and Y have the same dimensions as C is deprecated since 3.3.  Either specify the corners of the quadrilaterals with X and Y, or pass shading='auto', 'nearest' or 'gouraud', or set rcParams['pcolor.shading'].  This will become an error two minor releases later.\n",
      "  hy_m.pcolormesh(x_map, y_map, data=grid_array, cmap=plt.cm.jet,vmax = -5,vmin=-25,latlon = True)\n"
     ]
    },
    {
     "name": "stdout",
     "output_type": "stream",
     "text": [
      "20200316\n"
     ]
    },
    {
     "name": "stderr",
     "output_type": "stream",
     "text": [
      "<ipython-input-24-605484972bf9>:38: RuntimeWarning: invalid value encountered in true_divide\n",
      "  grid_array = grid_array / grid_num_array\n",
      "<ipython-input-4-62a2f12ec23a>:39: MatplotlibDeprecationWarning: shading='flat' when X and Y have the same dimensions as C is deprecated since 3.3.  Either specify the corners of the quadrilaterals with X and Y, or pass shading='auto', 'nearest' or 'gouraud', or set rcParams['pcolor.shading'].  This will become an error two minor releases later.\n",
      "  hy_m.pcolormesh(x_map, y_map, data=grid_array, cmap=plt.cm.jet,vmax = -5,vmin=-25,latlon = True)\n"
     ]
    },
    {
     "name": "stdout",
     "output_type": "stream",
     "text": [
      "20200317\n"
     ]
    },
    {
     "name": "stderr",
     "output_type": "stream",
     "text": [
      "<ipython-input-24-605484972bf9>:38: RuntimeWarning: invalid value encountered in true_divide\n",
      "  grid_array = grid_array / grid_num_array\n",
      "<ipython-input-4-62a2f12ec23a>:39: MatplotlibDeprecationWarning: shading='flat' when X and Y have the same dimensions as C is deprecated since 3.3.  Either specify the corners of the quadrilaterals with X and Y, or pass shading='auto', 'nearest' or 'gouraud', or set rcParams['pcolor.shading'].  This will become an error two minor releases later.\n",
      "  hy_m.pcolormesh(x_map, y_map, data=grid_array, cmap=plt.cm.jet,vmax = -5,vmin=-25,latlon = True)\n"
     ]
    },
    {
     "name": "stdout",
     "output_type": "stream",
     "text": [
      "20200322\n"
     ]
    },
    {
     "name": "stderr",
     "output_type": "stream",
     "text": [
      "<ipython-input-24-605484972bf9>:38: RuntimeWarning: invalid value encountered in true_divide\n",
      "  grid_array = grid_array / grid_num_array\n",
      "<ipython-input-4-62a2f12ec23a>:39: MatplotlibDeprecationWarning: shading='flat' when X and Y have the same dimensions as C is deprecated since 3.3.  Either specify the corners of the quadrilaterals with X and Y, or pass shading='auto', 'nearest' or 'gouraud', or set rcParams['pcolor.shading'].  This will become an error two minor releases later.\n",
      "  hy_m.pcolormesh(x_map, y_map, data=grid_array, cmap=plt.cm.jet,vmax = -5,vmin=-25,latlon = True)\n"
     ]
    },
    {
     "name": "stdout",
     "output_type": "stream",
     "text": [
      "20200323\n"
     ]
    },
    {
     "name": "stderr",
     "output_type": "stream",
     "text": [
      "<ipython-input-24-605484972bf9>:38: RuntimeWarning: invalid value encountered in true_divide\n",
      "  grid_array = grid_array / grid_num_array\n",
      "<ipython-input-4-62a2f12ec23a>:39: MatplotlibDeprecationWarning: shading='flat' when X and Y have the same dimensions as C is deprecated since 3.3.  Either specify the corners of the quadrilaterals with X and Y, or pass shading='auto', 'nearest' or 'gouraud', or set rcParams['pcolor.shading'].  This will become an error two minor releases later.\n",
      "  hy_m.pcolormesh(x_map, y_map, data=grid_array, cmap=plt.cm.jet,vmax = -5,vmin=-25,latlon = True)\n"
     ]
    },
    {
     "name": "stdout",
     "output_type": "stream",
     "text": [
      "20200324\n"
     ]
    },
    {
     "name": "stderr",
     "output_type": "stream",
     "text": [
      "<ipython-input-24-605484972bf9>:38: RuntimeWarning: invalid value encountered in true_divide\n",
      "  grid_array = grid_array / grid_num_array\n",
      "<ipython-input-4-62a2f12ec23a>:39: MatplotlibDeprecationWarning: shading='flat' when X and Y have the same dimensions as C is deprecated since 3.3.  Either specify the corners of the quadrilaterals with X and Y, or pass shading='auto', 'nearest' or 'gouraud', or set rcParams['pcolor.shading'].  This will become an error two minor releases later.\n",
      "  hy_m.pcolormesh(x_map, y_map, data=grid_array, cmap=plt.cm.jet,vmax = -5,vmin=-25,latlon = True)\n"
     ]
    },
    {
     "name": "stdout",
     "output_type": "stream",
     "text": [
      "20200329\n"
     ]
    },
    {
     "name": "stderr",
     "output_type": "stream",
     "text": [
      "<ipython-input-24-605484972bf9>:38: RuntimeWarning: invalid value encountered in true_divide\n",
      "  grid_array = grid_array / grid_num_array\n",
      "<ipython-input-4-62a2f12ec23a>:39: MatplotlibDeprecationWarning: shading='flat' when X and Y have the same dimensions as C is deprecated since 3.3.  Either specify the corners of the quadrilaterals with X and Y, or pass shading='auto', 'nearest' or 'gouraud', or set rcParams['pcolor.shading'].  This will become an error two minor releases later.\n",
      "  hy_m.pcolormesh(x_map, y_map, data=grid_array, cmap=plt.cm.jet,vmax = -5,vmin=-25,latlon = True)\n"
     ]
    },
    {
     "name": "stdout",
     "output_type": "stream",
     "text": [
      "20200330\n"
     ]
    },
    {
     "name": "stderr",
     "output_type": "stream",
     "text": [
      "<ipython-input-24-605484972bf9>:38: RuntimeWarning: invalid value encountered in true_divide\n",
      "  grid_array = grid_array / grid_num_array\n",
      "<ipython-input-4-62a2f12ec23a>:39: MatplotlibDeprecationWarning: shading='flat' when X and Y have the same dimensions as C is deprecated since 3.3.  Either specify the corners of the quadrilaterals with X and Y, or pass shading='auto', 'nearest' or 'gouraud', or set rcParams['pcolor.shading'].  This will become an error two minor releases later.\n",
      "  hy_m.pcolormesh(x_map, y_map, data=grid_array, cmap=plt.cm.jet,vmax = -5,vmin=-25,latlon = True)\n"
     ]
    },
    {
     "name": "stdout",
     "output_type": "stream",
     "text": [
      "20200331\n"
     ]
    },
    {
     "name": "stderr",
     "output_type": "stream",
     "text": [
      "<ipython-input-24-605484972bf9>:38: RuntimeWarning: invalid value encountered in true_divide\n",
      "  grid_array = grid_array / grid_num_array\n",
      "<ipython-input-4-62a2f12ec23a>:39: MatplotlibDeprecationWarning: shading='flat' when X and Y have the same dimensions as C is deprecated since 3.3.  Either specify the corners of the quadrilaterals with X and Y, or pass shading='auto', 'nearest' or 'gouraud', or set rcParams['pcolor.shading'].  This will become an error two minor releases later.\n",
      "  hy_m.pcolormesh(x_map, y_map, data=grid_array, cmap=plt.cm.jet,vmax = -5,vmin=-25,latlon = True)\n"
     ]
    },
    {
     "name": "stdout",
     "output_type": "stream",
     "text": [
      "20200401\n"
     ]
    }
   ],
   "source": [
    "x_map, y_map = hy_sca.get_map_grid(transformer_back)\n",
    "\n",
    "for files in file_list[:106]:\n",
    "    name = files[0].split('_')[8].split('T')[0]\n",
    "    value_array = np.empty(shape=(1702, 810,5))\n",
    "    grid_array = np.zeros((hy_sca.nlat, hy_sca.nlon))\n",
    "    grid_num_array = np.zeros((hy_sca.nlat, hy_sca.nlon))\n",
    "\n",
    "    for file in files:\n",
    "        try:\n",
    "            with h5py.File(file, mode='r') as f:\n",
    "                lat = f['cell_lat'][:]\n",
    "                lon = f['cell_lon'][:]\n",
    "                sigma0 = f['cell_sigma0'][:]\n",
    "        except:\n",
    "            continue\n",
    "            print(file)\n",
    "            \n",
    "\n",
    "        sigma0 = sigma0*0.01\n",
    "\n",
    "        lat[lat > 90] = 0 \n",
    "        lon[lon > 360] = 0 \n",
    "        sigma0[sigma0 < -300] = 0\n",
    "#         projlats, projlons = transformer.transform(lat, lon)\n",
    "\n",
    "        value_array[:,:,0] = lat\n",
    "        value_array[:,:,1] = lon\n",
    "        value_array[:,:,2],value_array[:,:,3] = transformer.transform(value_array[:,:,0], value_array[:,:,1])\n",
    "        value_array[:,:,4] = sigma0\n",
    "    #     value_array[:,:,4][value_array[:,:,4] < -300] = np.nan\n",
    "\n",
    "        x = (value_array[:,:,2] / hy_sca.resolution).astype(np.int)\n",
    "        y = (value_array[:,:,3] / hy_sca.resolution).astype(np.int)\n",
    "        grid_array[y,x] += value_array[:,:,4]\n",
    "        grid_num_array[y,x] += 1\n",
    "        \n",
    "    grid_array = grid_array / grid_num_array\n",
    "\n",
    "    fig = draw_sigmod_0(x_map, y_map, grid_array,train_data_dir + '\\\\pic\\\\' + str(name) + '.png')\n",
    "#     fig = draw_sigmod_0(x_map, y_map, grid_array)\n",
    "    plot_img_np = get_img_from_fig(fig)\n",
    "#     np.save((train_data_dir+ '\\\\npy\\\\grid\\\\'+str(name) + '.npy'), grid_array)\n",
    "    print(name)"
   ]
  },
  {
   "cell_type": "markdown",
   "metadata": {},
   "source": [
    "    \n",
    "    fig = draw_sigmod_0(x_map, y_map, grid_array)\n",
    "    plot_img_np = get_img_from_fig(fig)\n",
    "\n",
    "    name = files[6].split('_')[8].split('T')[0]\n",
    "\n",
    "    np.savez((r'.\\\\npy\\\\sigmod0_'+ str(name) + '.npz'), plot_img_np)\n"
   ]
  },
  {
   "cell_type": "markdown",
   "metadata": {},
   "source": [
    "# 修改文件名称"
   ]
  },
  {
   "cell_type": "code",
   "execution_count": 14,
   "metadata": {},
   "outputs": [],
   "source": [
    "\n",
    "\n",
    "path=r'E:\\python_workfile\\sea_ice_classification\\training4\\sigmod0'      \n",
    "\n",
    "#获取该目录下所有文件，存入列表中\n",
    "fileList=glob.glob(path+'\\\\HY2B_sca_sigmod0_'+'*.png')\n",
    "\n",
    "\n",
    "n=0\n",
    "for i in fileList:\n",
    "    \n",
    "    #设置旧文件名（就是路径+文件名）\n",
    "    oldname=i   # os.sep添加系统分隔符\n",
    "    \n",
    "    #设置新文件名\n",
    "    newname=path + '\\\\' +i.split('\\\\')[-1].split('_')[-1]\n",
    "    \n",
    "    os.rename(oldname,newname)   #用os模块中的rename方法对文件改名\n",
    "    print(oldname,'======>',newname)\n",
    "    \n",
    "    n+=1"
   ]
  },
  {
   "cell_type": "markdown",
   "metadata": {},
   "source": [
    "# 将AARI 与HY-2B daily数据 1天向多天映射"
   ]
  },
  {
   "cell_type": "code",
   "execution_count": 3,
   "metadata": {},
   "outputs": [],
   "source": [
    "\n",
    "sig_dir = r'E:\\python_workfile\\sea_ice_classification\\training7\\dataset\\input_value\\VV_HH_polarratio'\n",
    "aari_dir = r'E:\\python_workfile\\sea_ice_classification\\training7\\dataset\\aari\\pic'\n",
    "\n",
    "sig_files = glob.glob(sig_dir+'\\\\*.png')\n",
    "aari_files = glob.glob(aari_dir + '\\\\*.png')\n"
   ]
  },
  {
   "cell_type": "code",
   "execution_count": 6,
   "metadata": {},
   "outputs": [
    {
     "name": "stdout",
     "output_type": "stream",
     "text": [
      "20180102 20190514\n",
      "-497\n",
      "20180109 20190514\n",
      "-490\n",
      "20180116 20190514\n",
      "-483\n",
      "20180123 20190514\n",
      "-476\n",
      "20180130 20190514\n",
      "-469\n",
      "20180206 20190514\n",
      "-462\n",
      "20180213 20190514\n",
      "-455\n",
      "20180220 20190514\n",
      "-448\n",
      "20180227 20190514\n",
      "-441\n",
      "20180306 20190514\n",
      "-434\n",
      "20180313 20190514\n",
      "-427\n",
      "20180320 20190514\n",
      "-420\n",
      "20180327 20190514\n",
      "-413\n",
      "20180403 20190514\n",
      "-406\n",
      "20180410 20190514\n",
      "-399\n",
      "20180417 20190514\n",
      "-392\n",
      "20180424 20190514\n",
      "-385\n",
      "20180501 20190514\n",
      "-378\n",
      "20180515 20190514\n",
      "-364\n",
      "20180522 20190514\n",
      "-357\n",
      "20180529 20190514\n",
      "-350\n",
      "20180605 20190514\n",
      "-343\n",
      "20180612 20190514\n",
      "-336\n",
      "20180619 20190514\n",
      "-329\n",
      "20180626 20190514\n",
      "-322\n",
      "20180703 20190514\n",
      "-315\n",
      "20180710 20190514\n",
      "-308\n",
      "20180717 20190514\n",
      "-301\n",
      "20180724 20190514\n",
      "-294\n",
      "20180731 20190514\n",
      "-287\n",
      "20180807 20190514\n",
      "-280\n",
      "20180814 20190514\n",
      "-273\n",
      "20180821 20190514\n",
      "-266\n",
      "20180828 20190514\n",
      "-259\n",
      "20180904 20190514\n",
      "-252\n",
      "20180911 20190514\n",
      "-245\n",
      "20180918 20190514\n",
      "-238\n",
      "20180925 20190514\n",
      "-231\n",
      "20181002 20190514\n",
      "-224\n",
      "20181009 20190514\n",
      "-217\n",
      "20181016 20190514\n",
      "-210\n",
      "20181030 20190514\n",
      "-196\n",
      "20181106 20190514\n",
      "-189\n",
      "20181113 20190514\n",
      "-182\n",
      "20181127 20190514\n",
      "-168\n",
      "20181204 20190514\n",
      "-161\n",
      "20181211 20190514\n",
      "-154\n",
      "20181218 20190514\n",
      "-147\n",
      "20181225 20190514\n",
      "-140\n",
      "20181231 20190514\n",
      "-134\n",
      "20190108 20190514\n",
      "-126\n",
      "20190115 20190514\n",
      "-119\n",
      "20190122 20190514\n",
      "-112\n",
      "20190129 20190514\n",
      "-105\n",
      "20190205 20190514\n",
      "-98\n",
      "20190212 20190514\n",
      "-91\n",
      "20190219 20190514\n",
      "-84\n",
      "20190226 20190514\n",
      "-77\n",
      "20190305 20190514\n",
      "-70\n",
      "20190312 20190514\n",
      "-63\n",
      "20190319 20190514\n",
      "-56\n",
      "20190326 20190514\n",
      "-49\n",
      "20190402 20190514\n",
      "-42\n",
      "20190409 20190514\n",
      "-35\n",
      "20190416 20190514\n",
      "-28\n",
      "20190423 20190514\n",
      "-21\n",
      "20190430 20190514\n",
      "-14\n",
      "20190507 20190514\n",
      "-7\n",
      "20190514 20190514\n",
      "0\n",
      "20190521 20190515\n",
      "6\n",
      "E:\\python_workfile\\sea_ice_classification\\training7\\dataset\\aari\\pic\\20190521.png ======> E:\\python_workfile\\sea_ice_classification\\training7\\dataset\\aari\\pic\\20190515.png\n",
      "20190521 20190516\n",
      "5\n",
      "E:\\python_workfile\\sea_ice_classification\\training7\\dataset\\aari\\pic\\20190521.png ======> E:\\python_workfile\\sea_ice_classification\\training7\\dataset\\aari\\pic\\20190516.png\n",
      "20190521 20190517\n",
      "4\n",
      "E:\\python_workfile\\sea_ice_classification\\training7\\dataset\\aari\\pic\\20190521.png ======> E:\\python_workfile\\sea_ice_classification\\training7\\dataset\\aari\\pic\\20190517.png\n",
      "20190521 20190518\n",
      "3\n",
      "E:\\python_workfile\\sea_ice_classification\\training7\\dataset\\aari\\pic\\20190521.png ======> E:\\python_workfile\\sea_ice_classification\\training7\\dataset\\aari\\pic\\20190518.png\n",
      "20190521 20190519\n",
      "2\n",
      "E:\\python_workfile\\sea_ice_classification\\training7\\dataset\\aari\\pic\\20190521.png ======> E:\\python_workfile\\sea_ice_classification\\training7\\dataset\\aari\\pic\\20190519.png\n",
      "20190521 20190520\n",
      "1\n",
      "E:\\python_workfile\\sea_ice_classification\\training7\\dataset\\aari\\pic\\20190521.png ======> E:\\python_workfile\\sea_ice_classification\\training7\\dataset\\aari\\pic\\20190520.png\n",
      "20190521 20190521\n",
      "0\n",
      "20190528 20190522\n",
      "6\n",
      "E:\\python_workfile\\sea_ice_classification\\training7\\dataset\\aari\\pic\\20190528.png ======> E:\\python_workfile\\sea_ice_classification\\training7\\dataset\\aari\\pic\\20190522.png\n",
      "20190528 20190523\n",
      "5\n",
      "E:\\python_workfile\\sea_ice_classification\\training7\\dataset\\aari\\pic\\20190528.png ======> E:\\python_workfile\\sea_ice_classification\\training7\\dataset\\aari\\pic\\20190523.png\n",
      "20190528 20190524\n",
      "4\n",
      "E:\\python_workfile\\sea_ice_classification\\training7\\dataset\\aari\\pic\\20190528.png ======> E:\\python_workfile\\sea_ice_classification\\training7\\dataset\\aari\\pic\\20190524.png\n",
      "20190528 20190525\n",
      "3\n",
      "E:\\python_workfile\\sea_ice_classification\\training7\\dataset\\aari\\pic\\20190528.png ======> E:\\python_workfile\\sea_ice_classification\\training7\\dataset\\aari\\pic\\20190525.png\n",
      "20190528 20190526\n",
      "2\n",
      "E:\\python_workfile\\sea_ice_classification\\training7\\dataset\\aari\\pic\\20190528.png ======> E:\\python_workfile\\sea_ice_classification\\training7\\dataset\\aari\\pic\\20190526.png\n",
      "20190528 20190527\n",
      "1\n",
      "E:\\python_workfile\\sea_ice_classification\\training7\\dataset\\aari\\pic\\20190528.png ======> E:\\python_workfile\\sea_ice_classification\\training7\\dataset\\aari\\pic\\20190527.png\n",
      "20190528 20190528\n",
      "0\n",
      "20190604 20191008\n",
      "-126\n",
      "20190611 20191008\n",
      "-119\n",
      "20190618 20191008\n",
      "-112\n",
      "20190625 20191008\n",
      "-105\n",
      "20190702 20191008\n",
      "-98\n",
      "20190709 20191008\n",
      "-91\n",
      "20190716 20191008\n",
      "-84\n",
      "20190723 20191008\n",
      "-77\n",
      "20190730 20191008\n",
      "-70\n",
      "20190813 20191008\n",
      "-56\n",
      "20190820 20191008\n",
      "-49\n",
      "20190827 20191008\n",
      "-42\n",
      "20190903 20191008\n",
      "-35\n",
      "20190910 20191008\n",
      "-28\n",
      "20190917 20191008\n",
      "-21\n",
      "20190924 20191008\n",
      "-14\n",
      "20191001 20191008\n",
      "-7\n",
      "20191008 20191008\n",
      "0\n",
      "20191015 20191009\n",
      "6\n",
      "E:\\python_workfile\\sea_ice_classification\\training7\\dataset\\aari\\pic\\20191015.png ======> E:\\python_workfile\\sea_ice_classification\\training7\\dataset\\aari\\pic\\20191009.png\n",
      "20191015 20191010\n",
      "5\n",
      "E:\\python_workfile\\sea_ice_classification\\training7\\dataset\\aari\\pic\\20191015.png ======> E:\\python_workfile\\sea_ice_classification\\training7\\dataset\\aari\\pic\\20191010.png\n",
      "20191015 20191011\n",
      "4\n",
      "E:\\python_workfile\\sea_ice_classification\\training7\\dataset\\aari\\pic\\20191015.png ======> E:\\python_workfile\\sea_ice_classification\\training7\\dataset\\aari\\pic\\20191011.png\n",
      "20191015 20191012\n",
      "3\n",
      "E:\\python_workfile\\sea_ice_classification\\training7\\dataset\\aari\\pic\\20191015.png ======> E:\\python_workfile\\sea_ice_classification\\training7\\dataset\\aari\\pic\\20191012.png\n",
      "20191015 20191013\n",
      "2\n",
      "E:\\python_workfile\\sea_ice_classification\\training7\\dataset\\aari\\pic\\20191015.png ======> E:\\python_workfile\\sea_ice_classification\\training7\\dataset\\aari\\pic\\20191013.png\n",
      "20191015 20191014\n",
      "1\n",
      "E:\\python_workfile\\sea_ice_classification\\training7\\dataset\\aari\\pic\\20191015.png ======> E:\\python_workfile\\sea_ice_classification\\training7\\dataset\\aari\\pic\\20191014.png\n",
      "20191015 20191015\n",
      "0\n",
      "20191029 20191022\n",
      "7\n",
      "E:\\python_workfile\\sea_ice_classification\\training7\\dataset\\aari\\pic\\20191029.png ======> E:\\python_workfile\\sea_ice_classification\\training7\\dataset\\aari\\pic\\20191022.png\n",
      "20191029 20191023\n",
      "6\n",
      "E:\\python_workfile\\sea_ice_classification\\training7\\dataset\\aari\\pic\\20191029.png ======> E:\\python_workfile\\sea_ice_classification\\training7\\dataset\\aari\\pic\\20191023.png\n",
      "20191029 20191024\n",
      "5\n",
      "E:\\python_workfile\\sea_ice_classification\\training7\\dataset\\aari\\pic\\20191029.png ======> E:\\python_workfile\\sea_ice_classification\\training7\\dataset\\aari\\pic\\20191024.png\n",
      "20191029 20191025\n",
      "4\n",
      "E:\\python_workfile\\sea_ice_classification\\training7\\dataset\\aari\\pic\\20191029.png ======> E:\\python_workfile\\sea_ice_classification\\training7\\dataset\\aari\\pic\\20191025.png\n",
      "20191029 20191026\n",
      "3\n",
      "E:\\python_workfile\\sea_ice_classification\\training7\\dataset\\aari\\pic\\20191029.png ======> E:\\python_workfile\\sea_ice_classification\\training7\\dataset\\aari\\pic\\20191026.png\n",
      "20191029 20191027\n",
      "2\n",
      "E:\\python_workfile\\sea_ice_classification\\training7\\dataset\\aari\\pic\\20191029.png ======> E:\\python_workfile\\sea_ice_classification\\training7\\dataset\\aari\\pic\\20191027.png\n",
      "20191029 20191028\n",
      "1\n",
      "E:\\python_workfile\\sea_ice_classification\\training7\\dataset\\aari\\pic\\20191029.png ======> E:\\python_workfile\\sea_ice_classification\\training7\\dataset\\aari\\pic\\20191028.png\n",
      "20191029 20191029\n",
      "0\n",
      "20191105 20191030\n",
      "6\n",
      "E:\\python_workfile\\sea_ice_classification\\training7\\dataset\\aari\\pic\\20191105.png ======> E:\\python_workfile\\sea_ice_classification\\training7\\dataset\\aari\\pic\\20191030.png\n",
      "20191105 20191031\n",
      "5\n",
      "E:\\python_workfile\\sea_ice_classification\\training7\\dataset\\aari\\pic\\20191105.png ======> E:\\python_workfile\\sea_ice_classification\\training7\\dataset\\aari\\pic\\20191031.png\n",
      "20191105 20191102\n",
      "3\n",
      "E:\\python_workfile\\sea_ice_classification\\training7\\dataset\\aari\\pic\\20191105.png ======> E:\\python_workfile\\sea_ice_classification\\training7\\dataset\\aari\\pic\\20191102.png\n",
      "20191105 20191103\n",
      "2\n",
      "E:\\python_workfile\\sea_ice_classification\\training7\\dataset\\aari\\pic\\20191105.png ======> E:\\python_workfile\\sea_ice_classification\\training7\\dataset\\aari\\pic\\20191103.png\n",
      "20191105 20191104\n",
      "1\n",
      "E:\\python_workfile\\sea_ice_classification\\training7\\dataset\\aari\\pic\\20191105.png ======> E:\\python_workfile\\sea_ice_classification\\training7\\dataset\\aari\\pic\\20191104.png\n",
      "20191105 20191105\n",
      "0\n",
      "20191112 20191106\n",
      "6\n",
      "E:\\python_workfile\\sea_ice_classification\\training7\\dataset\\aari\\pic\\20191112.png ======> E:\\python_workfile\\sea_ice_classification\\training7\\dataset\\aari\\pic\\20191106.png\n",
      "20191112 20191107\n",
      "5\n",
      "E:\\python_workfile\\sea_ice_classification\\training7\\dataset\\aari\\pic\\20191112.png ======> E:\\python_workfile\\sea_ice_classification\\training7\\dataset\\aari\\pic\\20191107.png\n",
      "20191112 20191108\n",
      "4\n",
      "E:\\python_workfile\\sea_ice_classification\\training7\\dataset\\aari\\pic\\20191112.png ======> E:\\python_workfile\\sea_ice_classification\\training7\\dataset\\aari\\pic\\20191108.png\n",
      "20191112 20191109\n",
      "3\n",
      "E:\\python_workfile\\sea_ice_classification\\training7\\dataset\\aari\\pic\\20191112.png ======> E:\\python_workfile\\sea_ice_classification\\training7\\dataset\\aari\\pic\\20191109.png\n",
      "20191112 20191110\n",
      "2\n",
      "E:\\python_workfile\\sea_ice_classification\\training7\\dataset\\aari\\pic\\20191112.png ======> E:\\python_workfile\\sea_ice_classification\\training7\\dataset\\aari\\pic\\20191110.png\n",
      "20191112 20191111\n",
      "1\n",
      "E:\\python_workfile\\sea_ice_classification\\training7\\dataset\\aari\\pic\\20191112.png ======> E:\\python_workfile\\sea_ice_classification\\training7\\dataset\\aari\\pic\\20191111.png\n",
      "20191112 20191112\n",
      "0\n",
      "20191119 20191113\n",
      "6\n",
      "E:\\python_workfile\\sea_ice_classification\\training7\\dataset\\aari\\pic\\20191119.png ======> E:\\python_workfile\\sea_ice_classification\\training7\\dataset\\aari\\pic\\20191113.png\n",
      "20191119 20191114\n",
      "5\n",
      "E:\\python_workfile\\sea_ice_classification\\training7\\dataset\\aari\\pic\\20191119.png ======> E:\\python_workfile\\sea_ice_classification\\training7\\dataset\\aari\\pic\\20191114.png\n",
      "20191119 20191115\n",
      "4\n",
      "E:\\python_workfile\\sea_ice_classification\\training7\\dataset\\aari\\pic\\20191119.png ======> E:\\python_workfile\\sea_ice_classification\\training7\\dataset\\aari\\pic\\20191115.png\n",
      "20191119 20191116\n",
      "3\n",
      "E:\\python_workfile\\sea_ice_classification\\training7\\dataset\\aari\\pic\\20191119.png ======> E:\\python_workfile\\sea_ice_classification\\training7\\dataset\\aari\\pic\\20191116.png\n",
      "20191119 20191117\n",
      "2\n",
      "E:\\python_workfile\\sea_ice_classification\\training7\\dataset\\aari\\pic\\20191119.png ======> E:\\python_workfile\\sea_ice_classification\\training7\\dataset\\aari\\pic\\20191117.png\n",
      "20191119 20191118\n",
      "1\n",
      "E:\\python_workfile\\sea_ice_classification\\training7\\dataset\\aari\\pic\\20191119.png ======> E:\\python_workfile\\sea_ice_classification\\training7\\dataset\\aari\\pic\\20191118.png\n",
      "20191119 20191119\n",
      "0\n",
      "20191126 20191120\n",
      "6\n",
      "E:\\python_workfile\\sea_ice_classification\\training7\\dataset\\aari\\pic\\20191126.png ======> E:\\python_workfile\\sea_ice_classification\\training7\\dataset\\aari\\pic\\20191120.png\n",
      "20191126 20191121\n",
      "5\n",
      "E:\\python_workfile\\sea_ice_classification\\training7\\dataset\\aari\\pic\\20191126.png ======> E:\\python_workfile\\sea_ice_classification\\training7\\dataset\\aari\\pic\\20191121.png\n",
      "20191126 20191122\n",
      "4\n",
      "E:\\python_workfile\\sea_ice_classification\\training7\\dataset\\aari\\pic\\20191126.png ======> E:\\python_workfile\\sea_ice_classification\\training7\\dataset\\aari\\pic\\20191122.png\n",
      "20191126 20191123\n",
      "3\n",
      "E:\\python_workfile\\sea_ice_classification\\training7\\dataset\\aari\\pic\\20191126.png ======> E:\\python_workfile\\sea_ice_classification\\training7\\dataset\\aari\\pic\\20191123.png\n",
      "20191126 20191124\n",
      "2\n",
      "E:\\python_workfile\\sea_ice_classification\\training7\\dataset\\aari\\pic\\20191126.png ======> E:\\python_workfile\\sea_ice_classification\\training7\\dataset\\aari\\pic\\20191124.png\n",
      "20191126 20191125\n",
      "1\n",
      "E:\\python_workfile\\sea_ice_classification\\training7\\dataset\\aari\\pic\\20191126.png ======> E:\\python_workfile\\sea_ice_classification\\training7\\dataset\\aari\\pic\\20191125.png\n",
      "20191126 20191126\n",
      "0\n",
      "20191203 20191127\n",
      "6\n",
      "E:\\python_workfile\\sea_ice_classification\\training7\\dataset\\aari\\pic\\20191203.png ======> E:\\python_workfile\\sea_ice_classification\\training7\\dataset\\aari\\pic\\20191127.png\n",
      "20191203 20191128\n",
      "5\n",
      "E:\\python_workfile\\sea_ice_classification\\training7\\dataset\\aari\\pic\\20191203.png ======> E:\\python_workfile\\sea_ice_classification\\training7\\dataset\\aari\\pic\\20191128.png\n",
      "20191203 20191130\n",
      "3\n",
      "E:\\python_workfile\\sea_ice_classification\\training7\\dataset\\aari\\pic\\20191203.png ======> E:\\python_workfile\\sea_ice_classification\\training7\\dataset\\aari\\pic\\20191130.png\n",
      "20191203 20191201\n",
      "2\n",
      "E:\\python_workfile\\sea_ice_classification\\training7\\dataset\\aari\\pic\\20191203.png ======> E:\\python_workfile\\sea_ice_classification\\training7\\dataset\\aari\\pic\\20191201.png\n",
      "20191203 20191202\n",
      "1\n",
      "E:\\python_workfile\\sea_ice_classification\\training7\\dataset\\aari\\pic\\20191203.png ======> E:\\python_workfile\\sea_ice_classification\\training7\\dataset\\aari\\pic\\20191202.png\n",
      "20191203 20191203\n",
      "0\n",
      "20191210 20191204\n",
      "6\n",
      "E:\\python_workfile\\sea_ice_classification\\training7\\dataset\\aari\\pic\\20191210.png ======> E:\\python_workfile\\sea_ice_classification\\training7\\dataset\\aari\\pic\\20191204.png\n",
      "20191210 20191205\n",
      "5\n",
      "E:\\python_workfile\\sea_ice_classification\\training7\\dataset\\aari\\pic\\20191210.png ======> E:\\python_workfile\\sea_ice_classification\\training7\\dataset\\aari\\pic\\20191205.png\n",
      "20191210 20191206\n",
      "4\n",
      "E:\\python_workfile\\sea_ice_classification\\training7\\dataset\\aari\\pic\\20191210.png ======> E:\\python_workfile\\sea_ice_classification\\training7\\dataset\\aari\\pic\\20191206.png\n",
      "20191210 20191207\n",
      "3\n",
      "E:\\python_workfile\\sea_ice_classification\\training7\\dataset\\aari\\pic\\20191210.png ======> E:\\python_workfile\\sea_ice_classification\\training7\\dataset\\aari\\pic\\20191207.png\n",
      "20191210 20191208\n",
      "2\n",
      "E:\\python_workfile\\sea_ice_classification\\training7\\dataset\\aari\\pic\\20191210.png ======> E:\\python_workfile\\sea_ice_classification\\training7\\dataset\\aari\\pic\\20191208.png\n",
      "20191210 20191209\n",
      "1\n",
      "E:\\python_workfile\\sea_ice_classification\\training7\\dataset\\aari\\pic\\20191210.png ======> E:\\python_workfile\\sea_ice_classification\\training7\\dataset\\aari\\pic\\20191209.png\n",
      "20191210 20191210\n",
      "0\n",
      "20191217 20191211\n",
      "6\n",
      "E:\\python_workfile\\sea_ice_classification\\training7\\dataset\\aari\\pic\\20191217.png ======> E:\\python_workfile\\sea_ice_classification\\training7\\dataset\\aari\\pic\\20191211.png\n",
      "20191217 20191212\n",
      "5\n",
      "E:\\python_workfile\\sea_ice_classification\\training7\\dataset\\aari\\pic\\20191217.png ======> E:\\python_workfile\\sea_ice_classification\\training7\\dataset\\aari\\pic\\20191212.png\n",
      "20191217 20191213\n",
      "4\n",
      "E:\\python_workfile\\sea_ice_classification\\training7\\dataset\\aari\\pic\\20191217.png ======> E:\\python_workfile\\sea_ice_classification\\training7\\dataset\\aari\\pic\\20191213.png\n",
      "20191217 20191214\n",
      "3\n",
      "E:\\python_workfile\\sea_ice_classification\\training7\\dataset\\aari\\pic\\20191217.png ======> E:\\python_workfile\\sea_ice_classification\\training7\\dataset\\aari\\pic\\20191214.png\n",
      "20191217 20191215\n",
      "2\n",
      "E:\\python_workfile\\sea_ice_classification\\training7\\dataset\\aari\\pic\\20191217.png ======> E:\\python_workfile\\sea_ice_classification\\training7\\dataset\\aari\\pic\\20191215.png\n",
      "20191217 20191216\n",
      "1\n",
      "E:\\python_workfile\\sea_ice_classification\\training7\\dataset\\aari\\pic\\20191217.png ======> E:\\python_workfile\\sea_ice_classification\\training7\\dataset\\aari\\pic\\20191216.png\n",
      "20191217 20191217\n",
      "0\n",
      "20191224 20191218\n",
      "6\n",
      "E:\\python_workfile\\sea_ice_classification\\training7\\dataset\\aari\\pic\\20191224.png ======> E:\\python_workfile\\sea_ice_classification\\training7\\dataset\\aari\\pic\\20191218.png\n",
      "20191224 20191219\n",
      "5\n",
      "E:\\python_workfile\\sea_ice_classification\\training7\\dataset\\aari\\pic\\20191224.png ======> E:\\python_workfile\\sea_ice_classification\\training7\\dataset\\aari\\pic\\20191219.png\n",
      "20191224 20191220\n",
      "4\n",
      "E:\\python_workfile\\sea_ice_classification\\training7\\dataset\\aari\\pic\\20191224.png ======> E:\\python_workfile\\sea_ice_classification\\training7\\dataset\\aari\\pic\\20191220.png\n",
      "20191224 20191221\n",
      "3\n",
      "E:\\python_workfile\\sea_ice_classification\\training7\\dataset\\aari\\pic\\20191224.png ======> E:\\python_workfile\\sea_ice_classification\\training7\\dataset\\aari\\pic\\20191221.png\n",
      "20191224 20191222\n",
      "2\n",
      "E:\\python_workfile\\sea_ice_classification\\training7\\dataset\\aari\\pic\\20191224.png ======> E:\\python_workfile\\sea_ice_classification\\training7\\dataset\\aari\\pic\\20191222.png\n",
      "20191224 20191223\n",
      "1\n",
      "E:\\python_workfile\\sea_ice_classification\\training7\\dataset\\aari\\pic\\20191224.png ======> E:\\python_workfile\\sea_ice_classification\\training7\\dataset\\aari\\pic\\20191223.png\n",
      "20191224 20191224\n",
      "0\n",
      "20191231 20191225\n",
      "6\n",
      "E:\\python_workfile\\sea_ice_classification\\training7\\dataset\\aari\\pic\\20191231.png ======> E:\\python_workfile\\sea_ice_classification\\training7\\dataset\\aari\\pic\\20191225.png\n",
      "20191231 20191226\n",
      "5\n",
      "E:\\python_workfile\\sea_ice_classification\\training7\\dataset\\aari\\pic\\20191231.png ======> E:\\python_workfile\\sea_ice_classification\\training7\\dataset\\aari\\pic\\20191226.png\n",
      "20191231 20191227\n",
      "4\n",
      "E:\\python_workfile\\sea_ice_classification\\training7\\dataset\\aari\\pic\\20191231.png ======> E:\\python_workfile\\sea_ice_classification\\training7\\dataset\\aari\\pic\\20191227.png\n",
      "20191231 20191228\n",
      "3\n",
      "E:\\python_workfile\\sea_ice_classification\\training7\\dataset\\aari\\pic\\20191231.png ======> E:\\python_workfile\\sea_ice_classification\\training7\\dataset\\aari\\pic\\20191228.png\n",
      "20191231 20191229\n",
      "2\n",
      "E:\\python_workfile\\sea_ice_classification\\training7\\dataset\\aari\\pic\\20191231.png ======> E:\\python_workfile\\sea_ice_classification\\training7\\dataset\\aari\\pic\\20191229.png\n",
      "20191231 20191230\n",
      "1\n",
      "E:\\python_workfile\\sea_ice_classification\\training7\\dataset\\aari\\pic\\20191231.png ======> E:\\python_workfile\\sea_ice_classification\\training7\\dataset\\aari\\pic\\20191230.png\n",
      "20191231 20191231\n",
      "0\n",
      "20200107 20200101\n",
      "6\n",
      "E:\\python_workfile\\sea_ice_classification\\training7\\dataset\\aari\\pic\\20200107.png ======> E:\\python_workfile\\sea_ice_classification\\training7\\dataset\\aari\\pic\\20200101.png\n",
      "20200107 20200102\n",
      "5\n",
      "E:\\python_workfile\\sea_ice_classification\\training7\\dataset\\aari\\pic\\20200107.png ======> E:\\python_workfile\\sea_ice_classification\\training7\\dataset\\aari\\pic\\20200102.png\n",
      "20200107 20200103\n",
      "4\n",
      "E:\\python_workfile\\sea_ice_classification\\training7\\dataset\\aari\\pic\\20200107.png ======> E:\\python_workfile\\sea_ice_classification\\training7\\dataset\\aari\\pic\\20200103.png\n",
      "20200107 20200104\n",
      "3\n",
      "E:\\python_workfile\\sea_ice_classification\\training7\\dataset\\aari\\pic\\20200107.png ======> E:\\python_workfile\\sea_ice_classification\\training7\\dataset\\aari\\pic\\20200104.png\n",
      "20200107 20200105\n",
      "2\n",
      "E:\\python_workfile\\sea_ice_classification\\training7\\dataset\\aari\\pic\\20200107.png ======> E:\\python_workfile\\sea_ice_classification\\training7\\dataset\\aari\\pic\\20200105.png\n",
      "20200107 20200106\n",
      "1\n",
      "E:\\python_workfile\\sea_ice_classification\\training7\\dataset\\aari\\pic\\20200107.png ======> E:\\python_workfile\\sea_ice_classification\\training7\\dataset\\aari\\pic\\20200106.png\n",
      "20200107 20200107\n",
      "0\n",
      "20200114 20200108\n",
      "6\n",
      "E:\\python_workfile\\sea_ice_classification\\training7\\dataset\\aari\\pic\\20200114.png ======> E:\\python_workfile\\sea_ice_classification\\training7\\dataset\\aari\\pic\\20200108.png\n",
      "20200114 20200109\n",
      "5\n",
      "E:\\python_workfile\\sea_ice_classification\\training7\\dataset\\aari\\pic\\20200114.png ======> E:\\python_workfile\\sea_ice_classification\\training7\\dataset\\aari\\pic\\20200109.png\n",
      "20200114 20200110\n",
      "4\n",
      "E:\\python_workfile\\sea_ice_classification\\training7\\dataset\\aari\\pic\\20200114.png ======> E:\\python_workfile\\sea_ice_classification\\training7\\dataset\\aari\\pic\\20200110.png\n",
      "20200114 20200111\n",
      "3\n",
      "E:\\python_workfile\\sea_ice_classification\\training7\\dataset\\aari\\pic\\20200114.png ======> E:\\python_workfile\\sea_ice_classification\\training7\\dataset\\aari\\pic\\20200111.png\n",
      "20200114 20200112\n",
      "2\n",
      "E:\\python_workfile\\sea_ice_classification\\training7\\dataset\\aari\\pic\\20200114.png ======> E:\\python_workfile\\sea_ice_classification\\training7\\dataset\\aari\\pic\\20200112.png\n",
      "20200114 20200113\n",
      "1\n",
      "E:\\python_workfile\\sea_ice_classification\\training7\\dataset\\aari\\pic\\20200114.png ======> E:\\python_workfile\\sea_ice_classification\\training7\\dataset\\aari\\pic\\20200113.png\n",
      "20200114 20200114\n",
      "0\n",
      "20200121 20200115\n",
      "6\n",
      "E:\\python_workfile\\sea_ice_classification\\training7\\dataset\\aari\\pic\\20200121.png ======> E:\\python_workfile\\sea_ice_classification\\training7\\dataset\\aari\\pic\\20200115.png\n",
      "20200121 20200116\n",
      "5\n",
      "E:\\python_workfile\\sea_ice_classification\\training7\\dataset\\aari\\pic\\20200121.png ======> E:\\python_workfile\\sea_ice_classification\\training7\\dataset\\aari\\pic\\20200116.png\n",
      "20200121 20200117\n",
      "4\n",
      "E:\\python_workfile\\sea_ice_classification\\training7\\dataset\\aari\\pic\\20200121.png ======> E:\\python_workfile\\sea_ice_classification\\training7\\dataset\\aari\\pic\\20200117.png\n",
      "20200121 20200118\n",
      "3\n",
      "E:\\python_workfile\\sea_ice_classification\\training7\\dataset\\aari\\pic\\20200121.png ======> E:\\python_workfile\\sea_ice_classification\\training7\\dataset\\aari\\pic\\20200118.png\n",
      "20200121 20200119\n",
      "2\n",
      "E:\\python_workfile\\sea_ice_classification\\training7\\dataset\\aari\\pic\\20200121.png ======> E:\\python_workfile\\sea_ice_classification\\training7\\dataset\\aari\\pic\\20200119.png\n",
      "20200121 20200120\n",
      "1\n",
      "E:\\python_workfile\\sea_ice_classification\\training7\\dataset\\aari\\pic\\20200121.png ======> E:\\python_workfile\\sea_ice_classification\\training7\\dataset\\aari\\pic\\20200120.png\n",
      "20200121 20200121\n",
      "0\n",
      "20200128 20200122\n",
      "6\n",
      "E:\\python_workfile\\sea_ice_classification\\training7\\dataset\\aari\\pic\\20200128.png ======> E:\\python_workfile\\sea_ice_classification\\training7\\dataset\\aari\\pic\\20200122.png\n",
      "20200128 20200123\n",
      "5\n",
      "E:\\python_workfile\\sea_ice_classification\\training7\\dataset\\aari\\pic\\20200128.png ======> E:\\python_workfile\\sea_ice_classification\\training7\\dataset\\aari\\pic\\20200123.png\n",
      "20200128 20200124\n",
      "4\n",
      "E:\\python_workfile\\sea_ice_classification\\training7\\dataset\\aari\\pic\\20200128.png ======> E:\\python_workfile\\sea_ice_classification\\training7\\dataset\\aari\\pic\\20200124.png\n",
      "20200128 20200125\n",
      "3\n",
      "E:\\python_workfile\\sea_ice_classification\\training7\\dataset\\aari\\pic\\20200128.png ======> E:\\python_workfile\\sea_ice_classification\\training7\\dataset\\aari\\pic\\20200125.png\n",
      "20200128 20200126\n",
      "2\n",
      "E:\\python_workfile\\sea_ice_classification\\training7\\dataset\\aari\\pic\\20200128.png ======> E:\\python_workfile\\sea_ice_classification\\training7\\dataset\\aari\\pic\\20200126.png\n",
      "20200128 20200127\n",
      "1\n",
      "E:\\python_workfile\\sea_ice_classification\\training7\\dataset\\aari\\pic\\20200128.png ======> E:\\python_workfile\\sea_ice_classification\\training7\\dataset\\aari\\pic\\20200127.png\n",
      "20200128 20200128\n",
      "0\n",
      "20200204 20200129\n",
      "6\n",
      "E:\\python_workfile\\sea_ice_classification\\training7\\dataset\\aari\\pic\\20200204.png ======> E:\\python_workfile\\sea_ice_classification\\training7\\dataset\\aari\\pic\\20200129.png\n",
      "20200204 20200130\n",
      "5\n",
      "E:\\python_workfile\\sea_ice_classification\\training7\\dataset\\aari\\pic\\20200204.png ======> E:\\python_workfile\\sea_ice_classification\\training7\\dataset\\aari\\pic\\20200130.png\n",
      "20200204 20200131\n",
      "4\n",
      "E:\\python_workfile\\sea_ice_classification\\training7\\dataset\\aari\\pic\\20200204.png ======> E:\\python_workfile\\sea_ice_classification\\training7\\dataset\\aari\\pic\\20200131.png\n",
      "20200204 20200201\n",
      "3\n",
      "E:\\python_workfile\\sea_ice_classification\\training7\\dataset\\aari\\pic\\20200204.png ======> E:\\python_workfile\\sea_ice_classification\\training7\\dataset\\aari\\pic\\20200201.png\n",
      "20200204 20200202\n",
      "2\n",
      "E:\\python_workfile\\sea_ice_classification\\training7\\dataset\\aari\\pic\\20200204.png ======> E:\\python_workfile\\sea_ice_classification\\training7\\dataset\\aari\\pic\\20200202.png\n",
      "20200204 20200203\n",
      "1\n"
     ]
    },
    {
     "name": "stdout",
     "output_type": "stream",
     "text": [
      "E:\\python_workfile\\sea_ice_classification\\training7\\dataset\\aari\\pic\\20200204.png ======> E:\\python_workfile\\sea_ice_classification\\training7\\dataset\\aari\\pic\\20200203.png\n",
      "20200204 20200204\n",
      "0\n",
      "20200211 20200205\n",
      "6\n",
      "E:\\python_workfile\\sea_ice_classification\\training7\\dataset\\aari\\pic\\20200211.png ======> E:\\python_workfile\\sea_ice_classification\\training7\\dataset\\aari\\pic\\20200205.png\n",
      "20200211 20200206\n",
      "5\n",
      "E:\\python_workfile\\sea_ice_classification\\training7\\dataset\\aari\\pic\\20200211.png ======> E:\\python_workfile\\sea_ice_classification\\training7\\dataset\\aari\\pic\\20200206.png\n",
      "20200211 20200207\n",
      "4\n",
      "E:\\python_workfile\\sea_ice_classification\\training7\\dataset\\aari\\pic\\20200211.png ======> E:\\python_workfile\\sea_ice_classification\\training7\\dataset\\aari\\pic\\20200207.png\n",
      "20200211 20200208\n",
      "3\n",
      "E:\\python_workfile\\sea_ice_classification\\training7\\dataset\\aari\\pic\\20200211.png ======> E:\\python_workfile\\sea_ice_classification\\training7\\dataset\\aari\\pic\\20200208.png\n",
      "20200211 20200209\n",
      "2\n",
      "E:\\python_workfile\\sea_ice_classification\\training7\\dataset\\aari\\pic\\20200211.png ======> E:\\python_workfile\\sea_ice_classification\\training7\\dataset\\aari\\pic\\20200209.png\n",
      "20200211 20200210\n",
      "1\n",
      "E:\\python_workfile\\sea_ice_classification\\training7\\dataset\\aari\\pic\\20200211.png ======> E:\\python_workfile\\sea_ice_classification\\training7\\dataset\\aari\\pic\\20200210.png\n",
      "20200211 20200211\n",
      "0\n",
      "20200218 20200212\n",
      "6\n",
      "E:\\python_workfile\\sea_ice_classification\\training7\\dataset\\aari\\pic\\20200218.png ======> E:\\python_workfile\\sea_ice_classification\\training7\\dataset\\aari\\pic\\20200212.png\n",
      "20200218 20200213\n",
      "5\n",
      "E:\\python_workfile\\sea_ice_classification\\training7\\dataset\\aari\\pic\\20200218.png ======> E:\\python_workfile\\sea_ice_classification\\training7\\dataset\\aari\\pic\\20200213.png\n",
      "20200218 20200214\n",
      "4\n",
      "E:\\python_workfile\\sea_ice_classification\\training7\\dataset\\aari\\pic\\20200218.png ======> E:\\python_workfile\\sea_ice_classification\\training7\\dataset\\aari\\pic\\20200214.png\n",
      "20200218 20200215\n",
      "3\n",
      "E:\\python_workfile\\sea_ice_classification\\training7\\dataset\\aari\\pic\\20200218.png ======> E:\\python_workfile\\sea_ice_classification\\training7\\dataset\\aari\\pic\\20200215.png\n",
      "20200218 20200216\n",
      "2\n",
      "E:\\python_workfile\\sea_ice_classification\\training7\\dataset\\aari\\pic\\20200218.png ======> E:\\python_workfile\\sea_ice_classification\\training7\\dataset\\aari\\pic\\20200216.png\n",
      "20200218 20200217\n",
      "1\n",
      "E:\\python_workfile\\sea_ice_classification\\training7\\dataset\\aari\\pic\\20200218.png ======> E:\\python_workfile\\sea_ice_classification\\training7\\dataset\\aari\\pic\\20200217.png\n",
      "20200218 20200218\n",
      "0\n",
      "20200225 20200219\n",
      "6\n",
      "E:\\python_workfile\\sea_ice_classification\\training7\\dataset\\aari\\pic\\20200225.png ======> E:\\python_workfile\\sea_ice_classification\\training7\\dataset\\aari\\pic\\20200219.png\n",
      "20200225 20200220\n",
      "5\n",
      "E:\\python_workfile\\sea_ice_classification\\training7\\dataset\\aari\\pic\\20200225.png ======> E:\\python_workfile\\sea_ice_classification\\training7\\dataset\\aari\\pic\\20200220.png\n",
      "20200225 20200221\n",
      "4\n",
      "E:\\python_workfile\\sea_ice_classification\\training7\\dataset\\aari\\pic\\20200225.png ======> E:\\python_workfile\\sea_ice_classification\\training7\\dataset\\aari\\pic\\20200221.png\n",
      "20200225 20200222\n",
      "3\n",
      "E:\\python_workfile\\sea_ice_classification\\training7\\dataset\\aari\\pic\\20200225.png ======> E:\\python_workfile\\sea_ice_classification\\training7\\dataset\\aari\\pic\\20200222.png\n",
      "20200225 20200223\n",
      "2\n",
      "E:\\python_workfile\\sea_ice_classification\\training7\\dataset\\aari\\pic\\20200225.png ======> E:\\python_workfile\\sea_ice_classification\\training7\\dataset\\aari\\pic\\20200223.png\n",
      "20200225 20200224\n",
      "1\n",
      "E:\\python_workfile\\sea_ice_classification\\training7\\dataset\\aari\\pic\\20200225.png ======> E:\\python_workfile\\sea_ice_classification\\training7\\dataset\\aari\\pic\\20200224.png\n",
      "20200225 20200225\n",
      "0\n",
      "20200303 20200226\n",
      "6\n",
      "E:\\python_workfile\\sea_ice_classification\\training7\\dataset\\aari\\pic\\20200303.png ======> E:\\python_workfile\\sea_ice_classification\\training7\\dataset\\aari\\pic\\20200226.png\n",
      "20200303 20200227\n",
      "5\n",
      "E:\\python_workfile\\sea_ice_classification\\training7\\dataset\\aari\\pic\\20200303.png ======> E:\\python_workfile\\sea_ice_classification\\training7\\dataset\\aari\\pic\\20200227.png\n",
      "20200303 20200228\n",
      "4\n",
      "E:\\python_workfile\\sea_ice_classification\\training7\\dataset\\aari\\pic\\20200303.png ======> E:\\python_workfile\\sea_ice_classification\\training7\\dataset\\aari\\pic\\20200228.png\n",
      "20200303 20200229\n",
      "3\n",
      "E:\\python_workfile\\sea_ice_classification\\training7\\dataset\\aari\\pic\\20200303.png ======> E:\\python_workfile\\sea_ice_classification\\training7\\dataset\\aari\\pic\\20200229.png\n",
      "20200303 20200301\n",
      "2\n",
      "E:\\python_workfile\\sea_ice_classification\\training7\\dataset\\aari\\pic\\20200303.png ======> E:\\python_workfile\\sea_ice_classification\\training7\\dataset\\aari\\pic\\20200301.png\n",
      "20200303 20200302\n",
      "1\n",
      "E:\\python_workfile\\sea_ice_classification\\training7\\dataset\\aari\\pic\\20200303.png ======> E:\\python_workfile\\sea_ice_classification\\training7\\dataset\\aari\\pic\\20200302.png\n",
      "20200303 20200303\n",
      "0\n",
      "20200310 20200304\n",
      "6\n",
      "E:\\python_workfile\\sea_ice_classification\\training7\\dataset\\aari\\pic\\20200310.png ======> E:\\python_workfile\\sea_ice_classification\\training7\\dataset\\aari\\pic\\20200304.png\n",
      "20200310 20200305\n",
      "5\n",
      "E:\\python_workfile\\sea_ice_classification\\training7\\dataset\\aari\\pic\\20200310.png ======> E:\\python_workfile\\sea_ice_classification\\training7\\dataset\\aari\\pic\\20200305.png\n",
      "20200310 20200306\n",
      "4\n",
      "E:\\python_workfile\\sea_ice_classification\\training7\\dataset\\aari\\pic\\20200310.png ======> E:\\python_workfile\\sea_ice_classification\\training7\\dataset\\aari\\pic\\20200306.png\n",
      "20200310 20200307\n",
      "3\n",
      "E:\\python_workfile\\sea_ice_classification\\training7\\dataset\\aari\\pic\\20200310.png ======> E:\\python_workfile\\sea_ice_classification\\training7\\dataset\\aari\\pic\\20200307.png\n",
      "20200310 20200308\n",
      "2\n",
      "E:\\python_workfile\\sea_ice_classification\\training7\\dataset\\aari\\pic\\20200310.png ======> E:\\python_workfile\\sea_ice_classification\\training7\\dataset\\aari\\pic\\20200308.png\n",
      "20200310 20200309\n",
      "1\n",
      "E:\\python_workfile\\sea_ice_classification\\training7\\dataset\\aari\\pic\\20200310.png ======> E:\\python_workfile\\sea_ice_classification\\training7\\dataset\\aari\\pic\\20200309.png\n",
      "20200310 20200310\n",
      "0\n",
      "20200317 20200311\n",
      "6\n",
      "E:\\python_workfile\\sea_ice_classification\\training7\\dataset\\aari\\pic\\20200317.png ======> E:\\python_workfile\\sea_ice_classification\\training7\\dataset\\aari\\pic\\20200311.png\n",
      "20200317 20200312\n",
      "5\n",
      "E:\\python_workfile\\sea_ice_classification\\training7\\dataset\\aari\\pic\\20200317.png ======> E:\\python_workfile\\sea_ice_classification\\training7\\dataset\\aari\\pic\\20200312.png\n",
      "20200317 20200313\n",
      "4\n",
      "E:\\python_workfile\\sea_ice_classification\\training7\\dataset\\aari\\pic\\20200317.png ======> E:\\python_workfile\\sea_ice_classification\\training7\\dataset\\aari\\pic\\20200313.png\n",
      "20200317 20200314\n",
      "3\n",
      "E:\\python_workfile\\sea_ice_classification\\training7\\dataset\\aari\\pic\\20200317.png ======> E:\\python_workfile\\sea_ice_classification\\training7\\dataset\\aari\\pic\\20200314.png\n",
      "20200317 20200315\n",
      "2\n",
      "E:\\python_workfile\\sea_ice_classification\\training7\\dataset\\aari\\pic\\20200317.png ======> E:\\python_workfile\\sea_ice_classification\\training7\\dataset\\aari\\pic\\20200315.png\n",
      "20200317 20200316\n",
      "1\n",
      "E:\\python_workfile\\sea_ice_classification\\training7\\dataset\\aari\\pic\\20200317.png ======> E:\\python_workfile\\sea_ice_classification\\training7\\dataset\\aari\\pic\\20200316.png\n",
      "20200317 20200317\n",
      "0\n",
      "20200324 20200318\n",
      "6\n",
      "E:\\python_workfile\\sea_ice_classification\\training7\\dataset\\aari\\pic\\20200324.png ======> E:\\python_workfile\\sea_ice_classification\\training7\\dataset\\aari\\pic\\20200318.png\n",
      "20200324 20200319\n",
      "5\n",
      "E:\\python_workfile\\sea_ice_classification\\training7\\dataset\\aari\\pic\\20200324.png ======> E:\\python_workfile\\sea_ice_classification\\training7\\dataset\\aari\\pic\\20200319.png\n",
      "20200324 20200320\n",
      "4\n",
      "E:\\python_workfile\\sea_ice_classification\\training7\\dataset\\aari\\pic\\20200324.png ======> E:\\python_workfile\\sea_ice_classification\\training7\\dataset\\aari\\pic\\20200320.png\n",
      "20200324 20200321\n",
      "3\n",
      "E:\\python_workfile\\sea_ice_classification\\training7\\dataset\\aari\\pic\\20200324.png ======> E:\\python_workfile\\sea_ice_classification\\training7\\dataset\\aari\\pic\\20200321.png\n",
      "20200324 20200322\n",
      "2\n",
      "E:\\python_workfile\\sea_ice_classification\\training7\\dataset\\aari\\pic\\20200324.png ======> E:\\python_workfile\\sea_ice_classification\\training7\\dataset\\aari\\pic\\20200322.png\n",
      "20200324 20200323\n",
      "1\n",
      "E:\\python_workfile\\sea_ice_classification\\training7\\dataset\\aari\\pic\\20200324.png ======> E:\\python_workfile\\sea_ice_classification\\training7\\dataset\\aari\\pic\\20200323.png\n",
      "20200324 20200324\n",
      "0\n",
      "20200331 20200325\n",
      "6\n",
      "E:\\python_workfile\\sea_ice_classification\\training7\\dataset\\aari\\pic\\20200331.png ======> E:\\python_workfile\\sea_ice_classification\\training7\\dataset\\aari\\pic\\20200325.png\n",
      "20200331 20200326\n",
      "5\n",
      "E:\\python_workfile\\sea_ice_classification\\training7\\dataset\\aari\\pic\\20200331.png ======> E:\\python_workfile\\sea_ice_classification\\training7\\dataset\\aari\\pic\\20200326.png\n",
      "20200331 20200327\n",
      "4\n",
      "E:\\python_workfile\\sea_ice_classification\\training7\\dataset\\aari\\pic\\20200331.png ======> E:\\python_workfile\\sea_ice_classification\\training7\\dataset\\aari\\pic\\20200327.png\n",
      "20200331 20200328\n",
      "3\n",
      "E:\\python_workfile\\sea_ice_classification\\training7\\dataset\\aari\\pic\\20200331.png ======> E:\\python_workfile\\sea_ice_classification\\training7\\dataset\\aari\\pic\\20200328.png\n",
      "20200331 20200329\n",
      "2\n",
      "E:\\python_workfile\\sea_ice_classification\\training7\\dataset\\aari\\pic\\20200331.png ======> E:\\python_workfile\\sea_ice_classification\\training7\\dataset\\aari\\pic\\20200329.png\n",
      "20200331 20200330\n",
      "1\n",
      "E:\\python_workfile\\sea_ice_classification\\training7\\dataset\\aari\\pic\\20200331.png ======> E:\\python_workfile\\sea_ice_classification\\training7\\dataset\\aari\\pic\\20200330.png\n",
      "20200331 20200331\n",
      "0\n",
      "20200407 20200401\n",
      "6\n",
      "E:\\python_workfile\\sea_ice_classification\\training7\\dataset\\aari\\pic\\20200407.png ======> E:\\python_workfile\\sea_ice_classification\\training7\\dataset\\aari\\pic\\20200401.png\n",
      "20200407 20200402\n",
      "5\n",
      "E:\\python_workfile\\sea_ice_classification\\training7\\dataset\\aari\\pic\\20200407.png ======> E:\\python_workfile\\sea_ice_classification\\training7\\dataset\\aari\\pic\\20200402.png\n",
      "20200407 20200403\n",
      "4\n",
      "E:\\python_workfile\\sea_ice_classification\\training7\\dataset\\aari\\pic\\20200407.png ======> E:\\python_workfile\\sea_ice_classification\\training7\\dataset\\aari\\pic\\20200403.png\n",
      "20200407 20200404\n",
      "3\n",
      "E:\\python_workfile\\sea_ice_classification\\training7\\dataset\\aari\\pic\\20200407.png ======> E:\\python_workfile\\sea_ice_classification\\training7\\dataset\\aari\\pic\\20200404.png\n",
      "20200407 20200405\n",
      "2\n",
      "E:\\python_workfile\\sea_ice_classification\\training7\\dataset\\aari\\pic\\20200407.png ======> E:\\python_workfile\\sea_ice_classification\\training7\\dataset\\aari\\pic\\20200405.png\n",
      "20200407 20200406\n",
      "1\n",
      "E:\\python_workfile\\sea_ice_classification\\training7\\dataset\\aari\\pic\\20200407.png ======> E:\\python_workfile\\sea_ice_classification\\training7\\dataset\\aari\\pic\\20200406.png\n",
      "20200407 20200407\n",
      "0\n",
      "20200414 20200408\n",
      "6\n",
      "E:\\python_workfile\\sea_ice_classification\\training7\\dataset\\aari\\pic\\20200414.png ======> E:\\python_workfile\\sea_ice_classification\\training7\\dataset\\aari\\pic\\20200408.png\n",
      "20200414 20200409\n",
      "5\n",
      "E:\\python_workfile\\sea_ice_classification\\training7\\dataset\\aari\\pic\\20200414.png ======> E:\\python_workfile\\sea_ice_classification\\training7\\dataset\\aari\\pic\\20200409.png\n",
      "20200414 20200410\n",
      "4\n",
      "E:\\python_workfile\\sea_ice_classification\\training7\\dataset\\aari\\pic\\20200414.png ======> E:\\python_workfile\\sea_ice_classification\\training7\\dataset\\aari\\pic\\20200410.png\n",
      "20200414 20200411\n",
      "3\n",
      "E:\\python_workfile\\sea_ice_classification\\training7\\dataset\\aari\\pic\\20200414.png ======> E:\\python_workfile\\sea_ice_classification\\training7\\dataset\\aari\\pic\\20200411.png\n",
      "20200414 20200412\n",
      "2\n",
      "E:\\python_workfile\\sea_ice_classification\\training7\\dataset\\aari\\pic\\20200414.png ======> E:\\python_workfile\\sea_ice_classification\\training7\\dataset\\aari\\pic\\20200412.png\n",
      "20200414 20200413\n",
      "1\n",
      "E:\\python_workfile\\sea_ice_classification\\training7\\dataset\\aari\\pic\\20200414.png ======> E:\\python_workfile\\sea_ice_classification\\training7\\dataset\\aari\\pic\\20200413.png\n",
      "20200414 20200414\n",
      "0\n",
      "20200421 20200415\n",
      "6\n",
      "E:\\python_workfile\\sea_ice_classification\\training7\\dataset\\aari\\pic\\20200421.png ======> E:\\python_workfile\\sea_ice_classification\\training7\\dataset\\aari\\pic\\20200415.png\n",
      "20200421 20200416\n",
      "5\n",
      "E:\\python_workfile\\sea_ice_classification\\training7\\dataset\\aari\\pic\\20200421.png ======> E:\\python_workfile\\sea_ice_classification\\training7\\dataset\\aari\\pic\\20200416.png\n",
      "20200421 20200417\n",
      "4\n",
      "E:\\python_workfile\\sea_ice_classification\\training7\\dataset\\aari\\pic\\20200421.png ======> E:\\python_workfile\\sea_ice_classification\\training7\\dataset\\aari\\pic\\20200417.png\n",
      "20200421 20200418\n",
      "3\n",
      "E:\\python_workfile\\sea_ice_classification\\training7\\dataset\\aari\\pic\\20200421.png ======> E:\\python_workfile\\sea_ice_classification\\training7\\dataset\\aari\\pic\\20200418.png\n",
      "20200421 20200419\n",
      "2\n",
      "E:\\python_workfile\\sea_ice_classification\\training7\\dataset\\aari\\pic\\20200421.png ======> E:\\python_workfile\\sea_ice_classification\\training7\\dataset\\aari\\pic\\20200419.png\n",
      "20200421 20200420\n",
      "1\n",
      "E:\\python_workfile\\sea_ice_classification\\training7\\dataset\\aari\\pic\\20200421.png ======> E:\\python_workfile\\sea_ice_classification\\training7\\dataset\\aari\\pic\\20200420.png\n",
      "20200421 20200421\n",
      "0\n",
      "20200428 20200422\n",
      "6\n",
      "E:\\python_workfile\\sea_ice_classification\\training7\\dataset\\aari\\pic\\20200428.png ======> E:\\python_workfile\\sea_ice_classification\\training7\\dataset\\aari\\pic\\20200422.png\n",
      "20200428 20200423\n",
      "5\n",
      "E:\\python_workfile\\sea_ice_classification\\training7\\dataset\\aari\\pic\\20200428.png ======> E:\\python_workfile\\sea_ice_classification\\training7\\dataset\\aari\\pic\\20200423.png\n",
      "20200428 20200424\n",
      "4\n",
      "E:\\python_workfile\\sea_ice_classification\\training7\\dataset\\aari\\pic\\20200428.png ======> E:\\python_workfile\\sea_ice_classification\\training7\\dataset\\aari\\pic\\20200424.png\n",
      "20200428 20200425\n",
      "3\n",
      "E:\\python_workfile\\sea_ice_classification\\training7\\dataset\\aari\\pic\\20200428.png ======> E:\\python_workfile\\sea_ice_classification\\training7\\dataset\\aari\\pic\\20200425.png\n",
      "20200428 20200426\n",
      "2\n",
      "E:\\python_workfile\\sea_ice_classification\\training7\\dataset\\aari\\pic\\20200428.png ======> E:\\python_workfile\\sea_ice_classification\\training7\\dataset\\aari\\pic\\20200426.png\n",
      "20200428 20200427\n",
      "1\n",
      "E:\\python_workfile\\sea_ice_classification\\training7\\dataset\\aari\\pic\\20200428.png ======> E:\\python_workfile\\sea_ice_classification\\training7\\dataset\\aari\\pic\\20200427.png\n",
      "20200428 20200428\n",
      "0\n",
      "20200505 20200429\n",
      "6\n",
      "E:\\python_workfile\\sea_ice_classification\\training7\\dataset\\aari\\pic\\20200505.png ======> E:\\python_workfile\\sea_ice_classification\\training7\\dataset\\aari\\pic\\20200429.png\n",
      "20200505 20200430\n",
      "5\n",
      "E:\\python_workfile\\sea_ice_classification\\training7\\dataset\\aari\\pic\\20200505.png ======> E:\\python_workfile\\sea_ice_classification\\training7\\dataset\\aari\\pic\\20200430.png\n",
      "20200505 20200501\n",
      "4\n",
      "E:\\python_workfile\\sea_ice_classification\\training7\\dataset\\aari\\pic\\20200505.png ======> E:\\python_workfile\\sea_ice_classification\\training7\\dataset\\aari\\pic\\20200501.png\n",
      "20200505 20200502\n",
      "3\n",
      "E:\\python_workfile\\sea_ice_classification\\training7\\dataset\\aari\\pic\\20200505.png ======> E:\\python_workfile\\sea_ice_classification\\training7\\dataset\\aari\\pic\\20200502.png\n",
      "20200505 20200503\n",
      "2\n",
      "E:\\python_workfile\\sea_ice_classification\\training7\\dataset\\aari\\pic\\20200505.png ======> E:\\python_workfile\\sea_ice_classification\\training7\\dataset\\aari\\pic\\20200503.png\n",
      "20200505 20200504\n",
      "1\n",
      "E:\\python_workfile\\sea_ice_classification\\training7\\dataset\\aari\\pic\\20200505.png ======> E:\\python_workfile\\sea_ice_classification\\training7\\dataset\\aari\\pic\\20200504.png\n",
      "20200505 20200505\n",
      "0\n",
      "20200512 20200506\n",
      "6\n",
      "E:\\python_workfile\\sea_ice_classification\\training7\\dataset\\aari\\pic\\20200512.png ======> E:\\python_workfile\\sea_ice_classification\\training7\\dataset\\aari\\pic\\20200506.png\n",
      "20200512 20200507\n",
      "5\n",
      "E:\\python_workfile\\sea_ice_classification\\training7\\dataset\\aari\\pic\\20200512.png ======> E:\\python_workfile\\sea_ice_classification\\training7\\dataset\\aari\\pic\\20200507.png\n",
      "20200512 20200508\n",
      "4\n",
      "E:\\python_workfile\\sea_ice_classification\\training7\\dataset\\aari\\pic\\20200512.png ======> E:\\python_workfile\\sea_ice_classification\\training7\\dataset\\aari\\pic\\20200508.png\n",
      "20200512 20200509\n",
      "3\n",
      "E:\\python_workfile\\sea_ice_classification\\training7\\dataset\\aari\\pic\\20200512.png ======> E:\\python_workfile\\sea_ice_classification\\training7\\dataset\\aari\\pic\\20200509.png\n",
      "20200512 20200510\n",
      "2\n",
      "E:\\python_workfile\\sea_ice_classification\\training7\\dataset\\aari\\pic\\20200512.png ======> E:\\python_workfile\\sea_ice_classification\\training7\\dataset\\aari\\pic\\20200510.png\n",
      "20200512 20200511\n",
      "1\n",
      "E:\\python_workfile\\sea_ice_classification\\training7\\dataset\\aari\\pic\\20200512.png ======> E:\\python_workfile\\sea_ice_classification\\training7\\dataset\\aari\\pic\\20200511.png\n",
      "20200512 20200512\n",
      "0\n",
      "20200519 20200513\n",
      "6\n",
      "E:\\python_workfile\\sea_ice_classification\\training7\\dataset\\aari\\pic\\20200519.png ======> E:\\python_workfile\\sea_ice_classification\\training7\\dataset\\aari\\pic\\20200513.png\n",
      "20200519 20200514\n",
      "5\n",
      "E:\\python_workfile\\sea_ice_classification\\training7\\dataset\\aari\\pic\\20200519.png ======> E:\\python_workfile\\sea_ice_classification\\training7\\dataset\\aari\\pic\\20200514.png\n",
      "20200519 20200515\n",
      "4\n",
      "E:\\python_workfile\\sea_ice_classification\\training7\\dataset\\aari\\pic\\20200519.png ======> E:\\python_workfile\\sea_ice_classification\\training7\\dataset\\aari\\pic\\20200515.png\n",
      "20200519 20200516\n",
      "3\n",
      "E:\\python_workfile\\sea_ice_classification\\training7\\dataset\\aari\\pic\\20200519.png ======> E:\\python_workfile\\sea_ice_classification\\training7\\dataset\\aari\\pic\\20200516.png\n",
      "20200519 20200517\n",
      "2\n",
      "E:\\python_workfile\\sea_ice_classification\\training7\\dataset\\aari\\pic\\20200519.png ======> E:\\python_workfile\\sea_ice_classification\\training7\\dataset\\aari\\pic\\20200517.png\n",
      "20200519 20200518\n",
      "1\n",
      "E:\\python_workfile\\sea_ice_classification\\training7\\dataset\\aari\\pic\\20200519.png ======> E:\\python_workfile\\sea_ice_classification\\training7\\dataset\\aari\\pic\\20200518.png\n",
      "20200519 20200519\n",
      "0\n",
      "20200526 20200520\n",
      "6\n",
      "E:\\python_workfile\\sea_ice_classification\\training7\\dataset\\aari\\pic\\20200526.png ======> E:\\python_workfile\\sea_ice_classification\\training7\\dataset\\aari\\pic\\20200520.png\n",
      "20200526 20200521\n",
      "5\n",
      "E:\\python_workfile\\sea_ice_classification\\training7\\dataset\\aari\\pic\\20200526.png ======> E:\\python_workfile\\sea_ice_classification\\training7\\dataset\\aari\\pic\\20200521.png\n",
      "20200526 20200522\n",
      "4\n",
      "E:\\python_workfile\\sea_ice_classification\\training7\\dataset\\aari\\pic\\20200526.png ======> E:\\python_workfile\\sea_ice_classification\\training7\\dataset\\aari\\pic\\20200522.png\n",
      "20200526 20200523\n",
      "3\n",
      "E:\\python_workfile\\sea_ice_classification\\training7\\dataset\\aari\\pic\\20200526.png ======> E:\\python_workfile\\sea_ice_classification\\training7\\dataset\\aari\\pic\\20200523.png\n",
      "20200526 20200524\n",
      "2\n",
      "E:\\python_workfile\\sea_ice_classification\\training7\\dataset\\aari\\pic\\20200526.png ======> E:\\python_workfile\\sea_ice_classification\\training7\\dataset\\aari\\pic\\20200524.png\n",
      "20200526 20200525\n",
      "1\n",
      "E:\\python_workfile\\sea_ice_classification\\training7\\dataset\\aari\\pic\\20200526.png ======> E:\\python_workfile\\sea_ice_classification\\training7\\dataset\\aari\\pic\\20200525.png\n",
      "20200526 20200526\n",
      "0\n",
      "20200602 20201013\n",
      "-133\n",
      "20200609 20201013\n",
      "-126\n",
      "20200616 20201013\n",
      "-119\n",
      "20200623 20201013\n",
      "-112\n",
      "20200630 20201013\n",
      "-105\n",
      "20200707 20201013\n",
      "-98\n",
      "20200714 20201013\n",
      "-91\n",
      "20200721 20201013\n",
      "-84\n",
      "20200804 20201013\n",
      "-70\n",
      "20200818 20201013\n",
      "-56\n",
      "20200825 20201013\n",
      "-49\n",
      "20200901 20201013\n",
      "-42\n",
      "20200908 20201013\n",
      "-35\n",
      "20200915 20201013\n",
      "-28\n",
      "20200922 20201013\n",
      "-21\n",
      "20200929 20201013\n",
      "-14\n",
      "20201006 20201013\n",
      "-7\n",
      "20201013 20201013\n",
      "0\n",
      "20201020 20201014\n",
      "6\n",
      "E:\\python_workfile\\sea_ice_classification\\training7\\dataset\\aari\\pic\\20201020.png ======> E:\\python_workfile\\sea_ice_classification\\training7\\dataset\\aari\\pic\\20201014.png\n",
      "20201020 20201015\n",
      "5\n",
      "E:\\python_workfile\\sea_ice_classification\\training7\\dataset\\aari\\pic\\20201020.png ======> E:\\python_workfile\\sea_ice_classification\\training7\\dataset\\aari\\pic\\20201015.png\n",
      "20201020 20201016\n",
      "4\n",
      "E:\\python_workfile\\sea_ice_classification\\training7\\dataset\\aari\\pic\\20201020.png ======> E:\\python_workfile\\sea_ice_classification\\training7\\dataset\\aari\\pic\\20201016.png\n",
      "20201020 20201017\n",
      "3\n",
      "E:\\python_workfile\\sea_ice_classification\\training7\\dataset\\aari\\pic\\20201020.png ======> E:\\python_workfile\\sea_ice_classification\\training7\\dataset\\aari\\pic\\20201017.png\n",
      "20201020 20201018\n",
      "2\n",
      "E:\\python_workfile\\sea_ice_classification\\training7\\dataset\\aari\\pic\\20201020.png ======> E:\\python_workfile\\sea_ice_classification\\training7\\dataset\\aari\\pic\\20201018.png\n",
      "20201020 20201019\n",
      "1\n",
      "E:\\python_workfile\\sea_ice_classification\\training7\\dataset\\aari\\pic\\20201020.png ======> E:\\python_workfile\\sea_ice_classification\\training7\\dataset\\aari\\pic\\20201019.png\n",
      "20201020 20201020\n",
      "0\n",
      "20201027 20201021\n",
      "6\n",
      "E:\\python_workfile\\sea_ice_classification\\training7\\dataset\\aari\\pic\\20201027.png ======> E:\\python_workfile\\sea_ice_classification\\training7\\dataset\\aari\\pic\\20201021.png\n",
      "20201027 20201022\n",
      "5\n",
      "E:\\python_workfile\\sea_ice_classification\\training7\\dataset\\aari\\pic\\20201027.png ======> E:\\python_workfile\\sea_ice_classification\\training7\\dataset\\aari\\pic\\20201022.png\n",
      "20201027 20201023\n",
      "4\n",
      "E:\\python_workfile\\sea_ice_classification\\training7\\dataset\\aari\\pic\\20201027.png ======> E:\\python_workfile\\sea_ice_classification\\training7\\dataset\\aari\\pic\\20201023.png\n",
      "20201027 20201024\n",
      "3\n",
      "E:\\python_workfile\\sea_ice_classification\\training7\\dataset\\aari\\pic\\20201027.png ======> E:\\python_workfile\\sea_ice_classification\\training7\\dataset\\aari\\pic\\20201024.png\n",
      "20201027 20201025\n",
      "2\n",
      "E:\\python_workfile\\sea_ice_classification\\training7\\dataset\\aari\\pic\\20201027.png ======> E:\\python_workfile\\sea_ice_classification\\training7\\dataset\\aari\\pic\\20201025.png\n",
      "20201027 20201026\n",
      "1\n",
      "E:\\python_workfile\\sea_ice_classification\\training7\\dataset\\aari\\pic\\20201027.png ======> E:\\python_workfile\\sea_ice_classification\\training7\\dataset\\aari\\pic\\20201026.png\n",
      "20201027 20201027\n",
      "0\n",
      "20201103 20201028\n",
      "6\n",
      "E:\\python_workfile\\sea_ice_classification\\training7\\dataset\\aari\\pic\\20201103.png ======> E:\\python_workfile\\sea_ice_classification\\training7\\dataset\\aari\\pic\\20201028.png\n",
      "20201103 20201029\n",
      "5\n",
      "E:\\python_workfile\\sea_ice_classification\\training7\\dataset\\aari\\pic\\20201103.png ======> E:\\python_workfile\\sea_ice_classification\\training7\\dataset\\aari\\pic\\20201029.png\n",
      "20201103 20201030\n",
      "4\n",
      "E:\\python_workfile\\sea_ice_classification\\training7\\dataset\\aari\\pic\\20201103.png ======> E:\\python_workfile\\sea_ice_classification\\training7\\dataset\\aari\\pic\\20201030.png\n",
      "20201103 20201031\n",
      "3\n",
      "E:\\python_workfile\\sea_ice_classification\\training7\\dataset\\aari\\pic\\20201103.png ======> E:\\python_workfile\\sea_ice_classification\\training7\\dataset\\aari\\pic\\20201031.png\n",
      "20201103 20201101\n",
      "2\n",
      "E:\\python_workfile\\sea_ice_classification\\training7\\dataset\\aari\\pic\\20201103.png ======> E:\\python_workfile\\sea_ice_classification\\training7\\dataset\\aari\\pic\\20201101.png\n",
      "20201103 20201102\n",
      "1\n",
      "E:\\python_workfile\\sea_ice_classification\\training7\\dataset\\aari\\pic\\20201103.png ======> E:\\python_workfile\\sea_ice_classification\\training7\\dataset\\aari\\pic\\20201102.png\n",
      "20201103 20201103\n",
      "0\n",
      "20201110 20201104\n",
      "6\n",
      "E:\\python_workfile\\sea_ice_classification\\training7\\dataset\\aari\\pic\\20201110.png ======> E:\\python_workfile\\sea_ice_classification\\training7\\dataset\\aari\\pic\\20201104.png\n",
      "20201110 20201105\n",
      "5\n",
      "E:\\python_workfile\\sea_ice_classification\\training7\\dataset\\aari\\pic\\20201110.png ======> E:\\python_workfile\\sea_ice_classification\\training7\\dataset\\aari\\pic\\20201105.png\n",
      "20201110 20201106\n",
      "4\n",
      "E:\\python_workfile\\sea_ice_classification\\training7\\dataset\\aari\\pic\\20201110.png ======> E:\\python_workfile\\sea_ice_classification\\training7\\dataset\\aari\\pic\\20201106.png\n",
      "20201110 20201107\n",
      "3\n",
      "E:\\python_workfile\\sea_ice_classification\\training7\\dataset\\aari\\pic\\20201110.png ======> E:\\python_workfile\\sea_ice_classification\\training7\\dataset\\aari\\pic\\20201107.png\n",
      "20201110 20201108\n",
      "2\n",
      "E:\\python_workfile\\sea_ice_classification\\training7\\dataset\\aari\\pic\\20201110.png ======> E:\\python_workfile\\sea_ice_classification\\training7\\dataset\\aari\\pic\\20201108.png\n",
      "20201110 20201109\n",
      "1\n",
      "E:\\python_workfile\\sea_ice_classification\\training7\\dataset\\aari\\pic\\20201110.png ======> E:\\python_workfile\\sea_ice_classification\\training7\\dataset\\aari\\pic\\20201109.png\n",
      "20201110 20201110\n",
      "0\n",
      "20201117 20201111\n",
      "6\n",
      "E:\\python_workfile\\sea_ice_classification\\training7\\dataset\\aari\\pic\\20201117.png ======> E:\\python_workfile\\sea_ice_classification\\training7\\dataset\\aari\\pic\\20201111.png\n",
      "20201117 20201112\n",
      "5\n",
      "E:\\python_workfile\\sea_ice_classification\\training7\\dataset\\aari\\pic\\20201117.png ======> E:\\python_workfile\\sea_ice_classification\\training7\\dataset\\aari\\pic\\20201112.png\n",
      "20201117 20201113\n",
      "4\n",
      "E:\\python_workfile\\sea_ice_classification\\training7\\dataset\\aari\\pic\\20201117.png ======> E:\\python_workfile\\sea_ice_classification\\training7\\dataset\\aari\\pic\\20201113.png\n",
      "20201117 20201114\n",
      "3\n",
      "E:\\python_workfile\\sea_ice_classification\\training7\\dataset\\aari\\pic\\20201117.png ======> E:\\python_workfile\\sea_ice_classification\\training7\\dataset\\aari\\pic\\20201114.png\n",
      "20201117 20201115\n",
      "2\n",
      "E:\\python_workfile\\sea_ice_classification\\training7\\dataset\\aari\\pic\\20201117.png ======> E:\\python_workfile\\sea_ice_classification\\training7\\dataset\\aari\\pic\\20201115.png\n",
      "20201117 20201116\n",
      "1\n",
      "E:\\python_workfile\\sea_ice_classification\\training7\\dataset\\aari\\pic\\20201117.png ======> E:\\python_workfile\\sea_ice_classification\\training7\\dataset\\aari\\pic\\20201116.png\n",
      "20201117 20201117\n",
      "0\n",
      "20201124 20201118\n",
      "6\n",
      "E:\\python_workfile\\sea_ice_classification\\training7\\dataset\\aari\\pic\\20201124.png ======> E:\\python_workfile\\sea_ice_classification\\training7\\dataset\\aari\\pic\\20201118.png\n",
      "20201124 20201119\n",
      "5\n",
      "E:\\python_workfile\\sea_ice_classification\\training7\\dataset\\aari\\pic\\20201124.png ======> E:\\python_workfile\\sea_ice_classification\\training7\\dataset\\aari\\pic\\20201119.png\n",
      "20201124 20201120\n",
      "4\n",
      "E:\\python_workfile\\sea_ice_classification\\training7\\dataset\\aari\\pic\\20201124.png ======> E:\\python_workfile\\sea_ice_classification\\training7\\dataset\\aari\\pic\\20201120.png\n",
      "20201124 20201121\n",
      "3\n",
      "E:\\python_workfile\\sea_ice_classification\\training7\\dataset\\aari\\pic\\20201124.png ======> E:\\python_workfile\\sea_ice_classification\\training7\\dataset\\aari\\pic\\20201121.png\n",
      "20201124 20201122\n",
      "2\n",
      "E:\\python_workfile\\sea_ice_classification\\training7\\dataset\\aari\\pic\\20201124.png ======> E:\\python_workfile\\sea_ice_classification\\training7\\dataset\\aari\\pic\\20201122.png\n",
      "20201124 20201123\n",
      "1\n",
      "E:\\python_workfile\\sea_ice_classification\\training7\\dataset\\aari\\pic\\20201124.png ======> E:\\python_workfile\\sea_ice_classification\\training7\\dataset\\aari\\pic\\20201123.png\n",
      "20201124 20201124\n",
      "0\n",
      "20201201 20201201\n",
      "0\n",
      "20201208 20201202\n",
      "6\n",
      "E:\\python_workfile\\sea_ice_classification\\training7\\dataset\\aari\\pic\\20201208.png ======> E:\\python_workfile\\sea_ice_classification\\training7\\dataset\\aari\\pic\\20201202.png\n",
      "20201208 20201203\n",
      "5\n"
     ]
    },
    {
     "name": "stdout",
     "output_type": "stream",
     "text": [
      "E:\\python_workfile\\sea_ice_classification\\training7\\dataset\\aari\\pic\\20201208.png ======> E:\\python_workfile\\sea_ice_classification\\training7\\dataset\\aari\\pic\\20201203.png\n",
      "20201208 20201204\n",
      "4\n",
      "E:\\python_workfile\\sea_ice_classification\\training7\\dataset\\aari\\pic\\20201208.png ======> E:\\python_workfile\\sea_ice_classification\\training7\\dataset\\aari\\pic\\20201204.png\n",
      "20201208 20201205\n",
      "3\n",
      "E:\\python_workfile\\sea_ice_classification\\training7\\dataset\\aari\\pic\\20201208.png ======> E:\\python_workfile\\sea_ice_classification\\training7\\dataset\\aari\\pic\\20201205.png\n",
      "20201208 20201206\n",
      "2\n",
      "E:\\python_workfile\\sea_ice_classification\\training7\\dataset\\aari\\pic\\20201208.png ======> E:\\python_workfile\\sea_ice_classification\\training7\\dataset\\aari\\pic\\20201206.png\n",
      "20201208 20201207\n",
      "1\n",
      "E:\\python_workfile\\sea_ice_classification\\training7\\dataset\\aari\\pic\\20201208.png ======> E:\\python_workfile\\sea_ice_classification\\training7\\dataset\\aari\\pic\\20201207.png\n",
      "20201208 20201208\n",
      "0\n",
      "20201215 20201209\n",
      "6\n",
      "E:\\python_workfile\\sea_ice_classification\\training7\\dataset\\aari\\pic\\20201215.png ======> E:\\python_workfile\\sea_ice_classification\\training7\\dataset\\aari\\pic\\20201209.png\n",
      "20201215 20201210\n",
      "5\n",
      "E:\\python_workfile\\sea_ice_classification\\training7\\dataset\\aari\\pic\\20201215.png ======> E:\\python_workfile\\sea_ice_classification\\training7\\dataset\\aari\\pic\\20201210.png\n",
      "20201215 20201211\n",
      "4\n",
      "E:\\python_workfile\\sea_ice_classification\\training7\\dataset\\aari\\pic\\20201215.png ======> E:\\python_workfile\\sea_ice_classification\\training7\\dataset\\aari\\pic\\20201211.png\n",
      "20201215 20201212\n",
      "3\n",
      "E:\\python_workfile\\sea_ice_classification\\training7\\dataset\\aari\\pic\\20201215.png ======> E:\\python_workfile\\sea_ice_classification\\training7\\dataset\\aari\\pic\\20201212.png\n",
      "20201215 20201213\n",
      "2\n",
      "E:\\python_workfile\\sea_ice_classification\\training7\\dataset\\aari\\pic\\20201215.png ======> E:\\python_workfile\\sea_ice_classification\\training7\\dataset\\aari\\pic\\20201213.png\n",
      "20201215 20201214\n",
      "1\n",
      "E:\\python_workfile\\sea_ice_classification\\training7\\dataset\\aari\\pic\\20201215.png ======> E:\\python_workfile\\sea_ice_classification\\training7\\dataset\\aari\\pic\\20201214.png\n",
      "20201215 20201215\n",
      "0\n",
      "20201222 20201216\n",
      "6\n",
      "E:\\python_workfile\\sea_ice_classification\\training7\\dataset\\aari\\pic\\20201222.png ======> E:\\python_workfile\\sea_ice_classification\\training7\\dataset\\aari\\pic\\20201216.png\n",
      "20201222 20201217\n",
      "5\n",
      "E:\\python_workfile\\sea_ice_classification\\training7\\dataset\\aari\\pic\\20201222.png ======> E:\\python_workfile\\sea_ice_classification\\training7\\dataset\\aari\\pic\\20201217.png\n",
      "20201222 20201218\n",
      "4\n",
      "E:\\python_workfile\\sea_ice_classification\\training7\\dataset\\aari\\pic\\20201222.png ======> E:\\python_workfile\\sea_ice_classification\\training7\\dataset\\aari\\pic\\20201218.png\n",
      "20201222 20201219\n",
      "3\n",
      "E:\\python_workfile\\sea_ice_classification\\training7\\dataset\\aari\\pic\\20201222.png ======> E:\\python_workfile\\sea_ice_classification\\training7\\dataset\\aari\\pic\\20201219.png\n",
      "20201222 20201220\n",
      "2\n",
      "E:\\python_workfile\\sea_ice_classification\\training7\\dataset\\aari\\pic\\20201222.png ======> E:\\python_workfile\\sea_ice_classification\\training7\\dataset\\aari\\pic\\20201220.png\n",
      "20201222 20201221\n",
      "1\n",
      "E:\\python_workfile\\sea_ice_classification\\training7\\dataset\\aari\\pic\\20201222.png ======> E:\\python_workfile\\sea_ice_classification\\training7\\dataset\\aari\\pic\\20201221.png\n",
      "20201222 20201222\n",
      "0\n",
      "20210112 20210112\n",
      "0\n",
      "20210119 20210113\n",
      "6\n",
      "E:\\python_workfile\\sea_ice_classification\\training7\\dataset\\aari\\pic\\20210119.png ======> E:\\python_workfile\\sea_ice_classification\\training7\\dataset\\aari\\pic\\20210113.png\n",
      "20210119 20210114\n",
      "5\n",
      "E:\\python_workfile\\sea_ice_classification\\training7\\dataset\\aari\\pic\\20210119.png ======> E:\\python_workfile\\sea_ice_classification\\training7\\dataset\\aari\\pic\\20210114.png\n",
      "20210119 20210115\n",
      "4\n",
      "E:\\python_workfile\\sea_ice_classification\\training7\\dataset\\aari\\pic\\20210119.png ======> E:\\python_workfile\\sea_ice_classification\\training7\\dataset\\aari\\pic\\20210115.png\n",
      "20210119 20210117\n",
      "2\n",
      "E:\\python_workfile\\sea_ice_classification\\training7\\dataset\\aari\\pic\\20210119.png ======> E:\\python_workfile\\sea_ice_classification\\training7\\dataset\\aari\\pic\\20210117.png\n",
      "20210119 20210118\n",
      "1\n",
      "E:\\python_workfile\\sea_ice_classification\\training7\\dataset\\aari\\pic\\20210119.png ======> E:\\python_workfile\\sea_ice_classification\\training7\\dataset\\aari\\pic\\20210118.png\n",
      "20210119 20210119\n",
      "0\n",
      "20210126 20210120\n",
      "6\n",
      "E:\\python_workfile\\sea_ice_classification\\training7\\dataset\\aari\\pic\\20210126.png ======> E:\\python_workfile\\sea_ice_classification\\training7\\dataset\\aari\\pic\\20210120.png\n",
      "20210126 20210121\n",
      "5\n",
      "E:\\python_workfile\\sea_ice_classification\\training7\\dataset\\aari\\pic\\20210126.png ======> E:\\python_workfile\\sea_ice_classification\\training7\\dataset\\aari\\pic\\20210121.png\n",
      "20210126 20210122\n",
      "4\n",
      "E:\\python_workfile\\sea_ice_classification\\training7\\dataset\\aari\\pic\\20210126.png ======> E:\\python_workfile\\sea_ice_classification\\training7\\dataset\\aari\\pic\\20210122.png\n",
      "20210126 20210123\n",
      "3\n",
      "E:\\python_workfile\\sea_ice_classification\\training7\\dataset\\aari\\pic\\20210126.png ======> E:\\python_workfile\\sea_ice_classification\\training7\\dataset\\aari\\pic\\20210123.png\n",
      "20210126 20210124\n",
      "2\n",
      "E:\\python_workfile\\sea_ice_classification\\training7\\dataset\\aari\\pic\\20210126.png ======> E:\\python_workfile\\sea_ice_classification\\training7\\dataset\\aari\\pic\\20210124.png\n",
      "20210126 20210125\n",
      "1\n",
      "E:\\python_workfile\\sea_ice_classification\\training7\\dataset\\aari\\pic\\20210126.png ======> E:\\python_workfile\\sea_ice_classification\\training7\\dataset\\aari\\pic\\20210125.png\n",
      "20210126 20210126\n",
      "0\n",
      "20210202 20210127\n",
      "6\n",
      "E:\\python_workfile\\sea_ice_classification\\training7\\dataset\\aari\\pic\\20210202.png ======> E:\\python_workfile\\sea_ice_classification\\training7\\dataset\\aari\\pic\\20210127.png\n",
      "20210202 20210128\n",
      "5\n",
      "E:\\python_workfile\\sea_ice_classification\\training7\\dataset\\aari\\pic\\20210202.png ======> E:\\python_workfile\\sea_ice_classification\\training7\\dataset\\aari\\pic\\20210128.png\n",
      "20210202 20210129\n",
      "4\n",
      "E:\\python_workfile\\sea_ice_classification\\training7\\dataset\\aari\\pic\\20210202.png ======> E:\\python_workfile\\sea_ice_classification\\training7\\dataset\\aari\\pic\\20210129.png\n",
      "20210202 20210130\n",
      "3\n",
      "E:\\python_workfile\\sea_ice_classification\\training7\\dataset\\aari\\pic\\20210202.png ======> E:\\python_workfile\\sea_ice_classification\\training7\\dataset\\aari\\pic\\20210130.png\n",
      "20210202 20210131\n",
      "2\n",
      "E:\\python_workfile\\sea_ice_classification\\training7\\dataset\\aari\\pic\\20210202.png ======> E:\\python_workfile\\sea_ice_classification\\training7\\dataset\\aari\\pic\\20210131.png\n",
      "20210202 20210201\n",
      "1\n",
      "E:\\python_workfile\\sea_ice_classification\\training7\\dataset\\aari\\pic\\20210202.png ======> E:\\python_workfile\\sea_ice_classification\\training7\\dataset\\aari\\pic\\20210201.png\n",
      "20210202 20210202\n",
      "0\n",
      "20210209 20210203\n",
      "6\n",
      "E:\\python_workfile\\sea_ice_classification\\training7\\dataset\\aari\\pic\\20210209.png ======> E:\\python_workfile\\sea_ice_classification\\training7\\dataset\\aari\\pic\\20210203.png\n",
      "20210209 20210204\n",
      "5\n",
      "E:\\python_workfile\\sea_ice_classification\\training7\\dataset\\aari\\pic\\20210209.png ======> E:\\python_workfile\\sea_ice_classification\\training7\\dataset\\aari\\pic\\20210204.png\n",
      "20210209 20210205\n",
      "4\n",
      "E:\\python_workfile\\sea_ice_classification\\training7\\dataset\\aari\\pic\\20210209.png ======> E:\\python_workfile\\sea_ice_classification\\training7\\dataset\\aari\\pic\\20210205.png\n",
      "20210209 20210206\n",
      "3\n",
      "E:\\python_workfile\\sea_ice_classification\\training7\\dataset\\aari\\pic\\20210209.png ======> E:\\python_workfile\\sea_ice_classification\\training7\\dataset\\aari\\pic\\20210206.png\n",
      "20210209 20210207\n",
      "2\n",
      "E:\\python_workfile\\sea_ice_classification\\training7\\dataset\\aari\\pic\\20210209.png ======> E:\\python_workfile\\sea_ice_classification\\training7\\dataset\\aari\\pic\\20210207.png\n",
      "20210209 20210208\n",
      "1\n",
      "E:\\python_workfile\\sea_ice_classification\\training7\\dataset\\aari\\pic\\20210209.png ======> E:\\python_workfile\\sea_ice_classification\\training7\\dataset\\aari\\pic\\20210208.png\n",
      "20210209 20210209\n",
      "0\n",
      "20210216 20210210\n",
      "6\n",
      "E:\\python_workfile\\sea_ice_classification\\training7\\dataset\\aari\\pic\\20210216.png ======> E:\\python_workfile\\sea_ice_classification\\training7\\dataset\\aari\\pic\\20210210.png\n",
      "20210216 20210211\n",
      "5\n",
      "E:\\python_workfile\\sea_ice_classification\\training7\\dataset\\aari\\pic\\20210216.png ======> E:\\python_workfile\\sea_ice_classification\\training7\\dataset\\aari\\pic\\20210211.png\n",
      "20210216 20210212\n",
      "4\n",
      "E:\\python_workfile\\sea_ice_classification\\training7\\dataset\\aari\\pic\\20210216.png ======> E:\\python_workfile\\sea_ice_classification\\training7\\dataset\\aari\\pic\\20210212.png\n",
      "20210216 20210213\n",
      "3\n",
      "E:\\python_workfile\\sea_ice_classification\\training7\\dataset\\aari\\pic\\20210216.png ======> E:\\python_workfile\\sea_ice_classification\\training7\\dataset\\aari\\pic\\20210213.png\n",
      "20210216 20210214\n",
      "2\n",
      "E:\\python_workfile\\sea_ice_classification\\training7\\dataset\\aari\\pic\\20210216.png ======> E:\\python_workfile\\sea_ice_classification\\training7\\dataset\\aari\\pic\\20210214.png\n",
      "20210216 20210215\n",
      "1\n",
      "E:\\python_workfile\\sea_ice_classification\\training7\\dataset\\aari\\pic\\20210216.png ======> E:\\python_workfile\\sea_ice_classification\\training7\\dataset\\aari\\pic\\20210215.png\n",
      "20210216 20210216\n",
      "0\n",
      "20210223 20210217\n",
      "6\n",
      "E:\\python_workfile\\sea_ice_classification\\training7\\dataset\\aari\\pic\\20210223.png ======> E:\\python_workfile\\sea_ice_classification\\training7\\dataset\\aari\\pic\\20210217.png\n",
      "20210223 20210218\n",
      "5\n",
      "E:\\python_workfile\\sea_ice_classification\\training7\\dataset\\aari\\pic\\20210223.png ======> E:\\python_workfile\\sea_ice_classification\\training7\\dataset\\aari\\pic\\20210218.png\n",
      "20210223 20210219\n",
      "4\n",
      "E:\\python_workfile\\sea_ice_classification\\training7\\dataset\\aari\\pic\\20210223.png ======> E:\\python_workfile\\sea_ice_classification\\training7\\dataset\\aari\\pic\\20210219.png\n",
      "20210223 20210220\n",
      "3\n",
      "E:\\python_workfile\\sea_ice_classification\\training7\\dataset\\aari\\pic\\20210223.png ======> E:\\python_workfile\\sea_ice_classification\\training7\\dataset\\aari\\pic\\20210220.png\n",
      "20210223 20210221\n",
      "2\n",
      "E:\\python_workfile\\sea_ice_classification\\training7\\dataset\\aari\\pic\\20210223.png ======> E:\\python_workfile\\sea_ice_classification\\training7\\dataset\\aari\\pic\\20210221.png\n",
      "20210223 20210222\n",
      "1\n",
      "E:\\python_workfile\\sea_ice_classification\\training7\\dataset\\aari\\pic\\20210223.png ======> E:\\python_workfile\\sea_ice_classification\\training7\\dataset\\aari\\pic\\20210222.png\n",
      "20210223 20210223\n",
      "0\n",
      "20210302 20210224\n",
      "6\n",
      "E:\\python_workfile\\sea_ice_classification\\training7\\dataset\\aari\\pic\\20210302.png ======> E:\\python_workfile\\sea_ice_classification\\training7\\dataset\\aari\\pic\\20210224.png\n",
      "20210302 20210225\n",
      "5\n",
      "E:\\python_workfile\\sea_ice_classification\\training7\\dataset\\aari\\pic\\20210302.png ======> E:\\python_workfile\\sea_ice_classification\\training7\\dataset\\aari\\pic\\20210225.png\n",
      "20210302 20210226\n",
      "4\n",
      "E:\\python_workfile\\sea_ice_classification\\training7\\dataset\\aari\\pic\\20210302.png ======> E:\\python_workfile\\sea_ice_classification\\training7\\dataset\\aari\\pic\\20210226.png\n",
      "20210302 20210227\n",
      "3\n",
      "E:\\python_workfile\\sea_ice_classification\\training7\\dataset\\aari\\pic\\20210302.png ======> E:\\python_workfile\\sea_ice_classification\\training7\\dataset\\aari\\pic\\20210227.png\n",
      "20210302 20210228\n",
      "2\n",
      "E:\\python_workfile\\sea_ice_classification\\training7\\dataset\\aari\\pic\\20210302.png ======> E:\\python_workfile\\sea_ice_classification\\training7\\dataset\\aari\\pic\\20210228.png\n",
      "20210302 20210301\n",
      "1\n",
      "E:\\python_workfile\\sea_ice_classification\\training7\\dataset\\aari\\pic\\20210302.png ======> E:\\python_workfile\\sea_ice_classification\\training7\\dataset\\aari\\pic\\20210301.png\n",
      "20210302 20210302\n",
      "0\n",
      "20210309 20210303\n",
      "6\n",
      "E:\\python_workfile\\sea_ice_classification\\training7\\dataset\\aari\\pic\\20210309.png ======> E:\\python_workfile\\sea_ice_classification\\training7\\dataset\\aari\\pic\\20210303.png\n",
      "20210309 20210304\n",
      "5\n",
      "E:\\python_workfile\\sea_ice_classification\\training7\\dataset\\aari\\pic\\20210309.png ======> E:\\python_workfile\\sea_ice_classification\\training7\\dataset\\aari\\pic\\20210304.png\n",
      "20210309 20210305\n",
      "4\n",
      "E:\\python_workfile\\sea_ice_classification\\training7\\dataset\\aari\\pic\\20210309.png ======> E:\\python_workfile\\sea_ice_classification\\training7\\dataset\\aari\\pic\\20210305.png\n",
      "20210309 20210306\n",
      "3\n",
      "E:\\python_workfile\\sea_ice_classification\\training7\\dataset\\aari\\pic\\20210309.png ======> E:\\python_workfile\\sea_ice_classification\\training7\\dataset\\aari\\pic\\20210306.png\n",
      "20210309 20210307\n",
      "2\n",
      "E:\\python_workfile\\sea_ice_classification\\training7\\dataset\\aari\\pic\\20210309.png ======> E:\\python_workfile\\sea_ice_classification\\training7\\dataset\\aari\\pic\\20210307.png\n",
      "20210309 20210308\n",
      "1\n",
      "E:\\python_workfile\\sea_ice_classification\\training7\\dataset\\aari\\pic\\20210309.png ======> E:\\python_workfile\\sea_ice_classification\\training7\\dataset\\aari\\pic\\20210308.png\n",
      "20210309 20210309\n",
      "0\n",
      "20210316 20210310\n",
      "6\n",
      "E:\\python_workfile\\sea_ice_classification\\training7\\dataset\\aari\\pic\\20210316.png ======> E:\\python_workfile\\sea_ice_classification\\training7\\dataset\\aari\\pic\\20210310.png\n",
      "20210316 20210311\n",
      "5\n",
      "E:\\python_workfile\\sea_ice_classification\\training7\\dataset\\aari\\pic\\20210316.png ======> E:\\python_workfile\\sea_ice_classification\\training7\\dataset\\aari\\pic\\20210311.png\n",
      "20210316 20210312\n",
      "4\n",
      "E:\\python_workfile\\sea_ice_classification\\training7\\dataset\\aari\\pic\\20210316.png ======> E:\\python_workfile\\sea_ice_classification\\training7\\dataset\\aari\\pic\\20210312.png\n",
      "20210316 20210313\n",
      "3\n",
      "E:\\python_workfile\\sea_ice_classification\\training7\\dataset\\aari\\pic\\20210316.png ======> E:\\python_workfile\\sea_ice_classification\\training7\\dataset\\aari\\pic\\20210313.png\n",
      "20210316 20210314\n",
      "2\n",
      "E:\\python_workfile\\sea_ice_classification\\training7\\dataset\\aari\\pic\\20210316.png ======> E:\\python_workfile\\sea_ice_classification\\training7\\dataset\\aari\\pic\\20210314.png\n",
      "20210316 20210315\n",
      "1\n",
      "E:\\python_workfile\\sea_ice_classification\\training7\\dataset\\aari\\pic\\20210316.png ======> E:\\python_workfile\\sea_ice_classification\\training7\\dataset\\aari\\pic\\20210315.png\n",
      "20210316 20210316\n",
      "0\n",
      "20210323 20210317\n",
      "6\n",
      "E:\\python_workfile\\sea_ice_classification\\training7\\dataset\\aari\\pic\\20210323.png ======> E:\\python_workfile\\sea_ice_classification\\training7\\dataset\\aari\\pic\\20210317.png\n",
      "20210323 20210318\n",
      "5\n",
      "E:\\python_workfile\\sea_ice_classification\\training7\\dataset\\aari\\pic\\20210323.png ======> E:\\python_workfile\\sea_ice_classification\\training7\\dataset\\aari\\pic\\20210318.png\n",
      "20210323 20210319\n",
      "4\n",
      "E:\\python_workfile\\sea_ice_classification\\training7\\dataset\\aari\\pic\\20210323.png ======> E:\\python_workfile\\sea_ice_classification\\training7\\dataset\\aari\\pic\\20210319.png\n",
      "20210323 20210320\n",
      "3\n",
      "E:\\python_workfile\\sea_ice_classification\\training7\\dataset\\aari\\pic\\20210323.png ======> E:\\python_workfile\\sea_ice_classification\\training7\\dataset\\aari\\pic\\20210320.png\n",
      "20210323 20210321\n",
      "2\n",
      "E:\\python_workfile\\sea_ice_classification\\training7\\dataset\\aari\\pic\\20210323.png ======> E:\\python_workfile\\sea_ice_classification\\training7\\dataset\\aari\\pic\\20210321.png\n",
      "20210323 20210322\n",
      "1\n",
      "E:\\python_workfile\\sea_ice_classification\\training7\\dataset\\aari\\pic\\20210323.png ======> E:\\python_workfile\\sea_ice_classification\\training7\\dataset\\aari\\pic\\20210322.png\n",
      "20210323 20210323\n",
      "0\n",
      "20210330 20210324\n",
      "6\n",
      "E:\\python_workfile\\sea_ice_classification\\training7\\dataset\\aari\\pic\\20210330.png ======> E:\\python_workfile\\sea_ice_classification\\training7\\dataset\\aari\\pic\\20210324.png\n",
      "20210330 20210325\n",
      "5\n",
      "E:\\python_workfile\\sea_ice_classification\\training7\\dataset\\aari\\pic\\20210330.png ======> E:\\python_workfile\\sea_ice_classification\\training7\\dataset\\aari\\pic\\20210325.png\n",
      "20210330 20210326\n",
      "4\n",
      "E:\\python_workfile\\sea_ice_classification\\training7\\dataset\\aari\\pic\\20210330.png ======> E:\\python_workfile\\sea_ice_classification\\training7\\dataset\\aari\\pic\\20210326.png\n",
      "20210330 20210328\n",
      "2\n",
      "E:\\python_workfile\\sea_ice_classification\\training7\\dataset\\aari\\pic\\20210330.png ======> E:\\python_workfile\\sea_ice_classification\\training7\\dataset\\aari\\pic\\20210328.png\n",
      "20210330 20210329\n",
      "1\n",
      "E:\\python_workfile\\sea_ice_classification\\training7\\dataset\\aari\\pic\\20210330.png ======> E:\\python_workfile\\sea_ice_classification\\training7\\dataset\\aari\\pic\\20210329.png\n",
      "20210330 20210330\n",
      "0\n",
      "20210406 20210331\n",
      "6\n",
      "E:\\python_workfile\\sea_ice_classification\\training7\\dataset\\aari\\pic\\20210406.png ======> E:\\python_workfile\\sea_ice_classification\\training7\\dataset\\aari\\pic\\20210331.png\n",
      "20210406 20210401\n",
      "5\n",
      "E:\\python_workfile\\sea_ice_classification\\training7\\dataset\\aari\\pic\\20210406.png ======> E:\\python_workfile\\sea_ice_classification\\training7\\dataset\\aari\\pic\\20210401.png\n",
      "20210406 20210402\n",
      "4\n",
      "E:\\python_workfile\\sea_ice_classification\\training7\\dataset\\aari\\pic\\20210406.png ======> E:\\python_workfile\\sea_ice_classification\\training7\\dataset\\aari\\pic\\20210402.png\n",
      "20210406 20210403\n",
      "3\n",
      "E:\\python_workfile\\sea_ice_classification\\training7\\dataset\\aari\\pic\\20210406.png ======> E:\\python_workfile\\sea_ice_classification\\training7\\dataset\\aari\\pic\\20210403.png\n",
      "20210406 20210404\n",
      "2\n",
      "E:\\python_workfile\\sea_ice_classification\\training7\\dataset\\aari\\pic\\20210406.png ======> E:\\python_workfile\\sea_ice_classification\\training7\\dataset\\aari\\pic\\20210404.png\n",
      "20210406 20210405\n",
      "1\n",
      "E:\\python_workfile\\sea_ice_classification\\training7\\dataset\\aari\\pic\\20210406.png ======> E:\\python_workfile\\sea_ice_classification\\training7\\dataset\\aari\\pic\\20210405.png\n",
      "20210406 20210406\n",
      "0\n",
      "20210413 20210407\n",
      "6\n",
      "E:\\python_workfile\\sea_ice_classification\\training7\\dataset\\aari\\pic\\20210413.png ======> E:\\python_workfile\\sea_ice_classification\\training7\\dataset\\aari\\pic\\20210407.png\n",
      "20210413 20210408\n",
      "5\n",
      "E:\\python_workfile\\sea_ice_classification\\training7\\dataset\\aari\\pic\\20210413.png ======> E:\\python_workfile\\sea_ice_classification\\training7\\dataset\\aari\\pic\\20210408.png\n",
      "20210413 20210409\n",
      "4\n",
      "E:\\python_workfile\\sea_ice_classification\\training7\\dataset\\aari\\pic\\20210413.png ======> E:\\python_workfile\\sea_ice_classification\\training7\\dataset\\aari\\pic\\20210409.png\n",
      "20210413 20210410\n",
      "3\n",
      "E:\\python_workfile\\sea_ice_classification\\training7\\dataset\\aari\\pic\\20210413.png ======> E:\\python_workfile\\sea_ice_classification\\training7\\dataset\\aari\\pic\\20210410.png\n",
      "20210413 20210411\n",
      "2\n",
      "E:\\python_workfile\\sea_ice_classification\\training7\\dataset\\aari\\pic\\20210413.png ======> E:\\python_workfile\\sea_ice_classification\\training7\\dataset\\aari\\pic\\20210411.png\n",
      "20210413 20210412\n",
      "1\n",
      "E:\\python_workfile\\sea_ice_classification\\training7\\dataset\\aari\\pic\\20210413.png ======> E:\\python_workfile\\sea_ice_classification\\training7\\dataset\\aari\\pic\\20210412.png\n"
     ]
    }
   ],
   "source": [
    "\n",
    "i,j = 0,0\n",
    "while i <len(aari_files)-1:\n",
    "    while j < len(sig_files)-1:\n",
    "        aari_day = aari_files[i].split('\\\\')[-1].split('.')[0]\n",
    "        sig_day = sig_files[j].split('\\\\')[-1].split('.')[0]\n",
    "        aari_d = datetime.date(year=int(aari_day[:4]), month=int(aari_day[4:6]), day=int(aari_day[6:8]))\n",
    "        sig_d = datetime.date(year=int(sig_day[:4]), month=int(sig_day[4:6]), day=int(sig_day[6:8]))\n",
    "        print(aari_day, sig_day)\n",
    "        print((aari_d - sig_d).days)\n",
    "        if aari_d == sig_d:\n",
    "            i += 1\n",
    "            j += 1\n",
    "        elif ((aari_d - sig_d).days <= 7)& ((aari_d - sig_d).days > 0):\n",
    "            shutil.copyfile(aari_files[i], aari_dir+'\\\\'+str(sig_day)+'.png')\n",
    "            j+=1\n",
    "            print(aari_files[i],'======>', aari_dir+'\\\\'+str(sig_day)+'.png')\n",
    "        elif ((aari_d - sig_d).days > 7):\n",
    "            j+=1\n",
    "        else:\n",
    "            i+=1\n",
    "            "
   ]
  },
  {
   "cell_type": "markdown",
   "metadata": {},
   "source": [
    "# 将AARI 与HY-2B daily图片 1天向3天映射"
   ]
  },
  {
   "cell_type": "code",
   "execution_count": 59,
   "metadata": {},
   "outputs": [],
   "source": [
    "import shutil\n",
    "sig_dir = r'E:\\python_workfile\\sea_ice_classification\\training4\\sigmod0\\fill_value'\n",
    "aari_dir = r'E:\\python_workfile\\sea_ice_classification\\training4\\mask'\n",
    "\n",
    "sig_files = glob.glob(sig_dir+'\\\\*.png')\n",
    "aari_files = glob.glob(aari_dir + '\\\\*.png')\n"
   ]
  },
  {
   "cell_type": "code",
   "execution_count": 58,
   "metadata": {},
   "outputs": [
    {
     "name": "stdout",
     "output_type": "stream",
     "text": [
      "20200407 20200405\n",
      "E:\\python_workfile\\sea_ice_classification\\training4\\mask\\20200407.png ======> E:\\python_workfile\\sea_ice_classification\\training4\\mask\\20200405.png\n",
      "20200407 20200406\n",
      "E:\\python_workfile\\sea_ice_classification\\training4\\mask\\20200407.png ======> E:\\python_workfile\\sea_ice_classification\\training4\\mask\\20200406.png\n",
      "20200407 20200407\n",
      "20200414 20200412\n",
      "E:\\python_workfile\\sea_ice_classification\\training4\\mask\\20200414.png ======> E:\\python_workfile\\sea_ice_classification\\training4\\mask\\20200412.png\n",
      "20200414 20200413\n",
      "E:\\python_workfile\\sea_ice_classification\\training4\\mask\\20200414.png ======> E:\\python_workfile\\sea_ice_classification\\training4\\mask\\20200413.png\n",
      "20200414 20200414\n",
      "20200421 20200419\n",
      "E:\\python_workfile\\sea_ice_classification\\training4\\mask\\20200421.png ======> E:\\python_workfile\\sea_ice_classification\\training4\\mask\\20200419.png\n",
      "20200421 20200420\n",
      "E:\\python_workfile\\sea_ice_classification\\training4\\mask\\20200421.png ======> E:\\python_workfile\\sea_ice_classification\\training4\\mask\\20200420.png\n",
      "20200421 20200421\n",
      "20200428 20200426\n",
      "E:\\python_workfile\\sea_ice_classification\\training4\\mask\\20200428.png ======> E:\\python_workfile\\sea_ice_classification\\training4\\mask\\20200426.png\n",
      "20200428 20200427\n",
      "E:\\python_workfile\\sea_ice_classification\\training4\\mask\\20200428.png ======> E:\\python_workfile\\sea_ice_classification\\training4\\mask\\20200427.png\n",
      "20200428 20200428\n",
      "20200505 20200503\n",
      "E:\\python_workfile\\sea_ice_classification\\training4\\mask\\20200505.png ======> E:\\python_workfile\\sea_ice_classification\\training4\\mask\\20200503.png\n",
      "20200505 20200504\n",
      "E:\\python_workfile\\sea_ice_classification\\training4\\mask\\20200505.png ======> E:\\python_workfile\\sea_ice_classification\\training4\\mask\\20200504.png\n",
      "20200505 20200505\n",
      "20200512 20200510\n",
      "E:\\python_workfile\\sea_ice_classification\\training4\\mask\\20200512.png ======> E:\\python_workfile\\sea_ice_classification\\training4\\mask\\20200510.png\n",
      "20200512 20200511\n",
      "E:\\python_workfile\\sea_ice_classification\\training4\\mask\\20200512.png ======> E:\\python_workfile\\sea_ice_classification\\training4\\mask\\20200511.png\n",
      "20200512 20200512\n",
      "20200519 20200517\n",
      "E:\\python_workfile\\sea_ice_classification\\training4\\mask\\20200519.png ======> E:\\python_workfile\\sea_ice_classification\\training4\\mask\\20200517.png\n",
      "20200519 20200518\n",
      "E:\\python_workfile\\sea_ice_classification\\training4\\mask\\20200519.png ======> E:\\python_workfile\\sea_ice_classification\\training4\\mask\\20200518.png\n",
      "20200519 20200519\n",
      "20201006 20201005\n",
      "E:\\python_workfile\\sea_ice_classification\\training4\\mask\\20201006.png ======> E:\\python_workfile\\sea_ice_classification\\training4\\mask\\20201005.png\n",
      "20201006 20201006\n",
      "20201013 20201011\n",
      "E:\\python_workfile\\sea_ice_classification\\training4\\mask\\20201013.png ======> E:\\python_workfile\\sea_ice_classification\\training4\\mask\\20201011.png\n",
      "20201013 20201012\n",
      "E:\\python_workfile\\sea_ice_classification\\training4\\mask\\20201013.png ======> E:\\python_workfile\\sea_ice_classification\\training4\\mask\\20201012.png\n",
      "20201013 20201019\n",
      "20201020 20201019\n",
      "E:\\python_workfile\\sea_ice_classification\\training4\\mask\\20201020.png ======> E:\\python_workfile\\sea_ice_classification\\training4\\mask\\20201019.png\n",
      "20201020 20201020\n",
      "20201027 20201026\n",
      "E:\\python_workfile\\sea_ice_classification\\training4\\mask\\20201027.png ======> E:\\python_workfile\\sea_ice_classification\\training4\\mask\\20201026.png\n",
      "20201027 20201027\n",
      "20201103 20201102\n",
      "E:\\python_workfile\\sea_ice_classification\\training4\\mask\\20201103.png ======> E:\\python_workfile\\sea_ice_classification\\training4\\mask\\20201102.png\n",
      "20201103 20201103\n",
      "20201110 20201109\n",
      "E:\\python_workfile\\sea_ice_classification\\training4\\mask\\20201110.png ======> E:\\python_workfile\\sea_ice_classification\\training4\\mask\\20201109.png\n",
      "20201110 20201110\n",
      "20201117 20201116\n",
      "E:\\python_workfile\\sea_ice_classification\\training4\\mask\\20201117.png ======> E:\\python_workfile\\sea_ice_classification\\training4\\mask\\20201116.png\n",
      "20201117 20201117\n",
      "20201124 20201123\n",
      "E:\\python_workfile\\sea_ice_classification\\training4\\mask\\20201124.png ======> E:\\python_workfile\\sea_ice_classification\\training4\\mask\\20201123.png\n",
      "20201124 20201124\n",
      "20201208 20201207\n",
      "E:\\python_workfile\\sea_ice_classification\\training4\\mask\\20201208.png ======> E:\\python_workfile\\sea_ice_classification\\training4\\mask\\20201207.png\n",
      "20201208 20201208\n",
      "20201215 20201214\n",
      "E:\\python_workfile\\sea_ice_classification\\training4\\mask\\20201215.png ======> E:\\python_workfile\\sea_ice_classification\\training4\\mask\\20201214.png\n",
      "20201215 20201215\n",
      "20201222 20201221\n",
      "E:\\python_workfile\\sea_ice_classification\\training4\\mask\\20201222.png ======> E:\\python_workfile\\sea_ice_classification\\training4\\mask\\20201221.png\n",
      "20201222 20201222\n",
      "20210119 20210118\n",
      "E:\\python_workfile\\sea_ice_classification\\training4\\mask\\20210119.png ======> E:\\python_workfile\\sea_ice_classification\\training4\\mask\\20210118.png\n",
      "20210119 20210119\n",
      "20210126 20210125\n",
      "E:\\python_workfile\\sea_ice_classification\\training4\\mask\\20210126.png ======> E:\\python_workfile\\sea_ice_classification\\training4\\mask\\20210125.png\n",
      "20210126 20210126\n",
      "20210202 20210201\n",
      "E:\\python_workfile\\sea_ice_classification\\training4\\mask\\20210202.png ======> E:\\python_workfile\\sea_ice_classification\\training4\\mask\\20210201.png\n",
      "20210202 20210202\n",
      "20210209 20210208\n",
      "E:\\python_workfile\\sea_ice_classification\\training4\\mask\\20210209.png ======> E:\\python_workfile\\sea_ice_classification\\training4\\mask\\20210208.png\n",
      "20210209 20210209\n",
      "20210216 20210215\n",
      "E:\\python_workfile\\sea_ice_classification\\training4\\mask\\20210216.png ======> E:\\python_workfile\\sea_ice_classification\\training4\\mask\\20210215.png\n",
      "20210216 20210216\n",
      "20210223 20210222\n",
      "E:\\python_workfile\\sea_ice_classification\\training4\\mask\\20210223.png ======> E:\\python_workfile\\sea_ice_classification\\training4\\mask\\20210222.png\n",
      "20210223 20210223\n",
      "20210302 20210301\n",
      "E:\\python_workfile\\sea_ice_classification\\training4\\mask\\20210302.png ======> E:\\python_workfile\\sea_ice_classification\\training4\\mask\\20210301.png\n",
      "20210302 20210302\n",
      "20210309 20210308\n",
      "E:\\python_workfile\\sea_ice_classification\\training4\\mask\\20210309.png ======> E:\\python_workfile\\sea_ice_classification\\training4\\mask\\20210308.png\n",
      "20210309 20210309\n",
      "20210316 20210314\n",
      "E:\\python_workfile\\sea_ice_classification\\training4\\mask\\20210316.png ======> E:\\python_workfile\\sea_ice_classification\\training4\\mask\\20210314.png\n",
      "20210316 20210316\n",
      "20210323 20210322\n",
      "E:\\python_workfile\\sea_ice_classification\\training4\\mask\\20210323.png ======> E:\\python_workfile\\sea_ice_classification\\training4\\mask\\20210322.png\n",
      "20210323 20210323\n",
      "20210330 20210329\n",
      "E:\\python_workfile\\sea_ice_classification\\training4\\mask\\20210330.png ======> E:\\python_workfile\\sea_ice_classification\\training4\\mask\\20210329.png\n",
      "20210330 20210330\n",
      "20210406 20210404\n",
      "E:\\python_workfile\\sea_ice_classification\\training4\\mask\\20210406.png ======> E:\\python_workfile\\sea_ice_classification\\training4\\mask\\20210404.png\n",
      "20210406 20210405\n",
      "E:\\python_workfile\\sea_ice_classification\\training4\\mask\\20210406.png ======> E:\\python_workfile\\sea_ice_classification\\training4\\mask\\20210405.png\n",
      "20210406 20210406\n",
      "20210413 20210412\n",
      "E:\\python_workfile\\sea_ice_classification\\training4\\mask\\20210413.png ======> E:\\python_workfile\\sea_ice_classification\\training4\\mask\\20210412.png\n"
     ]
    }
   ],
   "source": [
    "\n",
    "i,j = 0,0\n",
    "while i <len(aari_files)-1:\n",
    "    while j < len(sig_files)-1:\n",
    "        aari_day = int(aari_files[i].split('\\\\')[-1].split('.')[0])\n",
    "        sig_day = int(sig_files[j].split('\\\\')[-1].split('.')[0])\n",
    "        print(aari_day, sig_day)\n",
    "        if aari_day == sig_day:\n",
    "            i += 1\n",
    "            j += 1\n",
    "        elif (aari_day - sig_day < 3)& (aari_day - sig_day > 0):\n",
    "            shutil.copyfile(aari_files[i], aari_dir+'\\\\'+str(sig_day)+'.png')\n",
    "            j+=1\n",
    "            print(aari_files[i],'======>', aari_dir+'\\\\'+str(sig_day)+'.png')\n",
    "        else:\n",
    "            i+=1"
   ]
  },
  {
   "cell_type": "code",
   "execution_count": null,
   "metadata": {},
   "outputs": [],
   "source": []
  }
 ],
 "metadata": {
  "kernelspec": {
   "display_name": "Python 3 (ipykernel)",
   "language": "python",
   "name": "python3"
  },
  "language_info": {
   "codemirror_mode": {
    "name": "ipython",
    "version": 3
   },
   "file_extension": ".py",
   "mimetype": "text/x-python",
   "name": "python",
   "nbconvert_exporter": "python",
   "pygments_lexer": "ipython3",
   "version": "3.8.10"
  },
  "varInspector": {
   "cols": {
    "lenName": 16,
    "lenType": 16,
    "lenVar": 40
   },
   "kernels_config": {
    "python": {
     "delete_cmd_postfix": "",
     "delete_cmd_prefix": "del ",
     "library": "var_list.py",
     "varRefreshCmd": "print(var_dic_list())"
    },
    "r": {
     "delete_cmd_postfix": ") ",
     "delete_cmd_prefix": "rm(",
     "library": "var_list.r",
     "varRefreshCmd": "cat(var_dic_list()) "
    }
   },
   "types_to_exclude": [
    "module",
    "function",
    "builtin_function_or_method",
    "instance",
    "_Feature"
   ],
   "window_display": false
  }
 },
 "nbformat": 4,
 "nbformat_minor": 4
}
