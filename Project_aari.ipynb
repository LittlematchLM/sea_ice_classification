{
 "cells": [
  {
   "cell_type": "code",
   "execution_count": 1,
   "id": "f2d50f68",
   "metadata": {},
   "outputs": [],
   "source": [
    "from sklearn.datasets import make_blobs\n",
    "from sklearn.neighbors import NearestCentroid\n",
    "from sklearn.neighbors import KNeighborsClassifier\n",
    "from sklearn.ensemble import RandomForestClassifier\n",
    "from sklearn.model_selection import train_test_split    \n",
    "from sklearn import neighbors\n",
    "from sklearn.metrics import accuracy_score\n",
    "from RSData import *\n",
    "from HaiYangData import *\n",
    "from mpl_toolkits.basemap import Basemap\n",
    "from sklearn.metrics import precision_score\n",
    "from sklearn.metrics import confusion_matrix\n",
    "from sklearn import tree\n",
    "from sea_ice_model import * \n",
    "from sklearn import svm\n",
    "import graphviz\n",
    "import pandas as pd\n",
    "import numpy as np\n",
    "import glob,os\n",
    "import time\n",
    "import datetime\n",
    "import matplotlib.pyplot as plt\n",
    "import numpy as np\n",
    "import matplotlib.patches as mpatches\n",
    "\n",
    "\n"
   ]
  },
  {
   "cell_type": "code",
   "execution_count": 2,
   "id": "c3b018ad",
   "metadata": {},
   "outputs": [],
   "source": [
    "VV_HH = 'VV'\n",
    "\n",
    "train_dir = r'd:\\python_workfile\\sea_ice_classification\\\\training6'\n",
    "\n",
    "# csv_dir = train_dir + '\\\\csv\\\\\\split_VV_HH\\\\'+VV_HH +'\\\\-10_-20threshold'\n",
    "csv_dir = r'D:\\python_workfile\\sea_ice_classification\\training6\\csv\\polarization_ratio'\n",
    "csv_files = glob.glob(csv_dir + '\\*.csv')"
   ]
  },
  {
   "cell_type": "code",
   "execution_count": 4,
   "id": "40416d21",
   "metadata": {},
   "outputs": [],
   "source": [
    "save_dir = r'D:\\python_workfile\\sea_ice_classification\\data\\mask\\aari\\proj\\pic'"
   ]
  },
  {
   "cell_type": "code",
   "execution_count": 13,
   "id": "657514b3",
   "metadata": {},
   "outputs": [],
   "source": [
    "satellite = r'AARI'\n",
    "sensor = r'AARI'\n",
    "hy_sca = HaiYangData(satellite=satellite, sensor=sensor,resolution=30000)\n",
    "# 将WGS 84坐标（4326）转化为极射投影\n",
    "crs = CRS.from_epsg(4326)\n",
    "crs = CRS.from_string(\"epsg:4326\")\n",
    "crs = CRS.from_proj4(\"+proj=latlon\")\n",
    "crs = CRS.from_user_input(4326)\n",
    "crs2 = CRS(proj=\"aeqd\")\n",
    "transformer = HaiYangData.set_transformer(crs,crs2)\n",
    "transformer_back = HaiYangData.set_transformer(crs2,crs)\n"
   ]
  },
  {
   "cell_type": "code",
   "execution_count": 18,
   "id": "b0bd3295",
   "metadata": {},
   "outputs": [],
   "source": [
    "FI = mpatches.Patch(color='maroon', label='Fast Ice')\n",
    "OI = mpatches.Patch(color='orange', label='Old Ice')\n",
    "FYI = mpatches.Patch(color='lime', label='First Year Ice')\n",
    "YI = mpatches.Patch(color='dodgerblue', label='Young Ice')\n",
    "N = mpatches.Patch(color='midnightblue', label='Nilas')\n"
   ]
  },
  {
   "cell_type": "code",
   "execution_count": null,
   "id": "0a50d5be",
   "metadata": {},
   "outputs": [],
   "source": []
  },
  {
   "cell_type": "code",
   "execution_count": 26,
   "id": "90a7fdda",
   "metadata": {},
   "outputs": [
    {
     "name": "stderr",
     "output_type": "stream",
     "text": [
      "C:\\Users\\Administrator\\AppData\\Local\\Temp/ipykernel_4248/2832217777.py:41: UserWarning: The input coordinates to pcolor are interpreted as cell centers, but are not monotonically increasing or decreasing. This may lead to incorrectly calculated cell edges, in which case, please supply explicit cell edges to pcolor.\n",
      "  hy_m.pcolor(x_map, y_map, data=grid_array, cmap=plt.cm.jet,shading = 'auto',vmax=5,vmin=1,latlon = True)\n"
     ]
    },
    {
     "name": "stdout",
     "output_type": "stream",
     "text": [
      "now processed csv file D:\\python_workfile\\sea_ice_classification\\training6\\csv\\polarization_ratio\\20190514.csv\n",
      "D:\\python_workfile\\sea_ice_classification\\data\\mask\\aari\\proj\\pic\\True 20190514.png\n"
     ]
    },
    {
     "name": "stderr",
     "output_type": "stream",
     "text": [
      "C:\\Users\\Administrator\\AppData\\Local\\Temp/ipykernel_4248/2832217777.py:41: UserWarning: The input coordinates to pcolor are interpreted as cell centers, but are not monotonically increasing or decreasing. This may lead to incorrectly calculated cell edges, in which case, please supply explicit cell edges to pcolor.\n",
      "  hy_m.pcolor(x_map, y_map, data=grid_array, cmap=plt.cm.jet,shading = 'auto',vmax=5,vmin=1,latlon = True)\n"
     ]
    },
    {
     "name": "stdout",
     "output_type": "stream",
     "text": [
      "now processed csv file D:\\python_workfile\\sea_ice_classification\\training6\\csv\\polarization_ratio\\20190515.csv\n",
      "D:\\python_workfile\\sea_ice_classification\\data\\mask\\aari\\proj\\pic\\True 20190515.png\n"
     ]
    },
    {
     "name": "stderr",
     "output_type": "stream",
     "text": [
      "C:\\Users\\Administrator\\AppData\\Local\\Temp/ipykernel_4248/2832217777.py:41: UserWarning: The input coordinates to pcolor are interpreted as cell centers, but are not monotonically increasing or decreasing. This may lead to incorrectly calculated cell edges, in which case, please supply explicit cell edges to pcolor.\n",
      "  hy_m.pcolor(x_map, y_map, data=grid_array, cmap=plt.cm.jet,shading = 'auto',vmax=5,vmin=1,latlon = True)\n"
     ]
    },
    {
     "name": "stdout",
     "output_type": "stream",
     "text": [
      "now processed csv file D:\\python_workfile\\sea_ice_classification\\training6\\csv\\polarization_ratio\\20190516.csv\n",
      "D:\\python_workfile\\sea_ice_classification\\data\\mask\\aari\\proj\\pic\\True 20190516.png\n"
     ]
    },
    {
     "name": "stderr",
     "output_type": "stream",
     "text": [
      "C:\\Users\\Administrator\\AppData\\Local\\Temp/ipykernel_4248/2832217777.py:41: UserWarning: The input coordinates to pcolor are interpreted as cell centers, but are not monotonically increasing or decreasing. This may lead to incorrectly calculated cell edges, in which case, please supply explicit cell edges to pcolor.\n",
      "  hy_m.pcolor(x_map, y_map, data=grid_array, cmap=plt.cm.jet,shading = 'auto',vmax=5,vmin=1,latlon = True)\n"
     ]
    },
    {
     "name": "stdout",
     "output_type": "stream",
     "text": [
      "now processed csv file D:\\python_workfile\\sea_ice_classification\\training6\\csv\\polarization_ratio\\20190517.csv\n",
      "D:\\python_workfile\\sea_ice_classification\\data\\mask\\aari\\proj\\pic\\True 20190517.png\n"
     ]
    },
    {
     "name": "stderr",
     "output_type": "stream",
     "text": [
      "C:\\Users\\Administrator\\AppData\\Local\\Temp/ipykernel_4248/2832217777.py:41: UserWarning: The input coordinates to pcolor are interpreted as cell centers, but are not monotonically increasing or decreasing. This may lead to incorrectly calculated cell edges, in which case, please supply explicit cell edges to pcolor.\n",
      "  hy_m.pcolor(x_map, y_map, data=grid_array, cmap=plt.cm.jet,shading = 'auto',vmax=5,vmin=1,latlon = True)\n"
     ]
    },
    {
     "name": "stdout",
     "output_type": "stream",
     "text": [
      "now processed csv file D:\\python_workfile\\sea_ice_classification\\training6\\csv\\polarization_ratio\\20190518.csv\n",
      "D:\\python_workfile\\sea_ice_classification\\data\\mask\\aari\\proj\\pic\\True 20190518.png\n"
     ]
    },
    {
     "name": "stderr",
     "output_type": "stream",
     "text": [
      "C:\\Users\\Administrator\\AppData\\Local\\Temp/ipykernel_4248/2832217777.py:41: UserWarning: The input coordinates to pcolor are interpreted as cell centers, but are not monotonically increasing or decreasing. This may lead to incorrectly calculated cell edges, in which case, please supply explicit cell edges to pcolor.\n",
      "  hy_m.pcolor(x_map, y_map, data=grid_array, cmap=plt.cm.jet,shading = 'auto',vmax=5,vmin=1,latlon = True)\n"
     ]
    },
    {
     "name": "stdout",
     "output_type": "stream",
     "text": [
      "now processed csv file D:\\python_workfile\\sea_ice_classification\\training6\\csv\\polarization_ratio\\20190519.csv\n",
      "D:\\python_workfile\\sea_ice_classification\\data\\mask\\aari\\proj\\pic\\True 20190519.png\n"
     ]
    },
    {
     "name": "stderr",
     "output_type": "stream",
     "text": [
      "C:\\Users\\Administrator\\AppData\\Local\\Temp/ipykernel_4248/2832217777.py:41: UserWarning: The input coordinates to pcolor are interpreted as cell centers, but are not monotonically increasing or decreasing. This may lead to incorrectly calculated cell edges, in which case, please supply explicit cell edges to pcolor.\n",
      "  hy_m.pcolor(x_map, y_map, data=grid_array, cmap=plt.cm.jet,shading = 'auto',vmax=5,vmin=1,latlon = True)\n"
     ]
    },
    {
     "name": "stdout",
     "output_type": "stream",
     "text": [
      "now processed csv file D:\\python_workfile\\sea_ice_classification\\training6\\csv\\polarization_ratio\\20190521.csv\n",
      "D:\\python_workfile\\sea_ice_classification\\data\\mask\\aari\\proj\\pic\\True 20190521.png\n"
     ]
    },
    {
     "name": "stderr",
     "output_type": "stream",
     "text": [
      "C:\\Users\\Administrator\\AppData\\Local\\Temp/ipykernel_4248/2832217777.py:41: UserWarning: The input coordinates to pcolor are interpreted as cell centers, but are not monotonically increasing or decreasing. This may lead to incorrectly calculated cell edges, in which case, please supply explicit cell edges to pcolor.\n",
      "  hy_m.pcolor(x_map, y_map, data=grid_array, cmap=plt.cm.jet,shading = 'auto',vmax=5,vmin=1,latlon = True)\n"
     ]
    },
    {
     "name": "stdout",
     "output_type": "stream",
     "text": [
      "now processed csv file D:\\python_workfile\\sea_ice_classification\\training6\\csv\\polarization_ratio\\20190522.csv\n",
      "D:\\python_workfile\\sea_ice_classification\\data\\mask\\aari\\proj\\pic\\True 20190522.png\n"
     ]
    },
    {
     "name": "stderr",
     "output_type": "stream",
     "text": [
      "C:\\Users\\Administrator\\AppData\\Local\\Temp/ipykernel_4248/2832217777.py:41: UserWarning: The input coordinates to pcolor are interpreted as cell centers, but are not monotonically increasing or decreasing. This may lead to incorrectly calculated cell edges, in which case, please supply explicit cell edges to pcolor.\n",
      "  hy_m.pcolor(x_map, y_map, data=grid_array, cmap=plt.cm.jet,shading = 'auto',vmax=5,vmin=1,latlon = True)\n"
     ]
    },
    {
     "name": "stdout",
     "output_type": "stream",
     "text": [
      "now processed csv file D:\\python_workfile\\sea_ice_classification\\training6\\csv\\polarization_ratio\\20190523.csv\n",
      "D:\\python_workfile\\sea_ice_classification\\data\\mask\\aari\\proj\\pic\\True 20190523.png\n"
     ]
    },
    {
     "name": "stderr",
     "output_type": "stream",
     "text": [
      "C:\\Users\\Administrator\\AppData\\Local\\Temp/ipykernel_4248/2832217777.py:41: UserWarning: The input coordinates to pcolor are interpreted as cell centers, but are not monotonically increasing or decreasing. This may lead to incorrectly calculated cell edges, in which case, please supply explicit cell edges to pcolor.\n",
      "  hy_m.pcolor(x_map, y_map, data=grid_array, cmap=plt.cm.jet,shading = 'auto',vmax=5,vmin=1,latlon = True)\n"
     ]
    },
    {
     "name": "stdout",
     "output_type": "stream",
     "text": [
      "now processed csv file D:\\python_workfile\\sea_ice_classification\\training6\\csv\\polarization_ratio\\20190524.csv\n",
      "D:\\python_workfile\\sea_ice_classification\\data\\mask\\aari\\proj\\pic\\True 20190524.png\n"
     ]
    },
    {
     "name": "stderr",
     "output_type": "stream",
     "text": [
      "C:\\Users\\Administrator\\AppData\\Local\\Temp/ipykernel_4248/2832217777.py:41: UserWarning: The input coordinates to pcolor are interpreted as cell centers, but are not monotonically increasing or decreasing. This may lead to incorrectly calculated cell edges, in which case, please supply explicit cell edges to pcolor.\n",
      "  hy_m.pcolor(x_map, y_map, data=grid_array, cmap=plt.cm.jet,shading = 'auto',vmax=5,vmin=1,latlon = True)\n"
     ]
    },
    {
     "name": "stdout",
     "output_type": "stream",
     "text": [
      "now processed csv file D:\\python_workfile\\sea_ice_classification\\training6\\csv\\polarization_ratio\\20190525.csv\n",
      "D:\\python_workfile\\sea_ice_classification\\data\\mask\\aari\\proj\\pic\\True 20190525.png\n"
     ]
    },
    {
     "name": "stderr",
     "output_type": "stream",
     "text": [
      "C:\\Users\\Administrator\\AppData\\Local\\Temp/ipykernel_4248/2832217777.py:41: UserWarning: The input coordinates to pcolor are interpreted as cell centers, but are not monotonically increasing or decreasing. This may lead to incorrectly calculated cell edges, in which case, please supply explicit cell edges to pcolor.\n",
      "  hy_m.pcolor(x_map, y_map, data=grid_array, cmap=plt.cm.jet,shading = 'auto',vmax=5,vmin=1,latlon = True)\n"
     ]
    },
    {
     "name": "stdout",
     "output_type": "stream",
     "text": [
      "now processed csv file D:\\python_workfile\\sea_ice_classification\\training6\\csv\\polarization_ratio\\20190526.csv\n",
      "D:\\python_workfile\\sea_ice_classification\\data\\mask\\aari\\proj\\pic\\True 20190526.png\n"
     ]
    },
    {
     "name": "stderr",
     "output_type": "stream",
     "text": [
      "C:\\Users\\Administrator\\AppData\\Local\\Temp/ipykernel_4248/2832217777.py:41: UserWarning: The input coordinates to pcolor are interpreted as cell centers, but are not monotonically increasing or decreasing. This may lead to incorrectly calculated cell edges, in which case, please supply explicit cell edges to pcolor.\n",
      "  hy_m.pcolor(x_map, y_map, data=grid_array, cmap=plt.cm.jet,shading = 'auto',vmax=5,vmin=1,latlon = True)\n"
     ]
    },
    {
     "name": "stdout",
     "output_type": "stream",
     "text": [
      "now processed csv file D:\\python_workfile\\sea_ice_classification\\training6\\csv\\polarization_ratio\\20190527.csv\n",
      "D:\\python_workfile\\sea_ice_classification\\data\\mask\\aari\\proj\\pic\\True 20190527.png\n"
     ]
    },
    {
     "name": "stderr",
     "output_type": "stream",
     "text": [
      "C:\\Users\\Administrator\\AppData\\Local\\Temp/ipykernel_4248/2832217777.py:41: UserWarning: The input coordinates to pcolor are interpreted as cell centers, but are not monotonically increasing or decreasing. This may lead to incorrectly calculated cell edges, in which case, please supply explicit cell edges to pcolor.\n",
      "  hy_m.pcolor(x_map, y_map, data=grid_array, cmap=plt.cm.jet,shading = 'auto',vmax=5,vmin=1,latlon = True)\n"
     ]
    },
    {
     "name": "stdout",
     "output_type": "stream",
     "text": [
      "now processed csv file D:\\python_workfile\\sea_ice_classification\\training6\\csv\\polarization_ratio\\20190528.csv\n",
      "D:\\python_workfile\\sea_ice_classification\\data\\mask\\aari\\proj\\pic\\True 20190528.png\n"
     ]
    },
    {
     "name": "stderr",
     "output_type": "stream",
     "text": [
      "C:\\Users\\Administrator\\AppData\\Local\\Temp/ipykernel_4248/2832217777.py:41: UserWarning: The input coordinates to pcolor are interpreted as cell centers, but are not monotonically increasing or decreasing. This may lead to incorrectly calculated cell edges, in which case, please supply explicit cell edges to pcolor.\n",
      "  hy_m.pcolor(x_map, y_map, data=grid_array, cmap=plt.cm.jet,shading = 'auto',vmax=5,vmin=1,latlon = True)\n"
     ]
    },
    {
     "name": "stdout",
     "output_type": "stream",
     "text": [
      "now processed csv file D:\\python_workfile\\sea_ice_classification\\training6\\csv\\polarization_ratio\\20191008.csv\n",
      "D:\\python_workfile\\sea_ice_classification\\data\\mask\\aari\\proj\\pic\\True 20191008.png\n"
     ]
    },
    {
     "name": "stderr",
     "output_type": "stream",
     "text": [
      "C:\\Users\\Administrator\\AppData\\Local\\Temp/ipykernel_4248/2832217777.py:41: UserWarning: The input coordinates to pcolor are interpreted as cell centers, but are not monotonically increasing or decreasing. This may lead to incorrectly calculated cell edges, in which case, please supply explicit cell edges to pcolor.\n",
      "  hy_m.pcolor(x_map, y_map, data=grid_array, cmap=plt.cm.jet,shading = 'auto',vmax=5,vmin=1,latlon = True)\n"
     ]
    },
    {
     "name": "stdout",
     "output_type": "stream",
     "text": [
      "now processed csv file D:\\python_workfile\\sea_ice_classification\\training6\\csv\\polarization_ratio\\20191009.csv\n",
      "D:\\python_workfile\\sea_ice_classification\\data\\mask\\aari\\proj\\pic\\True 20191009.png\n"
     ]
    },
    {
     "name": "stderr",
     "output_type": "stream",
     "text": [
      "C:\\Users\\Administrator\\AppData\\Local\\Temp/ipykernel_4248/2832217777.py:41: UserWarning: The input coordinates to pcolor are interpreted as cell centers, but are not monotonically increasing or decreasing. This may lead to incorrectly calculated cell edges, in which case, please supply explicit cell edges to pcolor.\n",
      "  hy_m.pcolor(x_map, y_map, data=grid_array, cmap=plt.cm.jet,shading = 'auto',vmax=5,vmin=1,latlon = True)\n"
     ]
    },
    {
     "name": "stdout",
     "output_type": "stream",
     "text": [
      "now processed csv file D:\\python_workfile\\sea_ice_classification\\training6\\csv\\polarization_ratio\\20191010.csv\n",
      "D:\\python_workfile\\sea_ice_classification\\data\\mask\\aari\\proj\\pic\\True 20191010.png\n"
     ]
    },
    {
     "name": "stderr",
     "output_type": "stream",
     "text": [
      "C:\\Users\\Administrator\\AppData\\Local\\Temp/ipykernel_4248/2832217777.py:41: UserWarning: The input coordinates to pcolor are interpreted as cell centers, but are not monotonically increasing or decreasing. This may lead to incorrectly calculated cell edges, in which case, please supply explicit cell edges to pcolor.\n",
      "  hy_m.pcolor(x_map, y_map, data=grid_array, cmap=plt.cm.jet,shading = 'auto',vmax=5,vmin=1,latlon = True)\n"
     ]
    },
    {
     "name": "stdout",
     "output_type": "stream",
     "text": [
      "now processed csv file D:\\python_workfile\\sea_ice_classification\\training6\\csv\\polarization_ratio\\20191011.csv\n",
      "D:\\python_workfile\\sea_ice_classification\\data\\mask\\aari\\proj\\pic\\True 20191011.png\n"
     ]
    },
    {
     "name": "stderr",
     "output_type": "stream",
     "text": [
      "C:\\Users\\Administrator\\AppData\\Local\\Temp/ipykernel_4248/2832217777.py:41: UserWarning: The input coordinates to pcolor are interpreted as cell centers, but are not monotonically increasing or decreasing. This may lead to incorrectly calculated cell edges, in which case, please supply explicit cell edges to pcolor.\n",
      "  hy_m.pcolor(x_map, y_map, data=grid_array, cmap=plt.cm.jet,shading = 'auto',vmax=5,vmin=1,latlon = True)\n"
     ]
    },
    {
     "name": "stdout",
     "output_type": "stream",
     "text": [
      "now processed csv file D:\\python_workfile\\sea_ice_classification\\training6\\csv\\polarization_ratio\\20191012.csv\n",
      "D:\\python_workfile\\sea_ice_classification\\data\\mask\\aari\\proj\\pic\\True 20191012.png\n"
     ]
    },
    {
     "name": "stderr",
     "output_type": "stream",
     "text": [
      "C:\\Users\\Administrator\\AppData\\Local\\Temp/ipykernel_4248/2832217777.py:41: UserWarning: The input coordinates to pcolor are interpreted as cell centers, but are not monotonically increasing or decreasing. This may lead to incorrectly calculated cell edges, in which case, please supply explicit cell edges to pcolor.\n",
      "  hy_m.pcolor(x_map, y_map, data=grid_array, cmap=plt.cm.jet,shading = 'auto',vmax=5,vmin=1,latlon = True)\n"
     ]
    },
    {
     "name": "stdout",
     "output_type": "stream",
     "text": [
      "now processed csv file D:\\python_workfile\\sea_ice_classification\\training6\\csv\\polarization_ratio\\20191013.csv\n",
      "D:\\python_workfile\\sea_ice_classification\\data\\mask\\aari\\proj\\pic\\True 20191013.png\n"
     ]
    },
    {
     "name": "stderr",
     "output_type": "stream",
     "text": [
      "C:\\Users\\Administrator\\AppData\\Local\\Temp/ipykernel_4248/2832217777.py:41: UserWarning: The input coordinates to pcolor are interpreted as cell centers, but are not monotonically increasing or decreasing. This may lead to incorrectly calculated cell edges, in which case, please supply explicit cell edges to pcolor.\n",
      "  hy_m.pcolor(x_map, y_map, data=grid_array, cmap=plt.cm.jet,shading = 'auto',vmax=5,vmin=1,latlon = True)\n"
     ]
    },
    {
     "name": "stdout",
     "output_type": "stream",
     "text": [
      "now processed csv file D:\\python_workfile\\sea_ice_classification\\training6\\csv\\polarization_ratio\\20191014.csv\n",
      "D:\\python_workfile\\sea_ice_classification\\data\\mask\\aari\\proj\\pic\\True 20191014.png\n"
     ]
    },
    {
     "name": "stderr",
     "output_type": "stream",
     "text": [
      "C:\\Users\\Administrator\\AppData\\Local\\Temp/ipykernel_4248/2832217777.py:41: UserWarning: The input coordinates to pcolor are interpreted as cell centers, but are not monotonically increasing or decreasing. This may lead to incorrectly calculated cell edges, in which case, please supply explicit cell edges to pcolor.\n",
      "  hy_m.pcolor(x_map, y_map, data=grid_array, cmap=plt.cm.jet,shading = 'auto',vmax=5,vmin=1,latlon = True)\n"
     ]
    },
    {
     "name": "stdout",
     "output_type": "stream",
     "text": [
      "now processed csv file D:\\python_workfile\\sea_ice_classification\\training6\\csv\\polarization_ratio\\20191015.csv\n",
      "D:\\python_workfile\\sea_ice_classification\\data\\mask\\aari\\proj\\pic\\True 20191015.png\n"
     ]
    },
    {
     "name": "stderr",
     "output_type": "stream",
     "text": [
      "C:\\Users\\Administrator\\AppData\\Local\\Temp/ipykernel_4248/2832217777.py:41: UserWarning: The input coordinates to pcolor are interpreted as cell centers, but are not monotonically increasing or decreasing. This may lead to incorrectly calculated cell edges, in which case, please supply explicit cell edges to pcolor.\n",
      "  hy_m.pcolor(x_map, y_map, data=grid_array, cmap=plt.cm.jet,shading = 'auto',vmax=5,vmin=1,latlon = True)\n"
     ]
    },
    {
     "name": "stdout",
     "output_type": "stream",
     "text": [
      "now processed csv file D:\\python_workfile\\sea_ice_classification\\training6\\csv\\polarization_ratio\\20191022.csv\n",
      "D:\\python_workfile\\sea_ice_classification\\data\\mask\\aari\\proj\\pic\\True 20191022.png\n"
     ]
    },
    {
     "name": "stderr",
     "output_type": "stream",
     "text": [
      "C:\\Users\\Administrator\\AppData\\Local\\Temp/ipykernel_4248/2832217777.py:41: UserWarning: The input coordinates to pcolor are interpreted as cell centers, but are not monotonically increasing or decreasing. This may lead to incorrectly calculated cell edges, in which case, please supply explicit cell edges to pcolor.\n",
      "  hy_m.pcolor(x_map, y_map, data=grid_array, cmap=plt.cm.jet,shading = 'auto',vmax=5,vmin=1,latlon = True)\n"
     ]
    },
    {
     "name": "stdout",
     "output_type": "stream",
     "text": [
      "now processed csv file D:\\python_workfile\\sea_ice_classification\\training6\\csv\\polarization_ratio\\20191023.csv\n",
      "D:\\python_workfile\\sea_ice_classification\\data\\mask\\aari\\proj\\pic\\True 20191023.png\n"
     ]
    },
    {
     "name": "stderr",
     "output_type": "stream",
     "text": [
      "C:\\Users\\Administrator\\AppData\\Local\\Temp/ipykernel_4248/2832217777.py:41: UserWarning: The input coordinates to pcolor are interpreted as cell centers, but are not monotonically increasing or decreasing. This may lead to incorrectly calculated cell edges, in which case, please supply explicit cell edges to pcolor.\n",
      "  hy_m.pcolor(x_map, y_map, data=grid_array, cmap=plt.cm.jet,shading = 'auto',vmax=5,vmin=1,latlon = True)\n"
     ]
    },
    {
     "name": "stdout",
     "output_type": "stream",
     "text": [
      "now processed csv file D:\\python_workfile\\sea_ice_classification\\training6\\csv\\polarization_ratio\\20191024.csv\n",
      "D:\\python_workfile\\sea_ice_classification\\data\\mask\\aari\\proj\\pic\\True 20191024.png\n"
     ]
    },
    {
     "name": "stderr",
     "output_type": "stream",
     "text": [
      "C:\\Users\\Administrator\\AppData\\Local\\Temp/ipykernel_4248/2832217777.py:41: UserWarning: The input coordinates to pcolor are interpreted as cell centers, but are not monotonically increasing or decreasing. This may lead to incorrectly calculated cell edges, in which case, please supply explicit cell edges to pcolor.\n",
      "  hy_m.pcolor(x_map, y_map, data=grid_array, cmap=plt.cm.jet,shading = 'auto',vmax=5,vmin=1,latlon = True)\n"
     ]
    },
    {
     "name": "stdout",
     "output_type": "stream",
     "text": [
      "now processed csv file D:\\python_workfile\\sea_ice_classification\\training6\\csv\\polarization_ratio\\20191025.csv\n",
      "D:\\python_workfile\\sea_ice_classification\\data\\mask\\aari\\proj\\pic\\True 20191025.png\n"
     ]
    },
    {
     "name": "stderr",
     "output_type": "stream",
     "text": [
      "C:\\Users\\Administrator\\AppData\\Local\\Temp/ipykernel_4248/2832217777.py:41: UserWarning: The input coordinates to pcolor are interpreted as cell centers, but are not monotonically increasing or decreasing. This may lead to incorrectly calculated cell edges, in which case, please supply explicit cell edges to pcolor.\n",
      "  hy_m.pcolor(x_map, y_map, data=grid_array, cmap=plt.cm.jet,shading = 'auto',vmax=5,vmin=1,latlon = True)\n"
     ]
    },
    {
     "name": "stdout",
     "output_type": "stream",
     "text": [
      "now processed csv file D:\\python_workfile\\sea_ice_classification\\training6\\csv\\polarization_ratio\\20191026.csv\n",
      "D:\\python_workfile\\sea_ice_classification\\data\\mask\\aari\\proj\\pic\\True 20191026.png\n"
     ]
    },
    {
     "name": "stderr",
     "output_type": "stream",
     "text": [
      "C:\\Users\\Administrator\\AppData\\Local\\Temp/ipykernel_4248/2832217777.py:41: UserWarning: The input coordinates to pcolor are interpreted as cell centers, but are not monotonically increasing or decreasing. This may lead to incorrectly calculated cell edges, in which case, please supply explicit cell edges to pcolor.\n",
      "  hy_m.pcolor(x_map, y_map, data=grid_array, cmap=plt.cm.jet,shading = 'auto',vmax=5,vmin=1,latlon = True)\n"
     ]
    },
    {
     "name": "stdout",
     "output_type": "stream",
     "text": [
      "now processed csv file D:\\python_workfile\\sea_ice_classification\\training6\\csv\\polarization_ratio\\20191027.csv\n",
      "D:\\python_workfile\\sea_ice_classification\\data\\mask\\aari\\proj\\pic\\True 20191027.png\n"
     ]
    },
    {
     "name": "stderr",
     "output_type": "stream",
     "text": [
      "C:\\Users\\Administrator\\AppData\\Local\\Temp/ipykernel_4248/2832217777.py:41: UserWarning: The input coordinates to pcolor are interpreted as cell centers, but are not monotonically increasing or decreasing. This may lead to incorrectly calculated cell edges, in which case, please supply explicit cell edges to pcolor.\n",
      "  hy_m.pcolor(x_map, y_map, data=grid_array, cmap=plt.cm.jet,shading = 'auto',vmax=5,vmin=1,latlon = True)\n"
     ]
    },
    {
     "name": "stdout",
     "output_type": "stream",
     "text": [
      "now processed csv file D:\\python_workfile\\sea_ice_classification\\training6\\csv\\polarization_ratio\\20191028.csv\n",
      "D:\\python_workfile\\sea_ice_classification\\data\\mask\\aari\\proj\\pic\\True 20191028.png\n"
     ]
    },
    {
     "name": "stderr",
     "output_type": "stream",
     "text": [
      "C:\\Users\\Administrator\\AppData\\Local\\Temp/ipykernel_4248/2832217777.py:41: UserWarning: The input coordinates to pcolor are interpreted as cell centers, but are not monotonically increasing or decreasing. This may lead to incorrectly calculated cell edges, in which case, please supply explicit cell edges to pcolor.\n",
      "  hy_m.pcolor(x_map, y_map, data=grid_array, cmap=plt.cm.jet,shading = 'auto',vmax=5,vmin=1,latlon = True)\n"
     ]
    },
    {
     "name": "stdout",
     "output_type": "stream",
     "text": [
      "now processed csv file D:\\python_workfile\\sea_ice_classification\\training6\\csv\\polarization_ratio\\20191029.csv\n",
      "D:\\python_workfile\\sea_ice_classification\\data\\mask\\aari\\proj\\pic\\True 20191029.png\n"
     ]
    },
    {
     "name": "stderr",
     "output_type": "stream",
     "text": [
      "C:\\Users\\Administrator\\AppData\\Local\\Temp/ipykernel_4248/2832217777.py:41: UserWarning: The input coordinates to pcolor are interpreted as cell centers, but are not monotonically increasing or decreasing. This may lead to incorrectly calculated cell edges, in which case, please supply explicit cell edges to pcolor.\n",
      "  hy_m.pcolor(x_map, y_map, data=grid_array, cmap=plt.cm.jet,shading = 'auto',vmax=5,vmin=1,latlon = True)\n"
     ]
    },
    {
     "name": "stdout",
     "output_type": "stream",
     "text": [
      "now processed csv file D:\\python_workfile\\sea_ice_classification\\training6\\csv\\polarization_ratio\\20191030.csv\n",
      "D:\\python_workfile\\sea_ice_classification\\data\\mask\\aari\\proj\\pic\\True 20191030.png\n"
     ]
    },
    {
     "name": "stderr",
     "output_type": "stream",
     "text": [
      "C:\\Users\\Administrator\\AppData\\Local\\Temp/ipykernel_4248/2832217777.py:41: UserWarning: The input coordinates to pcolor are interpreted as cell centers, but are not monotonically increasing or decreasing. This may lead to incorrectly calculated cell edges, in which case, please supply explicit cell edges to pcolor.\n",
      "  hy_m.pcolor(x_map, y_map, data=grid_array, cmap=plt.cm.jet,shading = 'auto',vmax=5,vmin=1,latlon = True)\n"
     ]
    },
    {
     "name": "stdout",
     "output_type": "stream",
     "text": [
      "now processed csv file D:\\python_workfile\\sea_ice_classification\\training6\\csv\\polarization_ratio\\20191031.csv\n",
      "D:\\python_workfile\\sea_ice_classification\\data\\mask\\aari\\proj\\pic\\True 20191031.png\n"
     ]
    },
    {
     "name": "stderr",
     "output_type": "stream",
     "text": [
      "C:\\Users\\Administrator\\AppData\\Local\\Temp/ipykernel_4248/2832217777.py:41: UserWarning: The input coordinates to pcolor are interpreted as cell centers, but are not monotonically increasing or decreasing. This may lead to incorrectly calculated cell edges, in which case, please supply explicit cell edges to pcolor.\n",
      "  hy_m.pcolor(x_map, y_map, data=grid_array, cmap=plt.cm.jet,shading = 'auto',vmax=5,vmin=1,latlon = True)\n"
     ]
    },
    {
     "name": "stdout",
     "output_type": "stream",
     "text": [
      "now processed csv file D:\\python_workfile\\sea_ice_classification\\training6\\csv\\polarization_ratio\\20191102.csv\n",
      "D:\\python_workfile\\sea_ice_classification\\data\\mask\\aari\\proj\\pic\\True 20191102.png\n"
     ]
    },
    {
     "name": "stderr",
     "output_type": "stream",
     "text": [
      "C:\\Users\\Administrator\\AppData\\Local\\Temp/ipykernel_4248/2832217777.py:41: UserWarning: The input coordinates to pcolor are interpreted as cell centers, but are not monotonically increasing or decreasing. This may lead to incorrectly calculated cell edges, in which case, please supply explicit cell edges to pcolor.\n",
      "  hy_m.pcolor(x_map, y_map, data=grid_array, cmap=plt.cm.jet,shading = 'auto',vmax=5,vmin=1,latlon = True)\n"
     ]
    },
    {
     "name": "stdout",
     "output_type": "stream",
     "text": [
      "now processed csv file D:\\python_workfile\\sea_ice_classification\\training6\\csv\\polarization_ratio\\20191103.csv\n",
      "D:\\python_workfile\\sea_ice_classification\\data\\mask\\aari\\proj\\pic\\True 20191103.png\n"
     ]
    },
    {
     "name": "stderr",
     "output_type": "stream",
     "text": [
      "C:\\Users\\Administrator\\AppData\\Local\\Temp/ipykernel_4248/2832217777.py:41: UserWarning: The input coordinates to pcolor are interpreted as cell centers, but are not monotonically increasing or decreasing. This may lead to incorrectly calculated cell edges, in which case, please supply explicit cell edges to pcolor.\n",
      "  hy_m.pcolor(x_map, y_map, data=grid_array, cmap=plt.cm.jet,shading = 'auto',vmax=5,vmin=1,latlon = True)\n"
     ]
    },
    {
     "name": "stdout",
     "output_type": "stream",
     "text": [
      "now processed csv file D:\\python_workfile\\sea_ice_classification\\training6\\csv\\polarization_ratio\\20191104.csv\n",
      "D:\\python_workfile\\sea_ice_classification\\data\\mask\\aari\\proj\\pic\\True 20191104.png\n"
     ]
    },
    {
     "name": "stderr",
     "output_type": "stream",
     "text": [
      "C:\\Users\\Administrator\\AppData\\Local\\Temp/ipykernel_4248/2832217777.py:41: UserWarning: The input coordinates to pcolor are interpreted as cell centers, but are not monotonically increasing or decreasing. This may lead to incorrectly calculated cell edges, in which case, please supply explicit cell edges to pcolor.\n",
      "  hy_m.pcolor(x_map, y_map, data=grid_array, cmap=plt.cm.jet,shading = 'auto',vmax=5,vmin=1,latlon = True)\n"
     ]
    },
    {
     "name": "stdout",
     "output_type": "stream",
     "text": [
      "now processed csv file D:\\python_workfile\\sea_ice_classification\\training6\\csv\\polarization_ratio\\20191105.csv\n",
      "D:\\python_workfile\\sea_ice_classification\\data\\mask\\aari\\proj\\pic\\True 20191105.png\n"
     ]
    },
    {
     "name": "stderr",
     "output_type": "stream",
     "text": [
      "C:\\Users\\Administrator\\AppData\\Local\\Temp/ipykernel_4248/2832217777.py:41: UserWarning: The input coordinates to pcolor are interpreted as cell centers, but are not monotonically increasing or decreasing. This may lead to incorrectly calculated cell edges, in which case, please supply explicit cell edges to pcolor.\n",
      "  hy_m.pcolor(x_map, y_map, data=grid_array, cmap=plt.cm.jet,shading = 'auto',vmax=5,vmin=1,latlon = True)\n"
     ]
    },
    {
     "name": "stdout",
     "output_type": "stream",
     "text": [
      "now processed csv file D:\\python_workfile\\sea_ice_classification\\training6\\csv\\polarization_ratio\\20191106.csv\n",
      "D:\\python_workfile\\sea_ice_classification\\data\\mask\\aari\\proj\\pic\\True 20191106.png\n"
     ]
    },
    {
     "name": "stderr",
     "output_type": "stream",
     "text": [
      "C:\\Users\\Administrator\\AppData\\Local\\Temp/ipykernel_4248/2832217777.py:41: UserWarning: The input coordinates to pcolor are interpreted as cell centers, but are not monotonically increasing or decreasing. This may lead to incorrectly calculated cell edges, in which case, please supply explicit cell edges to pcolor.\n",
      "  hy_m.pcolor(x_map, y_map, data=grid_array, cmap=plt.cm.jet,shading = 'auto',vmax=5,vmin=1,latlon = True)\n"
     ]
    },
    {
     "name": "stdout",
     "output_type": "stream",
     "text": [
      "now processed csv file D:\\python_workfile\\sea_ice_classification\\training6\\csv\\polarization_ratio\\20191107.csv\n",
      "D:\\python_workfile\\sea_ice_classification\\data\\mask\\aari\\proj\\pic\\True 20191107.png\n"
     ]
    },
    {
     "name": "stderr",
     "output_type": "stream",
     "text": [
      "C:\\Users\\Administrator\\AppData\\Local\\Temp/ipykernel_4248/2832217777.py:41: UserWarning: The input coordinates to pcolor are interpreted as cell centers, but are not monotonically increasing or decreasing. This may lead to incorrectly calculated cell edges, in which case, please supply explicit cell edges to pcolor.\n",
      "  hy_m.pcolor(x_map, y_map, data=grid_array, cmap=plt.cm.jet,shading = 'auto',vmax=5,vmin=1,latlon = True)\n"
     ]
    },
    {
     "name": "stdout",
     "output_type": "stream",
     "text": [
      "now processed csv file D:\\python_workfile\\sea_ice_classification\\training6\\csv\\polarization_ratio\\20191108.csv\n",
      "D:\\python_workfile\\sea_ice_classification\\data\\mask\\aari\\proj\\pic\\True 20191108.png\n"
     ]
    },
    {
     "name": "stderr",
     "output_type": "stream",
     "text": [
      "C:\\Users\\Administrator\\AppData\\Local\\Temp/ipykernel_4248/2832217777.py:41: UserWarning: The input coordinates to pcolor are interpreted as cell centers, but are not monotonically increasing or decreasing. This may lead to incorrectly calculated cell edges, in which case, please supply explicit cell edges to pcolor.\n",
      "  hy_m.pcolor(x_map, y_map, data=grid_array, cmap=plt.cm.jet,shading = 'auto',vmax=5,vmin=1,latlon = True)\n"
     ]
    },
    {
     "name": "stdout",
     "output_type": "stream",
     "text": [
      "now processed csv file D:\\python_workfile\\sea_ice_classification\\training6\\csv\\polarization_ratio\\20191109.csv\n",
      "D:\\python_workfile\\sea_ice_classification\\data\\mask\\aari\\proj\\pic\\True 20191109.png\n"
     ]
    },
    {
     "name": "stderr",
     "output_type": "stream",
     "text": [
      "C:\\Users\\Administrator\\AppData\\Local\\Temp/ipykernel_4248/2832217777.py:41: UserWarning: The input coordinates to pcolor are interpreted as cell centers, but are not monotonically increasing or decreasing. This may lead to incorrectly calculated cell edges, in which case, please supply explicit cell edges to pcolor.\n",
      "  hy_m.pcolor(x_map, y_map, data=grid_array, cmap=plt.cm.jet,shading = 'auto',vmax=5,vmin=1,latlon = True)\n"
     ]
    },
    {
     "name": "stdout",
     "output_type": "stream",
     "text": [
      "now processed csv file D:\\python_workfile\\sea_ice_classification\\training6\\csv\\polarization_ratio\\20191110.csv\n",
      "D:\\python_workfile\\sea_ice_classification\\data\\mask\\aari\\proj\\pic\\True 20191110.png\n"
     ]
    },
    {
     "name": "stderr",
     "output_type": "stream",
     "text": [
      "C:\\Users\\Administrator\\AppData\\Local\\Temp/ipykernel_4248/2832217777.py:41: UserWarning: The input coordinates to pcolor are interpreted as cell centers, but are not monotonically increasing or decreasing. This may lead to incorrectly calculated cell edges, in which case, please supply explicit cell edges to pcolor.\n",
      "  hy_m.pcolor(x_map, y_map, data=grid_array, cmap=plt.cm.jet,shading = 'auto',vmax=5,vmin=1,latlon = True)\n"
     ]
    },
    {
     "name": "stdout",
     "output_type": "stream",
     "text": [
      "now processed csv file D:\\python_workfile\\sea_ice_classification\\training6\\csv\\polarization_ratio\\20191111.csv\n",
      "D:\\python_workfile\\sea_ice_classification\\data\\mask\\aari\\proj\\pic\\True 20191111.png\n"
     ]
    },
    {
     "name": "stderr",
     "output_type": "stream",
     "text": [
      "C:\\Users\\Administrator\\AppData\\Local\\Temp/ipykernel_4248/2832217777.py:41: UserWarning: The input coordinates to pcolor are interpreted as cell centers, but are not monotonically increasing or decreasing. This may lead to incorrectly calculated cell edges, in which case, please supply explicit cell edges to pcolor.\n",
      "  hy_m.pcolor(x_map, y_map, data=grid_array, cmap=plt.cm.jet,shading = 'auto',vmax=5,vmin=1,latlon = True)\n"
     ]
    },
    {
     "name": "stdout",
     "output_type": "stream",
     "text": [
      "now processed csv file D:\\python_workfile\\sea_ice_classification\\training6\\csv\\polarization_ratio\\20191112.csv\n",
      "D:\\python_workfile\\sea_ice_classification\\data\\mask\\aari\\proj\\pic\\True 20191112.png\n"
     ]
    },
    {
     "name": "stderr",
     "output_type": "stream",
     "text": [
      "C:\\Users\\Administrator\\AppData\\Local\\Temp/ipykernel_4248/2832217777.py:41: UserWarning: The input coordinates to pcolor are interpreted as cell centers, but are not monotonically increasing or decreasing. This may lead to incorrectly calculated cell edges, in which case, please supply explicit cell edges to pcolor.\n",
      "  hy_m.pcolor(x_map, y_map, data=grid_array, cmap=plt.cm.jet,shading = 'auto',vmax=5,vmin=1,latlon = True)\n"
     ]
    },
    {
     "name": "stdout",
     "output_type": "stream",
     "text": [
      "now processed csv file D:\\python_workfile\\sea_ice_classification\\training6\\csv\\polarization_ratio\\20191113.csv\n",
      "D:\\python_workfile\\sea_ice_classification\\data\\mask\\aari\\proj\\pic\\True 20191113.png\n"
     ]
    },
    {
     "name": "stderr",
     "output_type": "stream",
     "text": [
      "C:\\Users\\Administrator\\AppData\\Local\\Temp/ipykernel_4248/2832217777.py:41: UserWarning: The input coordinates to pcolor are interpreted as cell centers, but are not monotonically increasing or decreasing. This may lead to incorrectly calculated cell edges, in which case, please supply explicit cell edges to pcolor.\n",
      "  hy_m.pcolor(x_map, y_map, data=grid_array, cmap=plt.cm.jet,shading = 'auto',vmax=5,vmin=1,latlon = True)\n"
     ]
    },
    {
     "name": "stdout",
     "output_type": "stream",
     "text": [
      "now processed csv file D:\\python_workfile\\sea_ice_classification\\training6\\csv\\polarization_ratio\\20191114.csv\n",
      "D:\\python_workfile\\sea_ice_classification\\data\\mask\\aari\\proj\\pic\\True 20191114.png\n"
     ]
    },
    {
     "name": "stderr",
     "output_type": "stream",
     "text": [
      "C:\\Users\\Administrator\\AppData\\Local\\Temp/ipykernel_4248/2832217777.py:41: UserWarning: The input coordinates to pcolor are interpreted as cell centers, but are not monotonically increasing or decreasing. This may lead to incorrectly calculated cell edges, in which case, please supply explicit cell edges to pcolor.\n",
      "  hy_m.pcolor(x_map, y_map, data=grid_array, cmap=plt.cm.jet,shading = 'auto',vmax=5,vmin=1,latlon = True)\n"
     ]
    },
    {
     "name": "stdout",
     "output_type": "stream",
     "text": [
      "now processed csv file D:\\python_workfile\\sea_ice_classification\\training6\\csv\\polarization_ratio\\20191115.csv\n",
      "D:\\python_workfile\\sea_ice_classification\\data\\mask\\aari\\proj\\pic\\True 20191115.png\n"
     ]
    },
    {
     "name": "stderr",
     "output_type": "stream",
     "text": [
      "C:\\Users\\Administrator\\AppData\\Local\\Temp/ipykernel_4248/2832217777.py:41: UserWarning: The input coordinates to pcolor are interpreted as cell centers, but are not monotonically increasing or decreasing. This may lead to incorrectly calculated cell edges, in which case, please supply explicit cell edges to pcolor.\n",
      "  hy_m.pcolor(x_map, y_map, data=grid_array, cmap=plt.cm.jet,shading = 'auto',vmax=5,vmin=1,latlon = True)\n"
     ]
    },
    {
     "name": "stdout",
     "output_type": "stream",
     "text": [
      "now processed csv file D:\\python_workfile\\sea_ice_classification\\training6\\csv\\polarization_ratio\\20191116.csv\n",
      "D:\\python_workfile\\sea_ice_classification\\data\\mask\\aari\\proj\\pic\\True 20191116.png\n"
     ]
    },
    {
     "name": "stderr",
     "output_type": "stream",
     "text": [
      "C:\\Users\\Administrator\\AppData\\Local\\Temp/ipykernel_4248/2832217777.py:41: UserWarning: The input coordinates to pcolor are interpreted as cell centers, but are not monotonically increasing or decreasing. This may lead to incorrectly calculated cell edges, in which case, please supply explicit cell edges to pcolor.\n",
      "  hy_m.pcolor(x_map, y_map, data=grid_array, cmap=plt.cm.jet,shading = 'auto',vmax=5,vmin=1,latlon = True)\n"
     ]
    },
    {
     "name": "stdout",
     "output_type": "stream",
     "text": [
      "now processed csv file D:\\python_workfile\\sea_ice_classification\\training6\\csv\\polarization_ratio\\20191117.csv\n",
      "D:\\python_workfile\\sea_ice_classification\\data\\mask\\aari\\proj\\pic\\True 20191117.png\n"
     ]
    },
    {
     "name": "stderr",
     "output_type": "stream",
     "text": [
      "C:\\Users\\Administrator\\AppData\\Local\\Temp/ipykernel_4248/2832217777.py:41: UserWarning: The input coordinates to pcolor are interpreted as cell centers, but are not monotonically increasing or decreasing. This may lead to incorrectly calculated cell edges, in which case, please supply explicit cell edges to pcolor.\n",
      "  hy_m.pcolor(x_map, y_map, data=grid_array, cmap=plt.cm.jet,shading = 'auto',vmax=5,vmin=1,latlon = True)\n"
     ]
    },
    {
     "name": "stdout",
     "output_type": "stream",
     "text": [
      "now processed csv file D:\\python_workfile\\sea_ice_classification\\training6\\csv\\polarization_ratio\\20191118.csv\n",
      "D:\\python_workfile\\sea_ice_classification\\data\\mask\\aari\\proj\\pic\\True 20191118.png\n"
     ]
    },
    {
     "name": "stderr",
     "output_type": "stream",
     "text": [
      "C:\\Users\\Administrator\\AppData\\Local\\Temp/ipykernel_4248/2832217777.py:41: UserWarning: The input coordinates to pcolor are interpreted as cell centers, but are not monotonically increasing or decreasing. This may lead to incorrectly calculated cell edges, in which case, please supply explicit cell edges to pcolor.\n",
      "  hy_m.pcolor(x_map, y_map, data=grid_array, cmap=plt.cm.jet,shading = 'auto',vmax=5,vmin=1,latlon = True)\n"
     ]
    },
    {
     "name": "stdout",
     "output_type": "stream",
     "text": [
      "now processed csv file D:\\python_workfile\\sea_ice_classification\\training6\\csv\\polarization_ratio\\20191119.csv\n",
      "D:\\python_workfile\\sea_ice_classification\\data\\mask\\aari\\proj\\pic\\True 20191119.png\n"
     ]
    },
    {
     "name": "stderr",
     "output_type": "stream",
     "text": [
      "C:\\Users\\Administrator\\AppData\\Local\\Temp/ipykernel_4248/2832217777.py:41: UserWarning: The input coordinates to pcolor are interpreted as cell centers, but are not monotonically increasing or decreasing. This may lead to incorrectly calculated cell edges, in which case, please supply explicit cell edges to pcolor.\n",
      "  hy_m.pcolor(x_map, y_map, data=grid_array, cmap=plt.cm.jet,shading = 'auto',vmax=5,vmin=1,latlon = True)\n"
     ]
    },
    {
     "name": "stdout",
     "output_type": "stream",
     "text": [
      "now processed csv file D:\\python_workfile\\sea_ice_classification\\training6\\csv\\polarization_ratio\\20191120.csv\n",
      "D:\\python_workfile\\sea_ice_classification\\data\\mask\\aari\\proj\\pic\\True 20191120.png\n"
     ]
    },
    {
     "name": "stderr",
     "output_type": "stream",
     "text": [
      "C:\\Users\\Administrator\\AppData\\Local\\Temp/ipykernel_4248/2832217777.py:41: UserWarning: The input coordinates to pcolor are interpreted as cell centers, but are not monotonically increasing or decreasing. This may lead to incorrectly calculated cell edges, in which case, please supply explicit cell edges to pcolor.\n",
      "  hy_m.pcolor(x_map, y_map, data=grid_array, cmap=plt.cm.jet,shading = 'auto',vmax=5,vmin=1,latlon = True)\n"
     ]
    },
    {
     "name": "stdout",
     "output_type": "stream",
     "text": [
      "now processed csv file D:\\python_workfile\\sea_ice_classification\\training6\\csv\\polarization_ratio\\20191121.csv\n",
      "D:\\python_workfile\\sea_ice_classification\\data\\mask\\aari\\proj\\pic\\True 20191121.png\n"
     ]
    },
    {
     "name": "stderr",
     "output_type": "stream",
     "text": [
      "C:\\Users\\Administrator\\AppData\\Local\\Temp/ipykernel_4248/2832217777.py:41: UserWarning: The input coordinates to pcolor are interpreted as cell centers, but are not monotonically increasing or decreasing. This may lead to incorrectly calculated cell edges, in which case, please supply explicit cell edges to pcolor.\n",
      "  hy_m.pcolor(x_map, y_map, data=grid_array, cmap=plt.cm.jet,shading = 'auto',vmax=5,vmin=1,latlon = True)\n"
     ]
    },
    {
     "name": "stdout",
     "output_type": "stream",
     "text": [
      "now processed csv file D:\\python_workfile\\sea_ice_classification\\training6\\csv\\polarization_ratio\\20191122.csv\n",
      "D:\\python_workfile\\sea_ice_classification\\data\\mask\\aari\\proj\\pic\\True 20191122.png\n"
     ]
    },
    {
     "name": "stderr",
     "output_type": "stream",
     "text": [
      "C:\\Users\\Administrator\\AppData\\Local\\Temp/ipykernel_4248/2832217777.py:41: UserWarning: The input coordinates to pcolor are interpreted as cell centers, but are not monotonically increasing or decreasing. This may lead to incorrectly calculated cell edges, in which case, please supply explicit cell edges to pcolor.\n",
      "  hy_m.pcolor(x_map, y_map, data=grid_array, cmap=plt.cm.jet,shading = 'auto',vmax=5,vmin=1,latlon = True)\n"
     ]
    },
    {
     "name": "stdout",
     "output_type": "stream",
     "text": [
      "now processed csv file D:\\python_workfile\\sea_ice_classification\\training6\\csv\\polarization_ratio\\20191123.csv\n",
      "D:\\python_workfile\\sea_ice_classification\\data\\mask\\aari\\proj\\pic\\True 20191123.png\n"
     ]
    },
    {
     "name": "stderr",
     "output_type": "stream",
     "text": [
      "C:\\Users\\Administrator\\AppData\\Local\\Temp/ipykernel_4248/2832217777.py:41: UserWarning: The input coordinates to pcolor are interpreted as cell centers, but are not monotonically increasing or decreasing. This may lead to incorrectly calculated cell edges, in which case, please supply explicit cell edges to pcolor.\n",
      "  hy_m.pcolor(x_map, y_map, data=grid_array, cmap=plt.cm.jet,shading = 'auto',vmax=5,vmin=1,latlon = True)\n"
     ]
    },
    {
     "name": "stdout",
     "output_type": "stream",
     "text": [
      "now processed csv file D:\\python_workfile\\sea_ice_classification\\training6\\csv\\polarization_ratio\\20191124.csv\n",
      "D:\\python_workfile\\sea_ice_classification\\data\\mask\\aari\\proj\\pic\\True 20191124.png\n"
     ]
    },
    {
     "name": "stderr",
     "output_type": "stream",
     "text": [
      "C:\\Users\\Administrator\\AppData\\Local\\Temp/ipykernel_4248/2832217777.py:41: UserWarning: The input coordinates to pcolor are interpreted as cell centers, but are not monotonically increasing or decreasing. This may lead to incorrectly calculated cell edges, in which case, please supply explicit cell edges to pcolor.\n",
      "  hy_m.pcolor(x_map, y_map, data=grid_array, cmap=plt.cm.jet,shading = 'auto',vmax=5,vmin=1,latlon = True)\n"
     ]
    },
    {
     "name": "stdout",
     "output_type": "stream",
     "text": [
      "now processed csv file D:\\python_workfile\\sea_ice_classification\\training6\\csv\\polarization_ratio\\20191125.csv\n",
      "D:\\python_workfile\\sea_ice_classification\\data\\mask\\aari\\proj\\pic\\True 20191125.png\n"
     ]
    },
    {
     "name": "stderr",
     "output_type": "stream",
     "text": [
      "C:\\Users\\Administrator\\AppData\\Local\\Temp/ipykernel_4248/2832217777.py:41: UserWarning: The input coordinates to pcolor are interpreted as cell centers, but are not monotonically increasing or decreasing. This may lead to incorrectly calculated cell edges, in which case, please supply explicit cell edges to pcolor.\n",
      "  hy_m.pcolor(x_map, y_map, data=grid_array, cmap=plt.cm.jet,shading = 'auto',vmax=5,vmin=1,latlon = True)\n"
     ]
    },
    {
     "name": "stdout",
     "output_type": "stream",
     "text": [
      "now processed csv file D:\\python_workfile\\sea_ice_classification\\training6\\csv\\polarization_ratio\\20191126.csv\n",
      "D:\\python_workfile\\sea_ice_classification\\data\\mask\\aari\\proj\\pic\\True 20191126.png\n"
     ]
    },
    {
     "name": "stderr",
     "output_type": "stream",
     "text": [
      "C:\\Users\\Administrator\\AppData\\Local\\Temp/ipykernel_4248/2832217777.py:41: UserWarning: The input coordinates to pcolor are interpreted as cell centers, but are not monotonically increasing or decreasing. This may lead to incorrectly calculated cell edges, in which case, please supply explicit cell edges to pcolor.\n",
      "  hy_m.pcolor(x_map, y_map, data=grid_array, cmap=plt.cm.jet,shading = 'auto',vmax=5,vmin=1,latlon = True)\n"
     ]
    },
    {
     "name": "stdout",
     "output_type": "stream",
     "text": [
      "now processed csv file D:\\python_workfile\\sea_ice_classification\\training6\\csv\\polarization_ratio\\20191127.csv\n",
      "D:\\python_workfile\\sea_ice_classification\\data\\mask\\aari\\proj\\pic\\True 20191127.png\n"
     ]
    },
    {
     "name": "stderr",
     "output_type": "stream",
     "text": [
      "C:\\Users\\Administrator\\AppData\\Local\\Temp/ipykernel_4248/2832217777.py:41: UserWarning: The input coordinates to pcolor are interpreted as cell centers, but are not monotonically increasing or decreasing. This may lead to incorrectly calculated cell edges, in which case, please supply explicit cell edges to pcolor.\n",
      "  hy_m.pcolor(x_map, y_map, data=grid_array, cmap=plt.cm.jet,shading = 'auto',vmax=5,vmin=1,latlon = True)\n"
     ]
    },
    {
     "name": "stdout",
     "output_type": "stream",
     "text": [
      "now processed csv file D:\\python_workfile\\sea_ice_classification\\training6\\csv\\polarization_ratio\\20191128.csv\n",
      "D:\\python_workfile\\sea_ice_classification\\data\\mask\\aari\\proj\\pic\\True 20191128.png\n"
     ]
    },
    {
     "name": "stderr",
     "output_type": "stream",
     "text": [
      "C:\\Users\\Administrator\\AppData\\Local\\Temp/ipykernel_4248/2832217777.py:41: UserWarning: The input coordinates to pcolor are interpreted as cell centers, but are not monotonically increasing or decreasing. This may lead to incorrectly calculated cell edges, in which case, please supply explicit cell edges to pcolor.\n",
      "  hy_m.pcolor(x_map, y_map, data=grid_array, cmap=plt.cm.jet,shading = 'auto',vmax=5,vmin=1,latlon = True)\n"
     ]
    },
    {
     "name": "stdout",
     "output_type": "stream",
     "text": [
      "now processed csv file D:\\python_workfile\\sea_ice_classification\\training6\\csv\\polarization_ratio\\20191130.csv\n",
      "D:\\python_workfile\\sea_ice_classification\\data\\mask\\aari\\proj\\pic\\True 20191130.png\n"
     ]
    },
    {
     "name": "stderr",
     "output_type": "stream",
     "text": [
      "C:\\Users\\Administrator\\AppData\\Local\\Temp/ipykernel_4248/2832217777.py:41: UserWarning: The input coordinates to pcolor are interpreted as cell centers, but are not monotonically increasing or decreasing. This may lead to incorrectly calculated cell edges, in which case, please supply explicit cell edges to pcolor.\n",
      "  hy_m.pcolor(x_map, y_map, data=grid_array, cmap=plt.cm.jet,shading = 'auto',vmax=5,vmin=1,latlon = True)\n"
     ]
    },
    {
     "name": "stdout",
     "output_type": "stream",
     "text": [
      "now processed csv file D:\\python_workfile\\sea_ice_classification\\training6\\csv\\polarization_ratio\\20191201.csv\n",
      "D:\\python_workfile\\sea_ice_classification\\data\\mask\\aari\\proj\\pic\\True 20191201.png\n"
     ]
    },
    {
     "name": "stderr",
     "output_type": "stream",
     "text": [
      "C:\\Users\\Administrator\\AppData\\Local\\Temp/ipykernel_4248/2832217777.py:41: UserWarning: The input coordinates to pcolor are interpreted as cell centers, but are not monotonically increasing or decreasing. This may lead to incorrectly calculated cell edges, in which case, please supply explicit cell edges to pcolor.\n",
      "  hy_m.pcolor(x_map, y_map, data=grid_array, cmap=plt.cm.jet,shading = 'auto',vmax=5,vmin=1,latlon = True)\n"
     ]
    },
    {
     "name": "stdout",
     "output_type": "stream",
     "text": [
      "now processed csv file D:\\python_workfile\\sea_ice_classification\\training6\\csv\\polarization_ratio\\20191202.csv\n",
      "D:\\python_workfile\\sea_ice_classification\\data\\mask\\aari\\proj\\pic\\True 20191202.png\n"
     ]
    },
    {
     "name": "stderr",
     "output_type": "stream",
     "text": [
      "C:\\Users\\Administrator\\AppData\\Local\\Temp/ipykernel_4248/2832217777.py:41: UserWarning: The input coordinates to pcolor are interpreted as cell centers, but are not monotonically increasing or decreasing. This may lead to incorrectly calculated cell edges, in which case, please supply explicit cell edges to pcolor.\n",
      "  hy_m.pcolor(x_map, y_map, data=grid_array, cmap=plt.cm.jet,shading = 'auto',vmax=5,vmin=1,latlon = True)\n"
     ]
    },
    {
     "name": "stdout",
     "output_type": "stream",
     "text": [
      "now processed csv file D:\\python_workfile\\sea_ice_classification\\training6\\csv\\polarization_ratio\\20191203.csv\n",
      "D:\\python_workfile\\sea_ice_classification\\data\\mask\\aari\\proj\\pic\\True 20191203.png\n"
     ]
    },
    {
     "name": "stderr",
     "output_type": "stream",
     "text": [
      "C:\\Users\\Administrator\\AppData\\Local\\Temp/ipykernel_4248/2832217777.py:41: UserWarning: The input coordinates to pcolor are interpreted as cell centers, but are not monotonically increasing or decreasing. This may lead to incorrectly calculated cell edges, in which case, please supply explicit cell edges to pcolor.\n",
      "  hy_m.pcolor(x_map, y_map, data=grid_array, cmap=plt.cm.jet,shading = 'auto',vmax=5,vmin=1,latlon = True)\n"
     ]
    },
    {
     "name": "stdout",
     "output_type": "stream",
     "text": [
      "now processed csv file D:\\python_workfile\\sea_ice_classification\\training6\\csv\\polarization_ratio\\20191204.csv\n",
      "D:\\python_workfile\\sea_ice_classification\\data\\mask\\aari\\proj\\pic\\True 20191204.png\n"
     ]
    },
    {
     "name": "stderr",
     "output_type": "stream",
     "text": [
      "C:\\Users\\Administrator\\AppData\\Local\\Temp/ipykernel_4248/2832217777.py:41: UserWarning: The input coordinates to pcolor are interpreted as cell centers, but are not monotonically increasing or decreasing. This may lead to incorrectly calculated cell edges, in which case, please supply explicit cell edges to pcolor.\n",
      "  hy_m.pcolor(x_map, y_map, data=grid_array, cmap=plt.cm.jet,shading = 'auto',vmax=5,vmin=1,latlon = True)\n"
     ]
    },
    {
     "name": "stdout",
     "output_type": "stream",
     "text": [
      "now processed csv file D:\\python_workfile\\sea_ice_classification\\training6\\csv\\polarization_ratio\\20191205.csv\n",
      "D:\\python_workfile\\sea_ice_classification\\data\\mask\\aari\\proj\\pic\\True 20191205.png\n"
     ]
    },
    {
     "name": "stderr",
     "output_type": "stream",
     "text": [
      "C:\\Users\\Administrator\\AppData\\Local\\Temp/ipykernel_4248/2832217777.py:41: UserWarning: The input coordinates to pcolor are interpreted as cell centers, but are not monotonically increasing or decreasing. This may lead to incorrectly calculated cell edges, in which case, please supply explicit cell edges to pcolor.\n",
      "  hy_m.pcolor(x_map, y_map, data=grid_array, cmap=plt.cm.jet,shading = 'auto',vmax=5,vmin=1,latlon = True)\n"
     ]
    },
    {
     "name": "stdout",
     "output_type": "stream",
     "text": [
      "now processed csv file D:\\python_workfile\\sea_ice_classification\\training6\\csv\\polarization_ratio\\20191206.csv\n",
      "D:\\python_workfile\\sea_ice_classification\\data\\mask\\aari\\proj\\pic\\True 20191206.png\n"
     ]
    },
    {
     "name": "stderr",
     "output_type": "stream",
     "text": [
      "C:\\Users\\Administrator\\AppData\\Local\\Temp/ipykernel_4248/2832217777.py:41: UserWarning: The input coordinates to pcolor are interpreted as cell centers, but are not monotonically increasing or decreasing. This may lead to incorrectly calculated cell edges, in which case, please supply explicit cell edges to pcolor.\n",
      "  hy_m.pcolor(x_map, y_map, data=grid_array, cmap=plt.cm.jet,shading = 'auto',vmax=5,vmin=1,latlon = True)\n"
     ]
    },
    {
     "name": "stdout",
     "output_type": "stream",
     "text": [
      "now processed csv file D:\\python_workfile\\sea_ice_classification\\training6\\csv\\polarization_ratio\\20191207.csv\n",
      "D:\\python_workfile\\sea_ice_classification\\data\\mask\\aari\\proj\\pic\\True 20191207.png\n"
     ]
    },
    {
     "name": "stderr",
     "output_type": "stream",
     "text": [
      "C:\\Users\\Administrator\\AppData\\Local\\Temp/ipykernel_4248/2832217777.py:41: UserWarning: The input coordinates to pcolor are interpreted as cell centers, but are not monotonically increasing or decreasing. This may lead to incorrectly calculated cell edges, in which case, please supply explicit cell edges to pcolor.\n",
      "  hy_m.pcolor(x_map, y_map, data=grid_array, cmap=plt.cm.jet,shading = 'auto',vmax=5,vmin=1,latlon = True)\n"
     ]
    },
    {
     "name": "stdout",
     "output_type": "stream",
     "text": [
      "now processed csv file D:\\python_workfile\\sea_ice_classification\\training6\\csv\\polarization_ratio\\20191208.csv\n",
      "D:\\python_workfile\\sea_ice_classification\\data\\mask\\aari\\proj\\pic\\True 20191208.png\n"
     ]
    },
    {
     "name": "stderr",
     "output_type": "stream",
     "text": [
      "C:\\Users\\Administrator\\AppData\\Local\\Temp/ipykernel_4248/2832217777.py:41: UserWarning: The input coordinates to pcolor are interpreted as cell centers, but are not monotonically increasing or decreasing. This may lead to incorrectly calculated cell edges, in which case, please supply explicit cell edges to pcolor.\n",
      "  hy_m.pcolor(x_map, y_map, data=grid_array, cmap=plt.cm.jet,shading = 'auto',vmax=5,vmin=1,latlon = True)\n"
     ]
    },
    {
     "name": "stdout",
     "output_type": "stream",
     "text": [
      "now processed csv file D:\\python_workfile\\sea_ice_classification\\training6\\csv\\polarization_ratio\\20191209.csv\n",
      "D:\\python_workfile\\sea_ice_classification\\data\\mask\\aari\\proj\\pic\\True 20191209.png\n"
     ]
    },
    {
     "name": "stderr",
     "output_type": "stream",
     "text": [
      "C:\\Users\\Administrator\\AppData\\Local\\Temp/ipykernel_4248/2832217777.py:41: UserWarning: The input coordinates to pcolor are interpreted as cell centers, but are not monotonically increasing or decreasing. This may lead to incorrectly calculated cell edges, in which case, please supply explicit cell edges to pcolor.\n",
      "  hy_m.pcolor(x_map, y_map, data=grid_array, cmap=plt.cm.jet,shading = 'auto',vmax=5,vmin=1,latlon = True)\n"
     ]
    },
    {
     "name": "stdout",
     "output_type": "stream",
     "text": [
      "now processed csv file D:\\python_workfile\\sea_ice_classification\\training6\\csv\\polarization_ratio\\20191210.csv\n",
      "D:\\python_workfile\\sea_ice_classification\\data\\mask\\aari\\proj\\pic\\True 20191210.png\n"
     ]
    },
    {
     "name": "stderr",
     "output_type": "stream",
     "text": [
      "C:\\Users\\Administrator\\AppData\\Local\\Temp/ipykernel_4248/2832217777.py:41: UserWarning: The input coordinates to pcolor are interpreted as cell centers, but are not monotonically increasing or decreasing. This may lead to incorrectly calculated cell edges, in which case, please supply explicit cell edges to pcolor.\n",
      "  hy_m.pcolor(x_map, y_map, data=grid_array, cmap=plt.cm.jet,shading = 'auto',vmax=5,vmin=1,latlon = True)\n"
     ]
    },
    {
     "name": "stdout",
     "output_type": "stream",
     "text": [
      "now processed csv file D:\\python_workfile\\sea_ice_classification\\training6\\csv\\polarization_ratio\\20191211.csv\n",
      "D:\\python_workfile\\sea_ice_classification\\data\\mask\\aari\\proj\\pic\\True 20191211.png\n"
     ]
    },
    {
     "name": "stderr",
     "output_type": "stream",
     "text": [
      "C:\\Users\\Administrator\\AppData\\Local\\Temp/ipykernel_4248/2832217777.py:41: UserWarning: The input coordinates to pcolor are interpreted as cell centers, but are not monotonically increasing or decreasing. This may lead to incorrectly calculated cell edges, in which case, please supply explicit cell edges to pcolor.\n",
      "  hy_m.pcolor(x_map, y_map, data=grid_array, cmap=plt.cm.jet,shading = 'auto',vmax=5,vmin=1,latlon = True)\n"
     ]
    },
    {
     "name": "stdout",
     "output_type": "stream",
     "text": [
      "now processed csv file D:\\python_workfile\\sea_ice_classification\\training6\\csv\\polarization_ratio\\20191212.csv\n",
      "D:\\python_workfile\\sea_ice_classification\\data\\mask\\aari\\proj\\pic\\True 20191212.png\n"
     ]
    },
    {
     "name": "stderr",
     "output_type": "stream",
     "text": [
      "C:\\Users\\Administrator\\AppData\\Local\\Temp/ipykernel_4248/2832217777.py:41: UserWarning: The input coordinates to pcolor are interpreted as cell centers, but are not monotonically increasing or decreasing. This may lead to incorrectly calculated cell edges, in which case, please supply explicit cell edges to pcolor.\n",
      "  hy_m.pcolor(x_map, y_map, data=grid_array, cmap=plt.cm.jet,shading = 'auto',vmax=5,vmin=1,latlon = True)\n"
     ]
    },
    {
     "name": "stdout",
     "output_type": "stream",
     "text": [
      "now processed csv file D:\\python_workfile\\sea_ice_classification\\training6\\csv\\polarization_ratio\\20191213.csv\n",
      "D:\\python_workfile\\sea_ice_classification\\data\\mask\\aari\\proj\\pic\\True 20191213.png\n"
     ]
    },
    {
     "name": "stderr",
     "output_type": "stream",
     "text": [
      "C:\\Users\\Administrator\\AppData\\Local\\Temp/ipykernel_4248/2832217777.py:41: UserWarning: The input coordinates to pcolor are interpreted as cell centers, but are not monotonically increasing or decreasing. This may lead to incorrectly calculated cell edges, in which case, please supply explicit cell edges to pcolor.\n",
      "  hy_m.pcolor(x_map, y_map, data=grid_array, cmap=plt.cm.jet,shading = 'auto',vmax=5,vmin=1,latlon = True)\n"
     ]
    },
    {
     "name": "stdout",
     "output_type": "stream",
     "text": [
      "now processed csv file D:\\python_workfile\\sea_ice_classification\\training6\\csv\\polarization_ratio\\20191214.csv\n",
      "D:\\python_workfile\\sea_ice_classification\\data\\mask\\aari\\proj\\pic\\True 20191214.png\n"
     ]
    },
    {
     "name": "stderr",
     "output_type": "stream",
     "text": [
      "C:\\Users\\Administrator\\AppData\\Local\\Temp/ipykernel_4248/2832217777.py:41: UserWarning: The input coordinates to pcolor are interpreted as cell centers, but are not monotonically increasing or decreasing. This may lead to incorrectly calculated cell edges, in which case, please supply explicit cell edges to pcolor.\n",
      "  hy_m.pcolor(x_map, y_map, data=grid_array, cmap=plt.cm.jet,shading = 'auto',vmax=5,vmin=1,latlon = True)\n"
     ]
    },
    {
     "name": "stdout",
     "output_type": "stream",
     "text": [
      "now processed csv file D:\\python_workfile\\sea_ice_classification\\training6\\csv\\polarization_ratio\\20191215.csv\n",
      "D:\\python_workfile\\sea_ice_classification\\data\\mask\\aari\\proj\\pic\\True 20191215.png\n"
     ]
    },
    {
     "name": "stderr",
     "output_type": "stream",
     "text": [
      "C:\\Users\\Administrator\\AppData\\Local\\Temp/ipykernel_4248/2832217777.py:41: UserWarning: The input coordinates to pcolor are interpreted as cell centers, but are not monotonically increasing or decreasing. This may lead to incorrectly calculated cell edges, in which case, please supply explicit cell edges to pcolor.\n",
      "  hy_m.pcolor(x_map, y_map, data=grid_array, cmap=plt.cm.jet,shading = 'auto',vmax=5,vmin=1,latlon = True)\n"
     ]
    },
    {
     "name": "stdout",
     "output_type": "stream",
     "text": [
      "now processed csv file D:\\python_workfile\\sea_ice_classification\\training6\\csv\\polarization_ratio\\20191216.csv\n",
      "D:\\python_workfile\\sea_ice_classification\\data\\mask\\aari\\proj\\pic\\True 20191216.png\n"
     ]
    },
    {
     "name": "stderr",
     "output_type": "stream",
     "text": [
      "C:\\Users\\Administrator\\AppData\\Local\\Temp/ipykernel_4248/2832217777.py:41: UserWarning: The input coordinates to pcolor are interpreted as cell centers, but are not monotonically increasing or decreasing. This may lead to incorrectly calculated cell edges, in which case, please supply explicit cell edges to pcolor.\n",
      "  hy_m.pcolor(x_map, y_map, data=grid_array, cmap=plt.cm.jet,shading = 'auto',vmax=5,vmin=1,latlon = True)\n"
     ]
    },
    {
     "name": "stdout",
     "output_type": "stream",
     "text": [
      "now processed csv file D:\\python_workfile\\sea_ice_classification\\training6\\csv\\polarization_ratio\\20191217.csv\n",
      "D:\\python_workfile\\sea_ice_classification\\data\\mask\\aari\\proj\\pic\\True 20191217.png\n"
     ]
    },
    {
     "name": "stderr",
     "output_type": "stream",
     "text": [
      "C:\\Users\\Administrator\\AppData\\Local\\Temp/ipykernel_4248/2832217777.py:41: UserWarning: The input coordinates to pcolor are interpreted as cell centers, but are not monotonically increasing or decreasing. This may lead to incorrectly calculated cell edges, in which case, please supply explicit cell edges to pcolor.\n",
      "  hy_m.pcolor(x_map, y_map, data=grid_array, cmap=plt.cm.jet,shading = 'auto',vmax=5,vmin=1,latlon = True)\n"
     ]
    },
    {
     "name": "stdout",
     "output_type": "stream",
     "text": [
      "now processed csv file D:\\python_workfile\\sea_ice_classification\\training6\\csv\\polarization_ratio\\20191218.csv\n",
      "D:\\python_workfile\\sea_ice_classification\\data\\mask\\aari\\proj\\pic\\True 20191218.png\n"
     ]
    },
    {
     "name": "stderr",
     "output_type": "stream",
     "text": [
      "C:\\Users\\Administrator\\AppData\\Local\\Temp/ipykernel_4248/2832217777.py:41: UserWarning: The input coordinates to pcolor are interpreted as cell centers, but are not monotonically increasing or decreasing. This may lead to incorrectly calculated cell edges, in which case, please supply explicit cell edges to pcolor.\n",
      "  hy_m.pcolor(x_map, y_map, data=grid_array, cmap=plt.cm.jet,shading = 'auto',vmax=5,vmin=1,latlon = True)\n"
     ]
    },
    {
     "name": "stdout",
     "output_type": "stream",
     "text": [
      "now processed csv file D:\\python_workfile\\sea_ice_classification\\training6\\csv\\polarization_ratio\\20191220.csv\n",
      "D:\\python_workfile\\sea_ice_classification\\data\\mask\\aari\\proj\\pic\\True 20191220.png\n"
     ]
    },
    {
     "name": "stderr",
     "output_type": "stream",
     "text": [
      "C:\\Users\\Administrator\\AppData\\Local\\Temp/ipykernel_4248/2832217777.py:41: UserWarning: The input coordinates to pcolor are interpreted as cell centers, but are not monotonically increasing or decreasing. This may lead to incorrectly calculated cell edges, in which case, please supply explicit cell edges to pcolor.\n",
      "  hy_m.pcolor(x_map, y_map, data=grid_array, cmap=plt.cm.jet,shading = 'auto',vmax=5,vmin=1,latlon = True)\n"
     ]
    },
    {
     "name": "stdout",
     "output_type": "stream",
     "text": [
      "now processed csv file D:\\python_workfile\\sea_ice_classification\\training6\\csv\\polarization_ratio\\20191221.csv\n",
      "D:\\python_workfile\\sea_ice_classification\\data\\mask\\aari\\proj\\pic\\True 20191221.png\n"
     ]
    },
    {
     "name": "stderr",
     "output_type": "stream",
     "text": [
      "C:\\Users\\Administrator\\AppData\\Local\\Temp/ipykernel_4248/2832217777.py:41: UserWarning: The input coordinates to pcolor are interpreted as cell centers, but are not monotonically increasing or decreasing. This may lead to incorrectly calculated cell edges, in which case, please supply explicit cell edges to pcolor.\n",
      "  hy_m.pcolor(x_map, y_map, data=grid_array, cmap=plt.cm.jet,shading = 'auto',vmax=5,vmin=1,latlon = True)\n"
     ]
    },
    {
     "name": "stdout",
     "output_type": "stream",
     "text": [
      "now processed csv file D:\\python_workfile\\sea_ice_classification\\training6\\csv\\polarization_ratio\\20191222.csv\n",
      "D:\\python_workfile\\sea_ice_classification\\data\\mask\\aari\\proj\\pic\\True 20191222.png\n"
     ]
    },
    {
     "name": "stderr",
     "output_type": "stream",
     "text": [
      "C:\\Users\\Administrator\\AppData\\Local\\Temp/ipykernel_4248/2832217777.py:41: UserWarning: The input coordinates to pcolor are interpreted as cell centers, but are not monotonically increasing or decreasing. This may lead to incorrectly calculated cell edges, in which case, please supply explicit cell edges to pcolor.\n",
      "  hy_m.pcolor(x_map, y_map, data=grid_array, cmap=plt.cm.jet,shading = 'auto',vmax=5,vmin=1,latlon = True)\n"
     ]
    },
    {
     "name": "stdout",
     "output_type": "stream",
     "text": [
      "now processed csv file D:\\python_workfile\\sea_ice_classification\\training6\\csv\\polarization_ratio\\20191223.csv\n",
      "D:\\python_workfile\\sea_ice_classification\\data\\mask\\aari\\proj\\pic\\True 20191223.png\n"
     ]
    },
    {
     "name": "stderr",
     "output_type": "stream",
     "text": [
      "C:\\Users\\Administrator\\AppData\\Local\\Temp/ipykernel_4248/2832217777.py:41: UserWarning: The input coordinates to pcolor are interpreted as cell centers, but are not monotonically increasing or decreasing. This may lead to incorrectly calculated cell edges, in which case, please supply explicit cell edges to pcolor.\n",
      "  hy_m.pcolor(x_map, y_map, data=grid_array, cmap=plt.cm.jet,shading = 'auto',vmax=5,vmin=1,latlon = True)\n"
     ]
    },
    {
     "name": "stdout",
     "output_type": "stream",
     "text": [
      "now processed csv file D:\\python_workfile\\sea_ice_classification\\training6\\csv\\polarization_ratio\\20191224.csv\n",
      "D:\\python_workfile\\sea_ice_classification\\data\\mask\\aari\\proj\\pic\\True 20191224.png\n"
     ]
    },
    {
     "name": "stderr",
     "output_type": "stream",
     "text": [
      "C:\\Users\\Administrator\\AppData\\Local\\Temp/ipykernel_4248/2832217777.py:41: UserWarning: The input coordinates to pcolor are interpreted as cell centers, but are not monotonically increasing or decreasing. This may lead to incorrectly calculated cell edges, in which case, please supply explicit cell edges to pcolor.\n",
      "  hy_m.pcolor(x_map, y_map, data=grid_array, cmap=plt.cm.jet,shading = 'auto',vmax=5,vmin=1,latlon = True)\n"
     ]
    },
    {
     "name": "stdout",
     "output_type": "stream",
     "text": [
      "now processed csv file D:\\python_workfile\\sea_ice_classification\\training6\\csv\\polarization_ratio\\20191225.csv\n",
      "D:\\python_workfile\\sea_ice_classification\\data\\mask\\aari\\proj\\pic\\True 20191225.png\n"
     ]
    },
    {
     "name": "stderr",
     "output_type": "stream",
     "text": [
      "C:\\Users\\Administrator\\AppData\\Local\\Temp/ipykernel_4248/2832217777.py:41: UserWarning: The input coordinates to pcolor are interpreted as cell centers, but are not monotonically increasing or decreasing. This may lead to incorrectly calculated cell edges, in which case, please supply explicit cell edges to pcolor.\n",
      "  hy_m.pcolor(x_map, y_map, data=grid_array, cmap=plt.cm.jet,shading = 'auto',vmax=5,vmin=1,latlon = True)\n"
     ]
    },
    {
     "name": "stdout",
     "output_type": "stream",
     "text": [
      "now processed csv file D:\\python_workfile\\sea_ice_classification\\training6\\csv\\polarization_ratio\\20191226.csv\n",
      "D:\\python_workfile\\sea_ice_classification\\data\\mask\\aari\\proj\\pic\\True 20191226.png\n"
     ]
    },
    {
     "name": "stderr",
     "output_type": "stream",
     "text": [
      "C:\\Users\\Administrator\\AppData\\Local\\Temp/ipykernel_4248/2832217777.py:41: UserWarning: The input coordinates to pcolor are interpreted as cell centers, but are not monotonically increasing or decreasing. This may lead to incorrectly calculated cell edges, in which case, please supply explicit cell edges to pcolor.\n",
      "  hy_m.pcolor(x_map, y_map, data=grid_array, cmap=plt.cm.jet,shading = 'auto',vmax=5,vmin=1,latlon = True)\n"
     ]
    },
    {
     "name": "stdout",
     "output_type": "stream",
     "text": [
      "now processed csv file D:\\python_workfile\\sea_ice_classification\\training6\\csv\\polarization_ratio\\20191227.csv\n",
      "D:\\python_workfile\\sea_ice_classification\\data\\mask\\aari\\proj\\pic\\True 20191227.png\n"
     ]
    },
    {
     "name": "stderr",
     "output_type": "stream",
     "text": [
      "C:\\Users\\Administrator\\AppData\\Local\\Temp/ipykernel_4248/2832217777.py:41: UserWarning: The input coordinates to pcolor are interpreted as cell centers, but are not monotonically increasing or decreasing. This may lead to incorrectly calculated cell edges, in which case, please supply explicit cell edges to pcolor.\n",
      "  hy_m.pcolor(x_map, y_map, data=grid_array, cmap=plt.cm.jet,shading = 'auto',vmax=5,vmin=1,latlon = True)\n"
     ]
    },
    {
     "name": "stdout",
     "output_type": "stream",
     "text": [
      "now processed csv file D:\\python_workfile\\sea_ice_classification\\training6\\csv\\polarization_ratio\\20191228.csv\n",
      "D:\\python_workfile\\sea_ice_classification\\data\\mask\\aari\\proj\\pic\\True 20191228.png\n"
     ]
    },
    {
     "name": "stderr",
     "output_type": "stream",
     "text": [
      "C:\\Users\\Administrator\\AppData\\Local\\Temp/ipykernel_4248/2832217777.py:41: UserWarning: The input coordinates to pcolor are interpreted as cell centers, but are not monotonically increasing or decreasing. This may lead to incorrectly calculated cell edges, in which case, please supply explicit cell edges to pcolor.\n",
      "  hy_m.pcolor(x_map, y_map, data=grid_array, cmap=plt.cm.jet,shading = 'auto',vmax=5,vmin=1,latlon = True)\n"
     ]
    },
    {
     "name": "stdout",
     "output_type": "stream",
     "text": [
      "now processed csv file D:\\python_workfile\\sea_ice_classification\\training6\\csv\\polarization_ratio\\20191229.csv\n",
      "D:\\python_workfile\\sea_ice_classification\\data\\mask\\aari\\proj\\pic\\True 20191229.png\n"
     ]
    },
    {
     "name": "stderr",
     "output_type": "stream",
     "text": [
      "C:\\Users\\Administrator\\AppData\\Local\\Temp/ipykernel_4248/2832217777.py:41: UserWarning: The input coordinates to pcolor are interpreted as cell centers, but are not monotonically increasing or decreasing. This may lead to incorrectly calculated cell edges, in which case, please supply explicit cell edges to pcolor.\n",
      "  hy_m.pcolor(x_map, y_map, data=grid_array, cmap=plt.cm.jet,shading = 'auto',vmax=5,vmin=1,latlon = True)\n"
     ]
    },
    {
     "name": "stdout",
     "output_type": "stream",
     "text": [
      "now processed csv file D:\\python_workfile\\sea_ice_classification\\training6\\csv\\polarization_ratio\\20191230.csv\n",
      "D:\\python_workfile\\sea_ice_classification\\data\\mask\\aari\\proj\\pic\\True 20191230.png\n"
     ]
    },
    {
     "name": "stderr",
     "output_type": "stream",
     "text": [
      "C:\\Users\\Administrator\\AppData\\Local\\Temp/ipykernel_4248/2832217777.py:41: UserWarning: The input coordinates to pcolor are interpreted as cell centers, but are not monotonically increasing or decreasing. This may lead to incorrectly calculated cell edges, in which case, please supply explicit cell edges to pcolor.\n",
      "  hy_m.pcolor(x_map, y_map, data=grid_array, cmap=plt.cm.jet,shading = 'auto',vmax=5,vmin=1,latlon = True)\n"
     ]
    },
    {
     "name": "stdout",
     "output_type": "stream",
     "text": [
      "now processed csv file D:\\python_workfile\\sea_ice_classification\\training6\\csv\\polarization_ratio\\20191231.csv\n",
      "D:\\python_workfile\\sea_ice_classification\\data\\mask\\aari\\proj\\pic\\True 20191231.png\n"
     ]
    },
    {
     "name": "stderr",
     "output_type": "stream",
     "text": [
      "C:\\Users\\Administrator\\AppData\\Local\\Temp/ipykernel_4248/2832217777.py:41: UserWarning: The input coordinates to pcolor are interpreted as cell centers, but are not monotonically increasing or decreasing. This may lead to incorrectly calculated cell edges, in which case, please supply explicit cell edges to pcolor.\n",
      "  hy_m.pcolor(x_map, y_map, data=grid_array, cmap=plt.cm.jet,shading = 'auto',vmax=5,vmin=1,latlon = True)\n"
     ]
    },
    {
     "name": "stdout",
     "output_type": "stream",
     "text": [
      "now processed csv file D:\\python_workfile\\sea_ice_classification\\training6\\csv\\polarization_ratio\\20200101.csv\n",
      "D:\\python_workfile\\sea_ice_classification\\data\\mask\\aari\\proj\\pic\\True 20200101.png\n"
     ]
    },
    {
     "name": "stderr",
     "output_type": "stream",
     "text": [
      "C:\\Users\\Administrator\\AppData\\Local\\Temp/ipykernel_4248/2832217777.py:41: UserWarning: The input coordinates to pcolor are interpreted as cell centers, but are not monotonically increasing or decreasing. This may lead to incorrectly calculated cell edges, in which case, please supply explicit cell edges to pcolor.\n",
      "  hy_m.pcolor(x_map, y_map, data=grid_array, cmap=plt.cm.jet,shading = 'auto',vmax=5,vmin=1,latlon = True)\n"
     ]
    },
    {
     "name": "stdout",
     "output_type": "stream",
     "text": [
      "now processed csv file D:\\python_workfile\\sea_ice_classification\\training6\\csv\\polarization_ratio\\20200102.csv\n",
      "D:\\python_workfile\\sea_ice_classification\\data\\mask\\aari\\proj\\pic\\True 20200102.png\n"
     ]
    },
    {
     "name": "stderr",
     "output_type": "stream",
     "text": [
      "C:\\Users\\Administrator\\AppData\\Local\\Temp/ipykernel_4248/2832217777.py:41: UserWarning: The input coordinates to pcolor are interpreted as cell centers, but are not monotonically increasing or decreasing. This may lead to incorrectly calculated cell edges, in which case, please supply explicit cell edges to pcolor.\n",
      "  hy_m.pcolor(x_map, y_map, data=grid_array, cmap=plt.cm.jet,shading = 'auto',vmax=5,vmin=1,latlon = True)\n"
     ]
    },
    {
     "name": "stdout",
     "output_type": "stream",
     "text": [
      "now processed csv file D:\\python_workfile\\sea_ice_classification\\training6\\csv\\polarization_ratio\\20200103.csv\n",
      "D:\\python_workfile\\sea_ice_classification\\data\\mask\\aari\\proj\\pic\\True 20200103.png\n"
     ]
    },
    {
     "name": "stderr",
     "output_type": "stream",
     "text": [
      "C:\\Users\\Administrator\\AppData\\Local\\Temp/ipykernel_4248/2832217777.py:41: UserWarning: The input coordinates to pcolor are interpreted as cell centers, but are not monotonically increasing or decreasing. This may lead to incorrectly calculated cell edges, in which case, please supply explicit cell edges to pcolor.\n",
      "  hy_m.pcolor(x_map, y_map, data=grid_array, cmap=plt.cm.jet,shading = 'auto',vmax=5,vmin=1,latlon = True)\n"
     ]
    },
    {
     "name": "stdout",
     "output_type": "stream",
     "text": [
      "now processed csv file D:\\python_workfile\\sea_ice_classification\\training6\\csv\\polarization_ratio\\20200104.csv\n",
      "D:\\python_workfile\\sea_ice_classification\\data\\mask\\aari\\proj\\pic\\True 20200104.png\n"
     ]
    },
    {
     "name": "stderr",
     "output_type": "stream",
     "text": [
      "C:\\Users\\Administrator\\AppData\\Local\\Temp/ipykernel_4248/2832217777.py:41: UserWarning: The input coordinates to pcolor are interpreted as cell centers, but are not monotonically increasing or decreasing. This may lead to incorrectly calculated cell edges, in which case, please supply explicit cell edges to pcolor.\n",
      "  hy_m.pcolor(x_map, y_map, data=grid_array, cmap=plt.cm.jet,shading = 'auto',vmax=5,vmin=1,latlon = True)\n"
     ]
    },
    {
     "name": "stdout",
     "output_type": "stream",
     "text": [
      "now processed csv file D:\\python_workfile\\sea_ice_classification\\training6\\csv\\polarization_ratio\\20200105.csv\n",
      "D:\\python_workfile\\sea_ice_classification\\data\\mask\\aari\\proj\\pic\\True 20200105.png\n"
     ]
    },
    {
     "name": "stderr",
     "output_type": "stream",
     "text": [
      "C:\\Users\\Administrator\\AppData\\Local\\Temp/ipykernel_4248/2832217777.py:41: UserWarning: The input coordinates to pcolor are interpreted as cell centers, but are not monotonically increasing or decreasing. This may lead to incorrectly calculated cell edges, in which case, please supply explicit cell edges to pcolor.\n",
      "  hy_m.pcolor(x_map, y_map, data=grid_array, cmap=plt.cm.jet,shading = 'auto',vmax=5,vmin=1,latlon = True)\n"
     ]
    },
    {
     "name": "stdout",
     "output_type": "stream",
     "text": [
      "now processed csv file D:\\python_workfile\\sea_ice_classification\\training6\\csv\\polarization_ratio\\20200106.csv\n",
      "D:\\python_workfile\\sea_ice_classification\\data\\mask\\aari\\proj\\pic\\True 20200106.png\n"
     ]
    },
    {
     "name": "stderr",
     "output_type": "stream",
     "text": [
      "C:\\Users\\Administrator\\AppData\\Local\\Temp/ipykernel_4248/2832217777.py:41: UserWarning: The input coordinates to pcolor are interpreted as cell centers, but are not monotonically increasing or decreasing. This may lead to incorrectly calculated cell edges, in which case, please supply explicit cell edges to pcolor.\n",
      "  hy_m.pcolor(x_map, y_map, data=grid_array, cmap=plt.cm.jet,shading = 'auto',vmax=5,vmin=1,latlon = True)\n"
     ]
    },
    {
     "name": "stdout",
     "output_type": "stream",
     "text": [
      "now processed csv file D:\\python_workfile\\sea_ice_classification\\training6\\csv\\polarization_ratio\\20200107.csv\n",
      "D:\\python_workfile\\sea_ice_classification\\data\\mask\\aari\\proj\\pic\\True 20200107.png\n"
     ]
    },
    {
     "name": "stderr",
     "output_type": "stream",
     "text": [
      "C:\\Users\\Administrator\\AppData\\Local\\Temp/ipykernel_4248/2832217777.py:41: UserWarning: The input coordinates to pcolor are interpreted as cell centers, but are not monotonically increasing or decreasing. This may lead to incorrectly calculated cell edges, in which case, please supply explicit cell edges to pcolor.\n",
      "  hy_m.pcolor(x_map, y_map, data=grid_array, cmap=plt.cm.jet,shading = 'auto',vmax=5,vmin=1,latlon = True)\n"
     ]
    },
    {
     "name": "stdout",
     "output_type": "stream",
     "text": [
      "now processed csv file D:\\python_workfile\\sea_ice_classification\\training6\\csv\\polarization_ratio\\20200108.csv\n",
      "D:\\python_workfile\\sea_ice_classification\\data\\mask\\aari\\proj\\pic\\True 20200108.png\n"
     ]
    },
    {
     "name": "stderr",
     "output_type": "stream",
     "text": [
      "C:\\Users\\Administrator\\AppData\\Local\\Temp/ipykernel_4248/2832217777.py:41: UserWarning: The input coordinates to pcolor are interpreted as cell centers, but are not monotonically increasing or decreasing. This may lead to incorrectly calculated cell edges, in which case, please supply explicit cell edges to pcolor.\n",
      "  hy_m.pcolor(x_map, y_map, data=grid_array, cmap=plt.cm.jet,shading = 'auto',vmax=5,vmin=1,latlon = True)\n"
     ]
    },
    {
     "name": "stdout",
     "output_type": "stream",
     "text": [
      "now processed csv file D:\\python_workfile\\sea_ice_classification\\training6\\csv\\polarization_ratio\\20200109.csv\n",
      "D:\\python_workfile\\sea_ice_classification\\data\\mask\\aari\\proj\\pic\\True 20200109.png\n"
     ]
    },
    {
     "name": "stderr",
     "output_type": "stream",
     "text": [
      "C:\\Users\\Administrator\\AppData\\Local\\Temp/ipykernel_4248/2832217777.py:41: UserWarning: The input coordinates to pcolor are interpreted as cell centers, but are not monotonically increasing or decreasing. This may lead to incorrectly calculated cell edges, in which case, please supply explicit cell edges to pcolor.\n",
      "  hy_m.pcolor(x_map, y_map, data=grid_array, cmap=plt.cm.jet,shading = 'auto',vmax=5,vmin=1,latlon = True)\n"
     ]
    },
    {
     "name": "stdout",
     "output_type": "stream",
     "text": [
      "now processed csv file D:\\python_workfile\\sea_ice_classification\\training6\\csv\\polarization_ratio\\20200110.csv\n",
      "D:\\python_workfile\\sea_ice_classification\\data\\mask\\aari\\proj\\pic\\True 20200110.png\n"
     ]
    },
    {
     "name": "stderr",
     "output_type": "stream",
     "text": [
      "C:\\Users\\Administrator\\AppData\\Local\\Temp/ipykernel_4248/2832217777.py:41: UserWarning: The input coordinates to pcolor are interpreted as cell centers, but are not monotonically increasing or decreasing. This may lead to incorrectly calculated cell edges, in which case, please supply explicit cell edges to pcolor.\n",
      "  hy_m.pcolor(x_map, y_map, data=grid_array, cmap=plt.cm.jet,shading = 'auto',vmax=5,vmin=1,latlon = True)\n"
     ]
    },
    {
     "name": "stdout",
     "output_type": "stream",
     "text": [
      "now processed csv file D:\\python_workfile\\sea_ice_classification\\training6\\csv\\polarization_ratio\\20200111.csv\n",
      "D:\\python_workfile\\sea_ice_classification\\data\\mask\\aari\\proj\\pic\\True 20200111.png\n"
     ]
    },
    {
     "name": "stderr",
     "output_type": "stream",
     "text": [
      "C:\\Users\\Administrator\\AppData\\Local\\Temp/ipykernel_4248/2832217777.py:41: UserWarning: The input coordinates to pcolor are interpreted as cell centers, but are not monotonically increasing or decreasing. This may lead to incorrectly calculated cell edges, in which case, please supply explicit cell edges to pcolor.\n",
      "  hy_m.pcolor(x_map, y_map, data=grid_array, cmap=plt.cm.jet,shading = 'auto',vmax=5,vmin=1,latlon = True)\n"
     ]
    },
    {
     "name": "stdout",
     "output_type": "stream",
     "text": [
      "now processed csv file D:\\python_workfile\\sea_ice_classification\\training6\\csv\\polarization_ratio\\20200112.csv\n",
      "D:\\python_workfile\\sea_ice_classification\\data\\mask\\aari\\proj\\pic\\True 20200112.png\n"
     ]
    },
    {
     "name": "stderr",
     "output_type": "stream",
     "text": [
      "C:\\Users\\Administrator\\AppData\\Local\\Temp/ipykernel_4248/2832217777.py:41: UserWarning: The input coordinates to pcolor are interpreted as cell centers, but are not monotonically increasing or decreasing. This may lead to incorrectly calculated cell edges, in which case, please supply explicit cell edges to pcolor.\n",
      "  hy_m.pcolor(x_map, y_map, data=grid_array, cmap=plt.cm.jet,shading = 'auto',vmax=5,vmin=1,latlon = True)\n"
     ]
    },
    {
     "name": "stdout",
     "output_type": "stream",
     "text": [
      "now processed csv file D:\\python_workfile\\sea_ice_classification\\training6\\csv\\polarization_ratio\\20200113.csv\n",
      "D:\\python_workfile\\sea_ice_classification\\data\\mask\\aari\\proj\\pic\\True 20200113.png\n"
     ]
    },
    {
     "name": "stderr",
     "output_type": "stream",
     "text": [
      "C:\\Users\\Administrator\\AppData\\Local\\Temp/ipykernel_4248/2832217777.py:41: UserWarning: The input coordinates to pcolor are interpreted as cell centers, but are not monotonically increasing or decreasing. This may lead to incorrectly calculated cell edges, in which case, please supply explicit cell edges to pcolor.\n",
      "  hy_m.pcolor(x_map, y_map, data=grid_array, cmap=plt.cm.jet,shading = 'auto',vmax=5,vmin=1,latlon = True)\n"
     ]
    },
    {
     "name": "stdout",
     "output_type": "stream",
     "text": [
      "now processed csv file D:\\python_workfile\\sea_ice_classification\\training6\\csv\\polarization_ratio\\20200114.csv\n",
      "D:\\python_workfile\\sea_ice_classification\\data\\mask\\aari\\proj\\pic\\True 20200114.png\n"
     ]
    },
    {
     "name": "stderr",
     "output_type": "stream",
     "text": [
      "C:\\Users\\Administrator\\AppData\\Local\\Temp/ipykernel_4248/2832217777.py:41: UserWarning: The input coordinates to pcolor are interpreted as cell centers, but are not monotonically increasing or decreasing. This may lead to incorrectly calculated cell edges, in which case, please supply explicit cell edges to pcolor.\n",
      "  hy_m.pcolor(x_map, y_map, data=grid_array, cmap=plt.cm.jet,shading = 'auto',vmax=5,vmin=1,latlon = True)\n"
     ]
    },
    {
     "name": "stdout",
     "output_type": "stream",
     "text": [
      "now processed csv file D:\\python_workfile\\sea_ice_classification\\training6\\csv\\polarization_ratio\\20200115.csv\n",
      "D:\\python_workfile\\sea_ice_classification\\data\\mask\\aari\\proj\\pic\\True 20200115.png\n"
     ]
    },
    {
     "name": "stderr",
     "output_type": "stream",
     "text": [
      "C:\\Users\\Administrator\\AppData\\Local\\Temp/ipykernel_4248/2832217777.py:41: UserWarning: The input coordinates to pcolor are interpreted as cell centers, but are not monotonically increasing or decreasing. This may lead to incorrectly calculated cell edges, in which case, please supply explicit cell edges to pcolor.\n",
      "  hy_m.pcolor(x_map, y_map, data=grid_array, cmap=plt.cm.jet,shading = 'auto',vmax=5,vmin=1,latlon = True)\n"
     ]
    },
    {
     "name": "stdout",
     "output_type": "stream",
     "text": [
      "now processed csv file D:\\python_workfile\\sea_ice_classification\\training6\\csv\\polarization_ratio\\20200116.csv\n",
      "D:\\python_workfile\\sea_ice_classification\\data\\mask\\aari\\proj\\pic\\True 20200116.png\n"
     ]
    },
    {
     "name": "stderr",
     "output_type": "stream",
     "text": [
      "C:\\Users\\Administrator\\AppData\\Local\\Temp/ipykernel_4248/2832217777.py:41: UserWarning: The input coordinates to pcolor are interpreted as cell centers, but are not monotonically increasing or decreasing. This may lead to incorrectly calculated cell edges, in which case, please supply explicit cell edges to pcolor.\n",
      "  hy_m.pcolor(x_map, y_map, data=grid_array, cmap=plt.cm.jet,shading = 'auto',vmax=5,vmin=1,latlon = True)\n"
     ]
    },
    {
     "name": "stdout",
     "output_type": "stream",
     "text": [
      "now processed csv file D:\\python_workfile\\sea_ice_classification\\training6\\csv\\polarization_ratio\\20200117.csv\n",
      "D:\\python_workfile\\sea_ice_classification\\data\\mask\\aari\\proj\\pic\\True 20200117.png\n"
     ]
    },
    {
     "name": "stderr",
     "output_type": "stream",
     "text": [
      "C:\\Users\\Administrator\\AppData\\Local\\Temp/ipykernel_4248/2832217777.py:41: UserWarning: The input coordinates to pcolor are interpreted as cell centers, but are not monotonically increasing or decreasing. This may lead to incorrectly calculated cell edges, in which case, please supply explicit cell edges to pcolor.\n",
      "  hy_m.pcolor(x_map, y_map, data=grid_array, cmap=plt.cm.jet,shading = 'auto',vmax=5,vmin=1,latlon = True)\n"
     ]
    },
    {
     "name": "stdout",
     "output_type": "stream",
     "text": [
      "now processed csv file D:\\python_workfile\\sea_ice_classification\\training6\\csv\\polarization_ratio\\20200118.csv\n",
      "D:\\python_workfile\\sea_ice_classification\\data\\mask\\aari\\proj\\pic\\True 20200118.png\n"
     ]
    },
    {
     "name": "stderr",
     "output_type": "stream",
     "text": [
      "C:\\Users\\Administrator\\AppData\\Local\\Temp/ipykernel_4248/2832217777.py:41: UserWarning: The input coordinates to pcolor are interpreted as cell centers, but are not monotonically increasing or decreasing. This may lead to incorrectly calculated cell edges, in which case, please supply explicit cell edges to pcolor.\n",
      "  hy_m.pcolor(x_map, y_map, data=grid_array, cmap=plt.cm.jet,shading = 'auto',vmax=5,vmin=1,latlon = True)\n"
     ]
    },
    {
     "name": "stdout",
     "output_type": "stream",
     "text": [
      "now processed csv file D:\\python_workfile\\sea_ice_classification\\training6\\csv\\polarization_ratio\\20200119.csv\n",
      "D:\\python_workfile\\sea_ice_classification\\data\\mask\\aari\\proj\\pic\\True 20200119.png\n"
     ]
    },
    {
     "name": "stderr",
     "output_type": "stream",
     "text": [
      "C:\\Users\\Administrator\\AppData\\Local\\Temp/ipykernel_4248/2832217777.py:41: UserWarning: The input coordinates to pcolor are interpreted as cell centers, but are not monotonically increasing or decreasing. This may lead to incorrectly calculated cell edges, in which case, please supply explicit cell edges to pcolor.\n",
      "  hy_m.pcolor(x_map, y_map, data=grid_array, cmap=plt.cm.jet,shading = 'auto',vmax=5,vmin=1,latlon = True)\n"
     ]
    },
    {
     "name": "stdout",
     "output_type": "stream",
     "text": [
      "now processed csv file D:\\python_workfile\\sea_ice_classification\\training6\\csv\\polarization_ratio\\20200120.csv\n",
      "D:\\python_workfile\\sea_ice_classification\\data\\mask\\aari\\proj\\pic\\True 20200120.png\n"
     ]
    },
    {
     "name": "stderr",
     "output_type": "stream",
     "text": [
      "C:\\Users\\Administrator\\AppData\\Local\\Temp/ipykernel_4248/2832217777.py:41: UserWarning: The input coordinates to pcolor are interpreted as cell centers, but are not monotonically increasing or decreasing. This may lead to incorrectly calculated cell edges, in which case, please supply explicit cell edges to pcolor.\n",
      "  hy_m.pcolor(x_map, y_map, data=grid_array, cmap=plt.cm.jet,shading = 'auto',vmax=5,vmin=1,latlon = True)\n"
     ]
    },
    {
     "name": "stdout",
     "output_type": "stream",
     "text": [
      "now processed csv file D:\\python_workfile\\sea_ice_classification\\training6\\csv\\polarization_ratio\\20200121.csv\n",
      "D:\\python_workfile\\sea_ice_classification\\data\\mask\\aari\\proj\\pic\\True 20200121.png\n"
     ]
    },
    {
     "name": "stderr",
     "output_type": "stream",
     "text": [
      "C:\\Users\\Administrator\\AppData\\Local\\Temp/ipykernel_4248/2832217777.py:41: UserWarning: The input coordinates to pcolor are interpreted as cell centers, but are not monotonically increasing or decreasing. This may lead to incorrectly calculated cell edges, in which case, please supply explicit cell edges to pcolor.\n",
      "  hy_m.pcolor(x_map, y_map, data=grid_array, cmap=plt.cm.jet,shading = 'auto',vmax=5,vmin=1,latlon = True)\n"
     ]
    },
    {
     "name": "stdout",
     "output_type": "stream",
     "text": [
      "now processed csv file D:\\python_workfile\\sea_ice_classification\\training6\\csv\\polarization_ratio\\20200122.csv\n",
      "D:\\python_workfile\\sea_ice_classification\\data\\mask\\aari\\proj\\pic\\True 20200122.png\n"
     ]
    },
    {
     "name": "stderr",
     "output_type": "stream",
     "text": [
      "C:\\Users\\Administrator\\AppData\\Local\\Temp/ipykernel_4248/2832217777.py:41: UserWarning: The input coordinates to pcolor are interpreted as cell centers, but are not monotonically increasing or decreasing. This may lead to incorrectly calculated cell edges, in which case, please supply explicit cell edges to pcolor.\n",
      "  hy_m.pcolor(x_map, y_map, data=grid_array, cmap=plt.cm.jet,shading = 'auto',vmax=5,vmin=1,latlon = True)\n"
     ]
    },
    {
     "name": "stdout",
     "output_type": "stream",
     "text": [
      "now processed csv file D:\\python_workfile\\sea_ice_classification\\training6\\csv\\polarization_ratio\\20200123.csv\n",
      "D:\\python_workfile\\sea_ice_classification\\data\\mask\\aari\\proj\\pic\\True 20200123.png\n"
     ]
    },
    {
     "name": "stderr",
     "output_type": "stream",
     "text": [
      "C:\\Users\\Administrator\\AppData\\Local\\Temp/ipykernel_4248/2832217777.py:41: UserWarning: The input coordinates to pcolor are interpreted as cell centers, but are not monotonically increasing or decreasing. This may lead to incorrectly calculated cell edges, in which case, please supply explicit cell edges to pcolor.\n",
      "  hy_m.pcolor(x_map, y_map, data=grid_array, cmap=plt.cm.jet,shading = 'auto',vmax=5,vmin=1,latlon = True)\n"
     ]
    },
    {
     "name": "stdout",
     "output_type": "stream",
     "text": [
      "now processed csv file D:\\python_workfile\\sea_ice_classification\\training6\\csv\\polarization_ratio\\20200124.csv\n",
      "D:\\python_workfile\\sea_ice_classification\\data\\mask\\aari\\proj\\pic\\True 20200124.png\n"
     ]
    },
    {
     "name": "stderr",
     "output_type": "stream",
     "text": [
      "C:\\Users\\Administrator\\AppData\\Local\\Temp/ipykernel_4248/2832217777.py:41: UserWarning: The input coordinates to pcolor are interpreted as cell centers, but are not monotonically increasing or decreasing. This may lead to incorrectly calculated cell edges, in which case, please supply explicit cell edges to pcolor.\n",
      "  hy_m.pcolor(x_map, y_map, data=grid_array, cmap=plt.cm.jet,shading = 'auto',vmax=5,vmin=1,latlon = True)\n"
     ]
    },
    {
     "name": "stdout",
     "output_type": "stream",
     "text": [
      "now processed csv file D:\\python_workfile\\sea_ice_classification\\training6\\csv\\polarization_ratio\\20200125.csv\n",
      "D:\\python_workfile\\sea_ice_classification\\data\\mask\\aari\\proj\\pic\\True 20200125.png\n"
     ]
    },
    {
     "name": "stderr",
     "output_type": "stream",
     "text": [
      "C:\\Users\\Administrator\\AppData\\Local\\Temp/ipykernel_4248/2832217777.py:41: UserWarning: The input coordinates to pcolor are interpreted as cell centers, but are not monotonically increasing or decreasing. This may lead to incorrectly calculated cell edges, in which case, please supply explicit cell edges to pcolor.\n",
      "  hy_m.pcolor(x_map, y_map, data=grid_array, cmap=plt.cm.jet,shading = 'auto',vmax=5,vmin=1,latlon = True)\n"
     ]
    },
    {
     "name": "stdout",
     "output_type": "stream",
     "text": [
      "now processed csv file D:\\python_workfile\\sea_ice_classification\\training6\\csv\\polarization_ratio\\20200126.csv\n",
      "D:\\python_workfile\\sea_ice_classification\\data\\mask\\aari\\proj\\pic\\True 20200126.png\n"
     ]
    },
    {
     "name": "stderr",
     "output_type": "stream",
     "text": [
      "C:\\Users\\Administrator\\AppData\\Local\\Temp/ipykernel_4248/2832217777.py:41: UserWarning: The input coordinates to pcolor are interpreted as cell centers, but are not monotonically increasing or decreasing. This may lead to incorrectly calculated cell edges, in which case, please supply explicit cell edges to pcolor.\n",
      "  hy_m.pcolor(x_map, y_map, data=grid_array, cmap=plt.cm.jet,shading = 'auto',vmax=5,vmin=1,latlon = True)\n"
     ]
    },
    {
     "name": "stdout",
     "output_type": "stream",
     "text": [
      "now processed csv file D:\\python_workfile\\sea_ice_classification\\training6\\csv\\polarization_ratio\\20200127.csv\n",
      "D:\\python_workfile\\sea_ice_classification\\data\\mask\\aari\\proj\\pic\\True 20200127.png\n"
     ]
    },
    {
     "name": "stderr",
     "output_type": "stream",
     "text": [
      "C:\\Users\\Administrator\\AppData\\Local\\Temp/ipykernel_4248/2832217777.py:41: UserWarning: The input coordinates to pcolor are interpreted as cell centers, but are not monotonically increasing or decreasing. This may lead to incorrectly calculated cell edges, in which case, please supply explicit cell edges to pcolor.\n",
      "  hy_m.pcolor(x_map, y_map, data=grid_array, cmap=plt.cm.jet,shading = 'auto',vmax=5,vmin=1,latlon = True)\n"
     ]
    },
    {
     "name": "stdout",
     "output_type": "stream",
     "text": [
      "now processed csv file D:\\python_workfile\\sea_ice_classification\\training6\\csv\\polarization_ratio\\20200128.csv\n",
      "D:\\python_workfile\\sea_ice_classification\\data\\mask\\aari\\proj\\pic\\True 20200128.png\n"
     ]
    },
    {
     "name": "stderr",
     "output_type": "stream",
     "text": [
      "C:\\Users\\Administrator\\AppData\\Local\\Temp/ipykernel_4248/2832217777.py:41: UserWarning: The input coordinates to pcolor are interpreted as cell centers, but are not monotonically increasing or decreasing. This may lead to incorrectly calculated cell edges, in which case, please supply explicit cell edges to pcolor.\n",
      "  hy_m.pcolor(x_map, y_map, data=grid_array, cmap=plt.cm.jet,shading = 'auto',vmax=5,vmin=1,latlon = True)\n"
     ]
    },
    {
     "name": "stdout",
     "output_type": "stream",
     "text": [
      "now processed csv file D:\\python_workfile\\sea_ice_classification\\training6\\csv\\polarization_ratio\\20200129.csv\n",
      "D:\\python_workfile\\sea_ice_classification\\data\\mask\\aari\\proj\\pic\\True 20200129.png\n"
     ]
    },
    {
     "name": "stderr",
     "output_type": "stream",
     "text": [
      "C:\\Users\\Administrator\\AppData\\Local\\Temp/ipykernel_4248/2832217777.py:41: UserWarning: The input coordinates to pcolor are interpreted as cell centers, but are not monotonically increasing or decreasing. This may lead to incorrectly calculated cell edges, in which case, please supply explicit cell edges to pcolor.\n",
      "  hy_m.pcolor(x_map, y_map, data=grid_array, cmap=plt.cm.jet,shading = 'auto',vmax=5,vmin=1,latlon = True)\n"
     ]
    },
    {
     "name": "stdout",
     "output_type": "stream",
     "text": [
      "now processed csv file D:\\python_workfile\\sea_ice_classification\\training6\\csv\\polarization_ratio\\20200130.csv\n",
      "D:\\python_workfile\\sea_ice_classification\\data\\mask\\aari\\proj\\pic\\True 20200130.png\n"
     ]
    },
    {
     "name": "stderr",
     "output_type": "stream",
     "text": [
      "C:\\Users\\Administrator\\AppData\\Local\\Temp/ipykernel_4248/2832217777.py:41: UserWarning: The input coordinates to pcolor are interpreted as cell centers, but are not monotonically increasing or decreasing. This may lead to incorrectly calculated cell edges, in which case, please supply explicit cell edges to pcolor.\n",
      "  hy_m.pcolor(x_map, y_map, data=grid_array, cmap=plt.cm.jet,shading = 'auto',vmax=5,vmin=1,latlon = True)\n"
     ]
    },
    {
     "name": "stdout",
     "output_type": "stream",
     "text": [
      "now processed csv file D:\\python_workfile\\sea_ice_classification\\training6\\csv\\polarization_ratio\\20200131.csv\n",
      "D:\\python_workfile\\sea_ice_classification\\data\\mask\\aari\\proj\\pic\\True 20200131.png\n"
     ]
    },
    {
     "name": "stderr",
     "output_type": "stream",
     "text": [
      "C:\\Users\\Administrator\\AppData\\Local\\Temp/ipykernel_4248/2832217777.py:41: UserWarning: The input coordinates to pcolor are interpreted as cell centers, but are not monotonically increasing or decreasing. This may lead to incorrectly calculated cell edges, in which case, please supply explicit cell edges to pcolor.\n",
      "  hy_m.pcolor(x_map, y_map, data=grid_array, cmap=plt.cm.jet,shading = 'auto',vmax=5,vmin=1,latlon = True)\n"
     ]
    },
    {
     "name": "stdout",
     "output_type": "stream",
     "text": [
      "now processed csv file D:\\python_workfile\\sea_ice_classification\\training6\\csv\\polarization_ratio\\20200201.csv\n",
      "D:\\python_workfile\\sea_ice_classification\\data\\mask\\aari\\proj\\pic\\True 20200201.png\n"
     ]
    },
    {
     "name": "stderr",
     "output_type": "stream",
     "text": [
      "C:\\Users\\Administrator\\AppData\\Local\\Temp/ipykernel_4248/2832217777.py:41: UserWarning: The input coordinates to pcolor are interpreted as cell centers, but are not monotonically increasing or decreasing. This may lead to incorrectly calculated cell edges, in which case, please supply explicit cell edges to pcolor.\n",
      "  hy_m.pcolor(x_map, y_map, data=grid_array, cmap=plt.cm.jet,shading = 'auto',vmax=5,vmin=1,latlon = True)\n"
     ]
    },
    {
     "name": "stdout",
     "output_type": "stream",
     "text": [
      "now processed csv file D:\\python_workfile\\sea_ice_classification\\training6\\csv\\polarization_ratio\\20200202.csv\n",
      "D:\\python_workfile\\sea_ice_classification\\data\\mask\\aari\\proj\\pic\\True 20200202.png\n"
     ]
    },
    {
     "name": "stderr",
     "output_type": "stream",
     "text": [
      "C:\\Users\\Administrator\\AppData\\Local\\Temp/ipykernel_4248/2832217777.py:41: UserWarning: The input coordinates to pcolor are interpreted as cell centers, but are not monotonically increasing or decreasing. This may lead to incorrectly calculated cell edges, in which case, please supply explicit cell edges to pcolor.\n",
      "  hy_m.pcolor(x_map, y_map, data=grid_array, cmap=plt.cm.jet,shading = 'auto',vmax=5,vmin=1,latlon = True)\n"
     ]
    },
    {
     "name": "stdout",
     "output_type": "stream",
     "text": [
      "now processed csv file D:\\python_workfile\\sea_ice_classification\\training6\\csv\\polarization_ratio\\20200203.csv\n",
      "D:\\python_workfile\\sea_ice_classification\\data\\mask\\aari\\proj\\pic\\True 20200203.png\n"
     ]
    },
    {
     "name": "stderr",
     "output_type": "stream",
     "text": [
      "C:\\Users\\Administrator\\AppData\\Local\\Temp/ipykernel_4248/2832217777.py:41: UserWarning: The input coordinates to pcolor are interpreted as cell centers, but are not monotonically increasing or decreasing. This may lead to incorrectly calculated cell edges, in which case, please supply explicit cell edges to pcolor.\n",
      "  hy_m.pcolor(x_map, y_map, data=grid_array, cmap=plt.cm.jet,shading = 'auto',vmax=5,vmin=1,latlon = True)\n"
     ]
    },
    {
     "name": "stdout",
     "output_type": "stream",
     "text": [
      "now processed csv file D:\\python_workfile\\sea_ice_classification\\training6\\csv\\polarization_ratio\\20200204.csv\n",
      "D:\\python_workfile\\sea_ice_classification\\data\\mask\\aari\\proj\\pic\\True 20200204.png\n"
     ]
    },
    {
     "name": "stderr",
     "output_type": "stream",
     "text": [
      "C:\\Users\\Administrator\\AppData\\Local\\Temp/ipykernel_4248/2832217777.py:41: UserWarning: The input coordinates to pcolor are interpreted as cell centers, but are not monotonically increasing or decreasing. This may lead to incorrectly calculated cell edges, in which case, please supply explicit cell edges to pcolor.\n",
      "  hy_m.pcolor(x_map, y_map, data=grid_array, cmap=plt.cm.jet,shading = 'auto',vmax=5,vmin=1,latlon = True)\n"
     ]
    },
    {
     "name": "stdout",
     "output_type": "stream",
     "text": [
      "now processed csv file D:\\python_workfile\\sea_ice_classification\\training6\\csv\\polarization_ratio\\20200205.csv\n",
      "D:\\python_workfile\\sea_ice_classification\\data\\mask\\aari\\proj\\pic\\True 20200205.png\n"
     ]
    },
    {
     "name": "stderr",
     "output_type": "stream",
     "text": [
      "C:\\Users\\Administrator\\AppData\\Local\\Temp/ipykernel_4248/2832217777.py:41: UserWarning: The input coordinates to pcolor are interpreted as cell centers, but are not monotonically increasing or decreasing. This may lead to incorrectly calculated cell edges, in which case, please supply explicit cell edges to pcolor.\n",
      "  hy_m.pcolor(x_map, y_map, data=grid_array, cmap=plt.cm.jet,shading = 'auto',vmax=5,vmin=1,latlon = True)\n"
     ]
    },
    {
     "name": "stdout",
     "output_type": "stream",
     "text": [
      "now processed csv file D:\\python_workfile\\sea_ice_classification\\training6\\csv\\polarization_ratio\\20200206.csv\n",
      "D:\\python_workfile\\sea_ice_classification\\data\\mask\\aari\\proj\\pic\\True 20200206.png\n"
     ]
    },
    {
     "name": "stderr",
     "output_type": "stream",
     "text": [
      "C:\\Users\\Administrator\\AppData\\Local\\Temp/ipykernel_4248/2832217777.py:41: UserWarning: The input coordinates to pcolor are interpreted as cell centers, but are not monotonically increasing or decreasing. This may lead to incorrectly calculated cell edges, in which case, please supply explicit cell edges to pcolor.\n",
      "  hy_m.pcolor(x_map, y_map, data=grid_array, cmap=plt.cm.jet,shading = 'auto',vmax=5,vmin=1,latlon = True)\n"
     ]
    },
    {
     "name": "stdout",
     "output_type": "stream",
     "text": [
      "now processed csv file D:\\python_workfile\\sea_ice_classification\\training6\\csv\\polarization_ratio\\20200207.csv\n",
      "D:\\python_workfile\\sea_ice_classification\\data\\mask\\aari\\proj\\pic\\True 20200207.png\n"
     ]
    },
    {
     "name": "stderr",
     "output_type": "stream",
     "text": [
      "C:\\Users\\Administrator\\AppData\\Local\\Temp/ipykernel_4248/2832217777.py:41: UserWarning: The input coordinates to pcolor are interpreted as cell centers, but are not monotonically increasing or decreasing. This may lead to incorrectly calculated cell edges, in which case, please supply explicit cell edges to pcolor.\n",
      "  hy_m.pcolor(x_map, y_map, data=grid_array, cmap=plt.cm.jet,shading = 'auto',vmax=5,vmin=1,latlon = True)\n"
     ]
    },
    {
     "name": "stdout",
     "output_type": "stream",
     "text": [
      "now processed csv file D:\\python_workfile\\sea_ice_classification\\training6\\csv\\polarization_ratio\\20200208.csv\n",
      "D:\\python_workfile\\sea_ice_classification\\data\\mask\\aari\\proj\\pic\\True 20200208.png\n"
     ]
    },
    {
     "name": "stderr",
     "output_type": "stream",
     "text": [
      "C:\\Users\\Administrator\\AppData\\Local\\Temp/ipykernel_4248/2832217777.py:41: UserWarning: The input coordinates to pcolor are interpreted as cell centers, but are not monotonically increasing or decreasing. This may lead to incorrectly calculated cell edges, in which case, please supply explicit cell edges to pcolor.\n",
      "  hy_m.pcolor(x_map, y_map, data=grid_array, cmap=plt.cm.jet,shading = 'auto',vmax=5,vmin=1,latlon = True)\n"
     ]
    },
    {
     "name": "stdout",
     "output_type": "stream",
     "text": [
      "now processed csv file D:\\python_workfile\\sea_ice_classification\\training6\\csv\\polarization_ratio\\20200209.csv\n",
      "D:\\python_workfile\\sea_ice_classification\\data\\mask\\aari\\proj\\pic\\True 20200209.png\n"
     ]
    },
    {
     "name": "stderr",
     "output_type": "stream",
     "text": [
      "C:\\Users\\Administrator\\AppData\\Local\\Temp/ipykernel_4248/2832217777.py:41: UserWarning: The input coordinates to pcolor are interpreted as cell centers, but are not monotonically increasing or decreasing. This may lead to incorrectly calculated cell edges, in which case, please supply explicit cell edges to pcolor.\n",
      "  hy_m.pcolor(x_map, y_map, data=grid_array, cmap=plt.cm.jet,shading = 'auto',vmax=5,vmin=1,latlon = True)\n"
     ]
    },
    {
     "name": "stdout",
     "output_type": "stream",
     "text": [
      "now processed csv file D:\\python_workfile\\sea_ice_classification\\training6\\csv\\polarization_ratio\\20200210.csv\n",
      "D:\\python_workfile\\sea_ice_classification\\data\\mask\\aari\\proj\\pic\\True 20200210.png\n"
     ]
    },
    {
     "name": "stderr",
     "output_type": "stream",
     "text": [
      "C:\\Users\\Administrator\\AppData\\Local\\Temp/ipykernel_4248/2832217777.py:41: UserWarning: The input coordinates to pcolor are interpreted as cell centers, but are not monotonically increasing or decreasing. This may lead to incorrectly calculated cell edges, in which case, please supply explicit cell edges to pcolor.\n",
      "  hy_m.pcolor(x_map, y_map, data=grid_array, cmap=plt.cm.jet,shading = 'auto',vmax=5,vmin=1,latlon = True)\n"
     ]
    },
    {
     "name": "stdout",
     "output_type": "stream",
     "text": [
      "now processed csv file D:\\python_workfile\\sea_ice_classification\\training6\\csv\\polarization_ratio\\20200211.csv\n",
      "D:\\python_workfile\\sea_ice_classification\\data\\mask\\aari\\proj\\pic\\True 20200211.png\n"
     ]
    },
    {
     "name": "stderr",
     "output_type": "stream",
     "text": [
      "C:\\Users\\Administrator\\AppData\\Local\\Temp/ipykernel_4248/2832217777.py:41: UserWarning: The input coordinates to pcolor are interpreted as cell centers, but are not monotonically increasing or decreasing. This may lead to incorrectly calculated cell edges, in which case, please supply explicit cell edges to pcolor.\n",
      "  hy_m.pcolor(x_map, y_map, data=grid_array, cmap=plt.cm.jet,shading = 'auto',vmax=5,vmin=1,latlon = True)\n"
     ]
    },
    {
     "name": "stdout",
     "output_type": "stream",
     "text": [
      "now processed csv file D:\\python_workfile\\sea_ice_classification\\training6\\csv\\polarization_ratio\\20200212.csv\n",
      "D:\\python_workfile\\sea_ice_classification\\data\\mask\\aari\\proj\\pic\\True 20200212.png\n"
     ]
    },
    {
     "name": "stderr",
     "output_type": "stream",
     "text": [
      "C:\\Users\\Administrator\\AppData\\Local\\Temp/ipykernel_4248/2832217777.py:41: UserWarning: The input coordinates to pcolor are interpreted as cell centers, but are not monotonically increasing or decreasing. This may lead to incorrectly calculated cell edges, in which case, please supply explicit cell edges to pcolor.\n",
      "  hy_m.pcolor(x_map, y_map, data=grid_array, cmap=plt.cm.jet,shading = 'auto',vmax=5,vmin=1,latlon = True)\n"
     ]
    },
    {
     "name": "stdout",
     "output_type": "stream",
     "text": [
      "now processed csv file D:\\python_workfile\\sea_ice_classification\\training6\\csv\\polarization_ratio\\20200213.csv\n",
      "D:\\python_workfile\\sea_ice_classification\\data\\mask\\aari\\proj\\pic\\True 20200213.png\n"
     ]
    },
    {
     "name": "stderr",
     "output_type": "stream",
     "text": [
      "C:\\Users\\Administrator\\AppData\\Local\\Temp/ipykernel_4248/2832217777.py:41: UserWarning: The input coordinates to pcolor are interpreted as cell centers, but are not monotonically increasing or decreasing. This may lead to incorrectly calculated cell edges, in which case, please supply explicit cell edges to pcolor.\n",
      "  hy_m.pcolor(x_map, y_map, data=grid_array, cmap=plt.cm.jet,shading = 'auto',vmax=5,vmin=1,latlon = True)\n"
     ]
    },
    {
     "name": "stdout",
     "output_type": "stream",
     "text": [
      "now processed csv file D:\\python_workfile\\sea_ice_classification\\training6\\csv\\polarization_ratio\\20200214.csv\n",
      "D:\\python_workfile\\sea_ice_classification\\data\\mask\\aari\\proj\\pic\\True 20200214.png\n"
     ]
    },
    {
     "name": "stderr",
     "output_type": "stream",
     "text": [
      "C:\\Users\\Administrator\\AppData\\Local\\Temp/ipykernel_4248/2832217777.py:41: UserWarning: The input coordinates to pcolor are interpreted as cell centers, but are not monotonically increasing or decreasing. This may lead to incorrectly calculated cell edges, in which case, please supply explicit cell edges to pcolor.\n",
      "  hy_m.pcolor(x_map, y_map, data=grid_array, cmap=plt.cm.jet,shading = 'auto',vmax=5,vmin=1,latlon = True)\n"
     ]
    },
    {
     "name": "stdout",
     "output_type": "stream",
     "text": [
      "now processed csv file D:\\python_workfile\\sea_ice_classification\\training6\\csv\\polarization_ratio\\20200215.csv\n",
      "D:\\python_workfile\\sea_ice_classification\\data\\mask\\aari\\proj\\pic\\True 20200215.png\n"
     ]
    },
    {
     "name": "stderr",
     "output_type": "stream",
     "text": [
      "C:\\Users\\Administrator\\AppData\\Local\\Temp/ipykernel_4248/2832217777.py:41: UserWarning: The input coordinates to pcolor are interpreted as cell centers, but are not monotonically increasing or decreasing. This may lead to incorrectly calculated cell edges, in which case, please supply explicit cell edges to pcolor.\n",
      "  hy_m.pcolor(x_map, y_map, data=grid_array, cmap=plt.cm.jet,shading = 'auto',vmax=5,vmin=1,latlon = True)\n"
     ]
    },
    {
     "name": "stdout",
     "output_type": "stream",
     "text": [
      "now processed csv file D:\\python_workfile\\sea_ice_classification\\training6\\csv\\polarization_ratio\\20200216.csv\n",
      "D:\\python_workfile\\sea_ice_classification\\data\\mask\\aari\\proj\\pic\\True 20200216.png\n"
     ]
    },
    {
     "name": "stderr",
     "output_type": "stream",
     "text": [
      "C:\\Users\\Administrator\\AppData\\Local\\Temp/ipykernel_4248/2832217777.py:41: UserWarning: The input coordinates to pcolor are interpreted as cell centers, but are not monotonically increasing or decreasing. This may lead to incorrectly calculated cell edges, in which case, please supply explicit cell edges to pcolor.\n",
      "  hy_m.pcolor(x_map, y_map, data=grid_array, cmap=plt.cm.jet,shading = 'auto',vmax=5,vmin=1,latlon = True)\n"
     ]
    },
    {
     "name": "stdout",
     "output_type": "stream",
     "text": [
      "now processed csv file D:\\python_workfile\\sea_ice_classification\\training6\\csv\\polarization_ratio\\20200217.csv\n",
      "D:\\python_workfile\\sea_ice_classification\\data\\mask\\aari\\proj\\pic\\True 20200217.png\n"
     ]
    },
    {
     "name": "stderr",
     "output_type": "stream",
     "text": [
      "C:\\Users\\Administrator\\AppData\\Local\\Temp/ipykernel_4248/2832217777.py:41: UserWarning: The input coordinates to pcolor are interpreted as cell centers, but are not monotonically increasing or decreasing. This may lead to incorrectly calculated cell edges, in which case, please supply explicit cell edges to pcolor.\n",
      "  hy_m.pcolor(x_map, y_map, data=grid_array, cmap=plt.cm.jet,shading = 'auto',vmax=5,vmin=1,latlon = True)\n"
     ]
    },
    {
     "name": "stdout",
     "output_type": "stream",
     "text": [
      "now processed csv file D:\\python_workfile\\sea_ice_classification\\training6\\csv\\polarization_ratio\\20200218.csv\n",
      "D:\\python_workfile\\sea_ice_classification\\data\\mask\\aari\\proj\\pic\\True 20200218.png\n"
     ]
    },
    {
     "name": "stderr",
     "output_type": "stream",
     "text": [
      "C:\\Users\\Administrator\\AppData\\Local\\Temp/ipykernel_4248/2832217777.py:41: UserWarning: The input coordinates to pcolor are interpreted as cell centers, but are not monotonically increasing or decreasing. This may lead to incorrectly calculated cell edges, in which case, please supply explicit cell edges to pcolor.\n",
      "  hy_m.pcolor(x_map, y_map, data=grid_array, cmap=plt.cm.jet,shading = 'auto',vmax=5,vmin=1,latlon = True)\n"
     ]
    },
    {
     "name": "stdout",
     "output_type": "stream",
     "text": [
      "now processed csv file D:\\python_workfile\\sea_ice_classification\\training6\\csv\\polarization_ratio\\20200219.csv\n",
      "D:\\python_workfile\\sea_ice_classification\\data\\mask\\aari\\proj\\pic\\True 20200219.png\n"
     ]
    },
    {
     "name": "stderr",
     "output_type": "stream",
     "text": [
      "C:\\Users\\Administrator\\AppData\\Local\\Temp/ipykernel_4248/2832217777.py:41: UserWarning: The input coordinates to pcolor are interpreted as cell centers, but are not monotonically increasing or decreasing. This may lead to incorrectly calculated cell edges, in which case, please supply explicit cell edges to pcolor.\n",
      "  hy_m.pcolor(x_map, y_map, data=grid_array, cmap=plt.cm.jet,shading = 'auto',vmax=5,vmin=1,latlon = True)\n"
     ]
    },
    {
     "name": "stdout",
     "output_type": "stream",
     "text": [
      "now processed csv file D:\\python_workfile\\sea_ice_classification\\training6\\csv\\polarization_ratio\\20200220.csv\n",
      "D:\\python_workfile\\sea_ice_classification\\data\\mask\\aari\\proj\\pic\\True 20200220.png\n"
     ]
    },
    {
     "name": "stderr",
     "output_type": "stream",
     "text": [
      "C:\\Users\\Administrator\\AppData\\Local\\Temp/ipykernel_4248/2832217777.py:41: UserWarning: The input coordinates to pcolor are interpreted as cell centers, but are not monotonically increasing or decreasing. This may lead to incorrectly calculated cell edges, in which case, please supply explicit cell edges to pcolor.\n",
      "  hy_m.pcolor(x_map, y_map, data=grid_array, cmap=plt.cm.jet,shading = 'auto',vmax=5,vmin=1,latlon = True)\n"
     ]
    },
    {
     "name": "stdout",
     "output_type": "stream",
     "text": [
      "now processed csv file D:\\python_workfile\\sea_ice_classification\\training6\\csv\\polarization_ratio\\20200221.csv\n",
      "D:\\python_workfile\\sea_ice_classification\\data\\mask\\aari\\proj\\pic\\True 20200221.png\n"
     ]
    },
    {
     "name": "stderr",
     "output_type": "stream",
     "text": [
      "C:\\Users\\Administrator\\AppData\\Local\\Temp/ipykernel_4248/2832217777.py:41: UserWarning: The input coordinates to pcolor are interpreted as cell centers, but are not monotonically increasing or decreasing. This may lead to incorrectly calculated cell edges, in which case, please supply explicit cell edges to pcolor.\n",
      "  hy_m.pcolor(x_map, y_map, data=grid_array, cmap=plt.cm.jet,shading = 'auto',vmax=5,vmin=1,latlon = True)\n"
     ]
    },
    {
     "name": "stdout",
     "output_type": "stream",
     "text": [
      "now processed csv file D:\\python_workfile\\sea_ice_classification\\training6\\csv\\polarization_ratio\\20200222.csv\n",
      "D:\\python_workfile\\sea_ice_classification\\data\\mask\\aari\\proj\\pic\\True 20200222.png\n"
     ]
    },
    {
     "name": "stderr",
     "output_type": "stream",
     "text": [
      "C:\\Users\\Administrator\\AppData\\Local\\Temp/ipykernel_4248/2832217777.py:41: UserWarning: The input coordinates to pcolor are interpreted as cell centers, but are not monotonically increasing or decreasing. This may lead to incorrectly calculated cell edges, in which case, please supply explicit cell edges to pcolor.\n",
      "  hy_m.pcolor(x_map, y_map, data=grid_array, cmap=plt.cm.jet,shading = 'auto',vmax=5,vmin=1,latlon = True)\n"
     ]
    },
    {
     "name": "stdout",
     "output_type": "stream",
     "text": [
      "now processed csv file D:\\python_workfile\\sea_ice_classification\\training6\\csv\\polarization_ratio\\20200223.csv\n",
      "D:\\python_workfile\\sea_ice_classification\\data\\mask\\aari\\proj\\pic\\True 20200223.png\n"
     ]
    },
    {
     "name": "stderr",
     "output_type": "stream",
     "text": [
      "C:\\Users\\Administrator\\AppData\\Local\\Temp/ipykernel_4248/2832217777.py:41: UserWarning: The input coordinates to pcolor are interpreted as cell centers, but are not monotonically increasing or decreasing. This may lead to incorrectly calculated cell edges, in which case, please supply explicit cell edges to pcolor.\n",
      "  hy_m.pcolor(x_map, y_map, data=grid_array, cmap=plt.cm.jet,shading = 'auto',vmax=5,vmin=1,latlon = True)\n"
     ]
    },
    {
     "name": "stdout",
     "output_type": "stream",
     "text": [
      "now processed csv file D:\\python_workfile\\sea_ice_classification\\training6\\csv\\polarization_ratio\\20200224.csv\n",
      "D:\\python_workfile\\sea_ice_classification\\data\\mask\\aari\\proj\\pic\\True 20200224.png\n"
     ]
    },
    {
     "name": "stderr",
     "output_type": "stream",
     "text": [
      "C:\\Users\\Administrator\\AppData\\Local\\Temp/ipykernel_4248/2832217777.py:41: UserWarning: The input coordinates to pcolor are interpreted as cell centers, but are not monotonically increasing or decreasing. This may lead to incorrectly calculated cell edges, in which case, please supply explicit cell edges to pcolor.\n",
      "  hy_m.pcolor(x_map, y_map, data=grid_array, cmap=plt.cm.jet,shading = 'auto',vmax=5,vmin=1,latlon = True)\n"
     ]
    },
    {
     "name": "stdout",
     "output_type": "stream",
     "text": [
      "now processed csv file D:\\python_workfile\\sea_ice_classification\\training6\\csv\\polarization_ratio\\20200225.csv\n",
      "D:\\python_workfile\\sea_ice_classification\\data\\mask\\aari\\proj\\pic\\True 20200225.png\n"
     ]
    },
    {
     "name": "stderr",
     "output_type": "stream",
     "text": [
      "C:\\Users\\Administrator\\AppData\\Local\\Temp/ipykernel_4248/2832217777.py:41: UserWarning: The input coordinates to pcolor are interpreted as cell centers, but are not monotonically increasing or decreasing. This may lead to incorrectly calculated cell edges, in which case, please supply explicit cell edges to pcolor.\n",
      "  hy_m.pcolor(x_map, y_map, data=grid_array, cmap=plt.cm.jet,shading = 'auto',vmax=5,vmin=1,latlon = True)\n"
     ]
    },
    {
     "name": "stdout",
     "output_type": "stream",
     "text": [
      "now processed csv file D:\\python_workfile\\sea_ice_classification\\training6\\csv\\polarization_ratio\\20200226.csv\n",
      "D:\\python_workfile\\sea_ice_classification\\data\\mask\\aari\\proj\\pic\\True 20200226.png\n"
     ]
    },
    {
     "name": "stderr",
     "output_type": "stream",
     "text": [
      "C:\\Users\\Administrator\\AppData\\Local\\Temp/ipykernel_4248/2832217777.py:41: UserWarning: The input coordinates to pcolor are interpreted as cell centers, but are not monotonically increasing or decreasing. This may lead to incorrectly calculated cell edges, in which case, please supply explicit cell edges to pcolor.\n",
      "  hy_m.pcolor(x_map, y_map, data=grid_array, cmap=plt.cm.jet,shading = 'auto',vmax=5,vmin=1,latlon = True)\n"
     ]
    },
    {
     "name": "stdout",
     "output_type": "stream",
     "text": [
      "now processed csv file D:\\python_workfile\\sea_ice_classification\\training6\\csv\\polarization_ratio\\20200227.csv\n",
      "D:\\python_workfile\\sea_ice_classification\\data\\mask\\aari\\proj\\pic\\True 20200227.png\n"
     ]
    },
    {
     "name": "stderr",
     "output_type": "stream",
     "text": [
      "C:\\Users\\Administrator\\AppData\\Local\\Temp/ipykernel_4248/2832217777.py:41: UserWarning: The input coordinates to pcolor are interpreted as cell centers, but are not monotonically increasing or decreasing. This may lead to incorrectly calculated cell edges, in which case, please supply explicit cell edges to pcolor.\n",
      "  hy_m.pcolor(x_map, y_map, data=grid_array, cmap=plt.cm.jet,shading = 'auto',vmax=5,vmin=1,latlon = True)\n"
     ]
    },
    {
     "name": "stdout",
     "output_type": "stream",
     "text": [
      "now processed csv file D:\\python_workfile\\sea_ice_classification\\training6\\csv\\polarization_ratio\\20200228.csv\n",
      "D:\\python_workfile\\sea_ice_classification\\data\\mask\\aari\\proj\\pic\\True 20200228.png\n"
     ]
    },
    {
     "name": "stderr",
     "output_type": "stream",
     "text": [
      "C:\\Users\\Administrator\\AppData\\Local\\Temp/ipykernel_4248/2832217777.py:41: UserWarning: The input coordinates to pcolor are interpreted as cell centers, but are not monotonically increasing or decreasing. This may lead to incorrectly calculated cell edges, in which case, please supply explicit cell edges to pcolor.\n",
      "  hy_m.pcolor(x_map, y_map, data=grid_array, cmap=plt.cm.jet,shading = 'auto',vmax=5,vmin=1,latlon = True)\n"
     ]
    },
    {
     "name": "stdout",
     "output_type": "stream",
     "text": [
      "now processed csv file D:\\python_workfile\\sea_ice_classification\\training6\\csv\\polarization_ratio\\20200229.csv\n",
      "D:\\python_workfile\\sea_ice_classification\\data\\mask\\aari\\proj\\pic\\True 20200229.png\n"
     ]
    },
    {
     "name": "stderr",
     "output_type": "stream",
     "text": [
      "C:\\Users\\Administrator\\AppData\\Local\\Temp/ipykernel_4248/2832217777.py:41: UserWarning: The input coordinates to pcolor are interpreted as cell centers, but are not monotonically increasing or decreasing. This may lead to incorrectly calculated cell edges, in which case, please supply explicit cell edges to pcolor.\n",
      "  hy_m.pcolor(x_map, y_map, data=grid_array, cmap=plt.cm.jet,shading = 'auto',vmax=5,vmin=1,latlon = True)\n"
     ]
    },
    {
     "name": "stdout",
     "output_type": "stream",
     "text": [
      "now processed csv file D:\\python_workfile\\sea_ice_classification\\training6\\csv\\polarization_ratio\\20200301.csv\n",
      "D:\\python_workfile\\sea_ice_classification\\data\\mask\\aari\\proj\\pic\\True 20200301.png\n"
     ]
    },
    {
     "name": "stderr",
     "output_type": "stream",
     "text": [
      "C:\\Users\\Administrator\\AppData\\Local\\Temp/ipykernel_4248/2832217777.py:41: UserWarning: The input coordinates to pcolor are interpreted as cell centers, but are not monotonically increasing or decreasing. This may lead to incorrectly calculated cell edges, in which case, please supply explicit cell edges to pcolor.\n",
      "  hy_m.pcolor(x_map, y_map, data=grid_array, cmap=plt.cm.jet,shading = 'auto',vmax=5,vmin=1,latlon = True)\n"
     ]
    },
    {
     "name": "stdout",
     "output_type": "stream",
     "text": [
      "now processed csv file D:\\python_workfile\\sea_ice_classification\\training6\\csv\\polarization_ratio\\20200302.csv\n",
      "D:\\python_workfile\\sea_ice_classification\\data\\mask\\aari\\proj\\pic\\True 20200302.png\n"
     ]
    },
    {
     "name": "stderr",
     "output_type": "stream",
     "text": [
      "C:\\Users\\Administrator\\AppData\\Local\\Temp/ipykernel_4248/2832217777.py:41: UserWarning: The input coordinates to pcolor are interpreted as cell centers, but are not monotonically increasing or decreasing. This may lead to incorrectly calculated cell edges, in which case, please supply explicit cell edges to pcolor.\n",
      "  hy_m.pcolor(x_map, y_map, data=grid_array, cmap=plt.cm.jet,shading = 'auto',vmax=5,vmin=1,latlon = True)\n"
     ]
    },
    {
     "name": "stdout",
     "output_type": "stream",
     "text": [
      "now processed csv file D:\\python_workfile\\sea_ice_classification\\training6\\csv\\polarization_ratio\\20200303.csv\n",
      "D:\\python_workfile\\sea_ice_classification\\data\\mask\\aari\\proj\\pic\\True 20200303.png\n"
     ]
    },
    {
     "name": "stderr",
     "output_type": "stream",
     "text": [
      "C:\\Users\\Administrator\\AppData\\Local\\Temp/ipykernel_4248/2832217777.py:41: UserWarning: The input coordinates to pcolor are interpreted as cell centers, but are not monotonically increasing or decreasing. This may lead to incorrectly calculated cell edges, in which case, please supply explicit cell edges to pcolor.\n",
      "  hy_m.pcolor(x_map, y_map, data=grid_array, cmap=plt.cm.jet,shading = 'auto',vmax=5,vmin=1,latlon = True)\n"
     ]
    },
    {
     "name": "stdout",
     "output_type": "stream",
     "text": [
      "now processed csv file D:\\python_workfile\\sea_ice_classification\\training6\\csv\\polarization_ratio\\20200304.csv\n",
      "D:\\python_workfile\\sea_ice_classification\\data\\mask\\aari\\proj\\pic\\True 20200304.png\n"
     ]
    },
    {
     "name": "stderr",
     "output_type": "stream",
     "text": [
      "C:\\Users\\Administrator\\AppData\\Local\\Temp/ipykernel_4248/2832217777.py:41: UserWarning: The input coordinates to pcolor are interpreted as cell centers, but are not monotonically increasing or decreasing. This may lead to incorrectly calculated cell edges, in which case, please supply explicit cell edges to pcolor.\n",
      "  hy_m.pcolor(x_map, y_map, data=grid_array, cmap=plt.cm.jet,shading = 'auto',vmax=5,vmin=1,latlon = True)\n"
     ]
    },
    {
     "name": "stdout",
     "output_type": "stream",
     "text": [
      "now processed csv file D:\\python_workfile\\sea_ice_classification\\training6\\csv\\polarization_ratio\\20200305.csv\n",
      "D:\\python_workfile\\sea_ice_classification\\data\\mask\\aari\\proj\\pic\\True 20200305.png\n"
     ]
    },
    {
     "name": "stderr",
     "output_type": "stream",
     "text": [
      "C:\\Users\\Administrator\\AppData\\Local\\Temp/ipykernel_4248/2832217777.py:41: UserWarning: The input coordinates to pcolor are interpreted as cell centers, but are not monotonically increasing or decreasing. This may lead to incorrectly calculated cell edges, in which case, please supply explicit cell edges to pcolor.\n",
      "  hy_m.pcolor(x_map, y_map, data=grid_array, cmap=plt.cm.jet,shading = 'auto',vmax=5,vmin=1,latlon = True)\n"
     ]
    },
    {
     "name": "stdout",
     "output_type": "stream",
     "text": [
      "now processed csv file D:\\python_workfile\\sea_ice_classification\\training6\\csv\\polarization_ratio\\20200306.csv\n",
      "D:\\python_workfile\\sea_ice_classification\\data\\mask\\aari\\proj\\pic\\True 20200306.png\n"
     ]
    },
    {
     "name": "stderr",
     "output_type": "stream",
     "text": [
      "C:\\Users\\Administrator\\AppData\\Local\\Temp/ipykernel_4248/2832217777.py:41: UserWarning: The input coordinates to pcolor are interpreted as cell centers, but are not monotonically increasing or decreasing. This may lead to incorrectly calculated cell edges, in which case, please supply explicit cell edges to pcolor.\n",
      "  hy_m.pcolor(x_map, y_map, data=grid_array, cmap=plt.cm.jet,shading = 'auto',vmax=5,vmin=1,latlon = True)\n"
     ]
    },
    {
     "name": "stdout",
     "output_type": "stream",
     "text": [
      "now processed csv file D:\\python_workfile\\sea_ice_classification\\training6\\csv\\polarization_ratio\\20200307.csv\n",
      "D:\\python_workfile\\sea_ice_classification\\data\\mask\\aari\\proj\\pic\\True 20200307.png\n"
     ]
    },
    {
     "name": "stderr",
     "output_type": "stream",
     "text": [
      "C:\\Users\\Administrator\\AppData\\Local\\Temp/ipykernel_4248/2832217777.py:41: UserWarning: The input coordinates to pcolor are interpreted as cell centers, but are not monotonically increasing or decreasing. This may lead to incorrectly calculated cell edges, in which case, please supply explicit cell edges to pcolor.\n",
      "  hy_m.pcolor(x_map, y_map, data=grid_array, cmap=plt.cm.jet,shading = 'auto',vmax=5,vmin=1,latlon = True)\n"
     ]
    },
    {
     "name": "stdout",
     "output_type": "stream",
     "text": [
      "now processed csv file D:\\python_workfile\\sea_ice_classification\\training6\\csv\\polarization_ratio\\20200308.csv\n",
      "D:\\python_workfile\\sea_ice_classification\\data\\mask\\aari\\proj\\pic\\True 20200308.png\n"
     ]
    },
    {
     "name": "stderr",
     "output_type": "stream",
     "text": [
      "C:\\Users\\Administrator\\AppData\\Local\\Temp/ipykernel_4248/2832217777.py:41: UserWarning: The input coordinates to pcolor are interpreted as cell centers, but are not monotonically increasing or decreasing. This may lead to incorrectly calculated cell edges, in which case, please supply explicit cell edges to pcolor.\n",
      "  hy_m.pcolor(x_map, y_map, data=grid_array, cmap=plt.cm.jet,shading = 'auto',vmax=5,vmin=1,latlon = True)\n"
     ]
    },
    {
     "name": "stdout",
     "output_type": "stream",
     "text": [
      "now processed csv file D:\\python_workfile\\sea_ice_classification\\training6\\csv\\polarization_ratio\\20200309.csv\n",
      "D:\\python_workfile\\sea_ice_classification\\data\\mask\\aari\\proj\\pic\\True 20200309.png\n"
     ]
    },
    {
     "name": "stderr",
     "output_type": "stream",
     "text": [
      "C:\\Users\\Administrator\\AppData\\Local\\Temp/ipykernel_4248/2832217777.py:41: UserWarning: The input coordinates to pcolor are interpreted as cell centers, but are not monotonically increasing or decreasing. This may lead to incorrectly calculated cell edges, in which case, please supply explicit cell edges to pcolor.\n",
      "  hy_m.pcolor(x_map, y_map, data=grid_array, cmap=plt.cm.jet,shading = 'auto',vmax=5,vmin=1,latlon = True)\n"
     ]
    },
    {
     "name": "stdout",
     "output_type": "stream",
     "text": [
      "now processed csv file D:\\python_workfile\\sea_ice_classification\\training6\\csv\\polarization_ratio\\20200310.csv\n",
      "D:\\python_workfile\\sea_ice_classification\\data\\mask\\aari\\proj\\pic\\True 20200310.png\n"
     ]
    },
    {
     "name": "stderr",
     "output_type": "stream",
     "text": [
      "C:\\Users\\Administrator\\AppData\\Local\\Temp/ipykernel_4248/2832217777.py:41: UserWarning: The input coordinates to pcolor are interpreted as cell centers, but are not monotonically increasing or decreasing. This may lead to incorrectly calculated cell edges, in which case, please supply explicit cell edges to pcolor.\n",
      "  hy_m.pcolor(x_map, y_map, data=grid_array, cmap=plt.cm.jet,shading = 'auto',vmax=5,vmin=1,latlon = True)\n"
     ]
    },
    {
     "name": "stdout",
     "output_type": "stream",
     "text": [
      "now processed csv file D:\\python_workfile\\sea_ice_classification\\training6\\csv\\polarization_ratio\\20200311.csv\n",
      "D:\\python_workfile\\sea_ice_classification\\data\\mask\\aari\\proj\\pic\\True 20200311.png\n"
     ]
    },
    {
     "name": "stderr",
     "output_type": "stream",
     "text": [
      "C:\\Users\\Administrator\\AppData\\Local\\Temp/ipykernel_4248/2832217777.py:41: UserWarning: The input coordinates to pcolor are interpreted as cell centers, but are not monotonically increasing or decreasing. This may lead to incorrectly calculated cell edges, in which case, please supply explicit cell edges to pcolor.\n",
      "  hy_m.pcolor(x_map, y_map, data=grid_array, cmap=plt.cm.jet,shading = 'auto',vmax=5,vmin=1,latlon = True)\n"
     ]
    },
    {
     "name": "stdout",
     "output_type": "stream",
     "text": [
      "now processed csv file D:\\python_workfile\\sea_ice_classification\\training6\\csv\\polarization_ratio\\20200312.csv\n",
      "D:\\python_workfile\\sea_ice_classification\\data\\mask\\aari\\proj\\pic\\True 20200312.png\n"
     ]
    },
    {
     "name": "stderr",
     "output_type": "stream",
     "text": [
      "C:\\Users\\Administrator\\AppData\\Local\\Temp/ipykernel_4248/2832217777.py:41: UserWarning: The input coordinates to pcolor are interpreted as cell centers, but are not monotonically increasing or decreasing. This may lead to incorrectly calculated cell edges, in which case, please supply explicit cell edges to pcolor.\n",
      "  hy_m.pcolor(x_map, y_map, data=grid_array, cmap=plt.cm.jet,shading = 'auto',vmax=5,vmin=1,latlon = True)\n"
     ]
    },
    {
     "name": "stdout",
     "output_type": "stream",
     "text": [
      "now processed csv file D:\\python_workfile\\sea_ice_classification\\training6\\csv\\polarization_ratio\\20200313.csv\n",
      "D:\\python_workfile\\sea_ice_classification\\data\\mask\\aari\\proj\\pic\\True 20200313.png\n"
     ]
    },
    {
     "name": "stderr",
     "output_type": "stream",
     "text": [
      "C:\\Users\\Administrator\\AppData\\Local\\Temp/ipykernel_4248/2832217777.py:41: UserWarning: The input coordinates to pcolor are interpreted as cell centers, but are not monotonically increasing or decreasing. This may lead to incorrectly calculated cell edges, in which case, please supply explicit cell edges to pcolor.\n",
      "  hy_m.pcolor(x_map, y_map, data=grid_array, cmap=plt.cm.jet,shading = 'auto',vmax=5,vmin=1,latlon = True)\n"
     ]
    },
    {
     "name": "stdout",
     "output_type": "stream",
     "text": [
      "now processed csv file D:\\python_workfile\\sea_ice_classification\\training6\\csv\\polarization_ratio\\20200314.csv\n",
      "D:\\python_workfile\\sea_ice_classification\\data\\mask\\aari\\proj\\pic\\True 20200314.png\n"
     ]
    },
    {
     "name": "stderr",
     "output_type": "stream",
     "text": [
      "C:\\Users\\Administrator\\AppData\\Local\\Temp/ipykernel_4248/2832217777.py:41: UserWarning: The input coordinates to pcolor are interpreted as cell centers, but are not monotonically increasing or decreasing. This may lead to incorrectly calculated cell edges, in which case, please supply explicit cell edges to pcolor.\n",
      "  hy_m.pcolor(x_map, y_map, data=grid_array, cmap=plt.cm.jet,shading = 'auto',vmax=5,vmin=1,latlon = True)\n"
     ]
    },
    {
     "name": "stdout",
     "output_type": "stream",
     "text": [
      "now processed csv file D:\\python_workfile\\sea_ice_classification\\training6\\csv\\polarization_ratio\\20200315.csv\n",
      "D:\\python_workfile\\sea_ice_classification\\data\\mask\\aari\\proj\\pic\\True 20200315.png\n"
     ]
    },
    {
     "name": "stderr",
     "output_type": "stream",
     "text": [
      "C:\\Users\\Administrator\\AppData\\Local\\Temp/ipykernel_4248/2832217777.py:41: UserWarning: The input coordinates to pcolor are interpreted as cell centers, but are not monotonically increasing or decreasing. This may lead to incorrectly calculated cell edges, in which case, please supply explicit cell edges to pcolor.\n",
      "  hy_m.pcolor(x_map, y_map, data=grid_array, cmap=plt.cm.jet,shading = 'auto',vmax=5,vmin=1,latlon = True)\n"
     ]
    },
    {
     "name": "stdout",
     "output_type": "stream",
     "text": [
      "now processed csv file D:\\python_workfile\\sea_ice_classification\\training6\\csv\\polarization_ratio\\20200316.csv\n",
      "D:\\python_workfile\\sea_ice_classification\\data\\mask\\aari\\proj\\pic\\True 20200316.png\n"
     ]
    },
    {
     "name": "stderr",
     "output_type": "stream",
     "text": [
      "C:\\Users\\Administrator\\AppData\\Local\\Temp/ipykernel_4248/2832217777.py:41: UserWarning: The input coordinates to pcolor are interpreted as cell centers, but are not monotonically increasing or decreasing. This may lead to incorrectly calculated cell edges, in which case, please supply explicit cell edges to pcolor.\n",
      "  hy_m.pcolor(x_map, y_map, data=grid_array, cmap=plt.cm.jet,shading = 'auto',vmax=5,vmin=1,latlon = True)\n"
     ]
    },
    {
     "name": "stdout",
     "output_type": "stream",
     "text": [
      "now processed csv file D:\\python_workfile\\sea_ice_classification\\training6\\csv\\polarization_ratio\\20200317.csv\n",
      "D:\\python_workfile\\sea_ice_classification\\data\\mask\\aari\\proj\\pic\\True 20200317.png\n"
     ]
    },
    {
     "name": "stderr",
     "output_type": "stream",
     "text": [
      "C:\\Users\\Administrator\\AppData\\Local\\Temp/ipykernel_4248/2832217777.py:41: UserWarning: The input coordinates to pcolor are interpreted as cell centers, but are not monotonically increasing or decreasing. This may lead to incorrectly calculated cell edges, in which case, please supply explicit cell edges to pcolor.\n",
      "  hy_m.pcolor(x_map, y_map, data=grid_array, cmap=plt.cm.jet,shading = 'auto',vmax=5,vmin=1,latlon = True)\n"
     ]
    },
    {
     "name": "stdout",
     "output_type": "stream",
     "text": [
      "now processed csv file D:\\python_workfile\\sea_ice_classification\\training6\\csv\\polarization_ratio\\20200318.csv\n",
      "D:\\python_workfile\\sea_ice_classification\\data\\mask\\aari\\proj\\pic\\True 20200318.png\n"
     ]
    },
    {
     "name": "stderr",
     "output_type": "stream",
     "text": [
      "C:\\Users\\Administrator\\AppData\\Local\\Temp/ipykernel_4248/2832217777.py:41: UserWarning: The input coordinates to pcolor are interpreted as cell centers, but are not monotonically increasing or decreasing. This may lead to incorrectly calculated cell edges, in which case, please supply explicit cell edges to pcolor.\n",
      "  hy_m.pcolor(x_map, y_map, data=grid_array, cmap=plt.cm.jet,shading = 'auto',vmax=5,vmin=1,latlon = True)\n"
     ]
    },
    {
     "name": "stdout",
     "output_type": "stream",
     "text": [
      "now processed csv file D:\\python_workfile\\sea_ice_classification\\training6\\csv\\polarization_ratio\\20200319.csv\n",
      "D:\\python_workfile\\sea_ice_classification\\data\\mask\\aari\\proj\\pic\\True 20200319.png\n"
     ]
    },
    {
     "name": "stderr",
     "output_type": "stream",
     "text": [
      "C:\\Users\\Administrator\\AppData\\Local\\Temp/ipykernel_4248/2832217777.py:41: UserWarning: The input coordinates to pcolor are interpreted as cell centers, but are not monotonically increasing or decreasing. This may lead to incorrectly calculated cell edges, in which case, please supply explicit cell edges to pcolor.\n",
      "  hy_m.pcolor(x_map, y_map, data=grid_array, cmap=plt.cm.jet,shading = 'auto',vmax=5,vmin=1,latlon = True)\n"
     ]
    },
    {
     "name": "stdout",
     "output_type": "stream",
     "text": [
      "now processed csv file D:\\python_workfile\\sea_ice_classification\\training6\\csv\\polarization_ratio\\20200320.csv\n",
      "D:\\python_workfile\\sea_ice_classification\\data\\mask\\aari\\proj\\pic\\True 20200320.png\n"
     ]
    },
    {
     "name": "stderr",
     "output_type": "stream",
     "text": [
      "C:\\Users\\Administrator\\AppData\\Local\\Temp/ipykernel_4248/2832217777.py:41: UserWarning: The input coordinates to pcolor are interpreted as cell centers, but are not monotonically increasing or decreasing. This may lead to incorrectly calculated cell edges, in which case, please supply explicit cell edges to pcolor.\n",
      "  hy_m.pcolor(x_map, y_map, data=grid_array, cmap=plt.cm.jet,shading = 'auto',vmax=5,vmin=1,latlon = True)\n"
     ]
    },
    {
     "name": "stdout",
     "output_type": "stream",
     "text": [
      "now processed csv file D:\\python_workfile\\sea_ice_classification\\training6\\csv\\polarization_ratio\\20200321.csv\n",
      "D:\\python_workfile\\sea_ice_classification\\data\\mask\\aari\\proj\\pic\\True 20200321.png\n"
     ]
    },
    {
     "name": "stderr",
     "output_type": "stream",
     "text": [
      "C:\\Users\\Administrator\\AppData\\Local\\Temp/ipykernel_4248/2832217777.py:41: UserWarning: The input coordinates to pcolor are interpreted as cell centers, but are not monotonically increasing or decreasing. This may lead to incorrectly calculated cell edges, in which case, please supply explicit cell edges to pcolor.\n",
      "  hy_m.pcolor(x_map, y_map, data=grid_array, cmap=plt.cm.jet,shading = 'auto',vmax=5,vmin=1,latlon = True)\n"
     ]
    },
    {
     "name": "stdout",
     "output_type": "stream",
     "text": [
      "now processed csv file D:\\python_workfile\\sea_ice_classification\\training6\\csv\\polarization_ratio\\20200322.csv\n",
      "D:\\python_workfile\\sea_ice_classification\\data\\mask\\aari\\proj\\pic\\True 20200322.png\n"
     ]
    },
    {
     "name": "stderr",
     "output_type": "stream",
     "text": [
      "C:\\Users\\Administrator\\AppData\\Local\\Temp/ipykernel_4248/2832217777.py:41: UserWarning: The input coordinates to pcolor are interpreted as cell centers, but are not monotonically increasing or decreasing. This may lead to incorrectly calculated cell edges, in which case, please supply explicit cell edges to pcolor.\n",
      "  hy_m.pcolor(x_map, y_map, data=grid_array, cmap=plt.cm.jet,shading = 'auto',vmax=5,vmin=1,latlon = True)\n"
     ]
    },
    {
     "name": "stdout",
     "output_type": "stream",
     "text": [
      "now processed csv file D:\\python_workfile\\sea_ice_classification\\training6\\csv\\polarization_ratio\\20200323.csv\n",
      "D:\\python_workfile\\sea_ice_classification\\data\\mask\\aari\\proj\\pic\\True 20200323.png\n"
     ]
    },
    {
     "name": "stderr",
     "output_type": "stream",
     "text": [
      "C:\\Users\\Administrator\\AppData\\Local\\Temp/ipykernel_4248/2832217777.py:41: UserWarning: The input coordinates to pcolor are interpreted as cell centers, but are not monotonically increasing or decreasing. This may lead to incorrectly calculated cell edges, in which case, please supply explicit cell edges to pcolor.\n",
      "  hy_m.pcolor(x_map, y_map, data=grid_array, cmap=plt.cm.jet,shading = 'auto',vmax=5,vmin=1,latlon = True)\n"
     ]
    },
    {
     "name": "stdout",
     "output_type": "stream",
     "text": [
      "now processed csv file D:\\python_workfile\\sea_ice_classification\\training6\\csv\\polarization_ratio\\20200324.csv\n",
      "D:\\python_workfile\\sea_ice_classification\\data\\mask\\aari\\proj\\pic\\True 20200324.png\n"
     ]
    },
    {
     "name": "stderr",
     "output_type": "stream",
     "text": [
      "C:\\Users\\Administrator\\AppData\\Local\\Temp/ipykernel_4248/2832217777.py:41: UserWarning: The input coordinates to pcolor are interpreted as cell centers, but are not monotonically increasing or decreasing. This may lead to incorrectly calculated cell edges, in which case, please supply explicit cell edges to pcolor.\n",
      "  hy_m.pcolor(x_map, y_map, data=grid_array, cmap=plt.cm.jet,shading = 'auto',vmax=5,vmin=1,latlon = True)\n"
     ]
    },
    {
     "name": "stdout",
     "output_type": "stream",
     "text": [
      "now processed csv file D:\\python_workfile\\sea_ice_classification\\training6\\csv\\polarization_ratio\\20200325.csv\n",
      "D:\\python_workfile\\sea_ice_classification\\data\\mask\\aari\\proj\\pic\\True 20200325.png\n"
     ]
    },
    {
     "name": "stderr",
     "output_type": "stream",
     "text": [
      "C:\\Users\\Administrator\\AppData\\Local\\Temp/ipykernel_4248/2832217777.py:41: UserWarning: The input coordinates to pcolor are interpreted as cell centers, but are not monotonically increasing or decreasing. This may lead to incorrectly calculated cell edges, in which case, please supply explicit cell edges to pcolor.\n",
      "  hy_m.pcolor(x_map, y_map, data=grid_array, cmap=plt.cm.jet,shading = 'auto',vmax=5,vmin=1,latlon = True)\n"
     ]
    },
    {
     "name": "stdout",
     "output_type": "stream",
     "text": [
      "now processed csv file D:\\python_workfile\\sea_ice_classification\\training6\\csv\\polarization_ratio\\20200326.csv\n",
      "D:\\python_workfile\\sea_ice_classification\\data\\mask\\aari\\proj\\pic\\True 20200326.png\n"
     ]
    },
    {
     "name": "stderr",
     "output_type": "stream",
     "text": [
      "C:\\Users\\Administrator\\AppData\\Local\\Temp/ipykernel_4248/2832217777.py:41: UserWarning: The input coordinates to pcolor are interpreted as cell centers, but are not monotonically increasing or decreasing. This may lead to incorrectly calculated cell edges, in which case, please supply explicit cell edges to pcolor.\n",
      "  hy_m.pcolor(x_map, y_map, data=grid_array, cmap=plt.cm.jet,shading = 'auto',vmax=5,vmin=1,latlon = True)\n"
     ]
    },
    {
     "name": "stdout",
     "output_type": "stream",
     "text": [
      "now processed csv file D:\\python_workfile\\sea_ice_classification\\training6\\csv\\polarization_ratio\\20200327.csv\n",
      "D:\\python_workfile\\sea_ice_classification\\data\\mask\\aari\\proj\\pic\\True 20200327.png\n"
     ]
    },
    {
     "name": "stderr",
     "output_type": "stream",
     "text": [
      "C:\\Users\\Administrator\\AppData\\Local\\Temp/ipykernel_4248/2832217777.py:41: UserWarning: The input coordinates to pcolor are interpreted as cell centers, but are not monotonically increasing or decreasing. This may lead to incorrectly calculated cell edges, in which case, please supply explicit cell edges to pcolor.\n",
      "  hy_m.pcolor(x_map, y_map, data=grid_array, cmap=plt.cm.jet,shading = 'auto',vmax=5,vmin=1,latlon = True)\n"
     ]
    },
    {
     "name": "stdout",
     "output_type": "stream",
     "text": [
      "now processed csv file D:\\python_workfile\\sea_ice_classification\\training6\\csv\\polarization_ratio\\20200328.csv\n",
      "D:\\python_workfile\\sea_ice_classification\\data\\mask\\aari\\proj\\pic\\True 20200328.png\n"
     ]
    },
    {
     "name": "stderr",
     "output_type": "stream",
     "text": [
      "C:\\Users\\Administrator\\AppData\\Local\\Temp/ipykernel_4248/2832217777.py:41: UserWarning: The input coordinates to pcolor are interpreted as cell centers, but are not monotonically increasing or decreasing. This may lead to incorrectly calculated cell edges, in which case, please supply explicit cell edges to pcolor.\n",
      "  hy_m.pcolor(x_map, y_map, data=grid_array, cmap=plt.cm.jet,shading = 'auto',vmax=5,vmin=1,latlon = True)\n"
     ]
    },
    {
     "name": "stdout",
     "output_type": "stream",
     "text": [
      "now processed csv file D:\\python_workfile\\sea_ice_classification\\training6\\csv\\polarization_ratio\\20200329.csv\n",
      "D:\\python_workfile\\sea_ice_classification\\data\\mask\\aari\\proj\\pic\\True 20200329.png\n"
     ]
    },
    {
     "name": "stderr",
     "output_type": "stream",
     "text": [
      "C:\\Users\\Administrator\\AppData\\Local\\Temp/ipykernel_4248/2832217777.py:41: UserWarning: The input coordinates to pcolor are interpreted as cell centers, but are not monotonically increasing or decreasing. This may lead to incorrectly calculated cell edges, in which case, please supply explicit cell edges to pcolor.\n",
      "  hy_m.pcolor(x_map, y_map, data=grid_array, cmap=plt.cm.jet,shading = 'auto',vmax=5,vmin=1,latlon = True)\n"
     ]
    },
    {
     "name": "stdout",
     "output_type": "stream",
     "text": [
      "now processed csv file D:\\python_workfile\\sea_ice_classification\\training6\\csv\\polarization_ratio\\20200330.csv\n",
      "D:\\python_workfile\\sea_ice_classification\\data\\mask\\aari\\proj\\pic\\True 20200330.png\n"
     ]
    },
    {
     "name": "stderr",
     "output_type": "stream",
     "text": [
      "C:\\Users\\Administrator\\AppData\\Local\\Temp/ipykernel_4248/2832217777.py:41: UserWarning: The input coordinates to pcolor are interpreted as cell centers, but are not monotonically increasing or decreasing. This may lead to incorrectly calculated cell edges, in which case, please supply explicit cell edges to pcolor.\n",
      "  hy_m.pcolor(x_map, y_map, data=grid_array, cmap=plt.cm.jet,shading = 'auto',vmax=5,vmin=1,latlon = True)\n"
     ]
    },
    {
     "name": "stdout",
     "output_type": "stream",
     "text": [
      "now processed csv file D:\\python_workfile\\sea_ice_classification\\training6\\csv\\polarization_ratio\\20200331.csv\n",
      "D:\\python_workfile\\sea_ice_classification\\data\\mask\\aari\\proj\\pic\\True 20200331.png\n"
     ]
    },
    {
     "name": "stderr",
     "output_type": "stream",
     "text": [
      "C:\\Users\\Administrator\\AppData\\Local\\Temp/ipykernel_4248/2832217777.py:41: UserWarning: The input coordinates to pcolor are interpreted as cell centers, but are not monotonically increasing or decreasing. This may lead to incorrectly calculated cell edges, in which case, please supply explicit cell edges to pcolor.\n",
      "  hy_m.pcolor(x_map, y_map, data=grid_array, cmap=plt.cm.jet,shading = 'auto',vmax=5,vmin=1,latlon = True)\n"
     ]
    },
    {
     "name": "stdout",
     "output_type": "stream",
     "text": [
      "now processed csv file D:\\python_workfile\\sea_ice_classification\\training6\\csv\\polarization_ratio\\20200401.csv\n",
      "D:\\python_workfile\\sea_ice_classification\\data\\mask\\aari\\proj\\pic\\True 20200401.png\n"
     ]
    },
    {
     "name": "stderr",
     "output_type": "stream",
     "text": [
      "C:\\Users\\Administrator\\AppData\\Local\\Temp/ipykernel_4248/2832217777.py:41: UserWarning: The input coordinates to pcolor are interpreted as cell centers, but are not monotonically increasing or decreasing. This may lead to incorrectly calculated cell edges, in which case, please supply explicit cell edges to pcolor.\n",
      "  hy_m.pcolor(x_map, y_map, data=grid_array, cmap=plt.cm.jet,shading = 'auto',vmax=5,vmin=1,latlon = True)\n"
     ]
    },
    {
     "name": "stdout",
     "output_type": "stream",
     "text": [
      "now processed csv file D:\\python_workfile\\sea_ice_classification\\training6\\csv\\polarization_ratio\\20200402.csv\n",
      "D:\\python_workfile\\sea_ice_classification\\data\\mask\\aari\\proj\\pic\\True 20200402.png\n"
     ]
    },
    {
     "name": "stderr",
     "output_type": "stream",
     "text": [
      "C:\\Users\\Administrator\\AppData\\Local\\Temp/ipykernel_4248/2832217777.py:41: UserWarning: The input coordinates to pcolor are interpreted as cell centers, but are not monotonically increasing or decreasing. This may lead to incorrectly calculated cell edges, in which case, please supply explicit cell edges to pcolor.\n",
      "  hy_m.pcolor(x_map, y_map, data=grid_array, cmap=plt.cm.jet,shading = 'auto',vmax=5,vmin=1,latlon = True)\n"
     ]
    },
    {
     "name": "stdout",
     "output_type": "stream",
     "text": [
      "now processed csv file D:\\python_workfile\\sea_ice_classification\\training6\\csv\\polarization_ratio\\20200403.csv\n",
      "D:\\python_workfile\\sea_ice_classification\\data\\mask\\aari\\proj\\pic\\True 20200403.png\n"
     ]
    },
    {
     "name": "stderr",
     "output_type": "stream",
     "text": [
      "C:\\Users\\Administrator\\AppData\\Local\\Temp/ipykernel_4248/2832217777.py:41: UserWarning: The input coordinates to pcolor are interpreted as cell centers, but are not monotonically increasing or decreasing. This may lead to incorrectly calculated cell edges, in which case, please supply explicit cell edges to pcolor.\n",
      "  hy_m.pcolor(x_map, y_map, data=grid_array, cmap=plt.cm.jet,shading = 'auto',vmax=5,vmin=1,latlon = True)\n"
     ]
    },
    {
     "name": "stdout",
     "output_type": "stream",
     "text": [
      "now processed csv file D:\\python_workfile\\sea_ice_classification\\training6\\csv\\polarization_ratio\\20200404.csv\n",
      "D:\\python_workfile\\sea_ice_classification\\data\\mask\\aari\\proj\\pic\\True 20200404.png\n"
     ]
    },
    {
     "name": "stderr",
     "output_type": "stream",
     "text": [
      "C:\\Users\\Administrator\\AppData\\Local\\Temp/ipykernel_4248/2832217777.py:41: UserWarning: The input coordinates to pcolor are interpreted as cell centers, but are not monotonically increasing or decreasing. This may lead to incorrectly calculated cell edges, in which case, please supply explicit cell edges to pcolor.\n",
      "  hy_m.pcolor(x_map, y_map, data=grid_array, cmap=plt.cm.jet,shading = 'auto',vmax=5,vmin=1,latlon = True)\n"
     ]
    },
    {
     "name": "stdout",
     "output_type": "stream",
     "text": [
      "now processed csv file D:\\python_workfile\\sea_ice_classification\\training6\\csv\\polarization_ratio\\20200405.csv\n",
      "D:\\python_workfile\\sea_ice_classification\\data\\mask\\aari\\proj\\pic\\True 20200405.png\n"
     ]
    },
    {
     "name": "stderr",
     "output_type": "stream",
     "text": [
      "C:\\Users\\Administrator\\AppData\\Local\\Temp/ipykernel_4248/2832217777.py:41: UserWarning: The input coordinates to pcolor are interpreted as cell centers, but are not monotonically increasing or decreasing. This may lead to incorrectly calculated cell edges, in which case, please supply explicit cell edges to pcolor.\n",
      "  hy_m.pcolor(x_map, y_map, data=grid_array, cmap=plt.cm.jet,shading = 'auto',vmax=5,vmin=1,latlon = True)\n"
     ]
    },
    {
     "name": "stdout",
     "output_type": "stream",
     "text": [
      "now processed csv file D:\\python_workfile\\sea_ice_classification\\training6\\csv\\polarization_ratio\\20200406.csv\n",
      "D:\\python_workfile\\sea_ice_classification\\data\\mask\\aari\\proj\\pic\\True 20200406.png\n"
     ]
    },
    {
     "name": "stderr",
     "output_type": "stream",
     "text": [
      "C:\\Users\\Administrator\\AppData\\Local\\Temp/ipykernel_4248/2832217777.py:41: UserWarning: The input coordinates to pcolor are interpreted as cell centers, but are not monotonically increasing or decreasing. This may lead to incorrectly calculated cell edges, in which case, please supply explicit cell edges to pcolor.\n",
      "  hy_m.pcolor(x_map, y_map, data=grid_array, cmap=plt.cm.jet,shading = 'auto',vmax=5,vmin=1,latlon = True)\n"
     ]
    },
    {
     "name": "stdout",
     "output_type": "stream",
     "text": [
      "now processed csv file D:\\python_workfile\\sea_ice_classification\\training6\\csv\\polarization_ratio\\20200407.csv\n",
      "D:\\python_workfile\\sea_ice_classification\\data\\mask\\aari\\proj\\pic\\True 20200407.png\n"
     ]
    },
    {
     "name": "stderr",
     "output_type": "stream",
     "text": [
      "C:\\Users\\Administrator\\AppData\\Local\\Temp/ipykernel_4248/2832217777.py:41: UserWarning: The input coordinates to pcolor are interpreted as cell centers, but are not monotonically increasing or decreasing. This may lead to incorrectly calculated cell edges, in which case, please supply explicit cell edges to pcolor.\n",
      "  hy_m.pcolor(x_map, y_map, data=grid_array, cmap=plt.cm.jet,shading = 'auto',vmax=5,vmin=1,latlon = True)\n"
     ]
    },
    {
     "name": "stdout",
     "output_type": "stream",
     "text": [
      "now processed csv file D:\\python_workfile\\sea_ice_classification\\training6\\csv\\polarization_ratio\\20200408.csv\n",
      "D:\\python_workfile\\sea_ice_classification\\data\\mask\\aari\\proj\\pic\\True 20200408.png\n"
     ]
    },
    {
     "name": "stderr",
     "output_type": "stream",
     "text": [
      "C:\\Users\\Administrator\\AppData\\Local\\Temp/ipykernel_4248/2832217777.py:41: UserWarning: The input coordinates to pcolor are interpreted as cell centers, but are not monotonically increasing or decreasing. This may lead to incorrectly calculated cell edges, in which case, please supply explicit cell edges to pcolor.\n",
      "  hy_m.pcolor(x_map, y_map, data=grid_array, cmap=plt.cm.jet,shading = 'auto',vmax=5,vmin=1,latlon = True)\n"
     ]
    },
    {
     "name": "stdout",
     "output_type": "stream",
     "text": [
      "now processed csv file D:\\python_workfile\\sea_ice_classification\\training6\\csv\\polarization_ratio\\20200409.csv\n",
      "D:\\python_workfile\\sea_ice_classification\\data\\mask\\aari\\proj\\pic\\True 20200409.png\n"
     ]
    },
    {
     "name": "stderr",
     "output_type": "stream",
     "text": [
      "C:\\Users\\Administrator\\AppData\\Local\\Temp/ipykernel_4248/2832217777.py:41: UserWarning: The input coordinates to pcolor are interpreted as cell centers, but are not monotonically increasing or decreasing. This may lead to incorrectly calculated cell edges, in which case, please supply explicit cell edges to pcolor.\n",
      "  hy_m.pcolor(x_map, y_map, data=grid_array, cmap=plt.cm.jet,shading = 'auto',vmax=5,vmin=1,latlon = True)\n"
     ]
    },
    {
     "name": "stdout",
     "output_type": "stream",
     "text": [
      "now processed csv file D:\\python_workfile\\sea_ice_classification\\training6\\csv\\polarization_ratio\\20200410.csv\n",
      "D:\\python_workfile\\sea_ice_classification\\data\\mask\\aari\\proj\\pic\\True 20200410.png\n"
     ]
    },
    {
     "name": "stderr",
     "output_type": "stream",
     "text": [
      "C:\\Users\\Administrator\\AppData\\Local\\Temp/ipykernel_4248/2832217777.py:41: UserWarning: The input coordinates to pcolor are interpreted as cell centers, but are not monotonically increasing or decreasing. This may lead to incorrectly calculated cell edges, in which case, please supply explicit cell edges to pcolor.\n",
      "  hy_m.pcolor(x_map, y_map, data=grid_array, cmap=plt.cm.jet,shading = 'auto',vmax=5,vmin=1,latlon = True)\n"
     ]
    },
    {
     "name": "stdout",
     "output_type": "stream",
     "text": [
      "now processed csv file D:\\python_workfile\\sea_ice_classification\\training6\\csv\\polarization_ratio\\20200411.csv\n",
      "D:\\python_workfile\\sea_ice_classification\\data\\mask\\aari\\proj\\pic\\True 20200411.png\n"
     ]
    },
    {
     "name": "stderr",
     "output_type": "stream",
     "text": [
      "C:\\Users\\Administrator\\AppData\\Local\\Temp/ipykernel_4248/2832217777.py:41: UserWarning: The input coordinates to pcolor are interpreted as cell centers, but are not monotonically increasing or decreasing. This may lead to incorrectly calculated cell edges, in which case, please supply explicit cell edges to pcolor.\n",
      "  hy_m.pcolor(x_map, y_map, data=grid_array, cmap=plt.cm.jet,shading = 'auto',vmax=5,vmin=1,latlon = True)\n"
     ]
    },
    {
     "name": "stdout",
     "output_type": "stream",
     "text": [
      "now processed csv file D:\\python_workfile\\sea_ice_classification\\training6\\csv\\polarization_ratio\\20200412.csv\n",
      "D:\\python_workfile\\sea_ice_classification\\data\\mask\\aari\\proj\\pic\\True 20200412.png\n"
     ]
    },
    {
     "name": "stderr",
     "output_type": "stream",
     "text": [
      "C:\\Users\\Administrator\\AppData\\Local\\Temp/ipykernel_4248/2832217777.py:41: UserWarning: The input coordinates to pcolor are interpreted as cell centers, but are not monotonically increasing or decreasing. This may lead to incorrectly calculated cell edges, in which case, please supply explicit cell edges to pcolor.\n",
      "  hy_m.pcolor(x_map, y_map, data=grid_array, cmap=plt.cm.jet,shading = 'auto',vmax=5,vmin=1,latlon = True)\n"
     ]
    },
    {
     "name": "stdout",
     "output_type": "stream",
     "text": [
      "now processed csv file D:\\python_workfile\\sea_ice_classification\\training6\\csv\\polarization_ratio\\20200413.csv\n",
      "D:\\python_workfile\\sea_ice_classification\\data\\mask\\aari\\proj\\pic\\True 20200413.png\n"
     ]
    },
    {
     "name": "stderr",
     "output_type": "stream",
     "text": [
      "C:\\Users\\Administrator\\AppData\\Local\\Temp/ipykernel_4248/2832217777.py:41: UserWarning: The input coordinates to pcolor are interpreted as cell centers, but are not monotonically increasing or decreasing. This may lead to incorrectly calculated cell edges, in which case, please supply explicit cell edges to pcolor.\n",
      "  hy_m.pcolor(x_map, y_map, data=grid_array, cmap=plt.cm.jet,shading = 'auto',vmax=5,vmin=1,latlon = True)\n"
     ]
    },
    {
     "name": "stdout",
     "output_type": "stream",
     "text": [
      "now processed csv file D:\\python_workfile\\sea_ice_classification\\training6\\csv\\polarization_ratio\\20200414.csv\n",
      "D:\\python_workfile\\sea_ice_classification\\data\\mask\\aari\\proj\\pic\\True 20200414.png\n"
     ]
    },
    {
     "name": "stderr",
     "output_type": "stream",
     "text": [
      "C:\\Users\\Administrator\\AppData\\Local\\Temp/ipykernel_4248/2832217777.py:41: UserWarning: The input coordinates to pcolor are interpreted as cell centers, but are not monotonically increasing or decreasing. This may lead to incorrectly calculated cell edges, in which case, please supply explicit cell edges to pcolor.\n",
      "  hy_m.pcolor(x_map, y_map, data=grid_array, cmap=plt.cm.jet,shading = 'auto',vmax=5,vmin=1,latlon = True)\n"
     ]
    },
    {
     "name": "stdout",
     "output_type": "stream",
     "text": [
      "now processed csv file D:\\python_workfile\\sea_ice_classification\\training6\\csv\\polarization_ratio\\20200415.csv\n",
      "D:\\python_workfile\\sea_ice_classification\\data\\mask\\aari\\proj\\pic\\True 20200415.png\n"
     ]
    },
    {
     "name": "stderr",
     "output_type": "stream",
     "text": [
      "C:\\Users\\Administrator\\AppData\\Local\\Temp/ipykernel_4248/2832217777.py:41: UserWarning: The input coordinates to pcolor are interpreted as cell centers, but are not monotonically increasing or decreasing. This may lead to incorrectly calculated cell edges, in which case, please supply explicit cell edges to pcolor.\n",
      "  hy_m.pcolor(x_map, y_map, data=grid_array, cmap=plt.cm.jet,shading = 'auto',vmax=5,vmin=1,latlon = True)\n"
     ]
    },
    {
     "name": "stdout",
     "output_type": "stream",
     "text": [
      "now processed csv file D:\\python_workfile\\sea_ice_classification\\training6\\csv\\polarization_ratio\\20200416.csv\n",
      "D:\\python_workfile\\sea_ice_classification\\data\\mask\\aari\\proj\\pic\\True 20200416.png\n"
     ]
    },
    {
     "name": "stderr",
     "output_type": "stream",
     "text": [
      "C:\\Users\\Administrator\\AppData\\Local\\Temp/ipykernel_4248/2832217777.py:41: UserWarning: The input coordinates to pcolor are interpreted as cell centers, but are not monotonically increasing or decreasing. This may lead to incorrectly calculated cell edges, in which case, please supply explicit cell edges to pcolor.\n",
      "  hy_m.pcolor(x_map, y_map, data=grid_array, cmap=plt.cm.jet,shading = 'auto',vmax=5,vmin=1,latlon = True)\n"
     ]
    },
    {
     "name": "stdout",
     "output_type": "stream",
     "text": [
      "now processed csv file D:\\python_workfile\\sea_ice_classification\\training6\\csv\\polarization_ratio\\20200417.csv\n",
      "D:\\python_workfile\\sea_ice_classification\\data\\mask\\aari\\proj\\pic\\True 20200417.png\n"
     ]
    },
    {
     "name": "stderr",
     "output_type": "stream",
     "text": [
      "C:\\Users\\Administrator\\AppData\\Local\\Temp/ipykernel_4248/2832217777.py:41: UserWarning: The input coordinates to pcolor are interpreted as cell centers, but are not monotonically increasing or decreasing. This may lead to incorrectly calculated cell edges, in which case, please supply explicit cell edges to pcolor.\n",
      "  hy_m.pcolor(x_map, y_map, data=grid_array, cmap=plt.cm.jet,shading = 'auto',vmax=5,vmin=1,latlon = True)\n"
     ]
    },
    {
     "name": "stdout",
     "output_type": "stream",
     "text": [
      "now processed csv file D:\\python_workfile\\sea_ice_classification\\training6\\csv\\polarization_ratio\\20200418.csv\n",
      "D:\\python_workfile\\sea_ice_classification\\data\\mask\\aari\\proj\\pic\\True 20200418.png\n"
     ]
    },
    {
     "name": "stderr",
     "output_type": "stream",
     "text": [
      "C:\\Users\\Administrator\\AppData\\Local\\Temp/ipykernel_4248/2832217777.py:41: UserWarning: The input coordinates to pcolor are interpreted as cell centers, but are not monotonically increasing or decreasing. This may lead to incorrectly calculated cell edges, in which case, please supply explicit cell edges to pcolor.\n",
      "  hy_m.pcolor(x_map, y_map, data=grid_array, cmap=plt.cm.jet,shading = 'auto',vmax=5,vmin=1,latlon = True)\n"
     ]
    },
    {
     "name": "stdout",
     "output_type": "stream",
     "text": [
      "now processed csv file D:\\python_workfile\\sea_ice_classification\\training6\\csv\\polarization_ratio\\20200419.csv\n",
      "D:\\python_workfile\\sea_ice_classification\\data\\mask\\aari\\proj\\pic\\True 20200419.png\n"
     ]
    },
    {
     "name": "stderr",
     "output_type": "stream",
     "text": [
      "C:\\Users\\Administrator\\AppData\\Local\\Temp/ipykernel_4248/2832217777.py:41: UserWarning: The input coordinates to pcolor are interpreted as cell centers, but are not monotonically increasing or decreasing. This may lead to incorrectly calculated cell edges, in which case, please supply explicit cell edges to pcolor.\n",
      "  hy_m.pcolor(x_map, y_map, data=grid_array, cmap=plt.cm.jet,shading = 'auto',vmax=5,vmin=1,latlon = True)\n"
     ]
    },
    {
     "name": "stdout",
     "output_type": "stream",
     "text": [
      "now processed csv file D:\\python_workfile\\sea_ice_classification\\training6\\csv\\polarization_ratio\\20200420.csv\n",
      "D:\\python_workfile\\sea_ice_classification\\data\\mask\\aari\\proj\\pic\\True 20200420.png\n"
     ]
    },
    {
     "name": "stderr",
     "output_type": "stream",
     "text": [
      "C:\\Users\\Administrator\\AppData\\Local\\Temp/ipykernel_4248/2832217777.py:41: UserWarning: The input coordinates to pcolor are interpreted as cell centers, but are not monotonically increasing or decreasing. This may lead to incorrectly calculated cell edges, in which case, please supply explicit cell edges to pcolor.\n",
      "  hy_m.pcolor(x_map, y_map, data=grid_array, cmap=plt.cm.jet,shading = 'auto',vmax=5,vmin=1,latlon = True)\n"
     ]
    },
    {
     "name": "stdout",
     "output_type": "stream",
     "text": [
      "now processed csv file D:\\python_workfile\\sea_ice_classification\\training6\\csv\\polarization_ratio\\20200421.csv\n",
      "D:\\python_workfile\\sea_ice_classification\\data\\mask\\aari\\proj\\pic\\True 20200421.png\n"
     ]
    },
    {
     "name": "stderr",
     "output_type": "stream",
     "text": [
      "C:\\Users\\Administrator\\AppData\\Local\\Temp/ipykernel_4248/2832217777.py:41: UserWarning: The input coordinates to pcolor are interpreted as cell centers, but are not monotonically increasing or decreasing. This may lead to incorrectly calculated cell edges, in which case, please supply explicit cell edges to pcolor.\n",
      "  hy_m.pcolor(x_map, y_map, data=grid_array, cmap=plt.cm.jet,shading = 'auto',vmax=5,vmin=1,latlon = True)\n"
     ]
    },
    {
     "name": "stdout",
     "output_type": "stream",
     "text": [
      "now processed csv file D:\\python_workfile\\sea_ice_classification\\training6\\csv\\polarization_ratio\\20200422.csv\n",
      "D:\\python_workfile\\sea_ice_classification\\data\\mask\\aari\\proj\\pic\\True 20200422.png\n"
     ]
    },
    {
     "name": "stderr",
     "output_type": "stream",
     "text": [
      "C:\\Users\\Administrator\\AppData\\Local\\Temp/ipykernel_4248/2832217777.py:41: UserWarning: The input coordinates to pcolor are interpreted as cell centers, but are not monotonically increasing or decreasing. This may lead to incorrectly calculated cell edges, in which case, please supply explicit cell edges to pcolor.\n",
      "  hy_m.pcolor(x_map, y_map, data=grid_array, cmap=plt.cm.jet,shading = 'auto',vmax=5,vmin=1,latlon = True)\n"
     ]
    },
    {
     "name": "stdout",
     "output_type": "stream",
     "text": [
      "now processed csv file D:\\python_workfile\\sea_ice_classification\\training6\\csv\\polarization_ratio\\20200423.csv\n",
      "D:\\python_workfile\\sea_ice_classification\\data\\mask\\aari\\proj\\pic\\True 20200423.png\n"
     ]
    },
    {
     "name": "stderr",
     "output_type": "stream",
     "text": [
      "C:\\Users\\Administrator\\AppData\\Local\\Temp/ipykernel_4248/2832217777.py:41: UserWarning: The input coordinates to pcolor are interpreted as cell centers, but are not monotonically increasing or decreasing. This may lead to incorrectly calculated cell edges, in which case, please supply explicit cell edges to pcolor.\n",
      "  hy_m.pcolor(x_map, y_map, data=grid_array, cmap=plt.cm.jet,shading = 'auto',vmax=5,vmin=1,latlon = True)\n"
     ]
    },
    {
     "name": "stdout",
     "output_type": "stream",
     "text": [
      "now processed csv file D:\\python_workfile\\sea_ice_classification\\training6\\csv\\polarization_ratio\\20200424.csv\n",
      "D:\\python_workfile\\sea_ice_classification\\data\\mask\\aari\\proj\\pic\\True 20200424.png\n"
     ]
    },
    {
     "name": "stderr",
     "output_type": "stream",
     "text": [
      "C:\\Users\\Administrator\\AppData\\Local\\Temp/ipykernel_4248/2832217777.py:41: UserWarning: The input coordinates to pcolor are interpreted as cell centers, but are not monotonically increasing or decreasing. This may lead to incorrectly calculated cell edges, in which case, please supply explicit cell edges to pcolor.\n",
      "  hy_m.pcolor(x_map, y_map, data=grid_array, cmap=plt.cm.jet,shading = 'auto',vmax=5,vmin=1,latlon = True)\n"
     ]
    },
    {
     "name": "stdout",
     "output_type": "stream",
     "text": [
      "now processed csv file D:\\python_workfile\\sea_ice_classification\\training6\\csv\\polarization_ratio\\20200425.csv\n",
      "D:\\python_workfile\\sea_ice_classification\\data\\mask\\aari\\proj\\pic\\True 20200425.png\n"
     ]
    },
    {
     "name": "stderr",
     "output_type": "stream",
     "text": [
      "C:\\Users\\Administrator\\AppData\\Local\\Temp/ipykernel_4248/2832217777.py:41: UserWarning: The input coordinates to pcolor are interpreted as cell centers, but are not monotonically increasing or decreasing. This may lead to incorrectly calculated cell edges, in which case, please supply explicit cell edges to pcolor.\n",
      "  hy_m.pcolor(x_map, y_map, data=grid_array, cmap=plt.cm.jet,shading = 'auto',vmax=5,vmin=1,latlon = True)\n"
     ]
    },
    {
     "name": "stdout",
     "output_type": "stream",
     "text": [
      "now processed csv file D:\\python_workfile\\sea_ice_classification\\training6\\csv\\polarization_ratio\\20200426.csv\n",
      "D:\\python_workfile\\sea_ice_classification\\data\\mask\\aari\\proj\\pic\\True 20200426.png\n"
     ]
    },
    {
     "name": "stderr",
     "output_type": "stream",
     "text": [
      "C:\\Users\\Administrator\\AppData\\Local\\Temp/ipykernel_4248/2832217777.py:41: UserWarning: The input coordinates to pcolor are interpreted as cell centers, but are not monotonically increasing or decreasing. This may lead to incorrectly calculated cell edges, in which case, please supply explicit cell edges to pcolor.\n",
      "  hy_m.pcolor(x_map, y_map, data=grid_array, cmap=plt.cm.jet,shading = 'auto',vmax=5,vmin=1,latlon = True)\n"
     ]
    },
    {
     "name": "stdout",
     "output_type": "stream",
     "text": [
      "now processed csv file D:\\python_workfile\\sea_ice_classification\\training6\\csv\\polarization_ratio\\20200427.csv\n",
      "D:\\python_workfile\\sea_ice_classification\\data\\mask\\aari\\proj\\pic\\True 20200427.png\n"
     ]
    },
    {
     "name": "stderr",
     "output_type": "stream",
     "text": [
      "C:\\Users\\Administrator\\AppData\\Local\\Temp/ipykernel_4248/2832217777.py:41: UserWarning: The input coordinates to pcolor are interpreted as cell centers, but are not monotonically increasing or decreasing. This may lead to incorrectly calculated cell edges, in which case, please supply explicit cell edges to pcolor.\n",
      "  hy_m.pcolor(x_map, y_map, data=grid_array, cmap=plt.cm.jet,shading = 'auto',vmax=5,vmin=1,latlon = True)\n"
     ]
    },
    {
     "name": "stdout",
     "output_type": "stream",
     "text": [
      "now processed csv file D:\\python_workfile\\sea_ice_classification\\training6\\csv\\polarization_ratio\\20200428.csv\n",
      "D:\\python_workfile\\sea_ice_classification\\data\\mask\\aari\\proj\\pic\\True 20200428.png\n"
     ]
    },
    {
     "name": "stderr",
     "output_type": "stream",
     "text": [
      "C:\\Users\\Administrator\\AppData\\Local\\Temp/ipykernel_4248/2832217777.py:41: UserWarning: The input coordinates to pcolor are interpreted as cell centers, but are not monotonically increasing or decreasing. This may lead to incorrectly calculated cell edges, in which case, please supply explicit cell edges to pcolor.\n",
      "  hy_m.pcolor(x_map, y_map, data=grid_array, cmap=plt.cm.jet,shading = 'auto',vmax=5,vmin=1,latlon = True)\n"
     ]
    },
    {
     "name": "stdout",
     "output_type": "stream",
     "text": [
      "now processed csv file D:\\python_workfile\\sea_ice_classification\\training6\\csv\\polarization_ratio\\20200429.csv\n",
      "D:\\python_workfile\\sea_ice_classification\\data\\mask\\aari\\proj\\pic\\True 20200429.png\n"
     ]
    },
    {
     "name": "stderr",
     "output_type": "stream",
     "text": [
      "C:\\Users\\Administrator\\AppData\\Local\\Temp/ipykernel_4248/2832217777.py:41: UserWarning: The input coordinates to pcolor are interpreted as cell centers, but are not monotonically increasing or decreasing. This may lead to incorrectly calculated cell edges, in which case, please supply explicit cell edges to pcolor.\n",
      "  hy_m.pcolor(x_map, y_map, data=grid_array, cmap=plt.cm.jet,shading = 'auto',vmax=5,vmin=1,latlon = True)\n"
     ]
    },
    {
     "name": "stdout",
     "output_type": "stream",
     "text": [
      "now processed csv file D:\\python_workfile\\sea_ice_classification\\training6\\csv\\polarization_ratio\\20200430.csv\n",
      "D:\\python_workfile\\sea_ice_classification\\data\\mask\\aari\\proj\\pic\\True 20200430.png\n"
     ]
    },
    {
     "name": "stderr",
     "output_type": "stream",
     "text": [
      "C:\\Users\\Administrator\\AppData\\Local\\Temp/ipykernel_4248/2832217777.py:41: UserWarning: The input coordinates to pcolor are interpreted as cell centers, but are not monotonically increasing or decreasing. This may lead to incorrectly calculated cell edges, in which case, please supply explicit cell edges to pcolor.\n",
      "  hy_m.pcolor(x_map, y_map, data=grid_array, cmap=plt.cm.jet,shading = 'auto',vmax=5,vmin=1,latlon = True)\n"
     ]
    },
    {
     "name": "stdout",
     "output_type": "stream",
     "text": [
      "now processed csv file D:\\python_workfile\\sea_ice_classification\\training6\\csv\\polarization_ratio\\20200501.csv\n",
      "D:\\python_workfile\\sea_ice_classification\\data\\mask\\aari\\proj\\pic\\True 20200501.png\n"
     ]
    },
    {
     "name": "stderr",
     "output_type": "stream",
     "text": [
      "C:\\Users\\Administrator\\AppData\\Local\\Temp/ipykernel_4248/2832217777.py:41: UserWarning: The input coordinates to pcolor are interpreted as cell centers, but are not monotonically increasing or decreasing. This may lead to incorrectly calculated cell edges, in which case, please supply explicit cell edges to pcolor.\n",
      "  hy_m.pcolor(x_map, y_map, data=grid_array, cmap=plt.cm.jet,shading = 'auto',vmax=5,vmin=1,latlon = True)\n"
     ]
    },
    {
     "name": "stdout",
     "output_type": "stream",
     "text": [
      "now processed csv file D:\\python_workfile\\sea_ice_classification\\training6\\csv\\polarization_ratio\\20200502.csv\n",
      "D:\\python_workfile\\sea_ice_classification\\data\\mask\\aari\\proj\\pic\\True 20200502.png\n"
     ]
    },
    {
     "name": "stderr",
     "output_type": "stream",
     "text": [
      "C:\\Users\\Administrator\\AppData\\Local\\Temp/ipykernel_4248/2832217777.py:41: UserWarning: The input coordinates to pcolor are interpreted as cell centers, but are not monotonically increasing or decreasing. This may lead to incorrectly calculated cell edges, in which case, please supply explicit cell edges to pcolor.\n",
      "  hy_m.pcolor(x_map, y_map, data=grid_array, cmap=plt.cm.jet,shading = 'auto',vmax=5,vmin=1,latlon = True)\n"
     ]
    },
    {
     "name": "stdout",
     "output_type": "stream",
     "text": [
      "now processed csv file D:\\python_workfile\\sea_ice_classification\\training6\\csv\\polarization_ratio\\20200503.csv\n",
      "D:\\python_workfile\\sea_ice_classification\\data\\mask\\aari\\proj\\pic\\True 20200503.png\n"
     ]
    },
    {
     "name": "stderr",
     "output_type": "stream",
     "text": [
      "C:\\Users\\Administrator\\AppData\\Local\\Temp/ipykernel_4248/2832217777.py:41: UserWarning: The input coordinates to pcolor are interpreted as cell centers, but are not monotonically increasing or decreasing. This may lead to incorrectly calculated cell edges, in which case, please supply explicit cell edges to pcolor.\n",
      "  hy_m.pcolor(x_map, y_map, data=grid_array, cmap=plt.cm.jet,shading = 'auto',vmax=5,vmin=1,latlon = True)\n"
     ]
    },
    {
     "name": "stdout",
     "output_type": "stream",
     "text": [
      "now processed csv file D:\\python_workfile\\sea_ice_classification\\training6\\csv\\polarization_ratio\\20200504.csv\n",
      "D:\\python_workfile\\sea_ice_classification\\data\\mask\\aari\\proj\\pic\\True 20200504.png\n"
     ]
    },
    {
     "name": "stderr",
     "output_type": "stream",
     "text": [
      "C:\\Users\\Administrator\\AppData\\Local\\Temp/ipykernel_4248/2832217777.py:41: UserWarning: The input coordinates to pcolor are interpreted as cell centers, but are not monotonically increasing or decreasing. This may lead to incorrectly calculated cell edges, in which case, please supply explicit cell edges to pcolor.\n",
      "  hy_m.pcolor(x_map, y_map, data=grid_array, cmap=plt.cm.jet,shading = 'auto',vmax=5,vmin=1,latlon = True)\n"
     ]
    },
    {
     "name": "stdout",
     "output_type": "stream",
     "text": [
      "now processed csv file D:\\python_workfile\\sea_ice_classification\\training6\\csv\\polarization_ratio\\20200505.csv\n",
      "D:\\python_workfile\\sea_ice_classification\\data\\mask\\aari\\proj\\pic\\True 20200505.png\n"
     ]
    },
    {
     "name": "stderr",
     "output_type": "stream",
     "text": [
      "C:\\Users\\Administrator\\AppData\\Local\\Temp/ipykernel_4248/2832217777.py:41: UserWarning: The input coordinates to pcolor are interpreted as cell centers, but are not monotonically increasing or decreasing. This may lead to incorrectly calculated cell edges, in which case, please supply explicit cell edges to pcolor.\n",
      "  hy_m.pcolor(x_map, y_map, data=grid_array, cmap=plt.cm.jet,shading = 'auto',vmax=5,vmin=1,latlon = True)\n"
     ]
    },
    {
     "name": "stdout",
     "output_type": "stream",
     "text": [
      "now processed csv file D:\\python_workfile\\sea_ice_classification\\training6\\csv\\polarization_ratio\\20200506.csv\n",
      "D:\\python_workfile\\sea_ice_classification\\data\\mask\\aari\\proj\\pic\\True 20200506.png\n"
     ]
    },
    {
     "name": "stderr",
     "output_type": "stream",
     "text": [
      "C:\\Users\\Administrator\\AppData\\Local\\Temp/ipykernel_4248/2832217777.py:41: UserWarning: The input coordinates to pcolor are interpreted as cell centers, but are not monotonically increasing or decreasing. This may lead to incorrectly calculated cell edges, in which case, please supply explicit cell edges to pcolor.\n",
      "  hy_m.pcolor(x_map, y_map, data=grid_array, cmap=plt.cm.jet,shading = 'auto',vmax=5,vmin=1,latlon = True)\n"
     ]
    },
    {
     "name": "stdout",
     "output_type": "stream",
     "text": [
      "now processed csv file D:\\python_workfile\\sea_ice_classification\\training6\\csv\\polarization_ratio\\20200507.csv\n",
      "D:\\python_workfile\\sea_ice_classification\\data\\mask\\aari\\proj\\pic\\True 20200507.png\n"
     ]
    },
    {
     "name": "stderr",
     "output_type": "stream",
     "text": [
      "C:\\Users\\Administrator\\AppData\\Local\\Temp/ipykernel_4248/2832217777.py:41: UserWarning: The input coordinates to pcolor are interpreted as cell centers, but are not monotonically increasing or decreasing. This may lead to incorrectly calculated cell edges, in which case, please supply explicit cell edges to pcolor.\n",
      "  hy_m.pcolor(x_map, y_map, data=grid_array, cmap=plt.cm.jet,shading = 'auto',vmax=5,vmin=1,latlon = True)\n"
     ]
    },
    {
     "name": "stdout",
     "output_type": "stream",
     "text": [
      "now processed csv file D:\\python_workfile\\sea_ice_classification\\training6\\csv\\polarization_ratio\\20200508.csv\n",
      "D:\\python_workfile\\sea_ice_classification\\data\\mask\\aari\\proj\\pic\\True 20200508.png\n"
     ]
    },
    {
     "name": "stderr",
     "output_type": "stream",
     "text": [
      "C:\\Users\\Administrator\\AppData\\Local\\Temp/ipykernel_4248/2832217777.py:41: UserWarning: The input coordinates to pcolor are interpreted as cell centers, but are not monotonically increasing or decreasing. This may lead to incorrectly calculated cell edges, in which case, please supply explicit cell edges to pcolor.\n",
      "  hy_m.pcolor(x_map, y_map, data=grid_array, cmap=plt.cm.jet,shading = 'auto',vmax=5,vmin=1,latlon = True)\n"
     ]
    },
    {
     "name": "stdout",
     "output_type": "stream",
     "text": [
      "now processed csv file D:\\python_workfile\\sea_ice_classification\\training6\\csv\\polarization_ratio\\20200509.csv\n",
      "D:\\python_workfile\\sea_ice_classification\\data\\mask\\aari\\proj\\pic\\True 20200509.png\n"
     ]
    },
    {
     "name": "stderr",
     "output_type": "stream",
     "text": [
      "C:\\Users\\Administrator\\AppData\\Local\\Temp/ipykernel_4248/2832217777.py:41: UserWarning: The input coordinates to pcolor are interpreted as cell centers, but are not monotonically increasing or decreasing. This may lead to incorrectly calculated cell edges, in which case, please supply explicit cell edges to pcolor.\n",
      "  hy_m.pcolor(x_map, y_map, data=grid_array, cmap=plt.cm.jet,shading = 'auto',vmax=5,vmin=1,latlon = True)\n"
     ]
    },
    {
     "name": "stdout",
     "output_type": "stream",
     "text": [
      "now processed csv file D:\\python_workfile\\sea_ice_classification\\training6\\csv\\polarization_ratio\\20200510.csv\n",
      "D:\\python_workfile\\sea_ice_classification\\data\\mask\\aari\\proj\\pic\\True 20200510.png\n"
     ]
    },
    {
     "name": "stderr",
     "output_type": "stream",
     "text": [
      "C:\\Users\\Administrator\\AppData\\Local\\Temp/ipykernel_4248/2832217777.py:41: UserWarning: The input coordinates to pcolor are interpreted as cell centers, but are not monotonically increasing or decreasing. This may lead to incorrectly calculated cell edges, in which case, please supply explicit cell edges to pcolor.\n",
      "  hy_m.pcolor(x_map, y_map, data=grid_array, cmap=plt.cm.jet,shading = 'auto',vmax=5,vmin=1,latlon = True)\n"
     ]
    },
    {
     "name": "stdout",
     "output_type": "stream",
     "text": [
      "now processed csv file D:\\python_workfile\\sea_ice_classification\\training6\\csv\\polarization_ratio\\20200511.csv\n",
      "D:\\python_workfile\\sea_ice_classification\\data\\mask\\aari\\proj\\pic\\True 20200511.png\n"
     ]
    },
    {
     "name": "stderr",
     "output_type": "stream",
     "text": [
      "C:\\Users\\Administrator\\AppData\\Local\\Temp/ipykernel_4248/2832217777.py:41: UserWarning: The input coordinates to pcolor are interpreted as cell centers, but are not monotonically increasing or decreasing. This may lead to incorrectly calculated cell edges, in which case, please supply explicit cell edges to pcolor.\n",
      "  hy_m.pcolor(x_map, y_map, data=grid_array, cmap=plt.cm.jet,shading = 'auto',vmax=5,vmin=1,latlon = True)\n"
     ]
    },
    {
     "name": "stdout",
     "output_type": "stream",
     "text": [
      "now processed csv file D:\\python_workfile\\sea_ice_classification\\training6\\csv\\polarization_ratio\\20200512.csv\n",
      "D:\\python_workfile\\sea_ice_classification\\data\\mask\\aari\\proj\\pic\\True 20200512.png\n"
     ]
    },
    {
     "name": "stderr",
     "output_type": "stream",
     "text": [
      "C:\\Users\\Administrator\\AppData\\Local\\Temp/ipykernel_4248/2832217777.py:41: UserWarning: The input coordinates to pcolor are interpreted as cell centers, but are not monotonically increasing or decreasing. This may lead to incorrectly calculated cell edges, in which case, please supply explicit cell edges to pcolor.\n",
      "  hy_m.pcolor(x_map, y_map, data=grid_array, cmap=plt.cm.jet,shading = 'auto',vmax=5,vmin=1,latlon = True)\n"
     ]
    },
    {
     "name": "stdout",
     "output_type": "stream",
     "text": [
      "now processed csv file D:\\python_workfile\\sea_ice_classification\\training6\\csv\\polarization_ratio\\20200513.csv\n",
      "D:\\python_workfile\\sea_ice_classification\\data\\mask\\aari\\proj\\pic\\True 20200513.png\n"
     ]
    },
    {
     "name": "stderr",
     "output_type": "stream",
     "text": [
      "C:\\Users\\Administrator\\AppData\\Local\\Temp/ipykernel_4248/2832217777.py:41: UserWarning: The input coordinates to pcolor are interpreted as cell centers, but are not monotonically increasing or decreasing. This may lead to incorrectly calculated cell edges, in which case, please supply explicit cell edges to pcolor.\n",
      "  hy_m.pcolor(x_map, y_map, data=grid_array, cmap=plt.cm.jet,shading = 'auto',vmax=5,vmin=1,latlon = True)\n"
     ]
    },
    {
     "name": "stdout",
     "output_type": "stream",
     "text": [
      "now processed csv file D:\\python_workfile\\sea_ice_classification\\training6\\csv\\polarization_ratio\\20200514.csv\n",
      "D:\\python_workfile\\sea_ice_classification\\data\\mask\\aari\\proj\\pic\\True 20200514.png\n"
     ]
    },
    {
     "name": "stderr",
     "output_type": "stream",
     "text": [
      "C:\\Users\\Administrator\\AppData\\Local\\Temp/ipykernel_4248/2832217777.py:41: UserWarning: The input coordinates to pcolor are interpreted as cell centers, but are not monotonically increasing or decreasing. This may lead to incorrectly calculated cell edges, in which case, please supply explicit cell edges to pcolor.\n",
      "  hy_m.pcolor(x_map, y_map, data=grid_array, cmap=plt.cm.jet,shading = 'auto',vmax=5,vmin=1,latlon = True)\n"
     ]
    },
    {
     "name": "stdout",
     "output_type": "stream",
     "text": [
      "now processed csv file D:\\python_workfile\\sea_ice_classification\\training6\\csv\\polarization_ratio\\20200515.csv\n",
      "D:\\python_workfile\\sea_ice_classification\\data\\mask\\aari\\proj\\pic\\True 20200515.png\n"
     ]
    },
    {
     "name": "stderr",
     "output_type": "stream",
     "text": [
      "C:\\Users\\Administrator\\AppData\\Local\\Temp/ipykernel_4248/2832217777.py:41: UserWarning: The input coordinates to pcolor are interpreted as cell centers, but are not monotonically increasing or decreasing. This may lead to incorrectly calculated cell edges, in which case, please supply explicit cell edges to pcolor.\n",
      "  hy_m.pcolor(x_map, y_map, data=grid_array, cmap=plt.cm.jet,shading = 'auto',vmax=5,vmin=1,latlon = True)\n"
     ]
    },
    {
     "name": "stdout",
     "output_type": "stream",
     "text": [
      "now processed csv file D:\\python_workfile\\sea_ice_classification\\training6\\csv\\polarization_ratio\\20200516.csv\n",
      "D:\\python_workfile\\sea_ice_classification\\data\\mask\\aari\\proj\\pic\\True 20200516.png\n"
     ]
    },
    {
     "name": "stderr",
     "output_type": "stream",
     "text": [
      "C:\\Users\\Administrator\\AppData\\Local\\Temp/ipykernel_4248/2832217777.py:41: UserWarning: The input coordinates to pcolor are interpreted as cell centers, but are not monotonically increasing or decreasing. This may lead to incorrectly calculated cell edges, in which case, please supply explicit cell edges to pcolor.\n",
      "  hy_m.pcolor(x_map, y_map, data=grid_array, cmap=plt.cm.jet,shading = 'auto',vmax=5,vmin=1,latlon = True)\n"
     ]
    },
    {
     "name": "stdout",
     "output_type": "stream",
     "text": [
      "now processed csv file D:\\python_workfile\\sea_ice_classification\\training6\\csv\\polarization_ratio\\20200517.csv\n",
      "D:\\python_workfile\\sea_ice_classification\\data\\mask\\aari\\proj\\pic\\True 20200517.png\n"
     ]
    },
    {
     "name": "stderr",
     "output_type": "stream",
     "text": [
      "C:\\Users\\Administrator\\AppData\\Local\\Temp/ipykernel_4248/2832217777.py:41: UserWarning: The input coordinates to pcolor are interpreted as cell centers, but are not monotonically increasing or decreasing. This may lead to incorrectly calculated cell edges, in which case, please supply explicit cell edges to pcolor.\n",
      "  hy_m.pcolor(x_map, y_map, data=grid_array, cmap=plt.cm.jet,shading = 'auto',vmax=5,vmin=1,latlon = True)\n"
     ]
    },
    {
     "name": "stdout",
     "output_type": "stream",
     "text": [
      "now processed csv file D:\\python_workfile\\sea_ice_classification\\training6\\csv\\polarization_ratio\\20200518.csv\n",
      "D:\\python_workfile\\sea_ice_classification\\data\\mask\\aari\\proj\\pic\\True 20200518.png\n"
     ]
    },
    {
     "name": "stderr",
     "output_type": "stream",
     "text": [
      "C:\\Users\\Administrator\\AppData\\Local\\Temp/ipykernel_4248/2832217777.py:41: UserWarning: The input coordinates to pcolor are interpreted as cell centers, but are not monotonically increasing or decreasing. This may lead to incorrectly calculated cell edges, in which case, please supply explicit cell edges to pcolor.\n",
      "  hy_m.pcolor(x_map, y_map, data=grid_array, cmap=plt.cm.jet,shading = 'auto',vmax=5,vmin=1,latlon = True)\n"
     ]
    },
    {
     "name": "stdout",
     "output_type": "stream",
     "text": [
      "now processed csv file D:\\python_workfile\\sea_ice_classification\\training6\\csv\\polarization_ratio\\20200519.csv\n",
      "D:\\python_workfile\\sea_ice_classification\\data\\mask\\aari\\proj\\pic\\True 20200519.png\n"
     ]
    },
    {
     "name": "stderr",
     "output_type": "stream",
     "text": [
      "C:\\Users\\Administrator\\AppData\\Local\\Temp/ipykernel_4248/2832217777.py:41: UserWarning: The input coordinates to pcolor are interpreted as cell centers, but are not monotonically increasing or decreasing. This may lead to incorrectly calculated cell edges, in which case, please supply explicit cell edges to pcolor.\n",
      "  hy_m.pcolor(x_map, y_map, data=grid_array, cmap=plt.cm.jet,shading = 'auto',vmax=5,vmin=1,latlon = True)\n"
     ]
    },
    {
     "name": "stdout",
     "output_type": "stream",
     "text": [
      "now processed csv file D:\\python_workfile\\sea_ice_classification\\training6\\csv\\polarization_ratio\\20200520.csv\n",
      "D:\\python_workfile\\sea_ice_classification\\data\\mask\\aari\\proj\\pic\\True 20200520.png\n"
     ]
    },
    {
     "name": "stderr",
     "output_type": "stream",
     "text": [
      "C:\\Users\\Administrator\\AppData\\Local\\Temp/ipykernel_4248/2832217777.py:41: UserWarning: The input coordinates to pcolor are interpreted as cell centers, but are not monotonically increasing or decreasing. This may lead to incorrectly calculated cell edges, in which case, please supply explicit cell edges to pcolor.\n",
      "  hy_m.pcolor(x_map, y_map, data=grid_array, cmap=plt.cm.jet,shading = 'auto',vmax=5,vmin=1,latlon = True)\n"
     ]
    },
    {
     "name": "stdout",
     "output_type": "stream",
     "text": [
      "now processed csv file D:\\python_workfile\\sea_ice_classification\\training6\\csv\\polarization_ratio\\20200521.csv\n",
      "D:\\python_workfile\\sea_ice_classification\\data\\mask\\aari\\proj\\pic\\True 20200521.png\n"
     ]
    },
    {
     "name": "stderr",
     "output_type": "stream",
     "text": [
      "C:\\Users\\Administrator\\AppData\\Local\\Temp/ipykernel_4248/2832217777.py:41: UserWarning: The input coordinates to pcolor are interpreted as cell centers, but are not monotonically increasing or decreasing. This may lead to incorrectly calculated cell edges, in which case, please supply explicit cell edges to pcolor.\n",
      "  hy_m.pcolor(x_map, y_map, data=grid_array, cmap=plt.cm.jet,shading = 'auto',vmax=5,vmin=1,latlon = True)\n"
     ]
    },
    {
     "name": "stdout",
     "output_type": "stream",
     "text": [
      "now processed csv file D:\\python_workfile\\sea_ice_classification\\training6\\csv\\polarization_ratio\\20200522.csv\n",
      "D:\\python_workfile\\sea_ice_classification\\data\\mask\\aari\\proj\\pic\\True 20200522.png\n"
     ]
    },
    {
     "name": "stderr",
     "output_type": "stream",
     "text": [
      "C:\\Users\\Administrator\\AppData\\Local\\Temp/ipykernel_4248/2832217777.py:41: UserWarning: The input coordinates to pcolor are interpreted as cell centers, but are not monotonically increasing or decreasing. This may lead to incorrectly calculated cell edges, in which case, please supply explicit cell edges to pcolor.\n",
      "  hy_m.pcolor(x_map, y_map, data=grid_array, cmap=plt.cm.jet,shading = 'auto',vmax=5,vmin=1,latlon = True)\n"
     ]
    },
    {
     "name": "stdout",
     "output_type": "stream",
     "text": [
      "now processed csv file D:\\python_workfile\\sea_ice_classification\\training6\\csv\\polarization_ratio\\20200523.csv\n",
      "D:\\python_workfile\\sea_ice_classification\\data\\mask\\aari\\proj\\pic\\True 20200523.png\n"
     ]
    },
    {
     "name": "stderr",
     "output_type": "stream",
     "text": [
      "C:\\Users\\Administrator\\AppData\\Local\\Temp/ipykernel_4248/2832217777.py:41: UserWarning: The input coordinates to pcolor are interpreted as cell centers, but are not monotonically increasing or decreasing. This may lead to incorrectly calculated cell edges, in which case, please supply explicit cell edges to pcolor.\n",
      "  hy_m.pcolor(x_map, y_map, data=grid_array, cmap=plt.cm.jet,shading = 'auto',vmax=5,vmin=1,latlon = True)\n"
     ]
    },
    {
     "name": "stdout",
     "output_type": "stream",
     "text": [
      "now processed csv file D:\\python_workfile\\sea_ice_classification\\training6\\csv\\polarization_ratio\\20200524.csv\n",
      "D:\\python_workfile\\sea_ice_classification\\data\\mask\\aari\\proj\\pic\\True 20200524.png\n"
     ]
    },
    {
     "name": "stderr",
     "output_type": "stream",
     "text": [
      "C:\\Users\\Administrator\\AppData\\Local\\Temp/ipykernel_4248/2832217777.py:41: UserWarning: The input coordinates to pcolor are interpreted as cell centers, but are not monotonically increasing or decreasing. This may lead to incorrectly calculated cell edges, in which case, please supply explicit cell edges to pcolor.\n",
      "  hy_m.pcolor(x_map, y_map, data=grid_array, cmap=plt.cm.jet,shading = 'auto',vmax=5,vmin=1,latlon = True)\n"
     ]
    },
    {
     "name": "stdout",
     "output_type": "stream",
     "text": [
      "now processed csv file D:\\python_workfile\\sea_ice_classification\\training6\\csv\\polarization_ratio\\20200525.csv\n",
      "D:\\python_workfile\\sea_ice_classification\\data\\mask\\aari\\proj\\pic\\True 20200525.png\n"
     ]
    },
    {
     "name": "stderr",
     "output_type": "stream",
     "text": [
      "C:\\Users\\Administrator\\AppData\\Local\\Temp/ipykernel_4248/2832217777.py:41: UserWarning: The input coordinates to pcolor are interpreted as cell centers, but are not monotonically increasing or decreasing. This may lead to incorrectly calculated cell edges, in which case, please supply explicit cell edges to pcolor.\n",
      "  hy_m.pcolor(x_map, y_map, data=grid_array, cmap=plt.cm.jet,shading = 'auto',vmax=5,vmin=1,latlon = True)\n"
     ]
    },
    {
     "name": "stdout",
     "output_type": "stream",
     "text": [
      "now processed csv file D:\\python_workfile\\sea_ice_classification\\training6\\csv\\polarization_ratio\\20200526.csv\n",
      "D:\\python_workfile\\sea_ice_classification\\data\\mask\\aari\\proj\\pic\\True 20200526.png\n"
     ]
    },
    {
     "name": "stderr",
     "output_type": "stream",
     "text": [
      "C:\\Users\\Administrator\\AppData\\Local\\Temp/ipykernel_4248/2832217777.py:41: UserWarning: The input coordinates to pcolor are interpreted as cell centers, but are not monotonically increasing or decreasing. This may lead to incorrectly calculated cell edges, in which case, please supply explicit cell edges to pcolor.\n",
      "  hy_m.pcolor(x_map, y_map, data=grid_array, cmap=plt.cm.jet,shading = 'auto',vmax=5,vmin=1,latlon = True)\n"
     ]
    },
    {
     "name": "stdout",
     "output_type": "stream",
     "text": [
      "now processed csv file D:\\python_workfile\\sea_ice_classification\\training6\\csv\\polarization_ratio\\20201013.csv\n",
      "D:\\python_workfile\\sea_ice_classification\\data\\mask\\aari\\proj\\pic\\True 20201013.png\n"
     ]
    },
    {
     "name": "stderr",
     "output_type": "stream",
     "text": [
      "C:\\Users\\Administrator\\AppData\\Local\\Temp/ipykernel_4248/2832217777.py:41: UserWarning: The input coordinates to pcolor are interpreted as cell centers, but are not monotonically increasing or decreasing. This may lead to incorrectly calculated cell edges, in which case, please supply explicit cell edges to pcolor.\n",
      "  hy_m.pcolor(x_map, y_map, data=grid_array, cmap=plt.cm.jet,shading = 'auto',vmax=5,vmin=1,latlon = True)\n"
     ]
    },
    {
     "name": "stdout",
     "output_type": "stream",
     "text": [
      "now processed csv file D:\\python_workfile\\sea_ice_classification\\training6\\csv\\polarization_ratio\\20201014.csv\n",
      "D:\\python_workfile\\sea_ice_classification\\data\\mask\\aari\\proj\\pic\\True 20201014.png\n"
     ]
    },
    {
     "name": "stderr",
     "output_type": "stream",
     "text": [
      "C:\\Users\\Administrator\\AppData\\Local\\Temp/ipykernel_4248/2832217777.py:41: UserWarning: The input coordinates to pcolor are interpreted as cell centers, but are not monotonically increasing or decreasing. This may lead to incorrectly calculated cell edges, in which case, please supply explicit cell edges to pcolor.\n",
      "  hy_m.pcolor(x_map, y_map, data=grid_array, cmap=plt.cm.jet,shading = 'auto',vmax=5,vmin=1,latlon = True)\n"
     ]
    },
    {
     "name": "stdout",
     "output_type": "stream",
     "text": [
      "now processed csv file D:\\python_workfile\\sea_ice_classification\\training6\\csv\\polarization_ratio\\20201015.csv\n",
      "D:\\python_workfile\\sea_ice_classification\\data\\mask\\aari\\proj\\pic\\True 20201015.png\n"
     ]
    },
    {
     "name": "stderr",
     "output_type": "stream",
     "text": [
      "C:\\Users\\Administrator\\AppData\\Local\\Temp/ipykernel_4248/2832217777.py:41: UserWarning: The input coordinates to pcolor are interpreted as cell centers, but are not monotonically increasing or decreasing. This may lead to incorrectly calculated cell edges, in which case, please supply explicit cell edges to pcolor.\n",
      "  hy_m.pcolor(x_map, y_map, data=grid_array, cmap=plt.cm.jet,shading = 'auto',vmax=5,vmin=1,latlon = True)\n"
     ]
    },
    {
     "name": "stdout",
     "output_type": "stream",
     "text": [
      "now processed csv file D:\\python_workfile\\sea_ice_classification\\training6\\csv\\polarization_ratio\\20201016.csv\n",
      "D:\\python_workfile\\sea_ice_classification\\data\\mask\\aari\\proj\\pic\\True 20201016.png\n"
     ]
    },
    {
     "name": "stderr",
     "output_type": "stream",
     "text": [
      "C:\\Users\\Administrator\\AppData\\Local\\Temp/ipykernel_4248/2832217777.py:41: UserWarning: The input coordinates to pcolor are interpreted as cell centers, but are not monotonically increasing or decreasing. This may lead to incorrectly calculated cell edges, in which case, please supply explicit cell edges to pcolor.\n",
      "  hy_m.pcolor(x_map, y_map, data=grid_array, cmap=plt.cm.jet,shading = 'auto',vmax=5,vmin=1,latlon = True)\n"
     ]
    },
    {
     "name": "stdout",
     "output_type": "stream",
     "text": [
      "now processed csv file D:\\python_workfile\\sea_ice_classification\\training6\\csv\\polarization_ratio\\20201017.csv\n",
      "D:\\python_workfile\\sea_ice_classification\\data\\mask\\aari\\proj\\pic\\True 20201017.png\n"
     ]
    },
    {
     "name": "stderr",
     "output_type": "stream",
     "text": [
      "C:\\Users\\Administrator\\AppData\\Local\\Temp/ipykernel_4248/2832217777.py:41: UserWarning: The input coordinates to pcolor are interpreted as cell centers, but are not monotonically increasing or decreasing. This may lead to incorrectly calculated cell edges, in which case, please supply explicit cell edges to pcolor.\n",
      "  hy_m.pcolor(x_map, y_map, data=grid_array, cmap=plt.cm.jet,shading = 'auto',vmax=5,vmin=1,latlon = True)\n"
     ]
    },
    {
     "name": "stdout",
     "output_type": "stream",
     "text": [
      "now processed csv file D:\\python_workfile\\sea_ice_classification\\training6\\csv\\polarization_ratio\\20201018.csv\n",
      "D:\\python_workfile\\sea_ice_classification\\data\\mask\\aari\\proj\\pic\\True 20201018.png\n"
     ]
    },
    {
     "name": "stderr",
     "output_type": "stream",
     "text": [
      "C:\\Users\\Administrator\\AppData\\Local\\Temp/ipykernel_4248/2832217777.py:41: UserWarning: The input coordinates to pcolor are interpreted as cell centers, but are not monotonically increasing or decreasing. This may lead to incorrectly calculated cell edges, in which case, please supply explicit cell edges to pcolor.\n",
      "  hy_m.pcolor(x_map, y_map, data=grid_array, cmap=plt.cm.jet,shading = 'auto',vmax=5,vmin=1,latlon = True)\n"
     ]
    },
    {
     "name": "stdout",
     "output_type": "stream",
     "text": [
      "now processed csv file D:\\python_workfile\\sea_ice_classification\\training6\\csv\\polarization_ratio\\20201019.csv\n",
      "D:\\python_workfile\\sea_ice_classification\\data\\mask\\aari\\proj\\pic\\True 20201019.png\n"
     ]
    },
    {
     "name": "stderr",
     "output_type": "stream",
     "text": [
      "C:\\Users\\Administrator\\AppData\\Local\\Temp/ipykernel_4248/2832217777.py:41: UserWarning: The input coordinates to pcolor are interpreted as cell centers, but are not monotonically increasing or decreasing. This may lead to incorrectly calculated cell edges, in which case, please supply explicit cell edges to pcolor.\n",
      "  hy_m.pcolor(x_map, y_map, data=grid_array, cmap=plt.cm.jet,shading = 'auto',vmax=5,vmin=1,latlon = True)\n"
     ]
    },
    {
     "name": "stdout",
     "output_type": "stream",
     "text": [
      "now processed csv file D:\\python_workfile\\sea_ice_classification\\training6\\csv\\polarization_ratio\\20201020.csv\n",
      "D:\\python_workfile\\sea_ice_classification\\data\\mask\\aari\\proj\\pic\\True 20201020.png\n"
     ]
    },
    {
     "name": "stderr",
     "output_type": "stream",
     "text": [
      "C:\\Users\\Administrator\\AppData\\Local\\Temp/ipykernel_4248/2832217777.py:41: UserWarning: The input coordinates to pcolor are interpreted as cell centers, but are not monotonically increasing or decreasing. This may lead to incorrectly calculated cell edges, in which case, please supply explicit cell edges to pcolor.\n",
      "  hy_m.pcolor(x_map, y_map, data=grid_array, cmap=plt.cm.jet,shading = 'auto',vmax=5,vmin=1,latlon = True)\n"
     ]
    },
    {
     "name": "stdout",
     "output_type": "stream",
     "text": [
      "now processed csv file D:\\python_workfile\\sea_ice_classification\\training6\\csv\\polarization_ratio\\20201021.csv\n",
      "D:\\python_workfile\\sea_ice_classification\\data\\mask\\aari\\proj\\pic\\True 20201021.png\n"
     ]
    },
    {
     "name": "stderr",
     "output_type": "stream",
     "text": [
      "C:\\Users\\Administrator\\AppData\\Local\\Temp/ipykernel_4248/2832217777.py:41: UserWarning: The input coordinates to pcolor are interpreted as cell centers, but are not monotonically increasing or decreasing. This may lead to incorrectly calculated cell edges, in which case, please supply explicit cell edges to pcolor.\n",
      "  hy_m.pcolor(x_map, y_map, data=grid_array, cmap=plt.cm.jet,shading = 'auto',vmax=5,vmin=1,latlon = True)\n"
     ]
    },
    {
     "name": "stdout",
     "output_type": "stream",
     "text": [
      "now processed csv file D:\\python_workfile\\sea_ice_classification\\training6\\csv\\polarization_ratio\\20201022.csv\n",
      "D:\\python_workfile\\sea_ice_classification\\data\\mask\\aari\\proj\\pic\\True 20201022.png\n"
     ]
    },
    {
     "name": "stderr",
     "output_type": "stream",
     "text": [
      "C:\\Users\\Administrator\\AppData\\Local\\Temp/ipykernel_4248/2832217777.py:41: UserWarning: The input coordinates to pcolor are interpreted as cell centers, but are not monotonically increasing or decreasing. This may lead to incorrectly calculated cell edges, in which case, please supply explicit cell edges to pcolor.\n",
      "  hy_m.pcolor(x_map, y_map, data=grid_array, cmap=plt.cm.jet,shading = 'auto',vmax=5,vmin=1,latlon = True)\n"
     ]
    },
    {
     "name": "stdout",
     "output_type": "stream",
     "text": [
      "now processed csv file D:\\python_workfile\\sea_ice_classification\\training6\\csv\\polarization_ratio\\20201023.csv\n",
      "D:\\python_workfile\\sea_ice_classification\\data\\mask\\aari\\proj\\pic\\True 20201023.png\n"
     ]
    },
    {
     "name": "stderr",
     "output_type": "stream",
     "text": [
      "C:\\Users\\Administrator\\AppData\\Local\\Temp/ipykernel_4248/2832217777.py:41: UserWarning: The input coordinates to pcolor are interpreted as cell centers, but are not monotonically increasing or decreasing. This may lead to incorrectly calculated cell edges, in which case, please supply explicit cell edges to pcolor.\n",
      "  hy_m.pcolor(x_map, y_map, data=grid_array, cmap=plt.cm.jet,shading = 'auto',vmax=5,vmin=1,latlon = True)\n"
     ]
    },
    {
     "name": "stdout",
     "output_type": "stream",
     "text": [
      "now processed csv file D:\\python_workfile\\sea_ice_classification\\training6\\csv\\polarization_ratio\\20201024.csv\n",
      "D:\\python_workfile\\sea_ice_classification\\data\\mask\\aari\\proj\\pic\\True 20201024.png\n"
     ]
    },
    {
     "name": "stderr",
     "output_type": "stream",
     "text": [
      "C:\\Users\\Administrator\\AppData\\Local\\Temp/ipykernel_4248/2832217777.py:41: UserWarning: The input coordinates to pcolor are interpreted as cell centers, but are not monotonically increasing or decreasing. This may lead to incorrectly calculated cell edges, in which case, please supply explicit cell edges to pcolor.\n",
      "  hy_m.pcolor(x_map, y_map, data=grid_array, cmap=plt.cm.jet,shading = 'auto',vmax=5,vmin=1,latlon = True)\n"
     ]
    },
    {
     "name": "stdout",
     "output_type": "stream",
     "text": [
      "now processed csv file D:\\python_workfile\\sea_ice_classification\\training6\\csv\\polarization_ratio\\20201025.csv\n",
      "D:\\python_workfile\\sea_ice_classification\\data\\mask\\aari\\proj\\pic\\True 20201025.png\n"
     ]
    },
    {
     "name": "stderr",
     "output_type": "stream",
     "text": [
      "C:\\Users\\Administrator\\AppData\\Local\\Temp/ipykernel_4248/2832217777.py:41: UserWarning: The input coordinates to pcolor are interpreted as cell centers, but are not monotonically increasing or decreasing. This may lead to incorrectly calculated cell edges, in which case, please supply explicit cell edges to pcolor.\n",
      "  hy_m.pcolor(x_map, y_map, data=grid_array, cmap=plt.cm.jet,shading = 'auto',vmax=5,vmin=1,latlon = True)\n"
     ]
    },
    {
     "name": "stdout",
     "output_type": "stream",
     "text": [
      "now processed csv file D:\\python_workfile\\sea_ice_classification\\training6\\csv\\polarization_ratio\\20201026.csv\n",
      "D:\\python_workfile\\sea_ice_classification\\data\\mask\\aari\\proj\\pic\\True 20201026.png\n"
     ]
    },
    {
     "name": "stderr",
     "output_type": "stream",
     "text": [
      "C:\\Users\\Administrator\\AppData\\Local\\Temp/ipykernel_4248/2832217777.py:41: UserWarning: The input coordinates to pcolor are interpreted as cell centers, but are not monotonically increasing or decreasing. This may lead to incorrectly calculated cell edges, in which case, please supply explicit cell edges to pcolor.\n",
      "  hy_m.pcolor(x_map, y_map, data=grid_array, cmap=plt.cm.jet,shading = 'auto',vmax=5,vmin=1,latlon = True)\n"
     ]
    },
    {
     "name": "stdout",
     "output_type": "stream",
     "text": [
      "now processed csv file D:\\python_workfile\\sea_ice_classification\\training6\\csv\\polarization_ratio\\20201027.csv\n",
      "D:\\python_workfile\\sea_ice_classification\\data\\mask\\aari\\proj\\pic\\True 20201027.png\n"
     ]
    },
    {
     "name": "stderr",
     "output_type": "stream",
     "text": [
      "C:\\Users\\Administrator\\AppData\\Local\\Temp/ipykernel_4248/2832217777.py:41: UserWarning: The input coordinates to pcolor are interpreted as cell centers, but are not monotonically increasing or decreasing. This may lead to incorrectly calculated cell edges, in which case, please supply explicit cell edges to pcolor.\n",
      "  hy_m.pcolor(x_map, y_map, data=grid_array, cmap=plt.cm.jet,shading = 'auto',vmax=5,vmin=1,latlon = True)\n"
     ]
    },
    {
     "name": "stdout",
     "output_type": "stream",
     "text": [
      "now processed csv file D:\\python_workfile\\sea_ice_classification\\training6\\csv\\polarization_ratio\\20201028.csv\n",
      "D:\\python_workfile\\sea_ice_classification\\data\\mask\\aari\\proj\\pic\\True 20201028.png\n"
     ]
    },
    {
     "name": "stderr",
     "output_type": "stream",
     "text": [
      "C:\\Users\\Administrator\\AppData\\Local\\Temp/ipykernel_4248/2832217777.py:41: UserWarning: The input coordinates to pcolor are interpreted as cell centers, but are not monotonically increasing or decreasing. This may lead to incorrectly calculated cell edges, in which case, please supply explicit cell edges to pcolor.\n",
      "  hy_m.pcolor(x_map, y_map, data=grid_array, cmap=plt.cm.jet,shading = 'auto',vmax=5,vmin=1,latlon = True)\n"
     ]
    },
    {
     "name": "stdout",
     "output_type": "stream",
     "text": [
      "now processed csv file D:\\python_workfile\\sea_ice_classification\\training6\\csv\\polarization_ratio\\20201029.csv\n",
      "D:\\python_workfile\\sea_ice_classification\\data\\mask\\aari\\proj\\pic\\True 20201029.png\n"
     ]
    },
    {
     "name": "stderr",
     "output_type": "stream",
     "text": [
      "C:\\Users\\Administrator\\AppData\\Local\\Temp/ipykernel_4248/2832217777.py:41: UserWarning: The input coordinates to pcolor are interpreted as cell centers, but are not monotonically increasing or decreasing. This may lead to incorrectly calculated cell edges, in which case, please supply explicit cell edges to pcolor.\n",
      "  hy_m.pcolor(x_map, y_map, data=grid_array, cmap=plt.cm.jet,shading = 'auto',vmax=5,vmin=1,latlon = True)\n"
     ]
    },
    {
     "name": "stdout",
     "output_type": "stream",
     "text": [
      "now processed csv file D:\\python_workfile\\sea_ice_classification\\training6\\csv\\polarization_ratio\\20201030.csv\n",
      "D:\\python_workfile\\sea_ice_classification\\data\\mask\\aari\\proj\\pic\\True 20201030.png\n"
     ]
    },
    {
     "name": "stderr",
     "output_type": "stream",
     "text": [
      "C:\\Users\\Administrator\\AppData\\Local\\Temp/ipykernel_4248/2832217777.py:41: UserWarning: The input coordinates to pcolor are interpreted as cell centers, but are not monotonically increasing or decreasing. This may lead to incorrectly calculated cell edges, in which case, please supply explicit cell edges to pcolor.\n",
      "  hy_m.pcolor(x_map, y_map, data=grid_array, cmap=plt.cm.jet,shading = 'auto',vmax=5,vmin=1,latlon = True)\n"
     ]
    },
    {
     "name": "stdout",
     "output_type": "stream",
     "text": [
      "now processed csv file D:\\python_workfile\\sea_ice_classification\\training6\\csv\\polarization_ratio\\20201031.csv\n",
      "D:\\python_workfile\\sea_ice_classification\\data\\mask\\aari\\proj\\pic\\True 20201031.png\n"
     ]
    },
    {
     "name": "stderr",
     "output_type": "stream",
     "text": [
      "C:\\Users\\Administrator\\AppData\\Local\\Temp/ipykernel_4248/2832217777.py:41: UserWarning: The input coordinates to pcolor are interpreted as cell centers, but are not monotonically increasing or decreasing. This may lead to incorrectly calculated cell edges, in which case, please supply explicit cell edges to pcolor.\n",
      "  hy_m.pcolor(x_map, y_map, data=grid_array, cmap=plt.cm.jet,shading = 'auto',vmax=5,vmin=1,latlon = True)\n"
     ]
    },
    {
     "name": "stdout",
     "output_type": "stream",
     "text": [
      "now processed csv file D:\\python_workfile\\sea_ice_classification\\training6\\csv\\polarization_ratio\\20201101.csv\n",
      "D:\\python_workfile\\sea_ice_classification\\data\\mask\\aari\\proj\\pic\\True 20201101.png\n"
     ]
    },
    {
     "name": "stderr",
     "output_type": "stream",
     "text": [
      "C:\\Users\\Administrator\\AppData\\Local\\Temp/ipykernel_4248/2832217777.py:41: UserWarning: The input coordinates to pcolor are interpreted as cell centers, but are not monotonically increasing or decreasing. This may lead to incorrectly calculated cell edges, in which case, please supply explicit cell edges to pcolor.\n",
      "  hy_m.pcolor(x_map, y_map, data=grid_array, cmap=plt.cm.jet,shading = 'auto',vmax=5,vmin=1,latlon = True)\n"
     ]
    },
    {
     "name": "stdout",
     "output_type": "stream",
     "text": [
      "now processed csv file D:\\python_workfile\\sea_ice_classification\\training6\\csv\\polarization_ratio\\20201102.csv\n",
      "D:\\python_workfile\\sea_ice_classification\\data\\mask\\aari\\proj\\pic\\True 20201102.png\n"
     ]
    },
    {
     "name": "stderr",
     "output_type": "stream",
     "text": [
      "C:\\Users\\Administrator\\AppData\\Local\\Temp/ipykernel_4248/2832217777.py:41: UserWarning: The input coordinates to pcolor are interpreted as cell centers, but are not monotonically increasing or decreasing. This may lead to incorrectly calculated cell edges, in which case, please supply explicit cell edges to pcolor.\n",
      "  hy_m.pcolor(x_map, y_map, data=grid_array, cmap=plt.cm.jet,shading = 'auto',vmax=5,vmin=1,latlon = True)\n"
     ]
    },
    {
     "name": "stdout",
     "output_type": "stream",
     "text": [
      "now processed csv file D:\\python_workfile\\sea_ice_classification\\training6\\csv\\polarization_ratio\\20201103.csv\n",
      "D:\\python_workfile\\sea_ice_classification\\data\\mask\\aari\\proj\\pic\\True 20201103.png\n"
     ]
    },
    {
     "name": "stderr",
     "output_type": "stream",
     "text": [
      "C:\\Users\\Administrator\\AppData\\Local\\Temp/ipykernel_4248/2832217777.py:41: UserWarning: The input coordinates to pcolor are interpreted as cell centers, but are not monotonically increasing or decreasing. This may lead to incorrectly calculated cell edges, in which case, please supply explicit cell edges to pcolor.\n",
      "  hy_m.pcolor(x_map, y_map, data=grid_array, cmap=plt.cm.jet,shading = 'auto',vmax=5,vmin=1,latlon = True)\n"
     ]
    },
    {
     "name": "stdout",
     "output_type": "stream",
     "text": [
      "now processed csv file D:\\python_workfile\\sea_ice_classification\\training6\\csv\\polarization_ratio\\20201104.csv\n",
      "D:\\python_workfile\\sea_ice_classification\\data\\mask\\aari\\proj\\pic\\True 20201104.png\n"
     ]
    },
    {
     "name": "stderr",
     "output_type": "stream",
     "text": [
      "C:\\Users\\Administrator\\AppData\\Local\\Temp/ipykernel_4248/2832217777.py:41: UserWarning: The input coordinates to pcolor are interpreted as cell centers, but are not monotonically increasing or decreasing. This may lead to incorrectly calculated cell edges, in which case, please supply explicit cell edges to pcolor.\n",
      "  hy_m.pcolor(x_map, y_map, data=grid_array, cmap=plt.cm.jet,shading = 'auto',vmax=5,vmin=1,latlon = True)\n"
     ]
    },
    {
     "name": "stdout",
     "output_type": "stream",
     "text": [
      "now processed csv file D:\\python_workfile\\sea_ice_classification\\training6\\csv\\polarization_ratio\\20201105.csv\n",
      "D:\\python_workfile\\sea_ice_classification\\data\\mask\\aari\\proj\\pic\\True 20201105.png\n"
     ]
    },
    {
     "name": "stderr",
     "output_type": "stream",
     "text": [
      "C:\\Users\\Administrator\\AppData\\Local\\Temp/ipykernel_4248/2832217777.py:41: UserWarning: The input coordinates to pcolor are interpreted as cell centers, but are not monotonically increasing or decreasing. This may lead to incorrectly calculated cell edges, in which case, please supply explicit cell edges to pcolor.\n",
      "  hy_m.pcolor(x_map, y_map, data=grid_array, cmap=plt.cm.jet,shading = 'auto',vmax=5,vmin=1,latlon = True)\n"
     ]
    },
    {
     "name": "stdout",
     "output_type": "stream",
     "text": [
      "now processed csv file D:\\python_workfile\\sea_ice_classification\\training6\\csv\\polarization_ratio\\20201106.csv\n",
      "D:\\python_workfile\\sea_ice_classification\\data\\mask\\aari\\proj\\pic\\True 20201106.png\n"
     ]
    },
    {
     "name": "stderr",
     "output_type": "stream",
     "text": [
      "C:\\Users\\Administrator\\AppData\\Local\\Temp/ipykernel_4248/2832217777.py:41: UserWarning: The input coordinates to pcolor are interpreted as cell centers, but are not monotonically increasing or decreasing. This may lead to incorrectly calculated cell edges, in which case, please supply explicit cell edges to pcolor.\n",
      "  hy_m.pcolor(x_map, y_map, data=grid_array, cmap=plt.cm.jet,shading = 'auto',vmax=5,vmin=1,latlon = True)\n"
     ]
    },
    {
     "name": "stdout",
     "output_type": "stream",
     "text": [
      "now processed csv file D:\\python_workfile\\sea_ice_classification\\training6\\csv\\polarization_ratio\\20201107.csv\n",
      "D:\\python_workfile\\sea_ice_classification\\data\\mask\\aari\\proj\\pic\\True 20201107.png\n"
     ]
    },
    {
     "name": "stderr",
     "output_type": "stream",
     "text": [
      "C:\\Users\\Administrator\\AppData\\Local\\Temp/ipykernel_4248/2832217777.py:41: UserWarning: The input coordinates to pcolor are interpreted as cell centers, but are not monotonically increasing or decreasing. This may lead to incorrectly calculated cell edges, in which case, please supply explicit cell edges to pcolor.\n",
      "  hy_m.pcolor(x_map, y_map, data=grid_array, cmap=plt.cm.jet,shading = 'auto',vmax=5,vmin=1,latlon = True)\n"
     ]
    },
    {
     "name": "stdout",
     "output_type": "stream",
     "text": [
      "now processed csv file D:\\python_workfile\\sea_ice_classification\\training6\\csv\\polarization_ratio\\20201108.csv\n",
      "D:\\python_workfile\\sea_ice_classification\\data\\mask\\aari\\proj\\pic\\True 20201108.png\n"
     ]
    },
    {
     "name": "stderr",
     "output_type": "stream",
     "text": [
      "C:\\Users\\Administrator\\AppData\\Local\\Temp/ipykernel_4248/2832217777.py:41: UserWarning: The input coordinates to pcolor are interpreted as cell centers, but are not monotonically increasing or decreasing. This may lead to incorrectly calculated cell edges, in which case, please supply explicit cell edges to pcolor.\n",
      "  hy_m.pcolor(x_map, y_map, data=grid_array, cmap=plt.cm.jet,shading = 'auto',vmax=5,vmin=1,latlon = True)\n"
     ]
    },
    {
     "name": "stdout",
     "output_type": "stream",
     "text": [
      "now processed csv file D:\\python_workfile\\sea_ice_classification\\training6\\csv\\polarization_ratio\\20201109.csv\n",
      "D:\\python_workfile\\sea_ice_classification\\data\\mask\\aari\\proj\\pic\\True 20201109.png\n"
     ]
    },
    {
     "name": "stderr",
     "output_type": "stream",
     "text": [
      "C:\\Users\\Administrator\\AppData\\Local\\Temp/ipykernel_4248/2832217777.py:41: UserWarning: The input coordinates to pcolor are interpreted as cell centers, but are not monotonically increasing or decreasing. This may lead to incorrectly calculated cell edges, in which case, please supply explicit cell edges to pcolor.\n",
      "  hy_m.pcolor(x_map, y_map, data=grid_array, cmap=plt.cm.jet,shading = 'auto',vmax=5,vmin=1,latlon = True)\n"
     ]
    },
    {
     "name": "stdout",
     "output_type": "stream",
     "text": [
      "now processed csv file D:\\python_workfile\\sea_ice_classification\\training6\\csv\\polarization_ratio\\20201110.csv\n",
      "D:\\python_workfile\\sea_ice_classification\\data\\mask\\aari\\proj\\pic\\True 20201110.png\n"
     ]
    },
    {
     "name": "stderr",
     "output_type": "stream",
     "text": [
      "C:\\Users\\Administrator\\AppData\\Local\\Temp/ipykernel_4248/2832217777.py:41: UserWarning: The input coordinates to pcolor are interpreted as cell centers, but are not monotonically increasing or decreasing. This may lead to incorrectly calculated cell edges, in which case, please supply explicit cell edges to pcolor.\n",
      "  hy_m.pcolor(x_map, y_map, data=grid_array, cmap=plt.cm.jet,shading = 'auto',vmax=5,vmin=1,latlon = True)\n"
     ]
    },
    {
     "name": "stdout",
     "output_type": "stream",
     "text": [
      "now processed csv file D:\\python_workfile\\sea_ice_classification\\training6\\csv\\polarization_ratio\\20201111.csv\n",
      "D:\\python_workfile\\sea_ice_classification\\data\\mask\\aari\\proj\\pic\\True 20201111.png\n"
     ]
    },
    {
     "name": "stderr",
     "output_type": "stream",
     "text": [
      "C:\\Users\\Administrator\\AppData\\Local\\Temp/ipykernel_4248/2832217777.py:41: UserWarning: The input coordinates to pcolor are interpreted as cell centers, but are not monotonically increasing or decreasing. This may lead to incorrectly calculated cell edges, in which case, please supply explicit cell edges to pcolor.\n",
      "  hy_m.pcolor(x_map, y_map, data=grid_array, cmap=plt.cm.jet,shading = 'auto',vmax=5,vmin=1,latlon = True)\n"
     ]
    },
    {
     "name": "stdout",
     "output_type": "stream",
     "text": [
      "now processed csv file D:\\python_workfile\\sea_ice_classification\\training6\\csv\\polarization_ratio\\20201112.csv\n",
      "D:\\python_workfile\\sea_ice_classification\\data\\mask\\aari\\proj\\pic\\True 20201112.png\n"
     ]
    },
    {
     "name": "stderr",
     "output_type": "stream",
     "text": [
      "C:\\Users\\Administrator\\AppData\\Local\\Temp/ipykernel_4248/2832217777.py:41: UserWarning: The input coordinates to pcolor are interpreted as cell centers, but are not monotonically increasing or decreasing. This may lead to incorrectly calculated cell edges, in which case, please supply explicit cell edges to pcolor.\n",
      "  hy_m.pcolor(x_map, y_map, data=grid_array, cmap=plt.cm.jet,shading = 'auto',vmax=5,vmin=1,latlon = True)\n"
     ]
    },
    {
     "name": "stdout",
     "output_type": "stream",
     "text": [
      "now processed csv file D:\\python_workfile\\sea_ice_classification\\training6\\csv\\polarization_ratio\\20201113.csv\n",
      "D:\\python_workfile\\sea_ice_classification\\data\\mask\\aari\\proj\\pic\\True 20201113.png\n"
     ]
    },
    {
     "name": "stderr",
     "output_type": "stream",
     "text": [
      "C:\\Users\\Administrator\\AppData\\Local\\Temp/ipykernel_4248/2832217777.py:41: UserWarning: The input coordinates to pcolor are interpreted as cell centers, but are not monotonically increasing or decreasing. This may lead to incorrectly calculated cell edges, in which case, please supply explicit cell edges to pcolor.\n",
      "  hy_m.pcolor(x_map, y_map, data=grid_array, cmap=plt.cm.jet,shading = 'auto',vmax=5,vmin=1,latlon = True)\n"
     ]
    },
    {
     "name": "stdout",
     "output_type": "stream",
     "text": [
      "now processed csv file D:\\python_workfile\\sea_ice_classification\\training6\\csv\\polarization_ratio\\20201114.csv\n",
      "D:\\python_workfile\\sea_ice_classification\\data\\mask\\aari\\proj\\pic\\True 20201114.png\n"
     ]
    },
    {
     "name": "stderr",
     "output_type": "stream",
     "text": [
      "C:\\Users\\Administrator\\AppData\\Local\\Temp/ipykernel_4248/2832217777.py:41: UserWarning: The input coordinates to pcolor are interpreted as cell centers, but are not monotonically increasing or decreasing. This may lead to incorrectly calculated cell edges, in which case, please supply explicit cell edges to pcolor.\n",
      "  hy_m.pcolor(x_map, y_map, data=grid_array, cmap=plt.cm.jet,shading = 'auto',vmax=5,vmin=1,latlon = True)\n"
     ]
    },
    {
     "name": "stdout",
     "output_type": "stream",
     "text": [
      "now processed csv file D:\\python_workfile\\sea_ice_classification\\training6\\csv\\polarization_ratio\\20201115.csv\n",
      "D:\\python_workfile\\sea_ice_classification\\data\\mask\\aari\\proj\\pic\\True 20201115.png\n"
     ]
    },
    {
     "name": "stderr",
     "output_type": "stream",
     "text": [
      "C:\\Users\\Administrator\\AppData\\Local\\Temp/ipykernel_4248/2832217777.py:41: UserWarning: The input coordinates to pcolor are interpreted as cell centers, but are not monotonically increasing or decreasing. This may lead to incorrectly calculated cell edges, in which case, please supply explicit cell edges to pcolor.\n",
      "  hy_m.pcolor(x_map, y_map, data=grid_array, cmap=plt.cm.jet,shading = 'auto',vmax=5,vmin=1,latlon = True)\n"
     ]
    },
    {
     "name": "stdout",
     "output_type": "stream",
     "text": [
      "now processed csv file D:\\python_workfile\\sea_ice_classification\\training6\\csv\\polarization_ratio\\20201116.csv\n",
      "D:\\python_workfile\\sea_ice_classification\\data\\mask\\aari\\proj\\pic\\True 20201116.png\n"
     ]
    },
    {
     "name": "stderr",
     "output_type": "stream",
     "text": [
      "C:\\Users\\Administrator\\AppData\\Local\\Temp/ipykernel_4248/2832217777.py:41: UserWarning: The input coordinates to pcolor are interpreted as cell centers, but are not monotonically increasing or decreasing. This may lead to incorrectly calculated cell edges, in which case, please supply explicit cell edges to pcolor.\n",
      "  hy_m.pcolor(x_map, y_map, data=grid_array, cmap=plt.cm.jet,shading = 'auto',vmax=5,vmin=1,latlon = True)\n"
     ]
    },
    {
     "name": "stdout",
     "output_type": "stream",
     "text": [
      "now processed csv file D:\\python_workfile\\sea_ice_classification\\training6\\csv\\polarization_ratio\\20201117.csv\n",
      "D:\\python_workfile\\sea_ice_classification\\data\\mask\\aari\\proj\\pic\\True 20201117.png\n"
     ]
    },
    {
     "name": "stderr",
     "output_type": "stream",
     "text": [
      "C:\\Users\\Administrator\\AppData\\Local\\Temp/ipykernel_4248/2832217777.py:41: UserWarning: The input coordinates to pcolor are interpreted as cell centers, but are not monotonically increasing or decreasing. This may lead to incorrectly calculated cell edges, in which case, please supply explicit cell edges to pcolor.\n",
      "  hy_m.pcolor(x_map, y_map, data=grid_array, cmap=plt.cm.jet,shading = 'auto',vmax=5,vmin=1,latlon = True)\n"
     ]
    },
    {
     "name": "stdout",
     "output_type": "stream",
     "text": [
      "now processed csv file D:\\python_workfile\\sea_ice_classification\\training6\\csv\\polarization_ratio\\20201118.csv\n",
      "D:\\python_workfile\\sea_ice_classification\\data\\mask\\aari\\proj\\pic\\True 20201118.png\n"
     ]
    },
    {
     "name": "stderr",
     "output_type": "stream",
     "text": [
      "C:\\Users\\Administrator\\AppData\\Local\\Temp/ipykernel_4248/2832217777.py:41: UserWarning: The input coordinates to pcolor are interpreted as cell centers, but are not monotonically increasing or decreasing. This may lead to incorrectly calculated cell edges, in which case, please supply explicit cell edges to pcolor.\n",
      "  hy_m.pcolor(x_map, y_map, data=grid_array, cmap=plt.cm.jet,shading = 'auto',vmax=5,vmin=1,latlon = True)\n"
     ]
    },
    {
     "name": "stdout",
     "output_type": "stream",
     "text": [
      "now processed csv file D:\\python_workfile\\sea_ice_classification\\training6\\csv\\polarization_ratio\\20201119.csv\n",
      "D:\\python_workfile\\sea_ice_classification\\data\\mask\\aari\\proj\\pic\\True 20201119.png\n"
     ]
    },
    {
     "name": "stderr",
     "output_type": "stream",
     "text": [
      "C:\\Users\\Administrator\\AppData\\Local\\Temp/ipykernel_4248/2832217777.py:41: UserWarning: The input coordinates to pcolor are interpreted as cell centers, but are not monotonically increasing or decreasing. This may lead to incorrectly calculated cell edges, in which case, please supply explicit cell edges to pcolor.\n",
      "  hy_m.pcolor(x_map, y_map, data=grid_array, cmap=plt.cm.jet,shading = 'auto',vmax=5,vmin=1,latlon = True)\n"
     ]
    },
    {
     "name": "stdout",
     "output_type": "stream",
     "text": [
      "now processed csv file D:\\python_workfile\\sea_ice_classification\\training6\\csv\\polarization_ratio\\20201120.csv\n",
      "D:\\python_workfile\\sea_ice_classification\\data\\mask\\aari\\proj\\pic\\True 20201120.png\n"
     ]
    },
    {
     "name": "stderr",
     "output_type": "stream",
     "text": [
      "C:\\Users\\Administrator\\AppData\\Local\\Temp/ipykernel_4248/2832217777.py:41: UserWarning: The input coordinates to pcolor are interpreted as cell centers, but are not monotonically increasing or decreasing. This may lead to incorrectly calculated cell edges, in which case, please supply explicit cell edges to pcolor.\n",
      "  hy_m.pcolor(x_map, y_map, data=grid_array, cmap=plt.cm.jet,shading = 'auto',vmax=5,vmin=1,latlon = True)\n"
     ]
    },
    {
     "name": "stdout",
     "output_type": "stream",
     "text": [
      "now processed csv file D:\\python_workfile\\sea_ice_classification\\training6\\csv\\polarization_ratio\\20201121.csv\n",
      "D:\\python_workfile\\sea_ice_classification\\data\\mask\\aari\\proj\\pic\\True 20201121.png\n"
     ]
    },
    {
     "name": "stderr",
     "output_type": "stream",
     "text": [
      "C:\\Users\\Administrator\\AppData\\Local\\Temp/ipykernel_4248/2832217777.py:41: UserWarning: The input coordinates to pcolor are interpreted as cell centers, but are not monotonically increasing or decreasing. This may lead to incorrectly calculated cell edges, in which case, please supply explicit cell edges to pcolor.\n",
      "  hy_m.pcolor(x_map, y_map, data=grid_array, cmap=plt.cm.jet,shading = 'auto',vmax=5,vmin=1,latlon = True)\n"
     ]
    },
    {
     "name": "stdout",
     "output_type": "stream",
     "text": [
      "now processed csv file D:\\python_workfile\\sea_ice_classification\\training6\\csv\\polarization_ratio\\20201122.csv\n",
      "D:\\python_workfile\\sea_ice_classification\\data\\mask\\aari\\proj\\pic\\True 20201122.png\n"
     ]
    },
    {
     "name": "stderr",
     "output_type": "stream",
     "text": [
      "C:\\Users\\Administrator\\AppData\\Local\\Temp/ipykernel_4248/2832217777.py:41: UserWarning: The input coordinates to pcolor are interpreted as cell centers, but are not monotonically increasing or decreasing. This may lead to incorrectly calculated cell edges, in which case, please supply explicit cell edges to pcolor.\n",
      "  hy_m.pcolor(x_map, y_map, data=grid_array, cmap=plt.cm.jet,shading = 'auto',vmax=5,vmin=1,latlon = True)\n"
     ]
    },
    {
     "name": "stdout",
     "output_type": "stream",
     "text": [
      "now processed csv file D:\\python_workfile\\sea_ice_classification\\training6\\csv\\polarization_ratio\\20201123.csv\n",
      "D:\\python_workfile\\sea_ice_classification\\data\\mask\\aari\\proj\\pic\\True 20201123.png\n"
     ]
    },
    {
     "name": "stderr",
     "output_type": "stream",
     "text": [
      "C:\\Users\\Administrator\\AppData\\Local\\Temp/ipykernel_4248/2832217777.py:41: UserWarning: The input coordinates to pcolor are interpreted as cell centers, but are not monotonically increasing or decreasing. This may lead to incorrectly calculated cell edges, in which case, please supply explicit cell edges to pcolor.\n",
      "  hy_m.pcolor(x_map, y_map, data=grid_array, cmap=plt.cm.jet,shading = 'auto',vmax=5,vmin=1,latlon = True)\n"
     ]
    },
    {
     "name": "stdout",
     "output_type": "stream",
     "text": [
      "now processed csv file D:\\python_workfile\\sea_ice_classification\\training6\\csv\\polarization_ratio\\20201124.csv\n",
      "D:\\python_workfile\\sea_ice_classification\\data\\mask\\aari\\proj\\pic\\True 20201124.png\n"
     ]
    },
    {
     "name": "stderr",
     "output_type": "stream",
     "text": [
      "C:\\Users\\Administrator\\AppData\\Local\\Temp/ipykernel_4248/2832217777.py:41: UserWarning: The input coordinates to pcolor are interpreted as cell centers, but are not monotonically increasing or decreasing. This may lead to incorrectly calculated cell edges, in which case, please supply explicit cell edges to pcolor.\n",
      "  hy_m.pcolor(x_map, y_map, data=grid_array, cmap=plt.cm.jet,shading = 'auto',vmax=5,vmin=1,latlon = True)\n"
     ]
    },
    {
     "name": "stdout",
     "output_type": "stream",
     "text": [
      "now processed csv file D:\\python_workfile\\sea_ice_classification\\training6\\csv\\polarization_ratio\\20201201.csv\n",
      "D:\\python_workfile\\sea_ice_classification\\data\\mask\\aari\\proj\\pic\\True 20201201.png\n"
     ]
    },
    {
     "name": "stderr",
     "output_type": "stream",
     "text": [
      "C:\\Users\\Administrator\\AppData\\Local\\Temp/ipykernel_4248/2832217777.py:41: UserWarning: The input coordinates to pcolor are interpreted as cell centers, but are not monotonically increasing or decreasing. This may lead to incorrectly calculated cell edges, in which case, please supply explicit cell edges to pcolor.\n",
      "  hy_m.pcolor(x_map, y_map, data=grid_array, cmap=plt.cm.jet,shading = 'auto',vmax=5,vmin=1,latlon = True)\n"
     ]
    },
    {
     "name": "stdout",
     "output_type": "stream",
     "text": [
      "now processed csv file D:\\python_workfile\\sea_ice_classification\\training6\\csv\\polarization_ratio\\20201202.csv\n",
      "D:\\python_workfile\\sea_ice_classification\\data\\mask\\aari\\proj\\pic\\True 20201202.png\n"
     ]
    },
    {
     "name": "stderr",
     "output_type": "stream",
     "text": [
      "C:\\Users\\Administrator\\AppData\\Local\\Temp/ipykernel_4248/2832217777.py:41: UserWarning: The input coordinates to pcolor are interpreted as cell centers, but are not monotonically increasing or decreasing. This may lead to incorrectly calculated cell edges, in which case, please supply explicit cell edges to pcolor.\n",
      "  hy_m.pcolor(x_map, y_map, data=grid_array, cmap=plt.cm.jet,shading = 'auto',vmax=5,vmin=1,latlon = True)\n"
     ]
    },
    {
     "name": "stdout",
     "output_type": "stream",
     "text": [
      "now processed csv file D:\\python_workfile\\sea_ice_classification\\training6\\csv\\polarization_ratio\\20201203.csv\n",
      "D:\\python_workfile\\sea_ice_classification\\data\\mask\\aari\\proj\\pic\\True 20201203.png\n"
     ]
    },
    {
     "name": "stderr",
     "output_type": "stream",
     "text": [
      "C:\\Users\\Administrator\\AppData\\Local\\Temp/ipykernel_4248/2832217777.py:41: UserWarning: The input coordinates to pcolor are interpreted as cell centers, but are not monotonically increasing or decreasing. This may lead to incorrectly calculated cell edges, in which case, please supply explicit cell edges to pcolor.\n",
      "  hy_m.pcolor(x_map, y_map, data=grid_array, cmap=plt.cm.jet,shading = 'auto',vmax=5,vmin=1,latlon = True)\n"
     ]
    },
    {
     "name": "stdout",
     "output_type": "stream",
     "text": [
      "now processed csv file D:\\python_workfile\\sea_ice_classification\\training6\\csv\\polarization_ratio\\20201204.csv\n",
      "D:\\python_workfile\\sea_ice_classification\\data\\mask\\aari\\proj\\pic\\True 20201204.png\n"
     ]
    },
    {
     "name": "stderr",
     "output_type": "stream",
     "text": [
      "C:\\Users\\Administrator\\AppData\\Local\\Temp/ipykernel_4248/2832217777.py:41: UserWarning: The input coordinates to pcolor are interpreted as cell centers, but are not monotonically increasing or decreasing. This may lead to incorrectly calculated cell edges, in which case, please supply explicit cell edges to pcolor.\n",
      "  hy_m.pcolor(x_map, y_map, data=grid_array, cmap=plt.cm.jet,shading = 'auto',vmax=5,vmin=1,latlon = True)\n"
     ]
    },
    {
     "name": "stdout",
     "output_type": "stream",
     "text": [
      "now processed csv file D:\\python_workfile\\sea_ice_classification\\training6\\csv\\polarization_ratio\\20201205.csv\n",
      "D:\\python_workfile\\sea_ice_classification\\data\\mask\\aari\\proj\\pic\\True 20201205.png\n"
     ]
    },
    {
     "name": "stderr",
     "output_type": "stream",
     "text": [
      "C:\\Users\\Administrator\\AppData\\Local\\Temp/ipykernel_4248/2832217777.py:41: UserWarning: The input coordinates to pcolor are interpreted as cell centers, but are not monotonically increasing or decreasing. This may lead to incorrectly calculated cell edges, in which case, please supply explicit cell edges to pcolor.\n",
      "  hy_m.pcolor(x_map, y_map, data=grid_array, cmap=plt.cm.jet,shading = 'auto',vmax=5,vmin=1,latlon = True)\n"
     ]
    },
    {
     "name": "stdout",
     "output_type": "stream",
     "text": [
      "now processed csv file D:\\python_workfile\\sea_ice_classification\\training6\\csv\\polarization_ratio\\20201206.csv\n",
      "D:\\python_workfile\\sea_ice_classification\\data\\mask\\aari\\proj\\pic\\True 20201206.png\n"
     ]
    },
    {
     "name": "stderr",
     "output_type": "stream",
     "text": [
      "C:\\Users\\Administrator\\AppData\\Local\\Temp/ipykernel_4248/2832217777.py:41: UserWarning: The input coordinates to pcolor are interpreted as cell centers, but are not monotonically increasing or decreasing. This may lead to incorrectly calculated cell edges, in which case, please supply explicit cell edges to pcolor.\n",
      "  hy_m.pcolor(x_map, y_map, data=grid_array, cmap=plt.cm.jet,shading = 'auto',vmax=5,vmin=1,latlon = True)\n"
     ]
    },
    {
     "name": "stdout",
     "output_type": "stream",
     "text": [
      "now processed csv file D:\\python_workfile\\sea_ice_classification\\training6\\csv\\polarization_ratio\\20201207.csv\n",
      "D:\\python_workfile\\sea_ice_classification\\data\\mask\\aari\\proj\\pic\\True 20201207.png\n"
     ]
    },
    {
     "name": "stderr",
     "output_type": "stream",
     "text": [
      "C:\\Users\\Administrator\\AppData\\Local\\Temp/ipykernel_4248/2832217777.py:41: UserWarning: The input coordinates to pcolor are interpreted as cell centers, but are not monotonically increasing or decreasing. This may lead to incorrectly calculated cell edges, in which case, please supply explicit cell edges to pcolor.\n",
      "  hy_m.pcolor(x_map, y_map, data=grid_array, cmap=plt.cm.jet,shading = 'auto',vmax=5,vmin=1,latlon = True)\n"
     ]
    },
    {
     "name": "stdout",
     "output_type": "stream",
     "text": [
      "now processed csv file D:\\python_workfile\\sea_ice_classification\\training6\\csv\\polarization_ratio\\20201208.csv\n",
      "D:\\python_workfile\\sea_ice_classification\\data\\mask\\aari\\proj\\pic\\True 20201208.png\n"
     ]
    },
    {
     "name": "stderr",
     "output_type": "stream",
     "text": [
      "C:\\Users\\Administrator\\AppData\\Local\\Temp/ipykernel_4248/2832217777.py:41: UserWarning: The input coordinates to pcolor are interpreted as cell centers, but are not monotonically increasing or decreasing. This may lead to incorrectly calculated cell edges, in which case, please supply explicit cell edges to pcolor.\n",
      "  hy_m.pcolor(x_map, y_map, data=grid_array, cmap=plt.cm.jet,shading = 'auto',vmax=5,vmin=1,latlon = True)\n"
     ]
    },
    {
     "name": "stdout",
     "output_type": "stream",
     "text": [
      "now processed csv file D:\\python_workfile\\sea_ice_classification\\training6\\csv\\polarization_ratio\\20201209.csv\n",
      "D:\\python_workfile\\sea_ice_classification\\data\\mask\\aari\\proj\\pic\\True 20201209.png\n"
     ]
    },
    {
     "name": "stderr",
     "output_type": "stream",
     "text": [
      "C:\\Users\\Administrator\\AppData\\Local\\Temp/ipykernel_4248/2832217777.py:41: UserWarning: The input coordinates to pcolor are interpreted as cell centers, but are not monotonically increasing or decreasing. This may lead to incorrectly calculated cell edges, in which case, please supply explicit cell edges to pcolor.\n",
      "  hy_m.pcolor(x_map, y_map, data=grid_array, cmap=plt.cm.jet,shading = 'auto',vmax=5,vmin=1,latlon = True)\n"
     ]
    },
    {
     "name": "stdout",
     "output_type": "stream",
     "text": [
      "now processed csv file D:\\python_workfile\\sea_ice_classification\\training6\\csv\\polarization_ratio\\20201210.csv\n",
      "D:\\python_workfile\\sea_ice_classification\\data\\mask\\aari\\proj\\pic\\True 20201210.png\n"
     ]
    },
    {
     "name": "stderr",
     "output_type": "stream",
     "text": [
      "C:\\Users\\Administrator\\AppData\\Local\\Temp/ipykernel_4248/2832217777.py:41: UserWarning: The input coordinates to pcolor are interpreted as cell centers, but are not monotonically increasing or decreasing. This may lead to incorrectly calculated cell edges, in which case, please supply explicit cell edges to pcolor.\n",
      "  hy_m.pcolor(x_map, y_map, data=grid_array, cmap=plt.cm.jet,shading = 'auto',vmax=5,vmin=1,latlon = True)\n"
     ]
    },
    {
     "name": "stdout",
     "output_type": "stream",
     "text": [
      "now processed csv file D:\\python_workfile\\sea_ice_classification\\training6\\csv\\polarization_ratio\\20201211.csv\n",
      "D:\\python_workfile\\sea_ice_classification\\data\\mask\\aari\\proj\\pic\\True 20201211.png\n"
     ]
    },
    {
     "name": "stderr",
     "output_type": "stream",
     "text": [
      "C:\\Users\\Administrator\\AppData\\Local\\Temp/ipykernel_4248/2832217777.py:41: UserWarning: The input coordinates to pcolor are interpreted as cell centers, but are not monotonically increasing or decreasing. This may lead to incorrectly calculated cell edges, in which case, please supply explicit cell edges to pcolor.\n",
      "  hy_m.pcolor(x_map, y_map, data=grid_array, cmap=plt.cm.jet,shading = 'auto',vmax=5,vmin=1,latlon = True)\n"
     ]
    },
    {
     "name": "stdout",
     "output_type": "stream",
     "text": [
      "now processed csv file D:\\python_workfile\\sea_ice_classification\\training6\\csv\\polarization_ratio\\20201212.csv\n",
      "D:\\python_workfile\\sea_ice_classification\\data\\mask\\aari\\proj\\pic\\True 20201212.png\n"
     ]
    },
    {
     "name": "stderr",
     "output_type": "stream",
     "text": [
      "C:\\Users\\Administrator\\AppData\\Local\\Temp/ipykernel_4248/2832217777.py:41: UserWarning: The input coordinates to pcolor are interpreted as cell centers, but are not monotonically increasing or decreasing. This may lead to incorrectly calculated cell edges, in which case, please supply explicit cell edges to pcolor.\n",
      "  hy_m.pcolor(x_map, y_map, data=grid_array, cmap=plt.cm.jet,shading = 'auto',vmax=5,vmin=1,latlon = True)\n"
     ]
    },
    {
     "name": "stdout",
     "output_type": "stream",
     "text": [
      "now processed csv file D:\\python_workfile\\sea_ice_classification\\training6\\csv\\polarization_ratio\\20201213.csv\n",
      "D:\\python_workfile\\sea_ice_classification\\data\\mask\\aari\\proj\\pic\\True 20201213.png\n"
     ]
    },
    {
     "name": "stderr",
     "output_type": "stream",
     "text": [
      "C:\\Users\\Administrator\\AppData\\Local\\Temp/ipykernel_4248/2832217777.py:41: UserWarning: The input coordinates to pcolor are interpreted as cell centers, but are not monotonically increasing or decreasing. This may lead to incorrectly calculated cell edges, in which case, please supply explicit cell edges to pcolor.\n",
      "  hy_m.pcolor(x_map, y_map, data=grid_array, cmap=plt.cm.jet,shading = 'auto',vmax=5,vmin=1,latlon = True)\n"
     ]
    },
    {
     "name": "stdout",
     "output_type": "stream",
     "text": [
      "now processed csv file D:\\python_workfile\\sea_ice_classification\\training6\\csv\\polarization_ratio\\20201214.csv\n",
      "D:\\python_workfile\\sea_ice_classification\\data\\mask\\aari\\proj\\pic\\True 20201214.png\n"
     ]
    },
    {
     "name": "stderr",
     "output_type": "stream",
     "text": [
      "C:\\Users\\Administrator\\AppData\\Local\\Temp/ipykernel_4248/2832217777.py:41: UserWarning: The input coordinates to pcolor are interpreted as cell centers, but are not monotonically increasing or decreasing. This may lead to incorrectly calculated cell edges, in which case, please supply explicit cell edges to pcolor.\n",
      "  hy_m.pcolor(x_map, y_map, data=grid_array, cmap=plt.cm.jet,shading = 'auto',vmax=5,vmin=1,latlon = True)\n"
     ]
    },
    {
     "name": "stdout",
     "output_type": "stream",
     "text": [
      "now processed csv file D:\\python_workfile\\sea_ice_classification\\training6\\csv\\polarization_ratio\\20201215.csv\n",
      "D:\\python_workfile\\sea_ice_classification\\data\\mask\\aari\\proj\\pic\\True 20201215.png\n"
     ]
    },
    {
     "name": "stderr",
     "output_type": "stream",
     "text": [
      "C:\\Users\\Administrator\\AppData\\Local\\Temp/ipykernel_4248/2832217777.py:41: UserWarning: The input coordinates to pcolor are interpreted as cell centers, but are not monotonically increasing or decreasing. This may lead to incorrectly calculated cell edges, in which case, please supply explicit cell edges to pcolor.\n",
      "  hy_m.pcolor(x_map, y_map, data=grid_array, cmap=plt.cm.jet,shading = 'auto',vmax=5,vmin=1,latlon = True)\n"
     ]
    },
    {
     "name": "stdout",
     "output_type": "stream",
     "text": [
      "now processed csv file D:\\python_workfile\\sea_ice_classification\\training6\\csv\\polarization_ratio\\20201216.csv\n",
      "D:\\python_workfile\\sea_ice_classification\\data\\mask\\aari\\proj\\pic\\True 20201216.png\n"
     ]
    },
    {
     "name": "stderr",
     "output_type": "stream",
     "text": [
      "C:\\Users\\Administrator\\AppData\\Local\\Temp/ipykernel_4248/2832217777.py:41: UserWarning: The input coordinates to pcolor are interpreted as cell centers, but are not monotonically increasing or decreasing. This may lead to incorrectly calculated cell edges, in which case, please supply explicit cell edges to pcolor.\n",
      "  hy_m.pcolor(x_map, y_map, data=grid_array, cmap=plt.cm.jet,shading = 'auto',vmax=5,vmin=1,latlon = True)\n"
     ]
    },
    {
     "name": "stdout",
     "output_type": "stream",
     "text": [
      "now processed csv file D:\\python_workfile\\sea_ice_classification\\training6\\csv\\polarization_ratio\\20201217.csv\n",
      "D:\\python_workfile\\sea_ice_classification\\data\\mask\\aari\\proj\\pic\\True 20201217.png\n"
     ]
    },
    {
     "name": "stderr",
     "output_type": "stream",
     "text": [
      "C:\\Users\\Administrator\\AppData\\Local\\Temp/ipykernel_4248/2832217777.py:41: UserWarning: The input coordinates to pcolor are interpreted as cell centers, but are not monotonically increasing or decreasing. This may lead to incorrectly calculated cell edges, in which case, please supply explicit cell edges to pcolor.\n",
      "  hy_m.pcolor(x_map, y_map, data=grid_array, cmap=plt.cm.jet,shading = 'auto',vmax=5,vmin=1,latlon = True)\n"
     ]
    },
    {
     "name": "stdout",
     "output_type": "stream",
     "text": [
      "now processed csv file D:\\python_workfile\\sea_ice_classification\\training6\\csv\\polarization_ratio\\20201218.csv\n",
      "D:\\python_workfile\\sea_ice_classification\\data\\mask\\aari\\proj\\pic\\True 20201218.png\n"
     ]
    },
    {
     "name": "stderr",
     "output_type": "stream",
     "text": [
      "C:\\Users\\Administrator\\AppData\\Local\\Temp/ipykernel_4248/2832217777.py:41: UserWarning: The input coordinates to pcolor are interpreted as cell centers, but are not monotonically increasing or decreasing. This may lead to incorrectly calculated cell edges, in which case, please supply explicit cell edges to pcolor.\n",
      "  hy_m.pcolor(x_map, y_map, data=grid_array, cmap=plt.cm.jet,shading = 'auto',vmax=5,vmin=1,latlon = True)\n"
     ]
    },
    {
     "name": "stdout",
     "output_type": "stream",
     "text": [
      "now processed csv file D:\\python_workfile\\sea_ice_classification\\training6\\csv\\polarization_ratio\\20201219.csv\n",
      "D:\\python_workfile\\sea_ice_classification\\data\\mask\\aari\\proj\\pic\\True 20201219.png\n"
     ]
    },
    {
     "name": "stderr",
     "output_type": "stream",
     "text": [
      "C:\\Users\\Administrator\\AppData\\Local\\Temp/ipykernel_4248/2832217777.py:41: UserWarning: The input coordinates to pcolor are interpreted as cell centers, but are not monotonically increasing or decreasing. This may lead to incorrectly calculated cell edges, in which case, please supply explicit cell edges to pcolor.\n",
      "  hy_m.pcolor(x_map, y_map, data=grid_array, cmap=plt.cm.jet,shading = 'auto',vmax=5,vmin=1,latlon = True)\n"
     ]
    },
    {
     "name": "stdout",
     "output_type": "stream",
     "text": [
      "now processed csv file D:\\python_workfile\\sea_ice_classification\\training6\\csv\\polarization_ratio\\20201220.csv\n",
      "D:\\python_workfile\\sea_ice_classification\\data\\mask\\aari\\proj\\pic\\True 20201220.png\n"
     ]
    },
    {
     "name": "stderr",
     "output_type": "stream",
     "text": [
      "C:\\Users\\Administrator\\AppData\\Local\\Temp/ipykernel_4248/2832217777.py:41: UserWarning: The input coordinates to pcolor are interpreted as cell centers, but are not monotonically increasing or decreasing. This may lead to incorrectly calculated cell edges, in which case, please supply explicit cell edges to pcolor.\n",
      "  hy_m.pcolor(x_map, y_map, data=grid_array, cmap=plt.cm.jet,shading = 'auto',vmax=5,vmin=1,latlon = True)\n"
     ]
    },
    {
     "name": "stdout",
     "output_type": "stream",
     "text": [
      "now processed csv file D:\\python_workfile\\sea_ice_classification\\training6\\csv\\polarization_ratio\\20201222.csv\n",
      "D:\\python_workfile\\sea_ice_classification\\data\\mask\\aari\\proj\\pic\\True 20201222.png\n"
     ]
    },
    {
     "name": "stderr",
     "output_type": "stream",
     "text": [
      "C:\\Users\\Administrator\\AppData\\Local\\Temp/ipykernel_4248/2832217777.py:41: UserWarning: The input coordinates to pcolor are interpreted as cell centers, but are not monotonically increasing or decreasing. This may lead to incorrectly calculated cell edges, in which case, please supply explicit cell edges to pcolor.\n",
      "  hy_m.pcolor(x_map, y_map, data=grid_array, cmap=plt.cm.jet,shading = 'auto',vmax=5,vmin=1,latlon = True)\n"
     ]
    },
    {
     "name": "stdout",
     "output_type": "stream",
     "text": [
      "now processed csv file D:\\python_workfile\\sea_ice_classification\\training6\\csv\\polarization_ratio\\20210112.csv\n",
      "D:\\python_workfile\\sea_ice_classification\\data\\mask\\aari\\proj\\pic\\True 20210112.png\n"
     ]
    },
    {
     "name": "stderr",
     "output_type": "stream",
     "text": [
      "C:\\Users\\Administrator\\AppData\\Local\\Temp/ipykernel_4248/2832217777.py:41: UserWarning: The input coordinates to pcolor are interpreted as cell centers, but are not monotonically increasing or decreasing. This may lead to incorrectly calculated cell edges, in which case, please supply explicit cell edges to pcolor.\n",
      "  hy_m.pcolor(x_map, y_map, data=grid_array, cmap=plt.cm.jet,shading = 'auto',vmax=5,vmin=1,latlon = True)\n"
     ]
    },
    {
     "name": "stdout",
     "output_type": "stream",
     "text": [
      "now processed csv file D:\\python_workfile\\sea_ice_classification\\training6\\csv\\polarization_ratio\\20210113.csv\n",
      "D:\\python_workfile\\sea_ice_classification\\data\\mask\\aari\\proj\\pic\\True 20210113.png\n"
     ]
    },
    {
     "name": "stderr",
     "output_type": "stream",
     "text": [
      "C:\\Users\\Administrator\\AppData\\Local\\Temp/ipykernel_4248/2832217777.py:41: UserWarning: The input coordinates to pcolor are interpreted as cell centers, but are not monotonically increasing or decreasing. This may lead to incorrectly calculated cell edges, in which case, please supply explicit cell edges to pcolor.\n",
      "  hy_m.pcolor(x_map, y_map, data=grid_array, cmap=plt.cm.jet,shading = 'auto',vmax=5,vmin=1,latlon = True)\n"
     ]
    },
    {
     "name": "stdout",
     "output_type": "stream",
     "text": [
      "now processed csv file D:\\python_workfile\\sea_ice_classification\\training6\\csv\\polarization_ratio\\20210114.csv\n",
      "D:\\python_workfile\\sea_ice_classification\\data\\mask\\aari\\proj\\pic\\True 20210114.png\n"
     ]
    },
    {
     "name": "stderr",
     "output_type": "stream",
     "text": [
      "C:\\Users\\Administrator\\AppData\\Local\\Temp/ipykernel_4248/2832217777.py:41: UserWarning: The input coordinates to pcolor are interpreted as cell centers, but are not monotonically increasing or decreasing. This may lead to incorrectly calculated cell edges, in which case, please supply explicit cell edges to pcolor.\n",
      "  hy_m.pcolor(x_map, y_map, data=grid_array, cmap=plt.cm.jet,shading = 'auto',vmax=5,vmin=1,latlon = True)\n"
     ]
    },
    {
     "name": "stdout",
     "output_type": "stream",
     "text": [
      "now processed csv file D:\\python_workfile\\sea_ice_classification\\training6\\csv\\polarization_ratio\\20210115.csv\n",
      "D:\\python_workfile\\sea_ice_classification\\data\\mask\\aari\\proj\\pic\\True 20210115.png\n"
     ]
    },
    {
     "name": "stderr",
     "output_type": "stream",
     "text": [
      "C:\\Users\\Administrator\\AppData\\Local\\Temp/ipykernel_4248/2832217777.py:41: UserWarning: The input coordinates to pcolor are interpreted as cell centers, but are not monotonically increasing or decreasing. This may lead to incorrectly calculated cell edges, in which case, please supply explicit cell edges to pcolor.\n",
      "  hy_m.pcolor(x_map, y_map, data=grid_array, cmap=plt.cm.jet,shading = 'auto',vmax=5,vmin=1,latlon = True)\n"
     ]
    },
    {
     "name": "stdout",
     "output_type": "stream",
     "text": [
      "now processed csv file D:\\python_workfile\\sea_ice_classification\\training6\\csv\\polarization_ratio\\20210117.csv\n",
      "D:\\python_workfile\\sea_ice_classification\\data\\mask\\aari\\proj\\pic\\True 20210117.png\n"
     ]
    },
    {
     "name": "stderr",
     "output_type": "stream",
     "text": [
      "C:\\Users\\Administrator\\AppData\\Local\\Temp/ipykernel_4248/2832217777.py:41: UserWarning: The input coordinates to pcolor are interpreted as cell centers, but are not monotonically increasing or decreasing. This may lead to incorrectly calculated cell edges, in which case, please supply explicit cell edges to pcolor.\n",
      "  hy_m.pcolor(x_map, y_map, data=grid_array, cmap=plt.cm.jet,shading = 'auto',vmax=5,vmin=1,latlon = True)\n"
     ]
    },
    {
     "name": "stdout",
     "output_type": "stream",
     "text": [
      "now processed csv file D:\\python_workfile\\sea_ice_classification\\training6\\csv\\polarization_ratio\\20210118.csv\n",
      "D:\\python_workfile\\sea_ice_classification\\data\\mask\\aari\\proj\\pic\\True 20210118.png\n"
     ]
    },
    {
     "name": "stderr",
     "output_type": "stream",
     "text": [
      "C:\\Users\\Administrator\\AppData\\Local\\Temp/ipykernel_4248/2832217777.py:41: UserWarning: The input coordinates to pcolor are interpreted as cell centers, but are not monotonically increasing or decreasing. This may lead to incorrectly calculated cell edges, in which case, please supply explicit cell edges to pcolor.\n",
      "  hy_m.pcolor(x_map, y_map, data=grid_array, cmap=plt.cm.jet,shading = 'auto',vmax=5,vmin=1,latlon = True)\n"
     ]
    },
    {
     "name": "stdout",
     "output_type": "stream",
     "text": [
      "now processed csv file D:\\python_workfile\\sea_ice_classification\\training6\\csv\\polarization_ratio\\20210119.csv\n",
      "D:\\python_workfile\\sea_ice_classification\\data\\mask\\aari\\proj\\pic\\True 20210119.png\n"
     ]
    },
    {
     "name": "stderr",
     "output_type": "stream",
     "text": [
      "C:\\Users\\Administrator\\AppData\\Local\\Temp/ipykernel_4248/2832217777.py:41: UserWarning: The input coordinates to pcolor are interpreted as cell centers, but are not monotonically increasing or decreasing. This may lead to incorrectly calculated cell edges, in which case, please supply explicit cell edges to pcolor.\n",
      "  hy_m.pcolor(x_map, y_map, data=grid_array, cmap=plt.cm.jet,shading = 'auto',vmax=5,vmin=1,latlon = True)\n"
     ]
    },
    {
     "name": "stdout",
     "output_type": "stream",
     "text": [
      "now processed csv file D:\\python_workfile\\sea_ice_classification\\training6\\csv\\polarization_ratio\\20210120.csv\n",
      "D:\\python_workfile\\sea_ice_classification\\data\\mask\\aari\\proj\\pic\\True 20210120.png\n"
     ]
    },
    {
     "name": "stderr",
     "output_type": "stream",
     "text": [
      "C:\\Users\\Administrator\\AppData\\Local\\Temp/ipykernel_4248/2832217777.py:41: UserWarning: The input coordinates to pcolor are interpreted as cell centers, but are not monotonically increasing or decreasing. This may lead to incorrectly calculated cell edges, in which case, please supply explicit cell edges to pcolor.\n",
      "  hy_m.pcolor(x_map, y_map, data=grid_array, cmap=plt.cm.jet,shading = 'auto',vmax=5,vmin=1,latlon = True)\n"
     ]
    },
    {
     "name": "stdout",
     "output_type": "stream",
     "text": [
      "now processed csv file D:\\python_workfile\\sea_ice_classification\\training6\\csv\\polarization_ratio\\20210121.csv\n",
      "D:\\python_workfile\\sea_ice_classification\\data\\mask\\aari\\proj\\pic\\True 20210121.png\n"
     ]
    },
    {
     "name": "stderr",
     "output_type": "stream",
     "text": [
      "C:\\Users\\Administrator\\AppData\\Local\\Temp/ipykernel_4248/2832217777.py:41: UserWarning: The input coordinates to pcolor are interpreted as cell centers, but are not monotonically increasing or decreasing. This may lead to incorrectly calculated cell edges, in which case, please supply explicit cell edges to pcolor.\n",
      "  hy_m.pcolor(x_map, y_map, data=grid_array, cmap=plt.cm.jet,shading = 'auto',vmax=5,vmin=1,latlon = True)\n"
     ]
    },
    {
     "name": "stdout",
     "output_type": "stream",
     "text": [
      "now processed csv file D:\\python_workfile\\sea_ice_classification\\training6\\csv\\polarization_ratio\\20210122.csv\n",
      "D:\\python_workfile\\sea_ice_classification\\data\\mask\\aari\\proj\\pic\\True 20210122.png\n"
     ]
    },
    {
     "name": "stderr",
     "output_type": "stream",
     "text": [
      "C:\\Users\\Administrator\\AppData\\Local\\Temp/ipykernel_4248/2832217777.py:41: UserWarning: The input coordinates to pcolor are interpreted as cell centers, but are not monotonically increasing or decreasing. This may lead to incorrectly calculated cell edges, in which case, please supply explicit cell edges to pcolor.\n",
      "  hy_m.pcolor(x_map, y_map, data=grid_array, cmap=plt.cm.jet,shading = 'auto',vmax=5,vmin=1,latlon = True)\n"
     ]
    },
    {
     "name": "stdout",
     "output_type": "stream",
     "text": [
      "now processed csv file D:\\python_workfile\\sea_ice_classification\\training6\\csv\\polarization_ratio\\20210123.csv\n",
      "D:\\python_workfile\\sea_ice_classification\\data\\mask\\aari\\proj\\pic\\True 20210123.png\n"
     ]
    },
    {
     "name": "stderr",
     "output_type": "stream",
     "text": [
      "C:\\Users\\Administrator\\AppData\\Local\\Temp/ipykernel_4248/2832217777.py:41: UserWarning: The input coordinates to pcolor are interpreted as cell centers, but are not monotonically increasing or decreasing. This may lead to incorrectly calculated cell edges, in which case, please supply explicit cell edges to pcolor.\n",
      "  hy_m.pcolor(x_map, y_map, data=grid_array, cmap=plt.cm.jet,shading = 'auto',vmax=5,vmin=1,latlon = True)\n"
     ]
    },
    {
     "name": "stdout",
     "output_type": "stream",
     "text": [
      "now processed csv file D:\\python_workfile\\sea_ice_classification\\training6\\csv\\polarization_ratio\\20210124.csv\n",
      "D:\\python_workfile\\sea_ice_classification\\data\\mask\\aari\\proj\\pic\\True 20210124.png\n"
     ]
    },
    {
     "name": "stderr",
     "output_type": "stream",
     "text": [
      "C:\\Users\\Administrator\\AppData\\Local\\Temp/ipykernel_4248/2832217777.py:41: UserWarning: The input coordinates to pcolor are interpreted as cell centers, but are not monotonically increasing or decreasing. This may lead to incorrectly calculated cell edges, in which case, please supply explicit cell edges to pcolor.\n",
      "  hy_m.pcolor(x_map, y_map, data=grid_array, cmap=plt.cm.jet,shading = 'auto',vmax=5,vmin=1,latlon = True)\n"
     ]
    },
    {
     "name": "stdout",
     "output_type": "stream",
     "text": [
      "now processed csv file D:\\python_workfile\\sea_ice_classification\\training6\\csv\\polarization_ratio\\20210125.csv\n",
      "D:\\python_workfile\\sea_ice_classification\\data\\mask\\aari\\proj\\pic\\True 20210125.png\n"
     ]
    },
    {
     "name": "stderr",
     "output_type": "stream",
     "text": [
      "C:\\Users\\Administrator\\AppData\\Local\\Temp/ipykernel_4248/2832217777.py:41: UserWarning: The input coordinates to pcolor are interpreted as cell centers, but are not monotonically increasing or decreasing. This may lead to incorrectly calculated cell edges, in which case, please supply explicit cell edges to pcolor.\n",
      "  hy_m.pcolor(x_map, y_map, data=grid_array, cmap=plt.cm.jet,shading = 'auto',vmax=5,vmin=1,latlon = True)\n"
     ]
    },
    {
     "name": "stdout",
     "output_type": "stream",
     "text": [
      "now processed csv file D:\\python_workfile\\sea_ice_classification\\training6\\csv\\polarization_ratio\\20210126.csv\n",
      "D:\\python_workfile\\sea_ice_classification\\data\\mask\\aari\\proj\\pic\\True 20210126.png\n"
     ]
    },
    {
     "name": "stderr",
     "output_type": "stream",
     "text": [
      "C:\\Users\\Administrator\\AppData\\Local\\Temp/ipykernel_4248/2832217777.py:41: UserWarning: The input coordinates to pcolor are interpreted as cell centers, but are not monotonically increasing or decreasing. This may lead to incorrectly calculated cell edges, in which case, please supply explicit cell edges to pcolor.\n",
      "  hy_m.pcolor(x_map, y_map, data=grid_array, cmap=plt.cm.jet,shading = 'auto',vmax=5,vmin=1,latlon = True)\n"
     ]
    },
    {
     "name": "stdout",
     "output_type": "stream",
     "text": [
      "now processed csv file D:\\python_workfile\\sea_ice_classification\\training6\\csv\\polarization_ratio\\20210127.csv\n",
      "D:\\python_workfile\\sea_ice_classification\\data\\mask\\aari\\proj\\pic\\True 20210127.png\n"
     ]
    },
    {
     "name": "stderr",
     "output_type": "stream",
     "text": [
      "C:\\Users\\Administrator\\AppData\\Local\\Temp/ipykernel_4248/2832217777.py:41: UserWarning: The input coordinates to pcolor are interpreted as cell centers, but are not monotonically increasing or decreasing. This may lead to incorrectly calculated cell edges, in which case, please supply explicit cell edges to pcolor.\n",
      "  hy_m.pcolor(x_map, y_map, data=grid_array, cmap=plt.cm.jet,shading = 'auto',vmax=5,vmin=1,latlon = True)\n"
     ]
    },
    {
     "name": "stdout",
     "output_type": "stream",
     "text": [
      "now processed csv file D:\\python_workfile\\sea_ice_classification\\training6\\csv\\polarization_ratio\\20210128.csv\n",
      "D:\\python_workfile\\sea_ice_classification\\data\\mask\\aari\\proj\\pic\\True 20210128.png\n"
     ]
    },
    {
     "name": "stderr",
     "output_type": "stream",
     "text": [
      "C:\\Users\\Administrator\\AppData\\Local\\Temp/ipykernel_4248/2832217777.py:41: UserWarning: The input coordinates to pcolor are interpreted as cell centers, but are not monotonically increasing or decreasing. This may lead to incorrectly calculated cell edges, in which case, please supply explicit cell edges to pcolor.\n",
      "  hy_m.pcolor(x_map, y_map, data=grid_array, cmap=plt.cm.jet,shading = 'auto',vmax=5,vmin=1,latlon = True)\n"
     ]
    },
    {
     "name": "stdout",
     "output_type": "stream",
     "text": [
      "now processed csv file D:\\python_workfile\\sea_ice_classification\\training6\\csv\\polarization_ratio\\20210129.csv\n",
      "D:\\python_workfile\\sea_ice_classification\\data\\mask\\aari\\proj\\pic\\True 20210129.png\n"
     ]
    },
    {
     "name": "stderr",
     "output_type": "stream",
     "text": [
      "C:\\Users\\Administrator\\AppData\\Local\\Temp/ipykernel_4248/2832217777.py:41: UserWarning: The input coordinates to pcolor are interpreted as cell centers, but are not monotonically increasing or decreasing. This may lead to incorrectly calculated cell edges, in which case, please supply explicit cell edges to pcolor.\n",
      "  hy_m.pcolor(x_map, y_map, data=grid_array, cmap=plt.cm.jet,shading = 'auto',vmax=5,vmin=1,latlon = True)\n"
     ]
    },
    {
     "name": "stdout",
     "output_type": "stream",
     "text": [
      "now processed csv file D:\\python_workfile\\sea_ice_classification\\training6\\csv\\polarization_ratio\\20210130.csv\n",
      "D:\\python_workfile\\sea_ice_classification\\data\\mask\\aari\\proj\\pic\\True 20210130.png\n"
     ]
    },
    {
     "name": "stderr",
     "output_type": "stream",
     "text": [
      "C:\\Users\\Administrator\\AppData\\Local\\Temp/ipykernel_4248/2832217777.py:41: UserWarning: The input coordinates to pcolor are interpreted as cell centers, but are not monotonically increasing or decreasing. This may lead to incorrectly calculated cell edges, in which case, please supply explicit cell edges to pcolor.\n",
      "  hy_m.pcolor(x_map, y_map, data=grid_array, cmap=plt.cm.jet,shading = 'auto',vmax=5,vmin=1,latlon = True)\n"
     ]
    },
    {
     "name": "stdout",
     "output_type": "stream",
     "text": [
      "now processed csv file D:\\python_workfile\\sea_ice_classification\\training6\\csv\\polarization_ratio\\20210131.csv\n",
      "D:\\python_workfile\\sea_ice_classification\\data\\mask\\aari\\proj\\pic\\True 20210131.png\n"
     ]
    },
    {
     "name": "stderr",
     "output_type": "stream",
     "text": [
      "C:\\Users\\Administrator\\AppData\\Local\\Temp/ipykernel_4248/2832217777.py:41: UserWarning: The input coordinates to pcolor are interpreted as cell centers, but are not monotonically increasing or decreasing. This may lead to incorrectly calculated cell edges, in which case, please supply explicit cell edges to pcolor.\n",
      "  hy_m.pcolor(x_map, y_map, data=grid_array, cmap=plt.cm.jet,shading = 'auto',vmax=5,vmin=1,latlon = True)\n"
     ]
    },
    {
     "name": "stdout",
     "output_type": "stream",
     "text": [
      "now processed csv file D:\\python_workfile\\sea_ice_classification\\training6\\csv\\polarization_ratio\\20210201.csv\n",
      "D:\\python_workfile\\sea_ice_classification\\data\\mask\\aari\\proj\\pic\\True 20210201.png\n"
     ]
    },
    {
     "name": "stderr",
     "output_type": "stream",
     "text": [
      "C:\\Users\\Administrator\\AppData\\Local\\Temp/ipykernel_4248/2832217777.py:41: UserWarning: The input coordinates to pcolor are interpreted as cell centers, but are not monotonically increasing or decreasing. This may lead to incorrectly calculated cell edges, in which case, please supply explicit cell edges to pcolor.\n",
      "  hy_m.pcolor(x_map, y_map, data=grid_array, cmap=plt.cm.jet,shading = 'auto',vmax=5,vmin=1,latlon = True)\n"
     ]
    },
    {
     "name": "stdout",
     "output_type": "stream",
     "text": [
      "now processed csv file D:\\python_workfile\\sea_ice_classification\\training6\\csv\\polarization_ratio\\20210202.csv\n",
      "D:\\python_workfile\\sea_ice_classification\\data\\mask\\aari\\proj\\pic\\True 20210202.png\n"
     ]
    },
    {
     "name": "stderr",
     "output_type": "stream",
     "text": [
      "C:\\Users\\Administrator\\AppData\\Local\\Temp/ipykernel_4248/2832217777.py:41: UserWarning: The input coordinates to pcolor are interpreted as cell centers, but are not monotonically increasing or decreasing. This may lead to incorrectly calculated cell edges, in which case, please supply explicit cell edges to pcolor.\n",
      "  hy_m.pcolor(x_map, y_map, data=grid_array, cmap=plt.cm.jet,shading = 'auto',vmax=5,vmin=1,latlon = True)\n"
     ]
    },
    {
     "name": "stdout",
     "output_type": "stream",
     "text": [
      "now processed csv file D:\\python_workfile\\sea_ice_classification\\training6\\csv\\polarization_ratio\\20210203.csv\n",
      "D:\\python_workfile\\sea_ice_classification\\data\\mask\\aari\\proj\\pic\\True 20210203.png\n"
     ]
    },
    {
     "name": "stderr",
     "output_type": "stream",
     "text": [
      "C:\\Users\\Administrator\\AppData\\Local\\Temp/ipykernel_4248/2832217777.py:41: UserWarning: The input coordinates to pcolor are interpreted as cell centers, but are not monotonically increasing or decreasing. This may lead to incorrectly calculated cell edges, in which case, please supply explicit cell edges to pcolor.\n",
      "  hy_m.pcolor(x_map, y_map, data=grid_array, cmap=plt.cm.jet,shading = 'auto',vmax=5,vmin=1,latlon = True)\n"
     ]
    },
    {
     "name": "stdout",
     "output_type": "stream",
     "text": [
      "now processed csv file D:\\python_workfile\\sea_ice_classification\\training6\\csv\\polarization_ratio\\20210204.csv\n",
      "D:\\python_workfile\\sea_ice_classification\\data\\mask\\aari\\proj\\pic\\True 20210204.png\n"
     ]
    },
    {
     "name": "stderr",
     "output_type": "stream",
     "text": [
      "C:\\Users\\Administrator\\AppData\\Local\\Temp/ipykernel_4248/2832217777.py:41: UserWarning: The input coordinates to pcolor are interpreted as cell centers, but are not monotonically increasing or decreasing. This may lead to incorrectly calculated cell edges, in which case, please supply explicit cell edges to pcolor.\n",
      "  hy_m.pcolor(x_map, y_map, data=grid_array, cmap=plt.cm.jet,shading = 'auto',vmax=5,vmin=1,latlon = True)\n"
     ]
    },
    {
     "name": "stdout",
     "output_type": "stream",
     "text": [
      "now processed csv file D:\\python_workfile\\sea_ice_classification\\training6\\csv\\polarization_ratio\\20210205.csv\n",
      "D:\\python_workfile\\sea_ice_classification\\data\\mask\\aari\\proj\\pic\\True 20210205.png\n"
     ]
    },
    {
     "name": "stderr",
     "output_type": "stream",
     "text": [
      "C:\\Users\\Administrator\\AppData\\Local\\Temp/ipykernel_4248/2832217777.py:41: UserWarning: The input coordinates to pcolor are interpreted as cell centers, but are not monotonically increasing or decreasing. This may lead to incorrectly calculated cell edges, in which case, please supply explicit cell edges to pcolor.\n",
      "  hy_m.pcolor(x_map, y_map, data=grid_array, cmap=plt.cm.jet,shading = 'auto',vmax=5,vmin=1,latlon = True)\n"
     ]
    },
    {
     "name": "stdout",
     "output_type": "stream",
     "text": [
      "now processed csv file D:\\python_workfile\\sea_ice_classification\\training6\\csv\\polarization_ratio\\20210206.csv\n",
      "D:\\python_workfile\\sea_ice_classification\\data\\mask\\aari\\proj\\pic\\True 20210206.png\n"
     ]
    },
    {
     "name": "stderr",
     "output_type": "stream",
     "text": [
      "C:\\Users\\Administrator\\AppData\\Local\\Temp/ipykernel_4248/2832217777.py:41: UserWarning: The input coordinates to pcolor are interpreted as cell centers, but are not monotonically increasing or decreasing. This may lead to incorrectly calculated cell edges, in which case, please supply explicit cell edges to pcolor.\n",
      "  hy_m.pcolor(x_map, y_map, data=grid_array, cmap=plt.cm.jet,shading = 'auto',vmax=5,vmin=1,latlon = True)\n"
     ]
    },
    {
     "name": "stdout",
     "output_type": "stream",
     "text": [
      "now processed csv file D:\\python_workfile\\sea_ice_classification\\training6\\csv\\polarization_ratio\\20210207.csv\n",
      "D:\\python_workfile\\sea_ice_classification\\data\\mask\\aari\\proj\\pic\\True 20210207.png\n"
     ]
    },
    {
     "name": "stderr",
     "output_type": "stream",
     "text": [
      "C:\\Users\\Administrator\\AppData\\Local\\Temp/ipykernel_4248/2832217777.py:41: UserWarning: The input coordinates to pcolor are interpreted as cell centers, but are not monotonically increasing or decreasing. This may lead to incorrectly calculated cell edges, in which case, please supply explicit cell edges to pcolor.\n",
      "  hy_m.pcolor(x_map, y_map, data=grid_array, cmap=plt.cm.jet,shading = 'auto',vmax=5,vmin=1,latlon = True)\n"
     ]
    },
    {
     "name": "stdout",
     "output_type": "stream",
     "text": [
      "now processed csv file D:\\python_workfile\\sea_ice_classification\\training6\\csv\\polarization_ratio\\20210208.csv\n",
      "D:\\python_workfile\\sea_ice_classification\\data\\mask\\aari\\proj\\pic\\True 20210208.png\n"
     ]
    },
    {
     "name": "stderr",
     "output_type": "stream",
     "text": [
      "C:\\Users\\Administrator\\AppData\\Local\\Temp/ipykernel_4248/2832217777.py:41: UserWarning: The input coordinates to pcolor are interpreted as cell centers, but are not monotonically increasing or decreasing. This may lead to incorrectly calculated cell edges, in which case, please supply explicit cell edges to pcolor.\n",
      "  hy_m.pcolor(x_map, y_map, data=grid_array, cmap=plt.cm.jet,shading = 'auto',vmax=5,vmin=1,latlon = True)\n"
     ]
    },
    {
     "name": "stdout",
     "output_type": "stream",
     "text": [
      "now processed csv file D:\\python_workfile\\sea_ice_classification\\training6\\csv\\polarization_ratio\\20210209.csv\n",
      "D:\\python_workfile\\sea_ice_classification\\data\\mask\\aari\\proj\\pic\\True 20210209.png\n"
     ]
    },
    {
     "name": "stderr",
     "output_type": "stream",
     "text": [
      "C:\\Users\\Administrator\\AppData\\Local\\Temp/ipykernel_4248/2832217777.py:41: UserWarning: The input coordinates to pcolor are interpreted as cell centers, but are not monotonically increasing or decreasing. This may lead to incorrectly calculated cell edges, in which case, please supply explicit cell edges to pcolor.\n",
      "  hy_m.pcolor(x_map, y_map, data=grid_array, cmap=plt.cm.jet,shading = 'auto',vmax=5,vmin=1,latlon = True)\n"
     ]
    },
    {
     "name": "stdout",
     "output_type": "stream",
     "text": [
      "now processed csv file D:\\python_workfile\\sea_ice_classification\\training6\\csv\\polarization_ratio\\20210210.csv\n",
      "D:\\python_workfile\\sea_ice_classification\\data\\mask\\aari\\proj\\pic\\True 20210210.png\n"
     ]
    },
    {
     "name": "stderr",
     "output_type": "stream",
     "text": [
      "C:\\Users\\Administrator\\AppData\\Local\\Temp/ipykernel_4248/2832217777.py:41: UserWarning: The input coordinates to pcolor are interpreted as cell centers, but are not monotonically increasing or decreasing. This may lead to incorrectly calculated cell edges, in which case, please supply explicit cell edges to pcolor.\n",
      "  hy_m.pcolor(x_map, y_map, data=grid_array, cmap=plt.cm.jet,shading = 'auto',vmax=5,vmin=1,latlon = True)\n"
     ]
    },
    {
     "name": "stdout",
     "output_type": "stream",
     "text": [
      "now processed csv file D:\\python_workfile\\sea_ice_classification\\training6\\csv\\polarization_ratio\\20210211.csv\n",
      "D:\\python_workfile\\sea_ice_classification\\data\\mask\\aari\\proj\\pic\\True 20210211.png\n"
     ]
    },
    {
     "name": "stderr",
     "output_type": "stream",
     "text": [
      "C:\\Users\\Administrator\\AppData\\Local\\Temp/ipykernel_4248/2832217777.py:41: UserWarning: The input coordinates to pcolor are interpreted as cell centers, but are not monotonically increasing or decreasing. This may lead to incorrectly calculated cell edges, in which case, please supply explicit cell edges to pcolor.\n",
      "  hy_m.pcolor(x_map, y_map, data=grid_array, cmap=plt.cm.jet,shading = 'auto',vmax=5,vmin=1,latlon = True)\n"
     ]
    },
    {
     "name": "stdout",
     "output_type": "stream",
     "text": [
      "now processed csv file D:\\python_workfile\\sea_ice_classification\\training6\\csv\\polarization_ratio\\20210212.csv\n",
      "D:\\python_workfile\\sea_ice_classification\\data\\mask\\aari\\proj\\pic\\True 20210212.png\n"
     ]
    },
    {
     "name": "stderr",
     "output_type": "stream",
     "text": [
      "C:\\Users\\Administrator\\AppData\\Local\\Temp/ipykernel_4248/2832217777.py:41: UserWarning: The input coordinates to pcolor are interpreted as cell centers, but are not monotonically increasing or decreasing. This may lead to incorrectly calculated cell edges, in which case, please supply explicit cell edges to pcolor.\n",
      "  hy_m.pcolor(x_map, y_map, data=grid_array, cmap=plt.cm.jet,shading = 'auto',vmax=5,vmin=1,latlon = True)\n"
     ]
    },
    {
     "name": "stdout",
     "output_type": "stream",
     "text": [
      "now processed csv file D:\\python_workfile\\sea_ice_classification\\training6\\csv\\polarization_ratio\\20210213.csv\n",
      "D:\\python_workfile\\sea_ice_classification\\data\\mask\\aari\\proj\\pic\\True 20210213.png\n"
     ]
    },
    {
     "name": "stderr",
     "output_type": "stream",
     "text": [
      "C:\\Users\\Administrator\\AppData\\Local\\Temp/ipykernel_4248/2832217777.py:41: UserWarning: The input coordinates to pcolor are interpreted as cell centers, but are not monotonically increasing or decreasing. This may lead to incorrectly calculated cell edges, in which case, please supply explicit cell edges to pcolor.\n",
      "  hy_m.pcolor(x_map, y_map, data=grid_array, cmap=plt.cm.jet,shading = 'auto',vmax=5,vmin=1,latlon = True)\n"
     ]
    },
    {
     "name": "stdout",
     "output_type": "stream",
     "text": [
      "now processed csv file D:\\python_workfile\\sea_ice_classification\\training6\\csv\\polarization_ratio\\20210214.csv\n",
      "D:\\python_workfile\\sea_ice_classification\\data\\mask\\aari\\proj\\pic\\True 20210214.png\n"
     ]
    },
    {
     "name": "stderr",
     "output_type": "stream",
     "text": [
      "C:\\Users\\Administrator\\AppData\\Local\\Temp/ipykernel_4248/2832217777.py:41: UserWarning: The input coordinates to pcolor are interpreted as cell centers, but are not monotonically increasing or decreasing. This may lead to incorrectly calculated cell edges, in which case, please supply explicit cell edges to pcolor.\n",
      "  hy_m.pcolor(x_map, y_map, data=grid_array, cmap=plt.cm.jet,shading = 'auto',vmax=5,vmin=1,latlon = True)\n"
     ]
    },
    {
     "name": "stdout",
     "output_type": "stream",
     "text": [
      "now processed csv file D:\\python_workfile\\sea_ice_classification\\training6\\csv\\polarization_ratio\\20210215.csv\n",
      "D:\\python_workfile\\sea_ice_classification\\data\\mask\\aari\\proj\\pic\\True 20210215.png\n"
     ]
    },
    {
     "name": "stderr",
     "output_type": "stream",
     "text": [
      "C:\\Users\\Administrator\\AppData\\Local\\Temp/ipykernel_4248/2832217777.py:41: UserWarning: The input coordinates to pcolor are interpreted as cell centers, but are not monotonically increasing or decreasing. This may lead to incorrectly calculated cell edges, in which case, please supply explicit cell edges to pcolor.\n",
      "  hy_m.pcolor(x_map, y_map, data=grid_array, cmap=plt.cm.jet,shading = 'auto',vmax=5,vmin=1,latlon = True)\n"
     ]
    },
    {
     "name": "stdout",
     "output_type": "stream",
     "text": [
      "now processed csv file D:\\python_workfile\\sea_ice_classification\\training6\\csv\\polarization_ratio\\20210216.csv\n",
      "D:\\python_workfile\\sea_ice_classification\\data\\mask\\aari\\proj\\pic\\True 20210216.png\n"
     ]
    },
    {
     "name": "stderr",
     "output_type": "stream",
     "text": [
      "C:\\Users\\Administrator\\AppData\\Local\\Temp/ipykernel_4248/2832217777.py:41: UserWarning: The input coordinates to pcolor are interpreted as cell centers, but are not monotonically increasing or decreasing. This may lead to incorrectly calculated cell edges, in which case, please supply explicit cell edges to pcolor.\n",
      "  hy_m.pcolor(x_map, y_map, data=grid_array, cmap=plt.cm.jet,shading = 'auto',vmax=5,vmin=1,latlon = True)\n"
     ]
    },
    {
     "name": "stdout",
     "output_type": "stream",
     "text": [
      "now processed csv file D:\\python_workfile\\sea_ice_classification\\training6\\csv\\polarization_ratio\\20210217.csv\n",
      "D:\\python_workfile\\sea_ice_classification\\data\\mask\\aari\\proj\\pic\\True 20210217.png\n"
     ]
    },
    {
     "name": "stderr",
     "output_type": "stream",
     "text": [
      "C:\\Users\\Administrator\\AppData\\Local\\Temp/ipykernel_4248/2832217777.py:41: UserWarning: The input coordinates to pcolor are interpreted as cell centers, but are not monotonically increasing or decreasing. This may lead to incorrectly calculated cell edges, in which case, please supply explicit cell edges to pcolor.\n",
      "  hy_m.pcolor(x_map, y_map, data=grid_array, cmap=plt.cm.jet,shading = 'auto',vmax=5,vmin=1,latlon = True)\n"
     ]
    },
    {
     "name": "stdout",
     "output_type": "stream",
     "text": [
      "now processed csv file D:\\python_workfile\\sea_ice_classification\\training6\\csv\\polarization_ratio\\20210218.csv\n",
      "D:\\python_workfile\\sea_ice_classification\\data\\mask\\aari\\proj\\pic\\True 20210218.png\n"
     ]
    },
    {
     "name": "stderr",
     "output_type": "stream",
     "text": [
      "C:\\Users\\Administrator\\AppData\\Local\\Temp/ipykernel_4248/2832217777.py:41: UserWarning: The input coordinates to pcolor are interpreted as cell centers, but are not monotonically increasing or decreasing. This may lead to incorrectly calculated cell edges, in which case, please supply explicit cell edges to pcolor.\n",
      "  hy_m.pcolor(x_map, y_map, data=grid_array, cmap=plt.cm.jet,shading = 'auto',vmax=5,vmin=1,latlon = True)\n"
     ]
    },
    {
     "name": "stdout",
     "output_type": "stream",
     "text": [
      "now processed csv file D:\\python_workfile\\sea_ice_classification\\training6\\csv\\polarization_ratio\\20210219.csv\n",
      "D:\\python_workfile\\sea_ice_classification\\data\\mask\\aari\\proj\\pic\\True 20210219.png\n"
     ]
    },
    {
     "name": "stderr",
     "output_type": "stream",
     "text": [
      "C:\\Users\\Administrator\\AppData\\Local\\Temp/ipykernel_4248/2832217777.py:41: UserWarning: The input coordinates to pcolor are interpreted as cell centers, but are not monotonically increasing or decreasing. This may lead to incorrectly calculated cell edges, in which case, please supply explicit cell edges to pcolor.\n",
      "  hy_m.pcolor(x_map, y_map, data=grid_array, cmap=plt.cm.jet,shading = 'auto',vmax=5,vmin=1,latlon = True)\n"
     ]
    },
    {
     "name": "stdout",
     "output_type": "stream",
     "text": [
      "now processed csv file D:\\python_workfile\\sea_ice_classification\\training6\\csv\\polarization_ratio\\20210220.csv\n",
      "D:\\python_workfile\\sea_ice_classification\\data\\mask\\aari\\proj\\pic\\True 20210220.png\n"
     ]
    },
    {
     "name": "stderr",
     "output_type": "stream",
     "text": [
      "C:\\Users\\Administrator\\AppData\\Local\\Temp/ipykernel_4248/2832217777.py:41: UserWarning: The input coordinates to pcolor are interpreted as cell centers, but are not monotonically increasing or decreasing. This may lead to incorrectly calculated cell edges, in which case, please supply explicit cell edges to pcolor.\n",
      "  hy_m.pcolor(x_map, y_map, data=grid_array, cmap=plt.cm.jet,shading = 'auto',vmax=5,vmin=1,latlon = True)\n"
     ]
    },
    {
     "name": "stdout",
     "output_type": "stream",
     "text": [
      "now processed csv file D:\\python_workfile\\sea_ice_classification\\training6\\csv\\polarization_ratio\\20210221.csv\n",
      "D:\\python_workfile\\sea_ice_classification\\data\\mask\\aari\\proj\\pic\\True 20210221.png\n"
     ]
    },
    {
     "name": "stderr",
     "output_type": "stream",
     "text": [
      "C:\\Users\\Administrator\\AppData\\Local\\Temp/ipykernel_4248/2832217777.py:41: UserWarning: The input coordinates to pcolor are interpreted as cell centers, but are not monotonically increasing or decreasing. This may lead to incorrectly calculated cell edges, in which case, please supply explicit cell edges to pcolor.\n",
      "  hy_m.pcolor(x_map, y_map, data=grid_array, cmap=plt.cm.jet,shading = 'auto',vmax=5,vmin=1,latlon = True)\n"
     ]
    },
    {
     "name": "stdout",
     "output_type": "stream",
     "text": [
      "now processed csv file D:\\python_workfile\\sea_ice_classification\\training6\\csv\\polarization_ratio\\20210222.csv\n",
      "D:\\python_workfile\\sea_ice_classification\\data\\mask\\aari\\proj\\pic\\True 20210222.png\n"
     ]
    },
    {
     "name": "stderr",
     "output_type": "stream",
     "text": [
      "C:\\Users\\Administrator\\AppData\\Local\\Temp/ipykernel_4248/2832217777.py:41: UserWarning: The input coordinates to pcolor are interpreted as cell centers, but are not monotonically increasing or decreasing. This may lead to incorrectly calculated cell edges, in which case, please supply explicit cell edges to pcolor.\n",
      "  hy_m.pcolor(x_map, y_map, data=grid_array, cmap=plt.cm.jet,shading = 'auto',vmax=5,vmin=1,latlon = True)\n"
     ]
    },
    {
     "name": "stdout",
     "output_type": "stream",
     "text": [
      "now processed csv file D:\\python_workfile\\sea_ice_classification\\training6\\csv\\polarization_ratio\\20210223.csv\n",
      "D:\\python_workfile\\sea_ice_classification\\data\\mask\\aari\\proj\\pic\\True 20210223.png\n"
     ]
    },
    {
     "name": "stderr",
     "output_type": "stream",
     "text": [
      "C:\\Users\\Administrator\\AppData\\Local\\Temp/ipykernel_4248/2832217777.py:41: UserWarning: The input coordinates to pcolor are interpreted as cell centers, but are not monotonically increasing or decreasing. This may lead to incorrectly calculated cell edges, in which case, please supply explicit cell edges to pcolor.\n",
      "  hy_m.pcolor(x_map, y_map, data=grid_array, cmap=plt.cm.jet,shading = 'auto',vmax=5,vmin=1,latlon = True)\n"
     ]
    },
    {
     "name": "stdout",
     "output_type": "stream",
     "text": [
      "now processed csv file D:\\python_workfile\\sea_ice_classification\\training6\\csv\\polarization_ratio\\20210224.csv\n",
      "D:\\python_workfile\\sea_ice_classification\\data\\mask\\aari\\proj\\pic\\True 20210224.png\n"
     ]
    },
    {
     "name": "stderr",
     "output_type": "stream",
     "text": [
      "C:\\Users\\Administrator\\AppData\\Local\\Temp/ipykernel_4248/2832217777.py:41: UserWarning: The input coordinates to pcolor are interpreted as cell centers, but are not monotonically increasing or decreasing. This may lead to incorrectly calculated cell edges, in which case, please supply explicit cell edges to pcolor.\n",
      "  hy_m.pcolor(x_map, y_map, data=grid_array, cmap=plt.cm.jet,shading = 'auto',vmax=5,vmin=1,latlon = True)\n"
     ]
    },
    {
     "name": "stdout",
     "output_type": "stream",
     "text": [
      "now processed csv file D:\\python_workfile\\sea_ice_classification\\training6\\csv\\polarization_ratio\\20210225.csv\n",
      "D:\\python_workfile\\sea_ice_classification\\data\\mask\\aari\\proj\\pic\\True 20210225.png\n"
     ]
    },
    {
     "name": "stderr",
     "output_type": "stream",
     "text": [
      "C:\\Users\\Administrator\\AppData\\Local\\Temp/ipykernel_4248/2832217777.py:41: UserWarning: The input coordinates to pcolor are interpreted as cell centers, but are not monotonically increasing or decreasing. This may lead to incorrectly calculated cell edges, in which case, please supply explicit cell edges to pcolor.\n",
      "  hy_m.pcolor(x_map, y_map, data=grid_array, cmap=plt.cm.jet,shading = 'auto',vmax=5,vmin=1,latlon = True)\n"
     ]
    },
    {
     "name": "stdout",
     "output_type": "stream",
     "text": [
      "now processed csv file D:\\python_workfile\\sea_ice_classification\\training6\\csv\\polarization_ratio\\20210226.csv\n",
      "D:\\python_workfile\\sea_ice_classification\\data\\mask\\aari\\proj\\pic\\True 20210226.png\n"
     ]
    },
    {
     "name": "stderr",
     "output_type": "stream",
     "text": [
      "C:\\Users\\Administrator\\AppData\\Local\\Temp/ipykernel_4248/2832217777.py:41: UserWarning: The input coordinates to pcolor are interpreted as cell centers, but are not monotonically increasing or decreasing. This may lead to incorrectly calculated cell edges, in which case, please supply explicit cell edges to pcolor.\n",
      "  hy_m.pcolor(x_map, y_map, data=grid_array, cmap=plt.cm.jet,shading = 'auto',vmax=5,vmin=1,latlon = True)\n"
     ]
    },
    {
     "name": "stdout",
     "output_type": "stream",
     "text": [
      "now processed csv file D:\\python_workfile\\sea_ice_classification\\training6\\csv\\polarization_ratio\\20210227.csv\n",
      "D:\\python_workfile\\sea_ice_classification\\data\\mask\\aari\\proj\\pic\\True 20210227.png\n"
     ]
    },
    {
     "name": "stderr",
     "output_type": "stream",
     "text": [
      "C:\\Users\\Administrator\\AppData\\Local\\Temp/ipykernel_4248/2832217777.py:41: UserWarning: The input coordinates to pcolor are interpreted as cell centers, but are not monotonically increasing or decreasing. This may lead to incorrectly calculated cell edges, in which case, please supply explicit cell edges to pcolor.\n",
      "  hy_m.pcolor(x_map, y_map, data=grid_array, cmap=plt.cm.jet,shading = 'auto',vmax=5,vmin=1,latlon = True)\n"
     ]
    },
    {
     "name": "stdout",
     "output_type": "stream",
     "text": [
      "now processed csv file D:\\python_workfile\\sea_ice_classification\\training6\\csv\\polarization_ratio\\20210228.csv\n",
      "D:\\python_workfile\\sea_ice_classification\\data\\mask\\aari\\proj\\pic\\True 20210228.png\n"
     ]
    },
    {
     "name": "stderr",
     "output_type": "stream",
     "text": [
      "C:\\Users\\Administrator\\AppData\\Local\\Temp/ipykernel_4248/2832217777.py:41: UserWarning: The input coordinates to pcolor are interpreted as cell centers, but are not monotonically increasing or decreasing. This may lead to incorrectly calculated cell edges, in which case, please supply explicit cell edges to pcolor.\n",
      "  hy_m.pcolor(x_map, y_map, data=grid_array, cmap=plt.cm.jet,shading = 'auto',vmax=5,vmin=1,latlon = True)\n"
     ]
    },
    {
     "name": "stdout",
     "output_type": "stream",
     "text": [
      "now processed csv file D:\\python_workfile\\sea_ice_classification\\training6\\csv\\polarization_ratio\\20210301.csv\n",
      "D:\\python_workfile\\sea_ice_classification\\data\\mask\\aari\\proj\\pic\\True 20210301.png\n"
     ]
    },
    {
     "name": "stderr",
     "output_type": "stream",
     "text": [
      "C:\\Users\\Administrator\\AppData\\Local\\Temp/ipykernel_4248/2832217777.py:41: UserWarning: The input coordinates to pcolor are interpreted as cell centers, but are not monotonically increasing or decreasing. This may lead to incorrectly calculated cell edges, in which case, please supply explicit cell edges to pcolor.\n",
      "  hy_m.pcolor(x_map, y_map, data=grid_array, cmap=plt.cm.jet,shading = 'auto',vmax=5,vmin=1,latlon = True)\n"
     ]
    },
    {
     "name": "stdout",
     "output_type": "stream",
     "text": [
      "now processed csv file D:\\python_workfile\\sea_ice_classification\\training6\\csv\\polarization_ratio\\20210302.csv\n",
      "D:\\python_workfile\\sea_ice_classification\\data\\mask\\aari\\proj\\pic\\True 20210302.png\n"
     ]
    },
    {
     "name": "stderr",
     "output_type": "stream",
     "text": [
      "C:\\Users\\Administrator\\AppData\\Local\\Temp/ipykernel_4248/2832217777.py:41: UserWarning: The input coordinates to pcolor are interpreted as cell centers, but are not monotonically increasing or decreasing. This may lead to incorrectly calculated cell edges, in which case, please supply explicit cell edges to pcolor.\n",
      "  hy_m.pcolor(x_map, y_map, data=grid_array, cmap=plt.cm.jet,shading = 'auto',vmax=5,vmin=1,latlon = True)\n"
     ]
    },
    {
     "name": "stdout",
     "output_type": "stream",
     "text": [
      "now processed csv file D:\\python_workfile\\sea_ice_classification\\training6\\csv\\polarization_ratio\\20210303.csv\n",
      "D:\\python_workfile\\sea_ice_classification\\data\\mask\\aari\\proj\\pic\\True 20210303.png\n"
     ]
    },
    {
     "name": "stderr",
     "output_type": "stream",
     "text": [
      "C:\\Users\\Administrator\\AppData\\Local\\Temp/ipykernel_4248/2832217777.py:41: UserWarning: The input coordinates to pcolor are interpreted as cell centers, but are not monotonically increasing or decreasing. This may lead to incorrectly calculated cell edges, in which case, please supply explicit cell edges to pcolor.\n",
      "  hy_m.pcolor(x_map, y_map, data=grid_array, cmap=plt.cm.jet,shading = 'auto',vmax=5,vmin=1,latlon = True)\n"
     ]
    },
    {
     "name": "stdout",
     "output_type": "stream",
     "text": [
      "now processed csv file D:\\python_workfile\\sea_ice_classification\\training6\\csv\\polarization_ratio\\20210304.csv\n",
      "D:\\python_workfile\\sea_ice_classification\\data\\mask\\aari\\proj\\pic\\True 20210304.png\n"
     ]
    },
    {
     "name": "stderr",
     "output_type": "stream",
     "text": [
      "C:\\Users\\Administrator\\AppData\\Local\\Temp/ipykernel_4248/2832217777.py:41: UserWarning: The input coordinates to pcolor are interpreted as cell centers, but are not monotonically increasing or decreasing. This may lead to incorrectly calculated cell edges, in which case, please supply explicit cell edges to pcolor.\n",
      "  hy_m.pcolor(x_map, y_map, data=grid_array, cmap=plt.cm.jet,shading = 'auto',vmax=5,vmin=1,latlon = True)\n"
     ]
    },
    {
     "name": "stdout",
     "output_type": "stream",
     "text": [
      "now processed csv file D:\\python_workfile\\sea_ice_classification\\training6\\csv\\polarization_ratio\\20210305.csv\n",
      "D:\\python_workfile\\sea_ice_classification\\data\\mask\\aari\\proj\\pic\\True 20210305.png\n"
     ]
    },
    {
     "name": "stderr",
     "output_type": "stream",
     "text": [
      "C:\\Users\\Administrator\\AppData\\Local\\Temp/ipykernel_4248/2832217777.py:41: UserWarning: The input coordinates to pcolor are interpreted as cell centers, but are not monotonically increasing or decreasing. This may lead to incorrectly calculated cell edges, in which case, please supply explicit cell edges to pcolor.\n",
      "  hy_m.pcolor(x_map, y_map, data=grid_array, cmap=plt.cm.jet,shading = 'auto',vmax=5,vmin=1,latlon = True)\n"
     ]
    },
    {
     "name": "stdout",
     "output_type": "stream",
     "text": [
      "now processed csv file D:\\python_workfile\\sea_ice_classification\\training6\\csv\\polarization_ratio\\20210306.csv\n",
      "D:\\python_workfile\\sea_ice_classification\\data\\mask\\aari\\proj\\pic\\True 20210306.png\n"
     ]
    },
    {
     "name": "stderr",
     "output_type": "stream",
     "text": [
      "C:\\Users\\Administrator\\AppData\\Local\\Temp/ipykernel_4248/2832217777.py:41: UserWarning: The input coordinates to pcolor are interpreted as cell centers, but are not monotonically increasing or decreasing. This may lead to incorrectly calculated cell edges, in which case, please supply explicit cell edges to pcolor.\n",
      "  hy_m.pcolor(x_map, y_map, data=grid_array, cmap=plt.cm.jet,shading = 'auto',vmax=5,vmin=1,latlon = True)\n"
     ]
    },
    {
     "name": "stdout",
     "output_type": "stream",
     "text": [
      "now processed csv file D:\\python_workfile\\sea_ice_classification\\training6\\csv\\polarization_ratio\\20210307.csv\n",
      "D:\\python_workfile\\sea_ice_classification\\data\\mask\\aari\\proj\\pic\\True 20210307.png\n"
     ]
    },
    {
     "name": "stderr",
     "output_type": "stream",
     "text": [
      "C:\\Users\\Administrator\\AppData\\Local\\Temp/ipykernel_4248/2832217777.py:41: UserWarning: The input coordinates to pcolor are interpreted as cell centers, but are not monotonically increasing or decreasing. This may lead to incorrectly calculated cell edges, in which case, please supply explicit cell edges to pcolor.\n",
      "  hy_m.pcolor(x_map, y_map, data=grid_array, cmap=plt.cm.jet,shading = 'auto',vmax=5,vmin=1,latlon = True)\n"
     ]
    },
    {
     "name": "stdout",
     "output_type": "stream",
     "text": [
      "now processed csv file D:\\python_workfile\\sea_ice_classification\\training6\\csv\\polarization_ratio\\20210308.csv\n",
      "D:\\python_workfile\\sea_ice_classification\\data\\mask\\aari\\proj\\pic\\True 20210308.png\n"
     ]
    },
    {
     "name": "stderr",
     "output_type": "stream",
     "text": [
      "C:\\Users\\Administrator\\AppData\\Local\\Temp/ipykernel_4248/2832217777.py:41: UserWarning: The input coordinates to pcolor are interpreted as cell centers, but are not monotonically increasing or decreasing. This may lead to incorrectly calculated cell edges, in which case, please supply explicit cell edges to pcolor.\n",
      "  hy_m.pcolor(x_map, y_map, data=grid_array, cmap=plt.cm.jet,shading = 'auto',vmax=5,vmin=1,latlon = True)\n"
     ]
    },
    {
     "name": "stdout",
     "output_type": "stream",
     "text": [
      "now processed csv file D:\\python_workfile\\sea_ice_classification\\training6\\csv\\polarization_ratio\\20210309.csv\n",
      "D:\\python_workfile\\sea_ice_classification\\data\\mask\\aari\\proj\\pic\\True 20210309.png\n"
     ]
    },
    {
     "name": "stderr",
     "output_type": "stream",
     "text": [
      "C:\\Users\\Administrator\\AppData\\Local\\Temp/ipykernel_4248/2832217777.py:41: UserWarning: The input coordinates to pcolor are interpreted as cell centers, but are not monotonically increasing or decreasing. This may lead to incorrectly calculated cell edges, in which case, please supply explicit cell edges to pcolor.\n",
      "  hy_m.pcolor(x_map, y_map, data=grid_array, cmap=plt.cm.jet,shading = 'auto',vmax=5,vmin=1,latlon = True)\n"
     ]
    },
    {
     "name": "stdout",
     "output_type": "stream",
     "text": [
      "now processed csv file D:\\python_workfile\\sea_ice_classification\\training6\\csv\\polarization_ratio\\20210310.csv\n",
      "D:\\python_workfile\\sea_ice_classification\\data\\mask\\aari\\proj\\pic\\True 20210310.png\n"
     ]
    },
    {
     "name": "stderr",
     "output_type": "stream",
     "text": [
      "C:\\Users\\Administrator\\AppData\\Local\\Temp/ipykernel_4248/2832217777.py:41: UserWarning: The input coordinates to pcolor are interpreted as cell centers, but are not monotonically increasing or decreasing. This may lead to incorrectly calculated cell edges, in which case, please supply explicit cell edges to pcolor.\n",
      "  hy_m.pcolor(x_map, y_map, data=grid_array, cmap=plt.cm.jet,shading = 'auto',vmax=5,vmin=1,latlon = True)\n"
     ]
    },
    {
     "name": "stdout",
     "output_type": "stream",
     "text": [
      "now processed csv file D:\\python_workfile\\sea_ice_classification\\training6\\csv\\polarization_ratio\\20210311.csv\n",
      "D:\\python_workfile\\sea_ice_classification\\data\\mask\\aari\\proj\\pic\\True 20210311.png\n"
     ]
    },
    {
     "name": "stderr",
     "output_type": "stream",
     "text": [
      "C:\\Users\\Administrator\\AppData\\Local\\Temp/ipykernel_4248/2832217777.py:41: UserWarning: The input coordinates to pcolor are interpreted as cell centers, but are not monotonically increasing or decreasing. This may lead to incorrectly calculated cell edges, in which case, please supply explicit cell edges to pcolor.\n",
      "  hy_m.pcolor(x_map, y_map, data=grid_array, cmap=plt.cm.jet,shading = 'auto',vmax=5,vmin=1,latlon = True)\n"
     ]
    },
    {
     "name": "stdout",
     "output_type": "stream",
     "text": [
      "now processed csv file D:\\python_workfile\\sea_ice_classification\\training6\\csv\\polarization_ratio\\20210312.csv\n",
      "D:\\python_workfile\\sea_ice_classification\\data\\mask\\aari\\proj\\pic\\True 20210312.png\n"
     ]
    },
    {
     "name": "stderr",
     "output_type": "stream",
     "text": [
      "C:\\Users\\Administrator\\AppData\\Local\\Temp/ipykernel_4248/2832217777.py:41: UserWarning: The input coordinates to pcolor are interpreted as cell centers, but are not monotonically increasing or decreasing. This may lead to incorrectly calculated cell edges, in which case, please supply explicit cell edges to pcolor.\n",
      "  hy_m.pcolor(x_map, y_map, data=grid_array, cmap=plt.cm.jet,shading = 'auto',vmax=5,vmin=1,latlon = True)\n"
     ]
    },
    {
     "name": "stdout",
     "output_type": "stream",
     "text": [
      "now processed csv file D:\\python_workfile\\sea_ice_classification\\training6\\csv\\polarization_ratio\\20210313.csv\n",
      "D:\\python_workfile\\sea_ice_classification\\data\\mask\\aari\\proj\\pic\\True 20210313.png\n"
     ]
    },
    {
     "name": "stderr",
     "output_type": "stream",
     "text": [
      "C:\\Users\\Administrator\\AppData\\Local\\Temp/ipykernel_4248/2832217777.py:41: UserWarning: The input coordinates to pcolor are interpreted as cell centers, but are not monotonically increasing or decreasing. This may lead to incorrectly calculated cell edges, in which case, please supply explicit cell edges to pcolor.\n",
      "  hy_m.pcolor(x_map, y_map, data=grid_array, cmap=plt.cm.jet,shading = 'auto',vmax=5,vmin=1,latlon = True)\n"
     ]
    },
    {
     "name": "stdout",
     "output_type": "stream",
     "text": [
      "now processed csv file D:\\python_workfile\\sea_ice_classification\\training6\\csv\\polarization_ratio\\20210314.csv\n",
      "D:\\python_workfile\\sea_ice_classification\\data\\mask\\aari\\proj\\pic\\True 20210314.png\n"
     ]
    },
    {
     "name": "stderr",
     "output_type": "stream",
     "text": [
      "C:\\Users\\Administrator\\AppData\\Local\\Temp/ipykernel_4248/2832217777.py:41: UserWarning: The input coordinates to pcolor are interpreted as cell centers, but are not monotonically increasing or decreasing. This may lead to incorrectly calculated cell edges, in which case, please supply explicit cell edges to pcolor.\n",
      "  hy_m.pcolor(x_map, y_map, data=grid_array, cmap=plt.cm.jet,shading = 'auto',vmax=5,vmin=1,latlon = True)\n"
     ]
    },
    {
     "name": "stdout",
     "output_type": "stream",
     "text": [
      "now processed csv file D:\\python_workfile\\sea_ice_classification\\training6\\csv\\polarization_ratio\\20210315.csv\n",
      "D:\\python_workfile\\sea_ice_classification\\data\\mask\\aari\\proj\\pic\\True 20210315.png\n"
     ]
    },
    {
     "name": "stderr",
     "output_type": "stream",
     "text": [
      "C:\\Users\\Administrator\\AppData\\Local\\Temp/ipykernel_4248/2832217777.py:41: UserWarning: The input coordinates to pcolor are interpreted as cell centers, but are not monotonically increasing or decreasing. This may lead to incorrectly calculated cell edges, in which case, please supply explicit cell edges to pcolor.\n",
      "  hy_m.pcolor(x_map, y_map, data=grid_array, cmap=plt.cm.jet,shading = 'auto',vmax=5,vmin=1,latlon = True)\n"
     ]
    },
    {
     "name": "stdout",
     "output_type": "stream",
     "text": [
      "now processed csv file D:\\python_workfile\\sea_ice_classification\\training6\\csv\\polarization_ratio\\20210316.csv\n",
      "D:\\python_workfile\\sea_ice_classification\\data\\mask\\aari\\proj\\pic\\True 20210316.png\n"
     ]
    },
    {
     "name": "stderr",
     "output_type": "stream",
     "text": [
      "C:\\Users\\Administrator\\AppData\\Local\\Temp/ipykernel_4248/2832217777.py:41: UserWarning: The input coordinates to pcolor are interpreted as cell centers, but are not monotonically increasing or decreasing. This may lead to incorrectly calculated cell edges, in which case, please supply explicit cell edges to pcolor.\n",
      "  hy_m.pcolor(x_map, y_map, data=grid_array, cmap=plt.cm.jet,shading = 'auto',vmax=5,vmin=1,latlon = True)\n"
     ]
    },
    {
     "name": "stdout",
     "output_type": "stream",
     "text": [
      "now processed csv file D:\\python_workfile\\sea_ice_classification\\training6\\csv\\polarization_ratio\\20210317.csv\n",
      "D:\\python_workfile\\sea_ice_classification\\data\\mask\\aari\\proj\\pic\\True 20210317.png\n"
     ]
    },
    {
     "name": "stderr",
     "output_type": "stream",
     "text": [
      "C:\\Users\\Administrator\\AppData\\Local\\Temp/ipykernel_4248/2832217777.py:41: UserWarning: The input coordinates to pcolor are interpreted as cell centers, but are not monotonically increasing or decreasing. This may lead to incorrectly calculated cell edges, in which case, please supply explicit cell edges to pcolor.\n",
      "  hy_m.pcolor(x_map, y_map, data=grid_array, cmap=plt.cm.jet,shading = 'auto',vmax=5,vmin=1,latlon = True)\n"
     ]
    },
    {
     "name": "stdout",
     "output_type": "stream",
     "text": [
      "now processed csv file D:\\python_workfile\\sea_ice_classification\\training6\\csv\\polarization_ratio\\20210318.csv\n",
      "D:\\python_workfile\\sea_ice_classification\\data\\mask\\aari\\proj\\pic\\True 20210318.png\n"
     ]
    },
    {
     "name": "stderr",
     "output_type": "stream",
     "text": [
      "C:\\Users\\Administrator\\AppData\\Local\\Temp/ipykernel_4248/2832217777.py:41: UserWarning: The input coordinates to pcolor are interpreted as cell centers, but are not monotonically increasing or decreasing. This may lead to incorrectly calculated cell edges, in which case, please supply explicit cell edges to pcolor.\n",
      "  hy_m.pcolor(x_map, y_map, data=grid_array, cmap=plt.cm.jet,shading = 'auto',vmax=5,vmin=1,latlon = True)\n"
     ]
    },
    {
     "name": "stdout",
     "output_type": "stream",
     "text": [
      "now processed csv file D:\\python_workfile\\sea_ice_classification\\training6\\csv\\polarization_ratio\\20210319.csv\n",
      "D:\\python_workfile\\sea_ice_classification\\data\\mask\\aari\\proj\\pic\\True 20210319.png\n"
     ]
    },
    {
     "name": "stderr",
     "output_type": "stream",
     "text": [
      "C:\\Users\\Administrator\\AppData\\Local\\Temp/ipykernel_4248/2832217777.py:41: UserWarning: The input coordinates to pcolor are interpreted as cell centers, but are not monotonically increasing or decreasing. This may lead to incorrectly calculated cell edges, in which case, please supply explicit cell edges to pcolor.\n",
      "  hy_m.pcolor(x_map, y_map, data=grid_array, cmap=plt.cm.jet,shading = 'auto',vmax=5,vmin=1,latlon = True)\n"
     ]
    },
    {
     "name": "stdout",
     "output_type": "stream",
     "text": [
      "now processed csv file D:\\python_workfile\\sea_ice_classification\\training6\\csv\\polarization_ratio\\20210320.csv\n",
      "D:\\python_workfile\\sea_ice_classification\\data\\mask\\aari\\proj\\pic\\True 20210320.png\n"
     ]
    },
    {
     "name": "stderr",
     "output_type": "stream",
     "text": [
      "C:\\Users\\Administrator\\AppData\\Local\\Temp/ipykernel_4248/2832217777.py:41: UserWarning: The input coordinates to pcolor are interpreted as cell centers, but are not monotonically increasing or decreasing. This may lead to incorrectly calculated cell edges, in which case, please supply explicit cell edges to pcolor.\n",
      "  hy_m.pcolor(x_map, y_map, data=grid_array, cmap=plt.cm.jet,shading = 'auto',vmax=5,vmin=1,latlon = True)\n"
     ]
    },
    {
     "name": "stdout",
     "output_type": "stream",
     "text": [
      "now processed csv file D:\\python_workfile\\sea_ice_classification\\training6\\csv\\polarization_ratio\\20210321.csv\n",
      "D:\\python_workfile\\sea_ice_classification\\data\\mask\\aari\\proj\\pic\\True 20210321.png\n"
     ]
    },
    {
     "name": "stderr",
     "output_type": "stream",
     "text": [
      "C:\\Users\\Administrator\\AppData\\Local\\Temp/ipykernel_4248/2832217777.py:41: UserWarning: The input coordinates to pcolor are interpreted as cell centers, but are not monotonically increasing or decreasing. This may lead to incorrectly calculated cell edges, in which case, please supply explicit cell edges to pcolor.\n",
      "  hy_m.pcolor(x_map, y_map, data=grid_array, cmap=plt.cm.jet,shading = 'auto',vmax=5,vmin=1,latlon = True)\n"
     ]
    },
    {
     "name": "stdout",
     "output_type": "stream",
     "text": [
      "now processed csv file D:\\python_workfile\\sea_ice_classification\\training6\\csv\\polarization_ratio\\20210322.csv\n",
      "D:\\python_workfile\\sea_ice_classification\\data\\mask\\aari\\proj\\pic\\True 20210322.png\n"
     ]
    },
    {
     "name": "stderr",
     "output_type": "stream",
     "text": [
      "C:\\Users\\Administrator\\AppData\\Local\\Temp/ipykernel_4248/2832217777.py:41: UserWarning: The input coordinates to pcolor are interpreted as cell centers, but are not monotonically increasing or decreasing. This may lead to incorrectly calculated cell edges, in which case, please supply explicit cell edges to pcolor.\n",
      "  hy_m.pcolor(x_map, y_map, data=grid_array, cmap=plt.cm.jet,shading = 'auto',vmax=5,vmin=1,latlon = True)\n"
     ]
    },
    {
     "name": "stdout",
     "output_type": "stream",
     "text": [
      "now processed csv file D:\\python_workfile\\sea_ice_classification\\training6\\csv\\polarization_ratio\\20210323.csv\n",
      "D:\\python_workfile\\sea_ice_classification\\data\\mask\\aari\\proj\\pic\\True 20210323.png\n"
     ]
    },
    {
     "name": "stderr",
     "output_type": "stream",
     "text": [
      "C:\\Users\\Administrator\\AppData\\Local\\Temp/ipykernel_4248/2832217777.py:41: UserWarning: The input coordinates to pcolor are interpreted as cell centers, but are not monotonically increasing or decreasing. This may lead to incorrectly calculated cell edges, in which case, please supply explicit cell edges to pcolor.\n",
      "  hy_m.pcolor(x_map, y_map, data=grid_array, cmap=plt.cm.jet,shading = 'auto',vmax=5,vmin=1,latlon = True)\n"
     ]
    },
    {
     "name": "stdout",
     "output_type": "stream",
     "text": [
      "now processed csv file D:\\python_workfile\\sea_ice_classification\\training6\\csv\\polarization_ratio\\20210324.csv\n",
      "D:\\python_workfile\\sea_ice_classification\\data\\mask\\aari\\proj\\pic\\True 20210324.png\n"
     ]
    },
    {
     "name": "stderr",
     "output_type": "stream",
     "text": [
      "C:\\Users\\Administrator\\AppData\\Local\\Temp/ipykernel_4248/2832217777.py:41: UserWarning: The input coordinates to pcolor are interpreted as cell centers, but are not monotonically increasing or decreasing. This may lead to incorrectly calculated cell edges, in which case, please supply explicit cell edges to pcolor.\n",
      "  hy_m.pcolor(x_map, y_map, data=grid_array, cmap=plt.cm.jet,shading = 'auto',vmax=5,vmin=1,latlon = True)\n"
     ]
    },
    {
     "name": "stdout",
     "output_type": "stream",
     "text": [
      "now processed csv file D:\\python_workfile\\sea_ice_classification\\training6\\csv\\polarization_ratio\\20210325.csv\n",
      "D:\\python_workfile\\sea_ice_classification\\data\\mask\\aari\\proj\\pic\\True 20210325.png\n"
     ]
    },
    {
     "name": "stderr",
     "output_type": "stream",
     "text": [
      "C:\\Users\\Administrator\\AppData\\Local\\Temp/ipykernel_4248/2832217777.py:41: UserWarning: The input coordinates to pcolor are interpreted as cell centers, but are not monotonically increasing or decreasing. This may lead to incorrectly calculated cell edges, in which case, please supply explicit cell edges to pcolor.\n",
      "  hy_m.pcolor(x_map, y_map, data=grid_array, cmap=plt.cm.jet,shading = 'auto',vmax=5,vmin=1,latlon = True)\n"
     ]
    },
    {
     "name": "stdout",
     "output_type": "stream",
     "text": [
      "now processed csv file D:\\python_workfile\\sea_ice_classification\\training6\\csv\\polarization_ratio\\20210326.csv\n",
      "D:\\python_workfile\\sea_ice_classification\\data\\mask\\aari\\proj\\pic\\True 20210326.png\n"
     ]
    },
    {
     "name": "stderr",
     "output_type": "stream",
     "text": [
      "C:\\Users\\Administrator\\AppData\\Local\\Temp/ipykernel_4248/2832217777.py:41: UserWarning: The input coordinates to pcolor are interpreted as cell centers, but are not monotonically increasing or decreasing. This may lead to incorrectly calculated cell edges, in which case, please supply explicit cell edges to pcolor.\n",
      "  hy_m.pcolor(x_map, y_map, data=grid_array, cmap=plt.cm.jet,shading = 'auto',vmax=5,vmin=1,latlon = True)\n"
     ]
    },
    {
     "name": "stdout",
     "output_type": "stream",
     "text": [
      "now processed csv file D:\\python_workfile\\sea_ice_classification\\training6\\csv\\polarization_ratio\\20210328.csv\n",
      "D:\\python_workfile\\sea_ice_classification\\data\\mask\\aari\\proj\\pic\\True 20210328.png\n"
     ]
    },
    {
     "name": "stderr",
     "output_type": "stream",
     "text": [
      "C:\\Users\\Administrator\\AppData\\Local\\Temp/ipykernel_4248/2832217777.py:41: UserWarning: The input coordinates to pcolor are interpreted as cell centers, but are not monotonically increasing or decreasing. This may lead to incorrectly calculated cell edges, in which case, please supply explicit cell edges to pcolor.\n",
      "  hy_m.pcolor(x_map, y_map, data=grid_array, cmap=plt.cm.jet,shading = 'auto',vmax=5,vmin=1,latlon = True)\n"
     ]
    },
    {
     "name": "stdout",
     "output_type": "stream",
     "text": [
      "now processed csv file D:\\python_workfile\\sea_ice_classification\\training6\\csv\\polarization_ratio\\20210329.csv\n",
      "D:\\python_workfile\\sea_ice_classification\\data\\mask\\aari\\proj\\pic\\True 20210329.png\n"
     ]
    },
    {
     "name": "stderr",
     "output_type": "stream",
     "text": [
      "C:\\Users\\Administrator\\AppData\\Local\\Temp/ipykernel_4248/2832217777.py:41: UserWarning: The input coordinates to pcolor are interpreted as cell centers, but are not monotonically increasing or decreasing. This may lead to incorrectly calculated cell edges, in which case, please supply explicit cell edges to pcolor.\n",
      "  hy_m.pcolor(x_map, y_map, data=grid_array, cmap=plt.cm.jet,shading = 'auto',vmax=5,vmin=1,latlon = True)\n"
     ]
    },
    {
     "name": "stdout",
     "output_type": "stream",
     "text": [
      "now processed csv file D:\\python_workfile\\sea_ice_classification\\training6\\csv\\polarization_ratio\\20210330.csv\n",
      "D:\\python_workfile\\sea_ice_classification\\data\\mask\\aari\\proj\\pic\\True 20210330.png\n"
     ]
    },
    {
     "name": "stderr",
     "output_type": "stream",
     "text": [
      "C:\\Users\\Administrator\\AppData\\Local\\Temp/ipykernel_4248/2832217777.py:41: UserWarning: The input coordinates to pcolor are interpreted as cell centers, but are not monotonically increasing or decreasing. This may lead to incorrectly calculated cell edges, in which case, please supply explicit cell edges to pcolor.\n",
      "  hy_m.pcolor(x_map, y_map, data=grid_array, cmap=plt.cm.jet,shading = 'auto',vmax=5,vmin=1,latlon = True)\n"
     ]
    },
    {
     "name": "stdout",
     "output_type": "stream",
     "text": [
      "now processed csv file D:\\python_workfile\\sea_ice_classification\\training6\\csv\\polarization_ratio\\20210331.csv\n",
      "D:\\python_workfile\\sea_ice_classification\\data\\mask\\aari\\proj\\pic\\True 20210331.png\n"
     ]
    },
    {
     "name": "stderr",
     "output_type": "stream",
     "text": [
      "C:\\Users\\Administrator\\AppData\\Local\\Temp/ipykernel_4248/2832217777.py:41: UserWarning: The input coordinates to pcolor are interpreted as cell centers, but are not monotonically increasing or decreasing. This may lead to incorrectly calculated cell edges, in which case, please supply explicit cell edges to pcolor.\n",
      "  hy_m.pcolor(x_map, y_map, data=grid_array, cmap=plt.cm.jet,shading = 'auto',vmax=5,vmin=1,latlon = True)\n"
     ]
    },
    {
     "name": "stdout",
     "output_type": "stream",
     "text": [
      "now processed csv file D:\\python_workfile\\sea_ice_classification\\training6\\csv\\polarization_ratio\\20210401.csv\n",
      "D:\\python_workfile\\sea_ice_classification\\data\\mask\\aari\\proj\\pic\\True 20210401.png\n"
     ]
    },
    {
     "name": "stderr",
     "output_type": "stream",
     "text": [
      "C:\\Users\\Administrator\\AppData\\Local\\Temp/ipykernel_4248/2832217777.py:41: UserWarning: The input coordinates to pcolor are interpreted as cell centers, but are not monotonically increasing or decreasing. This may lead to incorrectly calculated cell edges, in which case, please supply explicit cell edges to pcolor.\n",
      "  hy_m.pcolor(x_map, y_map, data=grid_array, cmap=plt.cm.jet,shading = 'auto',vmax=5,vmin=1,latlon = True)\n"
     ]
    },
    {
     "name": "stdout",
     "output_type": "stream",
     "text": [
      "now processed csv file D:\\python_workfile\\sea_ice_classification\\training6\\csv\\polarization_ratio\\20210402.csv\n",
      "D:\\python_workfile\\sea_ice_classification\\data\\mask\\aari\\proj\\pic\\True 20210402.png\n"
     ]
    },
    {
     "name": "stderr",
     "output_type": "stream",
     "text": [
      "C:\\Users\\Administrator\\AppData\\Local\\Temp/ipykernel_4248/2832217777.py:41: UserWarning: The input coordinates to pcolor are interpreted as cell centers, but are not monotonically increasing or decreasing. This may lead to incorrectly calculated cell edges, in which case, please supply explicit cell edges to pcolor.\n",
      "  hy_m.pcolor(x_map, y_map, data=grid_array, cmap=plt.cm.jet,shading = 'auto',vmax=5,vmin=1,latlon = True)\n"
     ]
    },
    {
     "name": "stdout",
     "output_type": "stream",
     "text": [
      "now processed csv file D:\\python_workfile\\sea_ice_classification\\training6\\csv\\polarization_ratio\\20210403.csv\n",
      "D:\\python_workfile\\sea_ice_classification\\data\\mask\\aari\\proj\\pic\\True 20210403.png\n"
     ]
    },
    {
     "name": "stderr",
     "output_type": "stream",
     "text": [
      "C:\\Users\\Administrator\\AppData\\Local\\Temp/ipykernel_4248/2832217777.py:41: UserWarning: The input coordinates to pcolor are interpreted as cell centers, but are not monotonically increasing or decreasing. This may lead to incorrectly calculated cell edges, in which case, please supply explicit cell edges to pcolor.\n",
      "  hy_m.pcolor(x_map, y_map, data=grid_array, cmap=plt.cm.jet,shading = 'auto',vmax=5,vmin=1,latlon = True)\n"
     ]
    },
    {
     "name": "stdout",
     "output_type": "stream",
     "text": [
      "now processed csv file D:\\python_workfile\\sea_ice_classification\\training6\\csv\\polarization_ratio\\20210404.csv\n",
      "D:\\python_workfile\\sea_ice_classification\\data\\mask\\aari\\proj\\pic\\True 20210404.png\n"
     ]
    },
    {
     "name": "stderr",
     "output_type": "stream",
     "text": [
      "C:\\Users\\Administrator\\AppData\\Local\\Temp/ipykernel_4248/2832217777.py:41: UserWarning: The input coordinates to pcolor are interpreted as cell centers, but are not monotonically increasing or decreasing. This may lead to incorrectly calculated cell edges, in which case, please supply explicit cell edges to pcolor.\n",
      "  hy_m.pcolor(x_map, y_map, data=grid_array, cmap=plt.cm.jet,shading = 'auto',vmax=5,vmin=1,latlon = True)\n"
     ]
    },
    {
     "name": "stdout",
     "output_type": "stream",
     "text": [
      "now processed csv file D:\\python_workfile\\sea_ice_classification\\training6\\csv\\polarization_ratio\\20210405.csv\n",
      "D:\\python_workfile\\sea_ice_classification\\data\\mask\\aari\\proj\\pic\\True 20210405.png\n"
     ]
    },
    {
     "name": "stderr",
     "output_type": "stream",
     "text": [
      "C:\\Users\\Administrator\\AppData\\Local\\Temp/ipykernel_4248/2832217777.py:41: UserWarning: The input coordinates to pcolor are interpreted as cell centers, but are not monotonically increasing or decreasing. This may lead to incorrectly calculated cell edges, in which case, please supply explicit cell edges to pcolor.\n",
      "  hy_m.pcolor(x_map, y_map, data=grid_array, cmap=plt.cm.jet,shading = 'auto',vmax=5,vmin=1,latlon = True)\n"
     ]
    },
    {
     "name": "stdout",
     "output_type": "stream",
     "text": [
      "now processed csv file D:\\python_workfile\\sea_ice_classification\\training6\\csv\\polarization_ratio\\20210406.csv\n",
      "D:\\python_workfile\\sea_ice_classification\\data\\mask\\aari\\proj\\pic\\True 20210406.png\n"
     ]
    },
    {
     "name": "stderr",
     "output_type": "stream",
     "text": [
      "C:\\Users\\Administrator\\AppData\\Local\\Temp/ipykernel_4248/2832217777.py:41: UserWarning: The input coordinates to pcolor are interpreted as cell centers, but are not monotonically increasing or decreasing. This may lead to incorrectly calculated cell edges, in which case, please supply explicit cell edges to pcolor.\n",
      "  hy_m.pcolor(x_map, y_map, data=grid_array, cmap=plt.cm.jet,shading = 'auto',vmax=5,vmin=1,latlon = True)\n"
     ]
    },
    {
     "name": "stdout",
     "output_type": "stream",
     "text": [
      "now processed csv file D:\\python_workfile\\sea_ice_classification\\training6\\csv\\polarization_ratio\\20210407.csv\n",
      "D:\\python_workfile\\sea_ice_classification\\data\\mask\\aari\\proj\\pic\\True 20210407.png\n"
     ]
    },
    {
     "name": "stderr",
     "output_type": "stream",
     "text": [
      "C:\\Users\\Administrator\\AppData\\Local\\Temp/ipykernel_4248/2832217777.py:41: UserWarning: The input coordinates to pcolor are interpreted as cell centers, but are not monotonically increasing or decreasing. This may lead to incorrectly calculated cell edges, in which case, please supply explicit cell edges to pcolor.\n",
      "  hy_m.pcolor(x_map, y_map, data=grid_array, cmap=plt.cm.jet,shading = 'auto',vmax=5,vmin=1,latlon = True)\n"
     ]
    },
    {
     "name": "stdout",
     "output_type": "stream",
     "text": [
      "now processed csv file D:\\python_workfile\\sea_ice_classification\\training6\\csv\\polarization_ratio\\20210408.csv\n",
      "D:\\python_workfile\\sea_ice_classification\\data\\mask\\aari\\proj\\pic\\True 20210408.png\n"
     ]
    },
    {
     "name": "stderr",
     "output_type": "stream",
     "text": [
      "C:\\Users\\Administrator\\AppData\\Local\\Temp/ipykernel_4248/2832217777.py:41: UserWarning: The input coordinates to pcolor are interpreted as cell centers, but are not monotonically increasing or decreasing. This may lead to incorrectly calculated cell edges, in which case, please supply explicit cell edges to pcolor.\n",
      "  hy_m.pcolor(x_map, y_map, data=grid_array, cmap=plt.cm.jet,shading = 'auto',vmax=5,vmin=1,latlon = True)\n"
     ]
    },
    {
     "name": "stdout",
     "output_type": "stream",
     "text": [
      "now processed csv file D:\\python_workfile\\sea_ice_classification\\training6\\csv\\polarization_ratio\\20210409.csv\n",
      "D:\\python_workfile\\sea_ice_classification\\data\\mask\\aari\\proj\\pic\\True 20210409.png\n"
     ]
    },
    {
     "name": "stderr",
     "output_type": "stream",
     "text": [
      "C:\\Users\\Administrator\\AppData\\Local\\Temp/ipykernel_4248/2832217777.py:41: UserWarning: The input coordinates to pcolor are interpreted as cell centers, but are not monotonically increasing or decreasing. This may lead to incorrectly calculated cell edges, in which case, please supply explicit cell edges to pcolor.\n",
      "  hy_m.pcolor(x_map, y_map, data=grid_array, cmap=plt.cm.jet,shading = 'auto',vmax=5,vmin=1,latlon = True)\n"
     ]
    },
    {
     "name": "stdout",
     "output_type": "stream",
     "text": [
      "now processed csv file D:\\python_workfile\\sea_ice_classification\\training6\\csv\\polarization_ratio\\20210410.csv\n",
      "D:\\python_workfile\\sea_ice_classification\\data\\mask\\aari\\proj\\pic\\True 20210410.png\n"
     ]
    },
    {
     "name": "stderr",
     "output_type": "stream",
     "text": [
      "C:\\Users\\Administrator\\AppData\\Local\\Temp/ipykernel_4248/2832217777.py:41: UserWarning: The input coordinates to pcolor are interpreted as cell centers, but are not monotonically increasing or decreasing. This may lead to incorrectly calculated cell edges, in which case, please supply explicit cell edges to pcolor.\n",
      "  hy_m.pcolor(x_map, y_map, data=grid_array, cmap=plt.cm.jet,shading = 'auto',vmax=5,vmin=1,latlon = True)\n"
     ]
    },
    {
     "name": "stdout",
     "output_type": "stream",
     "text": [
      "now processed csv file D:\\python_workfile\\sea_ice_classification\\training6\\csv\\polarization_ratio\\20210411.csv\n",
      "D:\\python_workfile\\sea_ice_classification\\data\\mask\\aari\\proj\\pic\\True 20210411.png\n"
     ]
    },
    {
     "name": "stderr",
     "output_type": "stream",
     "text": [
      "C:\\Users\\Administrator\\AppData\\Local\\Temp/ipykernel_4248/2832217777.py:41: UserWarning: The input coordinates to pcolor are interpreted as cell centers, but are not monotonically increasing or decreasing. This may lead to incorrectly calculated cell edges, in which case, please supply explicit cell edges to pcolor.\n",
      "  hy_m.pcolor(x_map, y_map, data=grid_array, cmap=plt.cm.jet,shading = 'auto',vmax=5,vmin=1,latlon = True)\n"
     ]
    },
    {
     "name": "stdout",
     "output_type": "stream",
     "text": [
      "now processed csv file D:\\python_workfile\\sea_ice_classification\\training6\\csv\\polarization_ratio\\20210412.csv\n",
      "D:\\python_workfile\\sea_ice_classification\\data\\mask\\aari\\proj\\pic\\True 20210412.png\n"
     ]
    },
    {
     "name": "stderr",
     "output_type": "stream",
     "text": [
      "C:\\Users\\Administrator\\AppData\\Local\\Temp/ipykernel_4248/2832217777.py:41: UserWarning: The input coordinates to pcolor are interpreted as cell centers, but are not monotonically increasing or decreasing. This may lead to incorrectly calculated cell edges, in which case, please supply explicit cell edges to pcolor.\n",
      "  hy_m.pcolor(x_map, y_map, data=grid_array, cmap=plt.cm.jet,shading = 'auto',vmax=5,vmin=1,latlon = True)\n"
     ]
    },
    {
     "name": "stdout",
     "output_type": "stream",
     "text": [
      "now processed csv file D:\\python_workfile\\sea_ice_classification\\training6\\csv\\polarization_ratio\\20210413.csv\n",
      "D:\\python_workfile\\sea_ice_classification\\data\\mask\\aari\\proj\\pic\\True 20210413.png\n"
     ]
    }
   ],
   "source": [
    "for val_csv_file in csv_files[:]:\n",
    "    day = val_csv_file.split('\\\\')[-1].split('.')[0]\n",
    "    val_data = pd.read_csv(val_csv_file,index_col=None,encoding='ANSI')\n",
    "#     val_data['week'] = val_data['time'].apply(strftime_week)\n",
    "#     val_data['day'] = val_data['time'].apply(strftime_day)\n",
    "#     val_data['julian_day'] = val_data['time'].apply(strftime_julian_day)\n",
    "#     val_data['julian_week'] = val_data['time'].apply(strftime_julian_week)\n",
    "#     nor_dataframe(val_data)\n",
    "    process_sea_ice_train_dataframe(val_data,fyi_myi=False)\n",
    "    value_array = np.empty(shape=(val_data.shape[0],6))\n",
    "\n",
    "\n",
    "    value_array[:,0] = val_data['lat']\n",
    "    value_array[:,1] = val_data['lon']\n",
    "    value_array[:,2],value_array[:,3] = transformer.transform(value_array[:,0], value_array[:,1])\n",
    "    value_array[:,4] = val_data['ice_type']\n",
    "\n",
    "    grid_array = np.zeros((hy_sca.nlat, hy_sca.nlon))\n",
    "\n",
    "    x = (value_array[:,2] / hy_sca.resolution).astype(np.int16)\n",
    "    y = (value_array[:,3] / hy_sca.resolution).astype(np.int16)\n",
    "\n",
    "\n",
    "    grid_array[y,x] = value_array[:,4]\n",
    "\n",
    "    x_map, y_map = hy_sca.get_map_grid(transformer_back)\n",
    "    \n",
    "    \n",
    "    grid_array[grid_array == 0] = np.nan\n",
    "\n",
    "    \n",
    "    \n",
    "    \n",
    "    \n",
    "    # 绘制真值\n",
    "    fig = plt.figure(figsize=(9, 9))\n",
    "    fig.add_subplot(111)\n",
    "    fig.set_tight_layout(True) # reduce the spaces from margin outside the axis \n",
    "\n",
    "    hy_m = Basemap(projection='npaeqd', boundinglat=66, lon_0=90., resolution='c')\n",
    "    hy_m.pcolor(x_map, y_map, data=grid_array, cmap=plt.cm.jet,shading = 'auto',vmax=5,vmin=1,latlon = True)\n",
    "\n",
    "    hy_m.fillcontinents()\n",
    "    hy_m.drawmapboundary()\n",
    "    hy_m.drawparallels(np.arange(-90., 120., 10.), labels=[1, 0, 0, 0])\n",
    "    hy_m.drawmeridians(np.arange(-180., 180., 60.), labels=[0, 0, 0, 1])\n",
    "    plt.title('True mask '+str(day))\n",
    "    plt.legend(loc='upper right',handles=[FI,OI ,FYI, YI ,N], title='Ice Type')\n",
    "    plt.savefig(save_dir+'\\\\True '+str(day)+'.png')\n",
    "    plt.close()\n",
    "    \n",
    "    print(f'now processed csv file {val_csv_file}')\n",
    "    print(save_dir+'\\\\True '+str(day)+'.png')\n",
    "    \n",
    "    "
   ]
  },
  {
   "cell_type": "code",
   "execution_count": null,
   "id": "e9841838",
   "metadata": {},
   "outputs": [],
   "source": []
  }
 ],
 "metadata": {
  "kernelspec": {
   "display_name": "Python 3 (ipykernel)",
   "language": "python",
   "name": "python3"
  },
  "language_info": {
   "codemirror_mode": {
    "name": "ipython",
    "version": 3
   },
   "file_extension": ".py",
   "mimetype": "text/x-python",
   "name": "python",
   "nbconvert_exporter": "python",
   "pygments_lexer": "ipython3",
   "version": "3.8.10"
  }
 },
 "nbformat": 4,
 "nbformat_minor": 5
}
