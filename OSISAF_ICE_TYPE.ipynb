{
 "cells": [
  {
   "cell_type": "markdown",
   "metadata": {},
   "source": [
    "# OSI-SAF ICE TYPE 投影"
   ]
  },
  {
   "cell_type": "code",
   "execution_count": 1,
   "metadata": {},
   "outputs": [],
   "source": [
    "from mpl_toolkits.basemap import Basemap\n",
    "from netCDF4 import Dataset\n",
    "from RSData import *\n",
    "from HaiYangData import *\n",
    "\n",
    "import matplotlib.pyplot as plt\n",
    "import numpy as np\n",
    "import glob\n",
    "import io\n",
    "import cv2"
   ]
  },
  {
   "cell_type": "code",
   "execution_count": 2,
   "metadata": {},
   "outputs": [],
   "source": [
    "satellite = r'ocisaf'\n",
    "sensor = r'icetype'\n",
    "osi_i_t = HaiYangData(satellite=satellite, sensor=sensor,resolution=12500)\n",
    "\n",
    "# 将WGS 84坐标（4326）转化为极射投影\n",
    "crs = CRS.from_epsg(4326)\n",
    "crs = CRS.from_string(\"epsg:4326\")\n",
    "crs = CRS.from_proj4(\"+proj=latlon\")\n",
    "crs = CRS.from_user_input(4326)\n",
    "crs2 = CRS(proj=\"aeqd\")\n",
    "\n"
   ]
  },
  {
   "cell_type": "code",
   "execution_count": 3,
   "metadata": {},
   "outputs": [],
   "source": [
    "dir_path = r\"H:\\remote_sensing_data\\sea_ice_type\\osisaf\"\n",
    "\n",
    "osi_save_path = r'E:\\\\python_workfile\\\\sea_ice_classification\\\\data\\\\mask\\\\osisaf\\\\'\n",
    "\n",
    "files = glob.glob(dir_path + '\\*.nc')"
   ]
  },
  {
   "cell_type": "code",
   "execution_count": 4,
   "metadata": {},
   "outputs": [],
   "source": [
    "def get_img_from_fig(fig, dpi=180):\n",
    "    buf = io.BytesIO()\n",
    "    fig.savefig(buf, format=\"png\", dpi=180)\n",
    "    buf.seek(0)\n",
    "    img_arr = np.frombuffer(buf.getvalue(), dtype=np.uint8)\n",
    "    buf.close()\n",
    "    img = cv2.imdecode(img_arr, 1)\n",
    "    img = cv2.cvtColor(img, cv2.COLOR_BGR2RGB)\n",
    "    return img"
   ]
  },
  {
   "cell_type": "code",
   "execution_count": 5,
   "metadata": {},
   "outputs": [],
   "source": [
    "def draw_osi_ice_type(x_map, y_map, grid_array, save_path):\n",
    "    fig = plt.figure(figsize=(9, 9))\n",
    "    ax1 = fig.add_subplot(111)\n",
    "    fig.set_tight_layout(True)\n",
    "    hy_m = Basemap(projection='npaeqd', boundinglat=66, lon_0=90., resolution='c')\n",
    "    hy_m.pcolormesh(x_map, y_map, data=grid_array, cmap=plt.cm.jet,vmax = 4,vmin = 0,latlon = True)\n",
    "#     plt.show()\n",
    "    plt.savefig(save_path,dpi=180)   \n",
    "    plt.close()\n",
    "    \n",
    "    return fig\n"
   ]
  },
  {
   "cell_type": "code",
   "execution_count": 6,
   "metadata": {},
   "outputs": [],
   "source": [
    "transformer = HaiYangData.set_transformer(crs,crs2)\n",
    "transformer_back = HaiYangData.set_transformer(crs2,crs)\n",
    "\n"
   ]
  },
  {
   "cell_type": "code",
   "execution_count": null,
   "metadata": {},
   "outputs": [
    {
     "name": "stderr",
     "output_type": "stream",
     "text": [
      "<ipython-input-7-79f237defa82>:27: RuntimeWarning: invalid value encountered in true_divide\n",
      "  grid_array = grid_array / grid_num_array\n",
      "<ipython-input-5-efd6809237c0>:6: MatplotlibDeprecationWarning: shading='flat' when X and Y have the same dimensions as C is deprecated since 3.3.  Either specify the corners of the quadrilaterals with X and Y, or pass shading='auto', 'nearest' or 'gouraud', or set rcParams['pcolor.shading'].  This will become an error two minor releases later.\n",
      "  hy_m.pcolormesh(x_map, y_map, data=grid_array, cmap=plt.cm.jet,vmax = 4,vmin = 0,latlon = True)\n"
     ]
    },
    {
     "name": "stdout",
     "output_type": "stream",
     "text": [
      "201810261200\n"
     ]
    },
    {
     "name": "stderr",
     "output_type": "stream",
     "text": [
      "<ipython-input-7-79f237defa82>:27: RuntimeWarning: invalid value encountered in true_divide\n",
      "  grid_array = grid_array / grid_num_array\n",
      "<ipython-input-5-efd6809237c0>:6: MatplotlibDeprecationWarning: shading='flat' when X and Y have the same dimensions as C is deprecated since 3.3.  Either specify the corners of the quadrilaterals with X and Y, or pass shading='auto', 'nearest' or 'gouraud', or set rcParams['pcolor.shading'].  This will become an error two minor releases later.\n",
      "  hy_m.pcolormesh(x_map, y_map, data=grid_array, cmap=plt.cm.jet,vmax = 4,vmin = 0,latlon = True)\n"
     ]
    },
    {
     "name": "stdout",
     "output_type": "stream",
     "text": [
      "201810271200\n"
     ]
    },
    {
     "name": "stderr",
     "output_type": "stream",
     "text": [
      "<ipython-input-7-79f237defa82>:27: RuntimeWarning: invalid value encountered in true_divide\n",
      "  grid_array = grid_array / grid_num_array\n",
      "<ipython-input-5-efd6809237c0>:6: MatplotlibDeprecationWarning: shading='flat' when X and Y have the same dimensions as C is deprecated since 3.3.  Either specify the corners of the quadrilaterals with X and Y, or pass shading='auto', 'nearest' or 'gouraud', or set rcParams['pcolor.shading'].  This will become an error two minor releases later.\n",
      "  hy_m.pcolormesh(x_map, y_map, data=grid_array, cmap=plt.cm.jet,vmax = 4,vmin = 0,latlon = True)\n"
     ]
    },
    {
     "name": "stdout",
     "output_type": "stream",
     "text": [
      "201810281200\n"
     ]
    },
    {
     "name": "stderr",
     "output_type": "stream",
     "text": [
      "<ipython-input-7-79f237defa82>:27: RuntimeWarning: invalid value encountered in true_divide\n",
      "  grid_array = grid_array / grid_num_array\n",
      "<ipython-input-5-efd6809237c0>:6: MatplotlibDeprecationWarning: shading='flat' when X and Y have the same dimensions as C is deprecated since 3.3.  Either specify the corners of the quadrilaterals with X and Y, or pass shading='auto', 'nearest' or 'gouraud', or set rcParams['pcolor.shading'].  This will become an error two minor releases later.\n",
      "  hy_m.pcolormesh(x_map, y_map, data=grid_array, cmap=plt.cm.jet,vmax = 4,vmin = 0,latlon = True)\n"
     ]
    },
    {
     "name": "stdout",
     "output_type": "stream",
     "text": [
      "201810291200\n"
     ]
    },
    {
     "name": "stderr",
     "output_type": "stream",
     "text": [
      "<ipython-input-7-79f237defa82>:27: RuntimeWarning: invalid value encountered in true_divide\n",
      "  grid_array = grid_array / grid_num_array\n",
      "<ipython-input-5-efd6809237c0>:6: MatplotlibDeprecationWarning: shading='flat' when X and Y have the same dimensions as C is deprecated since 3.3.  Either specify the corners of the quadrilaterals with X and Y, or pass shading='auto', 'nearest' or 'gouraud', or set rcParams['pcolor.shading'].  This will become an error two minor releases later.\n",
      "  hy_m.pcolormesh(x_map, y_map, data=grid_array, cmap=plt.cm.jet,vmax = 4,vmin = 0,latlon = True)\n"
     ]
    },
    {
     "name": "stdout",
     "output_type": "stream",
     "text": [
      "201810301200\n"
     ]
    },
    {
     "name": "stderr",
     "output_type": "stream",
     "text": [
      "<ipython-input-7-79f237defa82>:27: RuntimeWarning: invalid value encountered in true_divide\n",
      "  grid_array = grid_array / grid_num_array\n"
     ]
    }
   ],
   "source": [
    "\n",
    "for file in files[25:]:\n",
    "    try:\n",
    "        value_array = np.empty(shape=(1120, 760,5))\n",
    "        grid_array = np.zeros((osi_i_t.nlat, osi_i_t.nlon))\n",
    "        grid_num_array = np.zeros((osi_i_t.nlat, osi_i_t.nlon))\n",
    "\n",
    "\n",
    "        with Dataset(file, mode='r') as f:\n",
    "            lat = f['lat'][:]\n",
    "            lon = f['lon'][:]\n",
    "            ice_type = f['ice_type'][:]\n",
    "\n",
    "        ice_type = ice_type.reshape(1120,760)\n",
    "\n",
    "        projlats, projlons = transformer.transform(lat, lon)\n",
    "\n",
    "        value_array[:,:,0] = lat\n",
    "        value_array[:,:,1] = lon\n",
    "        value_array[:,:,2],value_array[:,:,3] = transformer.transform(value_array[:,:,0], value_array[:,:,1])\n",
    "        value_array[:,:,4] = ice_type\n",
    "\n",
    "        x = (value_array[:,:,2] / osi_i_t.resolution).astype(np.int)\n",
    "        y = (value_array[:,:,3] / osi_i_t.resolution).astype(np.int)\n",
    "        grid_array[y,x] += value_array[:,:,4]\n",
    "        grid_num_array[y,x] += 1\n",
    "\n",
    "        grid_array = grid_array / grid_num_array\n",
    "        x_map, y_map = osi_i_t.get_map_grid(transformer_back)\n",
    "\n",
    "        day = file.split('_')[-1].split('.')[0]\n",
    "        fig = draw_osi_ice_type(x_map, y_map,grid_array, osi_save_path+'\\\\pic\\\\osi_ice_type'+str(day) + '.png')\n",
    "        plot_img_np = get_img_from_fig(fig)\n",
    "        np.save((osi_save_path + 'npy\\\\' + str(day) + '.npy'), plot_img_np)\n",
    "        print(day)\n",
    "    except TypeError:\n",
    "        print('wenti' + str(day))"
   ]
  },
  {
   "cell_type": "code",
   "execution_count": null,
   "metadata": {},
   "outputs": [],
   "source": []
  }
 ],
 "metadata": {
  "kernelspec": {
   "display_name": "Python 3",
   "language": "python",
   "name": "python3"
  },
  "language_info": {
   "codemirror_mode": {
    "name": "ipython",
    "version": 3
   },
   "file_extension": ".py",
   "mimetype": "text/x-python",
   "name": "python",
   "nbconvert_exporter": "python",
   "pygments_lexer": "ipython3",
   "version": "3.8.5"
  }
 },
 "nbformat": 4,
 "nbformat_minor": 4
}
