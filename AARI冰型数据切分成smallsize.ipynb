{
 "cells": [
  {
   "cell_type": "code",
   "execution_count": 2,
   "metadata": {},
   "outputs": [],
   "source": [
    "from PIL import Image\n",
    "import numpy as np\n",
    "import pandas as pd\n",
    "import glob\n",
    "import matplotlib.pyplot as plt\n",
    "import cv2"
   ]
  },
  {
   "cell_type": "code",
   "execution_count": 3,
   "metadata": {},
   "outputs": [],
   "source": [
    "def cut_img(image_arr, cutsize):\n",
    "    # 从四边剪短cutsize大小\n",
    "    return pic[cutsize:-cutsize,cutsize:-cutsize]\n",
    "\n",
    "def add_img_color(image_arr):\n",
    "    new_aari_array = np.full(shape=(image_arr.shape[:2]),fill_value=0)\n",
    "    for i in range(3):\n",
    "        new_aari_array += image_arr[:,:,i]\n",
    "    return new_aari_array\n"
   ]
  },
  {
   "cell_type": "code",
   "execution_count": 4,
   "metadata": {},
   "outputs": [],
   "source": [
    "pic_dir = r'E:\\python_workfile\\sea_ice_classification\\training7\\dataset\\aari\\npy_real'\n",
    "pic_path = glob.glob(pic_dir + r'\\*.npy')\n",
    "npy_save_path = r'E:\\python_workfile\\sea_ice_classification\\training7\\dataset\\aari\\npy_real\\small_size'\n"
   ]
  },
  {
   "cell_type": "code",
   "execution_count": 7,
   "metadata": {},
   "outputs": [],
   "source": [
    "lon_file = r'E:\\python_workfile\\sea_ice_classification\\training7\\lat_lon_array\\lon.npy'\n",
    "pic=np.load(lon_file)\n",
    "pic = cut_img(pic, 182)\n",
    "size = 128\n",
    "num_of_size=7\n"
   ]
  },
  {
   "cell_type": "code",
   "execution_count": 8,
   "metadata": {},
   "outputs": [],
   "source": [
    "for i in range(int(pic.shape[0]/size)):\n",
    "    for j in range(int(pic.shape[1]/size)):\n",
    "#         fig = plt.figure(figsize = (1,1))\n",
    "#         plt.imshow(pic[i*size:(i+1) * size, j*size :(j+1) * size],vmax = 5,vmin = 0,cmap = plt.cm.jet)\n",
    "#         plt.axis('off')\n",
    "\n",
    "#         plt.margins(0,0)\n",
    "\n",
    "        if i*num_of_size+j+1 < 10:\n",
    "            day = '00' + str(i*num_of_size+j+1)\n",
    "        elif 10<= i*num_of_size+j+1 < 100:\n",
    "            day = '0' + str(i*num_of_size+j+1)\n",
    "        else:\n",
    "            day = str(i*num_of_size+j+1)\n",
    "        np.save(r'E:\\python_workfile\\sea_ice_classification\\training7\\lat_lon_array\\lon_small_size' + '\\\\'+'lon' + day, pic[i*size:(i+1) * size, j*size :(j+1) * size])\n",
    "#         plt.savefig(E:\\python_workfile\\sea_ice_classification\\training7\\lat_lon_array\\lat_small_size+'\\\\' + 'lat' + day,dpi = 170, bbox_inches='tight',pad_inches = 0)\n",
    "#         plt.close()"
   ]
  },
  {
   "cell_type": "code",
   "execution_count": 10,
   "metadata": {},
   "outputs": [],
   "source": [
    "## 切分并重新编码aari\n",
    "for file in pic_path[:]:\n",
    "    name = file.split('\\\\')[-1].split('.')[0]\n",
    "    pic=np.load(file)\n",
    "    pic = cut_img(pic, 182)\n",
    "    size = 128\n",
    "    num_of_size=7\n",
    "    for i in range(int(pic.shape[0]/size)):\n",
    "        for j in range(int(pic.shape[1]/size)):\n",
    "            fig = plt.figure(figsize = (1,1))\n",
    "            plt.imshow(pic[i*size:(i+1) * size, j*size :(j+1) * size],vmax = 5,vmin = 0,cmap = plt.cm.jet)\n",
    "            plt.axis('off')\n",
    "\n",
    "            plt.margins(0,0)\n",
    "\n",
    "            if i*num_of_size+j+1 < 10:\n",
    "                day = '00' + str(i*num_of_size+j+1)\n",
    "            elif 10<= i*num_of_size+j+1 < 100:\n",
    "                day = '0' + str(i*num_of_size+j+1)\n",
    "            else:\n",
    "                day = str(i*num_of_size+j+1)\n",
    "            np.save(npy_save_path + '\\\\'+name + day, pic[i*size:(i+1) * size, j*size :(j+1) * size])\n",
    "            plt.savefig(img_save_path+'\\\\' + name + day,dpi = 170, bbox_inches='tight',pad_inches = 0)\n",
    "            plt.close()"
   ]
  }
 ],
 "metadata": {
  "kernelspec": {
   "display_name": "Python 3 (ipykernel)",
   "language": "python",
   "name": "python3"
  },
  "language_info": {
   "codemirror_mode": {
    "name": "ipython",
    "version": 3
   },
   "file_extension": ".py",
   "mimetype": "text/x-python",
   "name": "python",
   "nbconvert_exporter": "python",
   "pygments_lexer": "ipython3",
   "version": "3.8.10"
  },
  "varInspector": {
   "cols": {
    "lenName": 16,
    "lenType": 16,
    "lenVar": 40
   },
   "kernels_config": {
    "python": {
     "delete_cmd_postfix": "",
     "delete_cmd_prefix": "del ",
     "library": "var_list.py",
     "varRefreshCmd": "print(var_dic_list())"
    },
    "r": {
     "delete_cmd_postfix": ") ",
     "delete_cmd_prefix": "rm(",
     "library": "var_list.r",
     "varRefreshCmd": "cat(var_dic_list()) "
    }
   },
   "types_to_exclude": [
    "module",
    "function",
    "builtin_function_or_method",
    "instance",
    "_Feature"
   ],
   "window_display": false
  }
 },
 "nbformat": 4,
 "nbformat_minor": 4
}