{
 "cells": [
  {
   "cell_type": "code",
   "execution_count": 16,
   "metadata": {},
   "outputs": [],
   "source": [
    "from PIL import Image\n",
    "import numpy as np\n",
    "import pandas as pd\n",
    "import glob\n",
    "import matplotlib.pyplot as plt\n",
    "import cv2"
   ]
  },
  {
   "cell_type": "code",
   "execution_count": 26,
   "metadata": {},
   "outputs": [],
   "source": [
    "def cut_img(image_arr, cutsize):\n",
    "    # 从四边剪短cutsize大小\n",
    "    return pic[cutsize-1:-cutsize,cutsize-1:-cutsize,:]\n",
    "\n",
    "def add_img_color(image_arr):\n",
    "    new_aari_array = np.full(shape=(image_arr.shape[:2]),fill_value=0)\n",
    "    for i in range(3):\n",
    "        new_aari_array += image_arr[:,:,i]\n",
    "    return new_aari_array\n",
    "\n",
    "# def conver_img(image_arr):\n",
    "def recode_aari_mask(pic):\n",
    "    pic[pic < 6] = 0\n",
    "    pic[pic == 765] = 1 \n",
    "    pic[pic == 128] = 2 \n",
    "    pic[pic == 510] = 3 \n",
    "    pic[pic == 249] = 4 \n",
    "    pic[pic == 382] = 5\n",
    "    pic[pic == 407] = 6\n",
    "    pic[pic>6] = 0\n",
    "    return pic\n",
    "\n",
    "def recode_osisaf_mask(pic):\n",
    "    pic[pic < 4] = 0\n",
    "    pic[pic == 128] = 1\n",
    "    pic[pic == 502] = 2\n",
    "    pic[pic == 384] = 3\n",
    "    pic[pic == 764] = 4\n",
    "    pic[pic > 4] = 0\n",
    "    return pic"
   ]
  },
  {
   "cell_type": "code",
   "execution_count": 20,
   "metadata": {},
   "outputs": [],
   "source": [
    "pic_dir = r'E:\\\\python_workfile\\\\sea_ice_classification\\\\training2\\\\mask\\\\osisaf\\\\'\n",
    "pic_path = glob.glob(pic_dir + r'*.png')\n"
   ]
  },
  {
   "cell_type": "code",
   "execution_count": 22,
   "metadata": {},
   "outputs": [],
   "source": [
    "file = pic_path[0]\n",
    "pic=cv2.imread(file)\n",
    "pic = cut_img(pic, 15)\n",
    "pic = add_img_color(pic)"
   ]
  },
  {
   "cell_type": "code",
   "execution_count": 30,
   "metadata": {},
   "outputs": [
    {
     "ename": "KeyboardInterrupt",
     "evalue": "",
     "output_type": "error",
     "traceback": [
      "\u001b[1;31m---------------------------------------------------------------------------\u001b[0m",
      "\u001b[1;31mKeyboardInterrupt\u001b[0m                         Traceback (most recent call last)",
      "\u001b[1;32m<ipython-input-30-726e155c17c5>\u001b[0m in \u001b[0;36m<module>\u001b[1;34m\u001b[0m\n\u001b[0;32m     23\u001b[0m             \u001b[1;32melse\u001b[0m\u001b[1;33m:\u001b[0m\u001b[1;33m\u001b[0m\u001b[1;33m\u001b[0m\u001b[0m\n\u001b[0;32m     24\u001b[0m                 \u001b[0mday\u001b[0m \u001b[1;33m=\u001b[0m \u001b[0mstr\u001b[0m\u001b[1;33m(\u001b[0m\u001b[0mi\u001b[0m\u001b[1;33m*\u001b[0m\u001b[1;36m12\u001b[0m\u001b[1;33m+\u001b[0m\u001b[0mj\u001b[0m\u001b[1;33m+\u001b[0m\u001b[1;36m1\u001b[0m\u001b[1;33m)\u001b[0m\u001b[1;33m\u001b[0m\u001b[1;33m\u001b[0m\u001b[0m\n\u001b[1;32m---> 25\u001b[1;33m             \u001b[0mnp\u001b[0m\u001b[1;33m.\u001b[0m\u001b[0msave\u001b[0m\u001b[1;33m(\u001b[0m\u001b[0mnpy_save_path\u001b[0m \u001b[1;33m+\u001b[0m \u001b[0mname\u001b[0m \u001b[1;33m+\u001b[0m \u001b[0mday\u001b[0m\u001b[1;33m,\u001b[0m \u001b[0mpic\u001b[0m\u001b[1;33m[\u001b[0m\u001b[0mi\u001b[0m\u001b[1;33m*\u001b[0m\u001b[0msize\u001b[0m\u001b[1;33m:\u001b[0m\u001b[1;33m(\u001b[0m\u001b[0mi\u001b[0m\u001b[1;33m+\u001b[0m\u001b[1;36m1\u001b[0m\u001b[1;33m)\u001b[0m \u001b[1;33m*\u001b[0m \u001b[0msize\u001b[0m\u001b[1;33m,\u001b[0m \u001b[0mj\u001b[0m\u001b[1;33m*\u001b[0m\u001b[0msize\u001b[0m \u001b[1;33m:\u001b[0m\u001b[1;33m(\u001b[0m\u001b[0mj\u001b[0m\u001b[1;33m+\u001b[0m\u001b[1;36m1\u001b[0m\u001b[1;33m)\u001b[0m \u001b[1;33m*\u001b[0m \u001b[0msize\u001b[0m\u001b[1;33m]\u001b[0m\u001b[1;33m)\u001b[0m\u001b[1;33m\u001b[0m\u001b[1;33m\u001b[0m\u001b[0m\n\u001b[0m\u001b[0;32m     26\u001b[0m             \u001b[0mplt\u001b[0m\u001b[1;33m.\u001b[0m\u001b[0msavefig\u001b[0m\u001b[1;33m(\u001b[0m\u001b[0mimg_save_path\u001b[0m \u001b[1;33m+\u001b[0m \u001b[0mname\u001b[0m \u001b[1;33m+\u001b[0m \u001b[0mday\u001b[0m\u001b[1;33m,\u001b[0m\u001b[0mdpi\u001b[0m \u001b[1;33m=\u001b[0m \u001b[1;36m170\u001b[0m\u001b[1;33m,\u001b[0m \u001b[0mbbox_inches\u001b[0m\u001b[1;33m=\u001b[0m\u001b[1;34m'tight'\u001b[0m\u001b[1;33m,\u001b[0m\u001b[0mpad_inches\u001b[0m \u001b[1;33m=\u001b[0m \u001b[1;36m0\u001b[0m\u001b[1;33m)\u001b[0m\u001b[1;33m\u001b[0m\u001b[1;33m\u001b[0m\u001b[0m\n\u001b[0;32m     27\u001b[0m             \u001b[0mplt\u001b[0m\u001b[1;33m.\u001b[0m\u001b[0mclose\u001b[0m\u001b[1;33m(\u001b[0m\u001b[1;33m)\u001b[0m\u001b[1;33m\u001b[0m\u001b[1;33m\u001b[0m\u001b[0m\n",
      "\u001b[1;32m<__array_function__ internals>\u001b[0m in \u001b[0;36msave\u001b[1;34m(*args, **kwargs)\u001b[0m\n",
      "\u001b[1;32me:\\anaconda3\\envs\\tf2\\lib\\site-packages\\numpy\\lib\\npyio.py\u001b[0m in \u001b[0;36msave\u001b[1;34m(file, arr, allow_pickle, fix_imports)\u001b[0m\n\u001b[0;32m    550\u001b[0m     \u001b[1;32mtry\u001b[0m\u001b[1;33m:\u001b[0m\u001b[1;33m\u001b[0m\u001b[1;33m\u001b[0m\u001b[0m\n\u001b[0;32m    551\u001b[0m         \u001b[0marr\u001b[0m \u001b[1;33m=\u001b[0m \u001b[0mnp\u001b[0m\u001b[1;33m.\u001b[0m\u001b[0masanyarray\u001b[0m\u001b[1;33m(\u001b[0m\u001b[0marr\u001b[0m\u001b[1;33m)\u001b[0m\u001b[1;33m\u001b[0m\u001b[1;33m\u001b[0m\u001b[0m\n\u001b[1;32m--> 552\u001b[1;33m         format.write_array(fid, arr, allow_pickle=allow_pickle,\n\u001b[0m\u001b[0;32m    553\u001b[0m                            pickle_kwargs=pickle_kwargs)\n\u001b[0;32m    554\u001b[0m     \u001b[1;32mfinally\u001b[0m\u001b[1;33m:\u001b[0m\u001b[1;33m\u001b[0m\u001b[1;33m\u001b[0m\u001b[0m\n",
      "\u001b[1;32me:\\anaconda3\\envs\\tf2\\lib\\site-packages\\numpy\\lib\\format.py\u001b[0m in \u001b[0;36mwrite_array\u001b[1;34m(fp, array, version, allow_pickle, pickle_kwargs)\u001b[0m\n\u001b[0;32m    685\u001b[0m     \u001b[1;32melse\u001b[0m\u001b[1;33m:\u001b[0m\u001b[1;33m\u001b[0m\u001b[1;33m\u001b[0m\u001b[0m\n\u001b[0;32m    686\u001b[0m         \u001b[1;32mif\u001b[0m \u001b[0misfileobj\u001b[0m\u001b[1;33m(\u001b[0m\u001b[0mfp\u001b[0m\u001b[1;33m)\u001b[0m\u001b[1;33m:\u001b[0m\u001b[1;33m\u001b[0m\u001b[1;33m\u001b[0m\u001b[0m\n\u001b[1;32m--> 687\u001b[1;33m             \u001b[0marray\u001b[0m\u001b[1;33m.\u001b[0m\u001b[0mtofile\u001b[0m\u001b[1;33m(\u001b[0m\u001b[0mfp\u001b[0m\u001b[1;33m)\u001b[0m\u001b[1;33m\u001b[0m\u001b[1;33m\u001b[0m\u001b[0m\n\u001b[0m\u001b[0;32m    688\u001b[0m         \u001b[1;32melse\u001b[0m\u001b[1;33m:\u001b[0m\u001b[1;33m\u001b[0m\u001b[1;33m\u001b[0m\u001b[0m\n\u001b[0;32m    689\u001b[0m             for chunk in numpy.nditer(\n",
      "\u001b[1;31mKeyboardInterrupt\u001b[0m: "
     ]
    },
    {
     "data": {
      "image/png": "[encoded data removed]",
      "text/plain": [
       "<Figure size 72x72 with 1 Axes>"
      ]
     },
     "metadata": {
      "needs_background": "light"
     },
     "output_type": "display_data"
    }
   ],
   "source": [
    "## 切分并重新编码aari\n",
    "for file in pic_path:\n",
    "    img_save_path = pic_dir + r'jet_small_size\\\\'\n",
    "    npy_save_path = r'E:\\\\python_workfile\\\\sea_ice_classification\\\\training2\\\\mask\\\\osisaf\\\\npy\\\\'\n",
    "    name = file.split('\\\\')[-1].split('.')[0]\n",
    "    \n",
    "    pic=cv2.imread(file)\n",
    "    pic = cut_img(pic, 15)\n",
    "    pic = add_img_color(pic)\n",
    "    pic = recode_aari_mask(pic)\n",
    "    size = 128\n",
    "    for i in range(int(pic.shape[0]/size)):\n",
    "        for j in range(int(pic.shape[1]/size)):\n",
    "            fig = plt.figure(figsize = (1,1))\n",
    "            plt.imshow(pic[i*size:(i+1) * size, j*size :(j+1) * size],vmax = 4,vmin = 0,cmap = plt.cm.jet)\n",
    "            plt.axis('off')\n",
    "\n",
    "            plt.margins(0,0)\n",
    "            if i*12+j+1 < 10:\n",
    "                day = '00' + str(i*12+j+1)\n",
    "            elif 10<= i*12+j+1 < 100:\n",
    "                day = '0' + str(i*12+j+1)\n",
    "            else:\n",
    "                day = str(i*12+j+1)\n",
    "            np.save(npy_save_path + name + day, pic[i*size:(i+1) * size, j*size :(j+1) * size])\n",
    "            plt.savefig(img_save_path + name + day,dpi = 170, bbox_inches='tight',pad_inches = 0)\n",
    "            plt.close()"
   ]
  },
  {
   "cell_type": "code",
   "execution_count": 14,
   "metadata": {},
   "outputs": [],
   "source": [
    "sig_pic_dir = r'E:\\python_workfile\\sea_ice_classification\\training1\\sigmod0'\n",
    "sig_pic_files = glob.glob(sig_pic_dir + '\\\\*.png')"
   ]
  },
  {
   "cell_type": "code",
   "execution_count": 15,
   "metadata": {},
   "outputs": [],
   "source": [
    "# 切分HY2B 后向散射系数\n",
    "for file in sig_pic_files:\n",
    "    \n",
    "    img_save_path = r'E:\\\\python_workfile\\\\sea_ice_classification\\\\training1\\\\sigmod0\\\\small_size\\\\'\n",
    "    name = file.split('\\\\')[-1].split('.')[0]\n",
    "    \n",
    "    pic=cv2.imread(file)\n",
    "    pic = cut_img(pic, 15)\n",
    "#     pic = add_img_color(pic)\n",
    "#     pic = recode_aari_mask(pic)\n",
    "    size = 128\n",
    "    for i in range(int(pic.shape[0]/size)):\n",
    "        for j in range(int(pic.shape[1]/size)):\n",
    "            fig = plt.figure(figsize = (1,1))\n",
    "            plt.imshow(pic[i*size:(i+1) * size, j*size :(j+1) * size],vmax = 6,vmin = 0,cmap = plt.cm.Pastel1)\n",
    "            plt.axis('off')\n",
    "\n",
    "            plt.margins(0,0)\n",
    "            if i*12+j+1 < 10:\n",
    "                day = '00' + str(i*12+j+1)\n",
    "            elif 10<= i*12+j+1 < 100:\n",
    "                day = '0' + str(i*12+j+1)\n",
    "            else:\n",
    "                day = str(i*12+j+1)\n",
    "            plt.savefig(img_save_path + name + day,dpi = 170, bbox_inches='tight',pad_inches = 0)\n",
    "            plt.close()"
   ]
  },
  {
   "cell_type": "code",
   "execution_count": null,
   "metadata": {},
   "outputs": [],
   "source": []
  }
 ],
 "metadata": {
  "kernelspec": {
   "display_name": "Python 3",
   "language": "python",
   "name": "python3"
  },
  "language_info": {
   "codemirror_mode": {
    "name": "ipython",
    "version": 3
   },
   "file_extension": ".py",
   "mimetype": "text/x-python",
   "name": "python",
   "nbconvert_exporter": "python",
   "pygments_lexer": "ipython3",
   "version": "3.8.5"
  },
  "varInspector": {
   "cols": {
    "lenName": 16,
    "lenType": 16,
    "lenVar": 40
   },
   "kernels_config": {
    "python": {
     "delete_cmd_postfix": "",
     "delete_cmd_prefix": "del ",
     "library": "var_list.py",
     "varRefreshCmd": "print(var_dic_list())"
    },
    "r": {
     "delete_cmd_postfix": ") ",
     "delete_cmd_prefix": "rm(",
     "library": "var_list.r",
     "varRefreshCmd": "cat(var_dic_list()) "
    }
   },
   "types_to_exclude": [
    "module",
    "function",
    "builtin_function_or_method",
    "instance",
    "_Feature"
   ],
   "window_display": false
  }
 },
 "nbformat": 4,
 "nbformat_minor": 4
}
