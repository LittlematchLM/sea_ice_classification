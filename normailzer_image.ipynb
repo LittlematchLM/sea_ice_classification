{
 "cells": [
  {
   "cell_type": "code",
   "execution_count": 25,
   "metadata": {},
   "outputs": [],
   "source": [
    "from PIL import Image\n",
    "import numpy as np\n",
    "import pandas as pd\n",
    "import glob\n",
    "import matplotlib.pyplot as plt\n",
    "import cv2"
   ]
  },
  {
   "cell_type": "code",
   "execution_count": 26,
   "metadata": {},
   "outputs": [],
   "source": [
    "def cut_img(image_arr, cutsize):\n",
    "    # 从四边剪短cutsize大小\n",
    "    return pic[cutsize-1:-cutsize,cutsize-1:-cutsize,:]\n",
    "\n",
    "def add_img_color(image_arr):\n",
    "    new_aari_array = np.full(shape=(image_arr.shape[:2]),fill_value=0)\n",
    "    for i in range(3):\n",
    "        new_aari_array += image_arr[:,:,i]\n",
    "    return new_aari_array\n",
    "\n",
    "def recode_aari_mask(pic):\n",
    "    pic[pic < 4] = 5\n",
    "    pic[pic == 765] = 0 # no data\n",
    "    pic[pic == 128] = 1 # FYI\n",
    "    pic[pic == 249] = 2 # old ice\n",
    "    pic[pic == 382] = 3 # fast ice\n",
    "    pic[pic == 407] = 4 # young ice\n",
    "    pic[pic>4] = 5\n",
    "    return pic\n",
    "\n",
    "def recode_osisaf_mask(pic):\n",
    "    pic[pic < 4] = 0\n",
    "    pic[pic == 128] = 1\n",
    "    pic[pic == 502] = 2\n",
    "    pic[pic == 384] = 3\n",
    "    pic[pic == 764] = 4\n",
    "    pic[pic > 4] = 0\n",
    "    return pic"
   ]
  },
  {
   "cell_type": "code",
   "execution_count": 27,
   "metadata": {},
   "outputs": [],
   "source": [
    "pic_dir = r'E:\\\\python_workfile\\\\sea_ice_classification\\\\training3\\\\mask\\\\aari\\\\'\n",
    "pic_path = glob.glob(pic_dir + r'*.png')\n"
   ]
  },
  {
   "cell_type": "code",
   "execution_count": 28,
   "metadata": {},
   "outputs": [],
   "source": [
    "## 切分并重新编码aari\n",
    "for file in pic_path:\n",
    "    img_save_path = pic_dir + r'jet_small_size\\\\'\n",
    "    npy_save_path = r'E:\\\\python_workfile\\\\sea_ice_classification\\\\training3\\\\mask\\\\aari\\\\npy\\\\'\n",
    "    name = file.split('\\\\')[-1].split('.')[0]\n",
    "    \n",
    "    pic=cv2.imread(file)\n",
    "    pic = cut_img(pic, 15)\n",
    "    pic = add_img_color(pic)\n",
    "    pic = recode_aari_mask(pic)\n",
    "    size = 128\n",
    "    for i in range(int(pic.shape[0]/size)):\n",
    "        for j in range(int(pic.shape[1]/size)):\n",
    "            fig = plt.figure(figsize = (1,1))\n",
    "            plt.imshow(pic[i*size:(i+1) * size, j*size :(j+1) * size],vmax = 4,vmin = 0,cmap = plt.cm.jet)\n",
    "            plt.axis('off')\n",
    "\n",
    "            plt.margins(0,0)\n",
    "            if i*12+j+1 < 10:\n",
    "                day = '00' + str(i*12+j+1)\n",
    "            elif 10<= i*12+j+1 < 100:\n",
    "                day = '0' + str(i*12+j+1)\n",
    "            else:\n",
    "                day = str(i*12+j+1)\n",
    "            np.save(npy_save_path + name + day, pic[i*size:(i+1) * size, j*size :(j+1) * size])\n",
    "            plt.savefig(img_save_path + name + day,dpi = 170, bbox_inches='tight',pad_inches = 0)\n",
    "            plt.close()"
   ]
  },
  {
   "cell_type": "code",
   "execution_count": 17,
   "metadata": {},
   "outputs": [],
   "source": [
    "sig_pic_dir = r'E:\\python_workfile\\sea_ice_classification\\training3\\sigmod0'\n",
    "img_save_path = r'E:\\\\python_workfile\\\\sea_ice_classification\\\\training3\\\\sigmod0\\\\small_size\\\\'\n",
    "sig_pic_files = glob.glob(sig_pic_dir + '\\\\*.png')"
   ]
  },
  {
   "cell_type": "code",
   "execution_count": 18,
   "metadata": {},
   "outputs": [],
   "source": [
    "# 切分HY2B 后向散射系数\n",
    "for file in sig_pic_files:\n",
    "    \n",
    "    \n",
    "    name = file.split('\\\\')[-1].split('.')[0]\n",
    "        \n",
    "    pic=cv2.imread(file)\n",
    "    pic = cut_img(pic, 15)\n",
    "#     pic = add_img_color(pic)\n",
    "#     pic = recode_aari_mask(pic)\n",
    "    size = 128\n",
    "    for i in range(int(pic.shape[0]/size)):\n",
    "        for j in range(int(pic.shape[1]/size)):\n",
    "            fig = plt.figure(figsize = (1,1))\n",
    "            plt.imshow(pic[i*size:(i+1) * size, j*size :(j+1) * size],vmax = 6,vmin = 0,cmap = plt.cm.Pastel1)\n",
    "            plt.axis('off')\n",
    "\n",
    "            plt.margins(0,0)\n",
    "            if i*12+j+1 < 10:\n",
    "                day = '00' + str(i*12+j+1)\n",
    "            elif 10<= i*12+j+1 < 100:\n",
    "                day = '0' + str(i*12+j+1)\n",
    "            else:\n",
    "                day = str(i*12+j+1)\n",
    "            plt.savefig(img_save_path + name + day,dpi = 170, bbox_inches='tight',pad_inches = 0)\n",
    "            plt.close()"
   ]
  },
  {
   "cell_type": "code",
   "execution_count": null,
   "metadata": {},
   "outputs": [],
   "source": []
  }
 ],
 "metadata": {
  "kernelspec": {
   "display_name": "Python 3",
   "language": "python",
   "name": "python3"
  },
  "language_info": {
   "codemirror_mode": {
    "name": "ipython",
    "version": 3
   },
   "file_extension": ".py",
   "mimetype": "text/x-python",
   "name": "python",
   "nbconvert_exporter": "python",
   "pygments_lexer": "ipython3",
   "version": "3.8.5"
  },
  "varInspector": {
   "cols": {
    "lenName": 16,
    "lenType": 16,
    "lenVar": 40
   },
   "kernels_config": {
    "python": {
     "delete_cmd_postfix": "",
     "delete_cmd_prefix": "del ",
     "library": "var_list.py",
     "varRefreshCmd": "print(var_dic_list())"
    },
    "r": {
     "delete_cmd_postfix": ") ",
     "delete_cmd_prefix": "rm(",
     "library": "var_list.r",
     "varRefreshCmd": "cat(var_dic_list()) "
    }
   },
   "types_to_exclude": [
    "module",
    "function",
    "builtin_function_or_method",
    "instance",
    "_Feature"
   ],
   "window_display": false
  }
 },
 "nbformat": 4,
 "nbformat_minor": 4
}
