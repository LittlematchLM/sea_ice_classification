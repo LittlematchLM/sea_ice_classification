{
 "cells": [
  {
   "cell_type": "code",
   "execution_count": 1,
   "metadata": {},
   "outputs": [],
   "source": [
    "from PIL import Image\n",
    "import numpy as np\n",
    "import pandas as pd\n",
    "import glob\n",
    "import matplotlib.pyplot as plt\n",
    "import cv2"
   ]
  },
  {
   "cell_type": "code",
   "execution_count": 2,
   "metadata": {},
   "outputs": [],
   "source": [
    "def cut_img(image_arr, cutsize):\n",
    "    # 从四边剪短cutsize大小\n",
    "    return pic[cutsize-1:-cutsize,cutsize-1:-cutsize,:]\n",
    "\n",
    "def add_img_color(image_arr):\n",
    "    new_aari_array = np.full(shape=(image_arr.shape[:2]),fill_value=0)\n",
    "    for i in range(3):\n",
    "        new_aari_array += image_arr[:,:,i]\n",
    "    return new_aari_array\n",
    "\n",
    "# def conver_img(image_arr):\n",
    "def recode_aari_mask(pic):\n",
    "    pic[pic < 6] = 0\n",
    "    pic[pic == 765] = 1 \n",
    "    pic[pic == 128] = 2 \n",
    "    pic[pic == 510] = 3 \n",
    "    pic[pic == 249] = 4 \n",
    "    pic[pic == 382] = 5\n",
    "    pic[pic == 407] = 6\n",
    "    pic[pic>6] = 0\n",
    "    return pic"
   ]
  },
  {
   "cell_type": "code",
   "execution_count": 3,
   "metadata": {},
   "outputs": [],
   "source": [
    "pic_dir = r'E:\\\\python_workfile\\\\sea_ice_classification\\\\training1\\\\mask\\\\aari\\\\'\n",
    "pic_path = glob.glob(pic_dir + r'*.png')\n"
   ]
  },
  {
   "cell_type": "code",
   "execution_count": 4,
   "metadata": {},
   "outputs": [
    {
     "data": {
      "text/plain": [
       "['E:\\\\\\\\python_workfile\\\\\\\\sea_ice_classification\\\\\\\\training1\\\\\\\\mask\\\\\\\\aari\\\\20200331.png',\n",
       " 'E:\\\\\\\\python_workfile\\\\\\\\sea_ice_classification\\\\\\\\training1\\\\\\\\mask\\\\\\\\aari\\\\20200407.png',\n",
       " 'E:\\\\\\\\python_workfile\\\\\\\\sea_ice_classification\\\\\\\\training1\\\\\\\\mask\\\\\\\\aari\\\\20200414.png',\n",
       " 'E:\\\\\\\\python_workfile\\\\\\\\sea_ice_classification\\\\\\\\training1\\\\\\\\mask\\\\\\\\aari\\\\20200421.png',\n",
       " 'E:\\\\\\\\python_workfile\\\\\\\\sea_ice_classification\\\\\\\\training1\\\\\\\\mask\\\\\\\\aari\\\\20200428.png',\n",
       " 'E:\\\\\\\\python_workfile\\\\\\\\sea_ice_classification\\\\\\\\training1\\\\\\\\mask\\\\\\\\aari\\\\20200505.png',\n",
       " 'E:\\\\\\\\python_workfile\\\\\\\\sea_ice_classification\\\\\\\\training1\\\\\\\\mask\\\\\\\\aari\\\\20200512.png',\n",
       " 'E:\\\\\\\\python_workfile\\\\\\\\sea_ice_classification\\\\\\\\training1\\\\\\\\mask\\\\\\\\aari\\\\20200519.png',\n",
       " 'E:\\\\\\\\python_workfile\\\\\\\\sea_ice_classification\\\\\\\\training1\\\\\\\\mask\\\\\\\\aari\\\\20200526.png']"
      ]
     },
     "execution_count": 4,
     "metadata": {},
     "output_type": "execute_result"
    }
   ],
   "source": [
    "pic_path"
   ]
  },
  {
   "cell_type": "code",
   "execution_count": 5,
   "metadata": {},
   "outputs": [],
   "source": [
    "# temp\n",
    "file = pic_path[0]\n",
    "\n",
    "img_save_path = pic_dir + r'temp\\\\'\n",
    "# npy_save_path = r'E:\\\\python_workfile\\\\sea_ice_classification\\\\'\n",
    "name = file.split('\\\\')[-1].split('.')[0]\n",
    "\n",
    "pic=cv2.imread(file)\n",
    "pic = add_img_color(pic)\n",
    "pic = recode_aari_mask(pic)\n",
    "\n",
    "# np.save(npy_save_path + '1.npy',pic)"
   ]
  },
  {
   "cell_type": "code",
   "execution_count": 7,
   "metadata": {},
   "outputs": [],
   "source": [
    "## 切分并重新编码aari\n",
    "for file in pic_path:\n",
    "    img_save_path = pic_dir + r'temp\\\\'\n",
    "    npy_save_path = r'E:\\\\python_workfile\\\\sea_ice_classification\\\\training1\\\\mask\\\\npy\\\\aari\\\\'\n",
    "    name = file.split('\\\\')[-1].split('.')[0]\n",
    "    \n",
    "    pic=cv2.imread(file)\n",
    "    pic = cut_img(pic, 15)\n",
    "    pic = add_img_color(pic)\n",
    "    pic = recode_aari_mask(pic)\n",
    "    size = 128\n",
    "    for i in range(int(pic.shape[0]/size)):\n",
    "        for j in range(int(pic.shape[1]/size)):\n",
    "            fig = plt.figure(figsize = (1,1))\n",
    "            plt.imshow(pic[i*size:(i+1) * size, j*size :(j+1) * size],vmax = 6,vmin = 0,cmap = plt.cm.jet)\n",
    "            plt.axis('off')\n",
    "\n",
    "            plt.margins(0,0)\n",
    "            if i*12+j+1 < 10:\n",
    "                day = '00' + str(i*12+j+1)\n",
    "            elif 10<= i*12+j+1 < 100:\n",
    "                day = '0' + str(i*12+j+1)\n",
    "            else:\n",
    "                day = str(i*12+j+1)\n",
    "            np.save(npy_save_path + name + day, pic[i*size:(i+1) * size, j*size :(j+1) * size])\n",
    "            plt.savefig(img_save_path + name + day,dpi = 170, bbox_inches='tight',pad_inches = 0)\n",
    "            plt.close()"
   ]
  },
  {
   "cell_type": "code",
   "execution_count": 4,
   "metadata": {},
   "outputs": [
    {
     "ename": "NameError",
     "evalue": "name 'cut_img' is not defined",
     "output_type": "error",
     "traceback": [
      "\u001b[1;31m---------------------------------------------------------------------------\u001b[0m",
      "\u001b[1;31mNameError\u001b[0m                                 Traceback (most recent call last)",
      "\u001b[1;32m<ipython-input-4-49a265b1d290>\u001b[0m in \u001b[0;36m<module>\u001b[1;34m\u001b[0m\n\u001b[0;32m      5\u001b[0m \u001b[1;33m\u001b[0m\u001b[0m\n\u001b[0;32m      6\u001b[0m     \u001b[0mpic\u001b[0m\u001b[1;33m=\u001b[0m\u001b[0mcv2\u001b[0m\u001b[1;33m.\u001b[0m\u001b[0mimread\u001b[0m\u001b[1;33m(\u001b[0m\u001b[0mfile\u001b[0m\u001b[1;33m)\u001b[0m\u001b[1;33m\u001b[0m\u001b[1;33m\u001b[0m\u001b[0m\n\u001b[1;32m----> 7\u001b[1;33m     \u001b[0mpic\u001b[0m \u001b[1;33m=\u001b[0m \u001b[0mcut_img\u001b[0m\u001b[1;33m(\u001b[0m\u001b[0mpic\u001b[0m\u001b[1;33m,\u001b[0m \u001b[1;36m15\u001b[0m\u001b[1;33m)\u001b[0m\u001b[1;33m\u001b[0m\u001b[1;33m\u001b[0m\u001b[0m\n\u001b[0m\u001b[0;32m      8\u001b[0m \u001b[1;31m#     pic = add_img_color(pic)\u001b[0m\u001b[1;33m\u001b[0m\u001b[1;33m\u001b[0m\u001b[1;33m\u001b[0m\u001b[0m\n\u001b[0;32m      9\u001b[0m \u001b[1;31m#     pic = recode_aari_mask(pic)\u001b[0m\u001b[1;33m\u001b[0m\u001b[1;33m\u001b[0m\u001b[1;33m\u001b[0m\u001b[0m\n",
      "\u001b[1;31mNameError\u001b[0m: name 'cut_img' is not defined"
     ]
    }
   ],
   "source": [
    "# 切分HY2B 后向散射系数\n",
    "for file in pic_path:\n",
    "    img_save_path = pic_dir + r'small_size\\\\'\n",
    "    name = file.split('\\\\')[-1].split('.')[0]\n",
    "    \n",
    "    pic=cv2.imread(file)\n",
    "    pic = cut_img(pic, 15)\n",
    "#     pic = add_img_color(pic)\n",
    "#     pic = recode_aari_mask(pic)\n",
    "    size = 128\n",
    "    for i in range(int(pic.shape[0]/size)):\n",
    "        for j in range(int(pic.shape[1]/size)):\n",
    "            fig = plt.figure(figsize = (1,1))\n",
    "            plt.imshow(pic[i*size:(i+1) * size, j*size :(j+1) * size],vmax = 6,vmin = 0,cmap = plt.cm.Pastel1)\n",
    "            plt.axis('off')\n",
    "\n",
    "            plt.margins(0,0)\n",
    "            if i*12+j+1 < 10:\n",
    "                day = '00' + str(i*12+j+1)\n",
    "            elif 10<= i*12+j+1 < 100:\n",
    "                day = '0' + str(i*12+j+1)\n",
    "            else:\n",
    "                day = str(i*12+j+1)\n",
    "            plt.savefig(img_save_path + name + day,dpi = 170, bbox_inches='tight',pad_inches = 0)\n",
    "            plt.close()"
   ]
  },
  {
   "cell_type": "code",
   "execution_count": null,
   "metadata": {},
   "outputs": [],
   "source": []
  },
  {
   "cell_type": "code",
   "execution_count": null,
   "metadata": {},
   "outputs": [],
   "source": []
  }
 ],
 "metadata": {
  "kernelspec": {
   "display_name": "Python 3",
   "language": "python",
   "name": "python3"
  },
  "language_info": {
   "codemirror_mode": {
    "name": "ipython",
    "version": 3
   },
   "file_extension": ".py",
   "mimetype": "text/x-python",
   "name": "python",
   "nbconvert_exporter": "python",
   "pygments_lexer": "ipython3",
   "version": "3.8.5"
  },
  "varInspector": {
   "cols": {
    "lenName": 16,
    "lenType": 16,
    "lenVar": 40
   },
   "kernels_config": {
    "python": {
     "delete_cmd_postfix": "",
     "delete_cmd_prefix": "del ",
     "library": "var_list.py",
     "varRefreshCmd": "print(var_dic_list())"
    },
    "r": {
     "delete_cmd_postfix": ") ",
     "delete_cmd_prefix": "rm(",
     "library": "var_list.r",
     "varRefreshCmd": "cat(var_dic_list()) "
    }
   },
   "types_to_exclude": [
    "module",
    "function",
    "builtin_function_or_method",
    "instance",
    "_Feature"
   ],
   "window_display": false
  }
 },
 "nbformat": 4,
 "nbformat_minor": 4
}
